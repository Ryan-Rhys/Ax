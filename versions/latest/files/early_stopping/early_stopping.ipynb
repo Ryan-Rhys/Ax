{
 "cells": [
  {
   "cell_type": "markdown",
   "id": "12fe3797",
   "metadata": {},
   "source": [
    "## Trial-level early stopping in Ax\n",
    "\n",
    "This tutorial illustrates how to add a trial-level early stopping strategy to an Ax hyper-parameter optimization (HPO) loop. The goal of trial-level early stopping is to monitor the results of expensive evaluations and terminate those that are unlikely to produce promising results, freeing up resources to explore more configurations.\n",
    "\n",
    "Most of this tutorial is adapted from the [PyTorch Ax Multiobjective NAS Tutorial](https://pytorch.org/tutorials/intermediate/ax_multiobjective_nas_tutorial.html). The training job is different from the original in that we do not optimize `batch_size` or `epochs`. This was done for illustrative purposes, as each validation curve now has the same number of points. The companion training file `mnist_train_nas.py` has also been altered to log to Tensorboard during training.\n",
    "\n",
    "NOTE: Although the original NAS tutorial is for a multi-objective problem, this tutorial focuses on a single objective (validation accuracy) problem. Early stopping currently does not support \\\"true\\\" multi-objective stopping, although one can use [logical compositions of early stopping strategies](https://github.com/facebook/Ax/blob/main/ax/early_stopping/strategies/logical.py) to target multiple objectives separately. Early stopping for the multi-objective case is currently a work in progress."
   ]
  },
  {
   "cell_type": "code",
   "execution_count": 1,
   "id": "cb953f30",
   "metadata": {
    "execution": {
     "iopub.execute_input": "2023-08-09T18:20:55.239004Z",
     "iopub.status.busy": "2023-08-09T18:20:55.238679Z",
     "iopub.status.idle": "2023-08-09T18:21:23.454411Z",
     "shell.execute_reply": "2023-08-09T18:21:23.453360Z"
    }
   },
   "outputs": [],
   "source": [
    "import os\n",
    "import tempfile\n",
    "\n",
    "from pathlib import Path\n",
    "\n",
    "import torchx\n",
    "\n",
    "from ax.core import Experiment, Objective, ParameterType, RangeParameter, SearchSpace\n",
    "from ax.core.optimization_config import OptimizationConfig\n",
    "\n",
    "from ax.early_stopping.strategies import PercentileEarlyStoppingStrategy\n",
    "from ax.metrics.tensorboard import TensorboardCurveMetric\n",
    "\n",
    "from ax.modelbridge.dispatch_utils import choose_generation_strategy\n",
    "\n",
    "from ax.runners.torchx import TorchXRunner\n",
    "\n",
    "from ax.service.scheduler import Scheduler, SchedulerOptions\n",
    "from ax.service.utils.report_utils import exp_to_df\n",
    "\n",
    "from torchx import specs\n",
    "from torchx.components import utils\n",
    "\n",
    "from matplotlib import pyplot as plt\n",
    "\n",
    "%matplotlib inline"
   ]
  },
  {
   "cell_type": "code",
   "execution_count": 2,
   "id": "8a7bd328",
   "metadata": {
    "execution": {
     "iopub.execute_input": "2023-08-09T18:21:23.458900Z",
     "iopub.status.busy": "2023-08-09T18:21:23.458422Z",
     "iopub.status.idle": "2023-08-09T18:21:23.462630Z",
     "shell.execute_reply": "2023-08-09T18:21:23.461898Z"
    }
   },
   "outputs": [],
   "source": [
    "SMOKE_TEST = os.environ.get(\"SMOKE_TEST\")"
   ]
  },
  {
   "cell_type": "markdown",
   "id": "fe2cf6fe",
   "metadata": {},
   "source": [
    "## Defining the TorchX App\n",
    "\n",
    "Our goal is to optimize the PyTorch Lightning training job defined in\n",
    "[mnist_train_nas.py](https://github.com/pytorch/tutorials/tree/master/intermediate_source/mnist_train_nas.py)_.\n",
    "To do this using TorchX, we write a helper function that takes in\n",
    "the values of the architcture and hyperparameters of the training\n",
    "job and creates a [TorchX AppDef](https://pytorch.org/torchx/latest/basics.html)_\n",
    "with the appropriate settings.\n",
    "\n"
   ]
  },
  {
   "cell_type": "code",
   "execution_count": 3,
   "id": "2e21d309",
   "metadata": {
    "execution": {
     "iopub.execute_input": "2023-08-09T18:21:23.465890Z",
     "iopub.status.busy": "2023-08-09T18:21:23.465620Z",
     "iopub.status.idle": "2023-08-09T18:21:23.469622Z",
     "shell.execute_reply": "2023-08-09T18:21:23.468477Z"
    }
   },
   "outputs": [],
   "source": [
    "if SMOKE_TEST:\n",
    "    epochs = 3\n",
    "else:\n",
    "    epochs = 10"
   ]
  },
  {
   "cell_type": "code",
   "execution_count": 4,
   "id": "b423923c",
   "metadata": {
    "execution": {
     "iopub.execute_input": "2023-08-09T18:21:23.472641Z",
     "iopub.status.busy": "2023-08-09T18:21:23.472324Z",
     "iopub.status.idle": "2023-08-09T18:21:23.477088Z",
     "shell.execute_reply": "2023-08-09T18:21:23.476611Z"
    }
   },
   "outputs": [],
   "source": [
    "def trainer(\n",
    "    log_path: str,\n",
    "    hidden_size_1: int,\n",
    "    hidden_size_2: int,\n",
    "    learning_rate: float,\n",
    "    dropout: float,\n",
    "    trial_idx: int = -1,\n",
    ") -> specs.AppDef:\n",
    "\n",
    "    # define the log path so we can pass it to the TorchX AppDef\n",
    "    if trial_idx >= 0:\n",
    "        log_path = Path(log_path).joinpath(str(trial_idx)).absolute().as_posix()\n",
    "\n",
    "    batch_size = 32\n",
    "\n",
    "    return utils.python(\n",
    "        # command line args to the training script\n",
    "        \"--log_path\",\n",
    "        log_path,\n",
    "        \"--hidden_size_1\",\n",
    "        str(hidden_size_1),\n",
    "        \"--hidden_size_2\",\n",
    "        str(hidden_size_2),\n",
    "        \"--learning_rate\",\n",
    "        str(learning_rate),\n",
    "        \"--epochs\",\n",
    "        str(epochs),\n",
    "        \"--dropout\",\n",
    "        str(dropout),\n",
    "        \"--batch_size\",\n",
    "        str(batch_size),\n",
    "        # other config options\n",
    "        name=\"trainer\",\n",
    "        script=\"mnist_train_nas.py\",\n",
    "        image=torchx.version.TORCHX_IMAGE,\n",
    "    )"
   ]
  },
  {
   "cell_type": "markdown",
   "id": "65f7011d",
   "metadata": {},
   "source": [
    "## Setting up the Runner\n",
    "\n",
    "Ax’s [Runner](https://ax.dev/api/core.html#ax.core.runner.Runner)\n",
    "abstraction allows writing interfaces to various backends.\n",
    "Ax already comes with Runner for TorchX, so we just need to\n",
    "configure it. For the purpose of this tutorial, we run jobs locally\n",
    "in a fully asynchronous fashion. In order to launch them on a cluster, you can instead specify a\n",
    "different TorchX scheduler and adjust the configuration appropriately.\n",
    "For example, if you have a Kubernetes cluster, you just need to change the\n",
    "scheduler from ``local_cwd`` to ``kubernetes``.\n",
    "\n",
    "The training job launched by this runner will log partial results to Tensorboard, which will then be monitored by the early stopping strategy. We will show how this is done using an Ax \n",
    "[TensorboardCurveMetric](https://ax.dev/api/metrics.html#module-ax.metrics.tensorboard) below."
   ]
  },
  {
   "cell_type": "code",
   "execution_count": 5,
   "id": "998e5835",
   "metadata": {
    "execution": {
     "iopub.execute_input": "2023-08-09T18:21:23.479946Z",
     "iopub.status.busy": "2023-08-09T18:21:23.479746Z",
     "iopub.status.idle": "2023-08-09T18:21:23.520252Z",
     "shell.execute_reply": "2023-08-09T18:21:23.519665Z"
    }
   },
   "outputs": [],
   "source": [
    "# Make a temporary dir to log our results into\n",
    "log_dir = tempfile.mkdtemp()\n",
    "\n",
    "ax_runner = TorchXRunner(\n",
    "    tracker_base=\"/tmp/\",\n",
    "    component=trainer,\n",
    "    # NOTE: To launch this job on a cluster instead of locally you can\n",
    "    # specify a different scheduler and adjust args appropriately.\n",
    "    scheduler=\"local_cwd\",\n",
    "    component_const_params={\"log_path\": log_dir},\n",
    "    cfg={},\n",
    ")"
   ]
  },
  {
   "cell_type": "markdown",
   "id": "2fec7495",
   "metadata": {},
   "source": [
    "## Setting up the SearchSpace\n",
    "\n",
    "First, we define our search space. Ax supports both range parameters\n",
    "of type integer and float as well as choice parameters which can have\n",
    "non-numerical types such as strings.\n",
    "We will tune the hidden sizes, learning rate, and dropout parameters."
   ]
  },
  {
   "cell_type": "code",
   "execution_count": 6,
   "id": "cf6f869f",
   "metadata": {
    "execution": {
     "iopub.execute_input": "2023-08-09T18:21:23.523432Z",
     "iopub.status.busy": "2023-08-09T18:21:23.523190Z",
     "iopub.status.idle": "2023-08-09T18:21:23.527502Z",
     "shell.execute_reply": "2023-08-09T18:21:23.527033Z"
    }
   },
   "outputs": [],
   "source": [
    "parameters = [\n",
    "    # NOTE: In a real-world setting, hidden_size_1 and hidden_size_2\n",
    "    # should probably be powers of 2, but in our simple example this\n",
    "    # would mean that num_params can't take on that many values, which\n",
    "    # in turn makes the Pareto frontier look pretty weird.\n",
    "    RangeParameter(\n",
    "        name=\"hidden_size_1\",\n",
    "        lower=16,\n",
    "        upper=128,\n",
    "        parameter_type=ParameterType.INT,\n",
    "        log_scale=True,\n",
    "    ),\n",
    "    RangeParameter(\n",
    "        name=\"hidden_size_2\",\n",
    "        lower=16,\n",
    "        upper=128,\n",
    "        parameter_type=ParameterType.INT,\n",
    "        log_scale=True,\n",
    "    ),\n",
    "    RangeParameter(\n",
    "        name=\"learning_rate\",\n",
    "        lower=1e-4,\n",
    "        upper=1e-2,\n",
    "        parameter_type=ParameterType.FLOAT,\n",
    "        log_scale=True,\n",
    "    ),\n",
    "    RangeParameter(\n",
    "        name=\"dropout\",\n",
    "        lower=0.0,\n",
    "        upper=0.5,\n",
    "        parameter_type=ParameterType.FLOAT,\n",
    "    ),\n",
    "]\n",
    "\n",
    "search_space = SearchSpace(\n",
    "    parameters=parameters,\n",
    "    # NOTE: In practice, it may make sense to add a constraint\n",
    "    # hidden_size_2 <= hidden_size_1\n",
    "    parameter_constraints=[],\n",
    ")"
   ]
  },
  {
   "cell_type": "markdown",
   "id": "a8005e80",
   "metadata": {},
   "source": [
    "## Setting up Metrics\n",
    "\n",
    "Ax has the concept of a Metric that defines properties of outcomes and how observations are obtained for these outcomes. This allows e.g. encodig how data is fetched from some distributed execution backend and post-processed before being passed as input to Ax.\n",
    "\n",
    "We will optimize the validation accuracy, which is a `TensorboardCurveMetric` that points to the logging directory assigned above. Note that we have set `is_available_while_running`, allowing for the metric to be queried as the trial progresses. This is critical for the early stopping strategy to monitor partial results."
   ]
  },
  {
   "cell_type": "code",
   "execution_count": 7,
   "id": "0775a96e",
   "metadata": {
    "execution": {
     "iopub.execute_input": "2023-08-09T18:21:23.530010Z",
     "iopub.status.busy": "2023-08-09T18:21:23.529815Z",
     "iopub.status.idle": "2023-08-09T18:21:23.533785Z",
     "shell.execute_reply": "2023-08-09T18:21:23.533100Z"
    }
   },
   "outputs": [],
   "source": [
    "class MyTensorboardMetric(TensorboardCurveMetric):\n",
    "\n",
    "    # NOTE: We need to tell the new Tensorboard metric how to get the id /\n",
    "    # file handle for the tensorboard logs from a trial. In this case\n",
    "    # our convention is to just save a separate file per trial in\n",
    "    # the pre-specified log dir.\n",
    "    @classmethod\n",
    "    def get_ids_from_trials(cls, trials):\n",
    "        return {\n",
    "            trial.index: Path(log_dir).joinpath(str(trial.index)).as_posix()\n",
    "            for trial in trials\n",
    "        }\n",
    "\n",
    "    # This indicates whether the metric is queryable while the trial is\n",
    "    # still running. This is required for early stopping to monitor the\n",
    "    # progress of the running trial.ArithmeticError\n",
    "    @classmethod\n",
    "    def is_available_while_running(cls):\n",
    "        return True"
   ]
  },
  {
   "cell_type": "code",
   "execution_count": 8,
   "id": "a5c5a7d0",
   "metadata": {
    "execution": {
     "iopub.execute_input": "2023-08-09T18:21:23.537127Z",
     "iopub.status.busy": "2023-08-09T18:21:23.536763Z",
     "iopub.status.idle": "2023-08-09T18:21:23.540427Z",
     "shell.execute_reply": "2023-08-09T18:21:23.539769Z"
    }
   },
   "outputs": [],
   "source": [
    "val_acc = MyTensorboardMetric(\n",
    "    name=\"val_acc\",\n",
    "    curve_name=\"val_acc\",\n",
    "    lower_is_better=False,\n",
    ")"
   ]
  },
  {
   "cell_type": "markdown",
   "id": "d4f3ba5d",
   "metadata": {},
   "source": [
    "## Setting up the OptimizationConfig\n",
    "\n",
    "The `OptimizationConfig` specifies the objective for Ax to optimize."
   ]
  },
  {
   "cell_type": "code",
   "execution_count": 9,
   "id": "ada66cf3",
   "metadata": {
    "execution": {
     "iopub.execute_input": "2023-08-09T18:21:23.544100Z",
     "iopub.status.busy": "2023-08-09T18:21:23.543813Z",
     "iopub.status.idle": "2023-08-09T18:21:23.547334Z",
     "shell.execute_reply": "2023-08-09T18:21:23.546458Z"
    }
   },
   "outputs": [],
   "source": [
    "opt_config = OptimizationConfig(\n",
    "    objective=Objective(\n",
    "        metric=val_acc,\n",
    "        minimize=False,\n",
    "    )\n",
    ")"
   ]
  },
  {
   "cell_type": "markdown",
   "id": "57aa9cf7",
   "metadata": {},
   "source": [
    "## Defining an Early Stopping Strategy\n",
    "\n",
    "A `PercentileEarlyStoppingStrategy` is a simple method that stops a trial if its performance falls below a certain percentile of other trials at the same step (e.g., when `percentile_threshold` is 50, at a given point in time, if a trial ranks in the bottom 50% of trials, it is stopped). \n",
    "- We make use of `normalize_progressions` which normalizes the progression column (e.g. timestamp, epochs, training data used) to be in [0, 1]. This is useful because one doesn't need to know the maximum progression values of the curve (which might be, e.g., the total number of data points in the training dataset).\n",
    "- The `min_progression` parameter specifies that trials should only be considered for stopping if the latest progression value is greater than this threshold.\n",
    "- The `min_curves` parameter specifies the minimum number of completed curves (i.e., fully completed training jobs) before early stopping will be considered. This should be larger than zero if `normalize_progression` is used. In general, we want a few completed curves to have a baseline for comparison.\n",
    "\n",
    "Note that `PercentileEarlyStoppingStrategy` does not make use of learning curve modeling or prediction. More sophisticated model-based methods will be available in future versions of Ax."
   ]
  },
  {
   "cell_type": "code",
   "execution_count": 10,
   "id": "949e8ab5",
   "metadata": {
    "execution": {
     "iopub.execute_input": "2023-08-09T18:21:23.550394Z",
     "iopub.status.busy": "2023-08-09T18:21:23.550117Z",
     "iopub.status.idle": "2023-08-09T18:21:23.553913Z",
     "shell.execute_reply": "2023-08-09T18:21:23.553299Z"
    }
   },
   "outputs": [],
   "source": [
    "percentile_early_stopping_strategy = PercentileEarlyStoppingStrategy(\n",
    "    # stop if in bottom 70% of runs at the same progression\n",
    "    percentile_threshold=70,\n",
    "    # the trial must have passed `min_progression` steps before early stopping is initiated\n",
    "    # note that we are using `normalize_progressions`, so this is on a scale of [0, 1]\n",
    "    min_progression=0.3,\n",
    "    # there must be `min_curves` completed trials and `min_curves` trials reporting data in\n",
    "    # order for early stopping to be applicable\n",
    "    min_curves=5,\n",
    "    # specify, e.g., [0, 1] if the first two trials should never be stopped\n",
    "    trial_indices_to_ignore=None,\n",
    "    # check for new data every 10 seconds\n",
    "    seconds_between_polls=10,\n",
    "    normalize_progressions=True,\n",
    ")"
   ]
  },
  {
   "cell_type": "markdown",
   "id": "2665ca93",
   "metadata": {},
   "source": [
    "## Creating the Ax Experiment\n",
    "\n",
    "In Ax, the Experiment object is the object that stores all the information about the problem setup."
   ]
  },
  {
   "cell_type": "code",
   "execution_count": 11,
   "id": "12849b31",
   "metadata": {
    "execution": {
     "iopub.execute_input": "2023-08-09T18:21:23.557411Z",
     "iopub.status.busy": "2023-08-09T18:21:23.557132Z",
     "iopub.status.idle": "2023-08-09T18:21:23.560961Z",
     "shell.execute_reply": "2023-08-09T18:21:23.560131Z"
    }
   },
   "outputs": [],
   "source": [
    "experiment = Experiment(\n",
    "    name=\"torchx_mnist\",\n",
    "    search_space=search_space,\n",
    "    optimization_config=opt_config,\n",
    "    runner=ax_runner,\n",
    ")"
   ]
  },
  {
   "cell_type": "markdown",
   "id": "49a4ed0e",
   "metadata": {},
   "source": [
    "## Choosing the GenerationStrategy\n",
    "\n",
    "A [GenerationStrategy](https://ax.dev/api/modelbridge.html#ax.modelbridge.generation_strategy.GenerationStrategy)\n",
    "is the abstract representation of how we would like to perform the\n",
    "optimization. While this can be customized (if you’d like to do so, see\n",
    "[this tutorial](https://ax.dev/tutorials/generation_strategy.html)),\n",
    "in most cases Ax can automatically determine an appropriate strategy\n",
    "based on the search space, optimization config, and the total number\n",
    "of trials we want to run.\n",
    "\n",
    "Typically, Ax chooses to evaluate a number of random configurations\n",
    "before starting a model-based Bayesian Optimization strategy.\n",
    "\n",
    "We remark that in Ax, generation strategies and early stopping strategies are separate, a design decision motivated by ease-of-use. However, we should acknowledge that jointly considering generation and stopping using a single strategy would likely be the \"proper\" formulation."
   ]
  },
  {
   "cell_type": "code",
   "execution_count": 12,
   "id": "e38d0237",
   "metadata": {
    "execution": {
     "iopub.execute_input": "2023-08-09T18:21:23.564964Z",
     "iopub.status.busy": "2023-08-09T18:21:23.564689Z",
     "iopub.status.idle": "2023-08-09T18:21:23.571995Z",
     "shell.execute_reply": "2023-08-09T18:21:23.571442Z"
    }
   },
   "outputs": [
    {
     "name": "stderr",
     "output_type": "stream",
     "text": [
      "[INFO 08-09 14:21:23] ax.modelbridge.dispatch_utils: Using Models.GPEI since there are more ordered parameters than there are categories for the unordered categorical parameters.\n"
     ]
    },
    {
     "name": "stderr",
     "output_type": "stream",
     "text": [
      "[INFO 08-09 14:21:23] ax.modelbridge.dispatch_utils: Calculating the number of remaining initialization trials based on num_initialization_trials=None max_initialization_trials=None num_tunable_parameters=4 num_trials=15 use_batch_trials=False\n"
     ]
    },
    {
     "name": "stderr",
     "output_type": "stream",
     "text": [
      "[INFO 08-09 14:21:23] ax.modelbridge.dispatch_utils: calculated num_initialization_trials=5\n"
     ]
    },
    {
     "name": "stderr",
     "output_type": "stream",
     "text": [
      "[INFO 08-09 14:21:23] ax.modelbridge.dispatch_utils: num_completed_initialization_trials=0 num_remaining_initialization_trials=5\n"
     ]
    },
    {
     "name": "stderr",
     "output_type": "stream",
     "text": [
      "[INFO 08-09 14:21:23] ax.modelbridge.dispatch_utils: Using Bayesian Optimization generation strategy: GenerationStrategy(name='Sobol+GPEI', steps=[Sobol for 5 trials, GPEI for subsequent trials]). Iterations after 5 will take longer to generate due to model-fitting.\n"
     ]
    }
   ],
   "source": [
    "if SMOKE_TEST:\n",
    "    total_trials = 6\n",
    "else:\n",
    "    total_trials = 15  # total evaluation budget\n",
    "\n",
    "gs = choose_generation_strategy(\n",
    "    search_space=experiment.search_space,\n",
    "    optimization_config=experiment.optimization_config,\n",
    "    num_trials=total_trials,\n",
    ")"
   ]
  },
  {
   "cell_type": "markdown",
   "id": "78d86fea",
   "metadata": {},
   "source": [
    "## Configuring the Scheduler\n",
    "\n",
    "The `Scheduler` acts as the loop control for the optimization.\n",
    "It communicates with the backend to launch trials, check their status, retrieve (partial) results, and importantly for this tutorial, calls the early stopping strategy. If the early stopping strategy suggests a trial to be the stopped, the `Scheduler` communicates with the backend to terminate the trial.\n",
    "\n",
    "The ``Scheduler`` requires the ``Experiment`` and the ``GenerationStrategy``.\n",
    "A set of options can be passed in via ``SchedulerOptions``. Here, we\n",
    "configure the number of total evaluations as well as ``max_pending_trials``,\n",
    "the maximum number of trials that should run concurrently. In our\n",
    "local setting, this is the number of training jobs running as individual\n",
    "processes, while in a remote execution setting, this would be the number\n",
    "of machines you want to use in parallel.\n"
   ]
  },
  {
   "cell_type": "code",
   "execution_count": 13,
   "id": "499fb9b5",
   "metadata": {
    "execution": {
     "iopub.execute_input": "2023-08-09T18:21:23.575283Z",
     "iopub.status.busy": "2023-08-09T18:21:23.575080Z",
     "iopub.status.idle": "2023-08-09T18:21:23.578589Z",
     "shell.execute_reply": "2023-08-09T18:21:23.578146Z"
    }
   },
   "outputs": [
    {
     "name": "stderr",
     "output_type": "stream",
     "text": [
      "[INFO 08-09 14:21:23] Scheduler: `Scheduler` requires experiment to have immutable search space and optimization config. Setting property immutable_search_space_and_opt_config to `True` on experiment.\n"
     ]
    }
   ],
   "source": [
    "scheduler = Scheduler(\n",
    "    experiment=experiment,\n",
    "    generation_strategy=gs,\n",
    "    options=SchedulerOptions(\n",
    "        total_trials=total_trials,\n",
    "        max_pending_trials=5,\n",
    "        early_stopping_strategy=percentile_early_stopping_strategy,\n",
    "    ),\n",
    ")"
   ]
  },
  {
   "cell_type": "code",
   "execution_count": 14,
   "id": "78257ebb",
   "metadata": {
    "execution": {
     "iopub.execute_input": "2023-08-09T18:21:23.581431Z",
     "iopub.status.busy": "2023-08-09T18:21:23.581129Z",
     "iopub.status.idle": "2023-08-09T18:36:09.458775Z",
     "shell.execute_reply": "2023-08-09T18:36:09.458006Z"
    }
   },
   "outputs": [
    {
     "name": "stderr",
     "output_type": "stream",
     "text": [
      "[INFO 08-09 14:21:23] Scheduler: Running trials [0]...\n"
     ]
    },
    {
     "name": "stderr",
     "output_type": "stream",
     "text": [
      "[INFO 08-09 14:21:24] Scheduler: Running trials [1]...\n"
     ]
    },
    {
     "name": "stderr",
     "output_type": "stream",
     "text": [
      "[INFO 08-09 14:21:25] Scheduler: Running trials [2]...\n"
     ]
    },
    {
     "name": "stderr",
     "output_type": "stream",
     "text": [
      "[INFO 08-09 14:21:26] Scheduler: Running trials [3]...\n"
     ]
    },
    {
     "name": "stderr",
     "output_type": "stream",
     "text": [
      "[INFO 08-09 14:21:27] Scheduler: Running trials [4]...\n"
     ]
    },
    {
     "name": "stderr",
     "output_type": "stream",
     "text": [
      "[WARNING 08-09 14:21:28] Scheduler: Both `init_seconds_between_polls` and `early_stopping_strategy supplied. `init_seconds_between_polls=1` will be overrridden by `early_stopping_strategy.seconds_between_polls=10` and polling will take place at a constant rate.\n"
     ]
    },
    {
     "name": "stderr",
     "output_type": "stream",
     "text": [
      "[INFO 08-09 14:21:28] Scheduler: Fetching data for trials: 0 - 4 because some metrics on experiment are available while trials are running.\n"
     ]
    },
    {
     "name": "stderr",
     "output_type": "stream",
     "text": [
      "[INFO 08-09 14:21:28] ax.metrics.curve: val_acc not yet present in curves from /var/folders/w_/g_40lr6j0s98g6921f3qxcmr0000gn/T/tmpnxpj5dby/0. Returning without this metric.\n"
     ]
    },
    {
     "name": "stderr",
     "output_type": "stream",
     "text": [
      "[INFO 08-09 14:21:28] ax.core.metric: MetricFetchE INFO: Initialized MetricFetchE(message=\"DataFrame from curve series is empty\")\n"
     ]
    },
    {
     "name": "stderr",
     "output_type": "stream",
     "text": [
      "[INFO 08-09 14:21:28] ax.metrics.curve: val_acc not yet present in curves from /var/folders/w_/g_40lr6j0s98g6921f3qxcmr0000gn/T/tmpnxpj5dby/1. Returning without this metric.\n"
     ]
    },
    {
     "name": "stderr",
     "output_type": "stream",
     "text": [
      "[INFO 08-09 14:21:28] ax.core.metric: MetricFetchE INFO: Initialized MetricFetchE(message=\"DataFrame from curve series is empty\")\n"
     ]
    },
    {
     "name": "stderr",
     "output_type": "stream",
     "text": [
      "[INFO 08-09 14:21:28] ax.metrics.curve: val_acc not yet present in curves from /var/folders/w_/g_40lr6j0s98g6921f3qxcmr0000gn/T/tmpnxpj5dby/2. Returning without this metric.\n"
     ]
    },
    {
     "name": "stderr",
     "output_type": "stream",
     "text": [
      "[INFO 08-09 14:21:28] ax.core.metric: MetricFetchE INFO: Initialized MetricFetchE(message=\"DataFrame from curve series is empty\")\n"
     ]
    },
    {
     "name": "stderr",
     "output_type": "stream",
     "text": [
      "[INFO 08-09 14:21:28] ax.metrics.curve: val_acc not yet present in curves from /var/folders/w_/g_40lr6j0s98g6921f3qxcmr0000gn/T/tmpnxpj5dby/3. Returning without this metric.\n"
     ]
    },
    {
     "name": "stderr",
     "output_type": "stream",
     "text": [
      "[INFO 08-09 14:21:28] ax.core.metric: MetricFetchE INFO: Initialized MetricFetchE(message=\"DataFrame from curve series is empty\")\n"
     ]
    },
    {
     "name": "stderr",
     "output_type": "stream",
     "text": [
      "[INFO 08-09 14:21:28] ax.metrics.curve: val_acc not yet present in curves from /var/folders/w_/g_40lr6j0s98g6921f3qxcmr0000gn/T/tmpnxpj5dby/4. Returning without this metric.\n"
     ]
    },
    {
     "name": "stderr",
     "output_type": "stream",
     "text": [
      "[INFO 08-09 14:21:28] ax.core.metric: MetricFetchE INFO: Initialized MetricFetchE(message=\"DataFrame from curve series is empty\")\n"
     ]
    },
    {
     "name": "stderr",
     "output_type": "stream",
     "text": [
      "[ERROR 08-09 14:21:28] ax.core.experiment: Discovered Metric fetching Err while attaching data MetricFetchE(message=\"DataFrame from curve series is empty\"). Ignoring for now -- will retry query on next call to fetch.\n"
     ]
    },
    {
     "name": "stderr",
     "output_type": "stream",
     "text": [
      "[ERROR 08-09 14:21:28] ax.core.experiment: Discovered Metric fetching Err while attaching data MetricFetchE(message=\"DataFrame from curve series is empty\"). Ignoring for now -- will retry query on next call to fetch.\n"
     ]
    },
    {
     "name": "stderr",
     "output_type": "stream",
     "text": [
      "[ERROR 08-09 14:21:28] ax.core.experiment: Discovered Metric fetching Err while attaching data MetricFetchE(message=\"DataFrame from curve series is empty\"). Ignoring for now -- will retry query on next call to fetch.\n"
     ]
    },
    {
     "name": "stderr",
     "output_type": "stream",
     "text": [
      "[ERROR 08-09 14:21:28] ax.core.experiment: Discovered Metric fetching Err while attaching data MetricFetchE(message=\"DataFrame from curve series is empty\"). Ignoring for now -- will retry query on next call to fetch.\n"
     ]
    },
    {
     "name": "stderr",
     "output_type": "stream",
     "text": [
      "[ERROR 08-09 14:21:28] ax.core.experiment: Discovered Metric fetching Err while attaching data MetricFetchE(message=\"DataFrame from curve series is empty\"). Ignoring for now -- will retry query on next call to fetch.\n"
     ]
    },
    {
     "name": "stderr",
     "output_type": "stream",
     "text": [
      "[WARNING 08-09 14:21:28] Scheduler: Failed to fetch val_acc for trial 0, found MetricFetchE(message=\"DataFrame from curve series is empty\").\n"
     ]
    },
    {
     "name": "stderr",
     "output_type": "stream",
     "text": [
      "[INFO 08-09 14:21:28] Scheduler: MetricFetchE INFO: Because val_acc is available_while_running and trial 0 is still RUNNING continuing the experiment and retrying on next poll...\n"
     ]
    },
    {
     "name": "stderr",
     "output_type": "stream",
     "text": [
      "[WARNING 08-09 14:21:28] Scheduler: Failed to fetch val_acc for trial 1, found MetricFetchE(message=\"DataFrame from curve series is empty\").\n"
     ]
    },
    {
     "name": "stderr",
     "output_type": "stream",
     "text": [
      "[INFO 08-09 14:21:28] Scheduler: MetricFetchE INFO: Because val_acc is available_while_running and trial 1 is still RUNNING continuing the experiment and retrying on next poll...\n"
     ]
    },
    {
     "name": "stderr",
     "output_type": "stream",
     "text": [
      "[WARNING 08-09 14:21:28] Scheduler: Failed to fetch val_acc for trial 2, found MetricFetchE(message=\"DataFrame from curve series is empty\").\n"
     ]
    },
    {
     "name": "stderr",
     "output_type": "stream",
     "text": [
      "[INFO 08-09 14:21:28] Scheduler: MetricFetchE INFO: Because val_acc is available_while_running and trial 2 is still RUNNING continuing the experiment and retrying on next poll...\n"
     ]
    },
    {
     "name": "stderr",
     "output_type": "stream",
     "text": [
      "[WARNING 08-09 14:21:28] Scheduler: Failed to fetch val_acc for trial 3, found MetricFetchE(message=\"DataFrame from curve series is empty\").\n"
     ]
    },
    {
     "name": "stderr",
     "output_type": "stream",
     "text": [
      "[INFO 08-09 14:21:28] Scheduler: MetricFetchE INFO: Because val_acc is available_while_running and trial 3 is still RUNNING continuing the experiment and retrying on next poll...\n"
     ]
    },
    {
     "name": "stderr",
     "output_type": "stream",
     "text": [
      "[WARNING 08-09 14:21:28] Scheduler: Failed to fetch val_acc for trial 4, found MetricFetchE(message=\"DataFrame from curve series is empty\").\n"
     ]
    },
    {
     "name": "stderr",
     "output_type": "stream",
     "text": [
      "[INFO 08-09 14:21:28] Scheduler: MetricFetchE INFO: Because val_acc is available_while_running and trial 4 is still RUNNING continuing the experiment and retrying on next poll...\n"
     ]
    },
    {
     "name": "stderr",
     "output_type": "stream",
     "text": [
      "[INFO 08-09 14:21:28] ax.early_stopping.strategies.base: PercentileEarlyStoppingStrategy received empty data. Not stopping any trials.\n"
     ]
    },
    {
     "name": "stderr",
     "output_type": "stream",
     "text": [
      "[INFO 08-09 14:21:28] Scheduler: Waiting for completed trials (for 10 sec, currently running trials: 5).\n"
     ]
    },
    {
     "name": "stderr",
     "output_type": "stream",
     "text": [
      "[INFO 08-09 14:21:38] Scheduler: Fetching data for trials: 0 - 4 because some metrics on experiment are available while trials are running.\n"
     ]
    },
    {
     "name": "stderr",
     "output_type": "stream",
     "text": [
      "[INFO 08-09 14:21:38] ax.metrics.curve: val_acc not yet present in curves from /var/folders/w_/g_40lr6j0s98g6921f3qxcmr0000gn/T/tmpnxpj5dby/0. Returning without this metric.\n"
     ]
    },
    {
     "name": "stderr",
     "output_type": "stream",
     "text": [
      "[INFO 08-09 14:21:38] ax.core.metric: MetricFetchE INFO: Initialized MetricFetchE(message=\"DataFrame from curve series is empty\")\n"
     ]
    },
    {
     "name": "stderr",
     "output_type": "stream",
     "text": [
      "[INFO 08-09 14:21:38] ax.metrics.curve: val_acc not yet present in curves from /var/folders/w_/g_40lr6j0s98g6921f3qxcmr0000gn/T/tmpnxpj5dby/1. Returning without this metric.\n"
     ]
    },
    {
     "name": "stderr",
     "output_type": "stream",
     "text": [
      "[INFO 08-09 14:21:38] ax.core.metric: MetricFetchE INFO: Initialized MetricFetchE(message=\"DataFrame from curve series is empty\")\n"
     ]
    },
    {
     "name": "stderr",
     "output_type": "stream",
     "text": [
      "[INFO 08-09 14:21:38] ax.metrics.curve: val_acc not yet present in curves from /var/folders/w_/g_40lr6j0s98g6921f3qxcmr0000gn/T/tmpnxpj5dby/2. Returning without this metric.\n"
     ]
    },
    {
     "name": "stderr",
     "output_type": "stream",
     "text": [
      "[INFO 08-09 14:21:38] ax.core.metric: MetricFetchE INFO: Initialized MetricFetchE(message=\"DataFrame from curve series is empty\")\n"
     ]
    },
    {
     "name": "stderr",
     "output_type": "stream",
     "text": [
      "[INFO 08-09 14:21:38] ax.metrics.curve: val_acc not yet present in curves from /var/folders/w_/g_40lr6j0s98g6921f3qxcmr0000gn/T/tmpnxpj5dby/3. Returning without this metric.\n"
     ]
    },
    {
     "name": "stderr",
     "output_type": "stream",
     "text": [
      "[INFO 08-09 14:21:38] ax.core.metric: MetricFetchE INFO: Initialized MetricFetchE(message=\"DataFrame from curve series is empty\")\n"
     ]
    },
    {
     "name": "stderr",
     "output_type": "stream",
     "text": [
      "[INFO 08-09 14:21:38] ax.metrics.curve: val_acc not yet present in curves from /var/folders/w_/g_40lr6j0s98g6921f3qxcmr0000gn/T/tmpnxpj5dby/4. Returning without this metric.\n"
     ]
    },
    {
     "name": "stderr",
     "output_type": "stream",
     "text": [
      "[INFO 08-09 14:21:38] ax.core.metric: MetricFetchE INFO: Initialized MetricFetchE(message=\"DataFrame from curve series is empty\")\n"
     ]
    },
    {
     "name": "stderr",
     "output_type": "stream",
     "text": [
      "[ERROR 08-09 14:21:38] ax.core.experiment: Discovered Metric fetching Err while attaching data MetricFetchE(message=\"DataFrame from curve series is empty\"). Ignoring for now -- will retry query on next call to fetch.\n"
     ]
    },
    {
     "name": "stderr",
     "output_type": "stream",
     "text": [
      "[ERROR 08-09 14:21:38] ax.core.experiment: Discovered Metric fetching Err while attaching data MetricFetchE(message=\"DataFrame from curve series is empty\"). Ignoring for now -- will retry query on next call to fetch.\n"
     ]
    },
    {
     "name": "stderr",
     "output_type": "stream",
     "text": [
      "[ERROR 08-09 14:21:38] ax.core.experiment: Discovered Metric fetching Err while attaching data MetricFetchE(message=\"DataFrame from curve series is empty\"). Ignoring for now -- will retry query on next call to fetch.\n"
     ]
    },
    {
     "name": "stderr",
     "output_type": "stream",
     "text": [
      "[ERROR 08-09 14:21:38] ax.core.experiment: Discovered Metric fetching Err while attaching data MetricFetchE(message=\"DataFrame from curve series is empty\"). Ignoring for now -- will retry query on next call to fetch.\n"
     ]
    },
    {
     "name": "stderr",
     "output_type": "stream",
     "text": [
      "[ERROR 08-09 14:21:38] ax.core.experiment: Discovered Metric fetching Err while attaching data MetricFetchE(message=\"DataFrame from curve series is empty\"). Ignoring for now -- will retry query on next call to fetch.\n"
     ]
    },
    {
     "name": "stderr",
     "output_type": "stream",
     "text": [
      "[WARNING 08-09 14:21:38] Scheduler: Failed to fetch val_acc for trial 0, found MetricFetchE(message=\"DataFrame from curve series is empty\").\n"
     ]
    },
    {
     "name": "stderr",
     "output_type": "stream",
     "text": [
      "[INFO 08-09 14:21:38] Scheduler: MetricFetchE INFO: Because val_acc is available_while_running and trial 0 is still RUNNING continuing the experiment and retrying on next poll...\n"
     ]
    },
    {
     "name": "stderr",
     "output_type": "stream",
     "text": [
      "[WARNING 08-09 14:21:38] Scheduler: Failed to fetch val_acc for trial 1, found MetricFetchE(message=\"DataFrame from curve series is empty\").\n"
     ]
    },
    {
     "name": "stderr",
     "output_type": "stream",
     "text": [
      "[INFO 08-09 14:21:38] Scheduler: MetricFetchE INFO: Because val_acc is available_while_running and trial 1 is still RUNNING continuing the experiment and retrying on next poll...\n"
     ]
    },
    {
     "name": "stderr",
     "output_type": "stream",
     "text": [
      "[WARNING 08-09 14:21:38] Scheduler: Failed to fetch val_acc for trial 2, found MetricFetchE(message=\"DataFrame from curve series is empty\").\n"
     ]
    },
    {
     "name": "stderr",
     "output_type": "stream",
     "text": [
      "[INFO 08-09 14:21:38] Scheduler: MetricFetchE INFO: Because val_acc is available_while_running and trial 2 is still RUNNING continuing the experiment and retrying on next poll...\n"
     ]
    },
    {
     "name": "stderr",
     "output_type": "stream",
     "text": [
      "[WARNING 08-09 14:21:38] Scheduler: Failed to fetch val_acc for trial 3, found MetricFetchE(message=\"DataFrame from curve series is empty\").\n"
     ]
    },
    {
     "name": "stderr",
     "output_type": "stream",
     "text": [
      "[INFO 08-09 14:21:38] Scheduler: MetricFetchE INFO: Because val_acc is available_while_running and trial 3 is still RUNNING continuing the experiment and retrying on next poll...\n"
     ]
    },
    {
     "name": "stderr",
     "output_type": "stream",
     "text": [
      "[WARNING 08-09 14:21:38] Scheduler: Failed to fetch val_acc for trial 4, found MetricFetchE(message=\"DataFrame from curve series is empty\").\n"
     ]
    },
    {
     "name": "stderr",
     "output_type": "stream",
     "text": [
      "[INFO 08-09 14:21:38] Scheduler: MetricFetchE INFO: Because val_acc is available_while_running and trial 4 is still RUNNING continuing the experiment and retrying on next poll...\n"
     ]
    },
    {
     "name": "stderr",
     "output_type": "stream",
     "text": [
      "[INFO 08-09 14:21:38] ax.early_stopping.strategies.base: PercentileEarlyStoppingStrategy received empty data. Not stopping any trials.\n"
     ]
    },
    {
     "name": "stderr",
     "output_type": "stream",
     "text": [
      "[INFO 08-09 14:21:38] Scheduler: Waiting for completed trials (for 10 sec, currently running trials: 5).\n"
     ]
    },
    {
     "name": "stderr",
     "output_type": "stream",
     "text": [
      "[INFO 08-09 14:21:48] Scheduler: Fetching data for trials: 0 - 4 because some metrics on experiment are available while trials are running.\n"
     ]
    },
    {
     "name": "stderr",
     "output_type": "stream",
     "text": [
      "[INFO 08-09 14:21:48] ax.metrics.curve: val_acc not yet present in curves from /var/folders/w_/g_40lr6j0s98g6921f3qxcmr0000gn/T/tmpnxpj5dby/0. Returning without this metric.\n"
     ]
    },
    {
     "name": "stderr",
     "output_type": "stream",
     "text": [
      "[INFO 08-09 14:21:48] ax.core.metric: MetricFetchE INFO: Initialized MetricFetchE(message=\"DataFrame from curve series is empty\")\n"
     ]
    },
    {
     "name": "stderr",
     "output_type": "stream",
     "text": [
      "[INFO 08-09 14:21:48] ax.metrics.curve: val_acc not yet present in curves from /var/folders/w_/g_40lr6j0s98g6921f3qxcmr0000gn/T/tmpnxpj5dby/1. Returning without this metric.\n"
     ]
    },
    {
     "name": "stderr",
     "output_type": "stream",
     "text": [
      "[INFO 08-09 14:21:48] ax.core.metric: MetricFetchE INFO: Initialized MetricFetchE(message=\"DataFrame from curve series is empty\")\n"
     ]
    },
    {
     "name": "stderr",
     "output_type": "stream",
     "text": [
      "[INFO 08-09 14:21:48] ax.metrics.curve: val_acc not yet present in curves from /var/folders/w_/g_40lr6j0s98g6921f3qxcmr0000gn/T/tmpnxpj5dby/2. Returning without this metric.\n"
     ]
    },
    {
     "name": "stderr",
     "output_type": "stream",
     "text": [
      "[INFO 08-09 14:21:48] ax.core.metric: MetricFetchE INFO: Initialized MetricFetchE(message=\"DataFrame from curve series is empty\")\n"
     ]
    },
    {
     "name": "stderr",
     "output_type": "stream",
     "text": [
      "[INFO 08-09 14:21:49] ax.metrics.curve: val_acc not yet present in curves from /var/folders/w_/g_40lr6j0s98g6921f3qxcmr0000gn/T/tmpnxpj5dby/3. Returning without this metric.\n"
     ]
    },
    {
     "name": "stderr",
     "output_type": "stream",
     "text": [
      "[INFO 08-09 14:21:49] ax.core.metric: MetricFetchE INFO: Initialized MetricFetchE(message=\"DataFrame from curve series is empty\")\n"
     ]
    },
    {
     "name": "stderr",
     "output_type": "stream",
     "text": [
      "[INFO 08-09 14:21:49] ax.metrics.curve: val_acc not yet present in curves from /var/folders/w_/g_40lr6j0s98g6921f3qxcmr0000gn/T/tmpnxpj5dby/4. Returning without this metric.\n"
     ]
    },
    {
     "name": "stderr",
     "output_type": "stream",
     "text": [
      "[INFO 08-09 14:21:49] ax.core.metric: MetricFetchE INFO: Initialized MetricFetchE(message=\"DataFrame from curve series is empty\")\n"
     ]
    },
    {
     "name": "stderr",
     "output_type": "stream",
     "text": [
      "[ERROR 08-09 14:21:49] ax.core.experiment: Discovered Metric fetching Err while attaching data MetricFetchE(message=\"DataFrame from curve series is empty\"). Ignoring for now -- will retry query on next call to fetch.\n"
     ]
    },
    {
     "name": "stderr",
     "output_type": "stream",
     "text": [
      "[ERROR 08-09 14:21:49] ax.core.experiment: Discovered Metric fetching Err while attaching data MetricFetchE(message=\"DataFrame from curve series is empty\"). Ignoring for now -- will retry query on next call to fetch.\n"
     ]
    },
    {
     "name": "stderr",
     "output_type": "stream",
     "text": [
      "[ERROR 08-09 14:21:49] ax.core.experiment: Discovered Metric fetching Err while attaching data MetricFetchE(message=\"DataFrame from curve series is empty\"). Ignoring for now -- will retry query on next call to fetch.\n"
     ]
    },
    {
     "name": "stderr",
     "output_type": "stream",
     "text": [
      "[ERROR 08-09 14:21:49] ax.core.experiment: Discovered Metric fetching Err while attaching data MetricFetchE(message=\"DataFrame from curve series is empty\"). Ignoring for now -- will retry query on next call to fetch.\n"
     ]
    },
    {
     "name": "stderr",
     "output_type": "stream",
     "text": [
      "[ERROR 08-09 14:21:49] ax.core.experiment: Discovered Metric fetching Err while attaching data MetricFetchE(message=\"DataFrame from curve series is empty\"). Ignoring for now -- will retry query on next call to fetch.\n"
     ]
    },
    {
     "name": "stderr",
     "output_type": "stream",
     "text": [
      "[WARNING 08-09 14:21:49] Scheduler: Failed to fetch val_acc for trial 0, found MetricFetchE(message=\"DataFrame from curve series is empty\").\n"
     ]
    },
    {
     "name": "stderr",
     "output_type": "stream",
     "text": [
      "[INFO 08-09 14:21:49] Scheduler: MetricFetchE INFO: Because val_acc is available_while_running and trial 0 is still RUNNING continuing the experiment and retrying on next poll...\n"
     ]
    },
    {
     "name": "stderr",
     "output_type": "stream",
     "text": [
      "[WARNING 08-09 14:21:49] Scheduler: Failed to fetch val_acc for trial 1, found MetricFetchE(message=\"DataFrame from curve series is empty\").\n"
     ]
    },
    {
     "name": "stderr",
     "output_type": "stream",
     "text": [
      "[INFO 08-09 14:21:49] Scheduler: MetricFetchE INFO: Because val_acc is available_while_running and trial 1 is still RUNNING continuing the experiment and retrying on next poll...\n"
     ]
    },
    {
     "name": "stderr",
     "output_type": "stream",
     "text": [
      "[WARNING 08-09 14:21:49] Scheduler: Failed to fetch val_acc for trial 2, found MetricFetchE(message=\"DataFrame from curve series is empty\").\n"
     ]
    },
    {
     "name": "stderr",
     "output_type": "stream",
     "text": [
      "[INFO 08-09 14:21:49] Scheduler: MetricFetchE INFO: Because val_acc is available_while_running and trial 2 is still RUNNING continuing the experiment and retrying on next poll...\n"
     ]
    },
    {
     "name": "stderr",
     "output_type": "stream",
     "text": [
      "[WARNING 08-09 14:21:49] Scheduler: Failed to fetch val_acc for trial 3, found MetricFetchE(message=\"DataFrame from curve series is empty\").\n"
     ]
    },
    {
     "name": "stderr",
     "output_type": "stream",
     "text": [
      "[INFO 08-09 14:21:49] Scheduler: MetricFetchE INFO: Because val_acc is available_while_running and trial 3 is still RUNNING continuing the experiment and retrying on next poll...\n"
     ]
    },
    {
     "name": "stderr",
     "output_type": "stream",
     "text": [
      "[WARNING 08-09 14:21:49] Scheduler: Failed to fetch val_acc for trial 4, found MetricFetchE(message=\"DataFrame from curve series is empty\").\n"
     ]
    },
    {
     "name": "stderr",
     "output_type": "stream",
     "text": [
      "[INFO 08-09 14:21:49] Scheduler: MetricFetchE INFO: Because val_acc is available_while_running and trial 4 is still RUNNING continuing the experiment and retrying on next poll...\n"
     ]
    },
    {
     "name": "stderr",
     "output_type": "stream",
     "text": [
      "[INFO 08-09 14:21:49] ax.early_stopping.strategies.base: PercentileEarlyStoppingStrategy received empty data. Not stopping any trials.\n"
     ]
    },
    {
     "name": "stderr",
     "output_type": "stream",
     "text": [
      "[INFO 08-09 14:21:49] Scheduler: Waiting for completed trials (for 10 sec, currently running trials: 5).\n"
     ]
    },
    {
     "name": "stderr",
     "output_type": "stream",
     "text": [
      "[INFO 08-09 14:21:59] Scheduler: Fetching data for trials: 0 - 4 because some metrics on experiment are available while trials are running.\n"
     ]
    },
    {
     "name": "stderr",
     "output_type": "stream",
     "text": [
      "[INFO 08-09 14:21:59] ax.metrics.curve: val_acc not yet present in curves from /var/folders/w_/g_40lr6j0s98g6921f3qxcmr0000gn/T/tmpnxpj5dby/0. Returning without this metric.\n"
     ]
    },
    {
     "name": "stderr",
     "output_type": "stream",
     "text": [
      "[INFO 08-09 14:21:59] ax.core.metric: MetricFetchE INFO: Initialized MetricFetchE(message=\"DataFrame from curve series is empty\")\n"
     ]
    },
    {
     "name": "stderr",
     "output_type": "stream",
     "text": [
      "[INFO 08-09 14:21:59] ax.metrics.curve: val_acc not yet present in curves from /var/folders/w_/g_40lr6j0s98g6921f3qxcmr0000gn/T/tmpnxpj5dby/1. Returning without this metric.\n"
     ]
    },
    {
     "name": "stderr",
     "output_type": "stream",
     "text": [
      "[INFO 08-09 14:21:59] ax.core.metric: MetricFetchE INFO: Initialized MetricFetchE(message=\"DataFrame from curve series is empty\")\n"
     ]
    },
    {
     "name": "stderr",
     "output_type": "stream",
     "text": [
      "[INFO 08-09 14:21:59] ax.metrics.curve: val_acc not yet present in curves from /var/folders/w_/g_40lr6j0s98g6921f3qxcmr0000gn/T/tmpnxpj5dby/2. Returning without this metric.\n"
     ]
    },
    {
     "name": "stderr",
     "output_type": "stream",
     "text": [
      "[INFO 08-09 14:21:59] ax.core.metric: MetricFetchE INFO: Initialized MetricFetchE(message=\"DataFrame from curve series is empty\")\n"
     ]
    },
    {
     "name": "stderr",
     "output_type": "stream",
     "text": [
      "[INFO 08-09 14:21:59] ax.metrics.curve: val_acc not yet present in curves from /var/folders/w_/g_40lr6j0s98g6921f3qxcmr0000gn/T/tmpnxpj5dby/3. Returning without this metric.\n"
     ]
    },
    {
     "name": "stderr",
     "output_type": "stream",
     "text": [
      "[INFO 08-09 14:21:59] ax.core.metric: MetricFetchE INFO: Initialized MetricFetchE(message=\"DataFrame from curve series is empty\")\n"
     ]
    },
    {
     "name": "stderr",
     "output_type": "stream",
     "text": [
      "[INFO 08-09 14:21:59] ax.metrics.curve: val_acc not yet present in curves from /var/folders/w_/g_40lr6j0s98g6921f3qxcmr0000gn/T/tmpnxpj5dby/4. Returning without this metric.\n"
     ]
    },
    {
     "name": "stderr",
     "output_type": "stream",
     "text": [
      "[INFO 08-09 14:21:59] ax.core.metric: MetricFetchE INFO: Initialized MetricFetchE(message=\"DataFrame from curve series is empty\")\n"
     ]
    },
    {
     "name": "stderr",
     "output_type": "stream",
     "text": [
      "[ERROR 08-09 14:21:59] ax.core.experiment: Discovered Metric fetching Err while attaching data MetricFetchE(message=\"DataFrame from curve series is empty\"). Ignoring for now -- will retry query on next call to fetch.\n"
     ]
    },
    {
     "name": "stderr",
     "output_type": "stream",
     "text": [
      "[ERROR 08-09 14:21:59] ax.core.experiment: Discovered Metric fetching Err while attaching data MetricFetchE(message=\"DataFrame from curve series is empty\"). Ignoring for now -- will retry query on next call to fetch.\n"
     ]
    },
    {
     "name": "stderr",
     "output_type": "stream",
     "text": [
      "[ERROR 08-09 14:21:59] ax.core.experiment: Discovered Metric fetching Err while attaching data MetricFetchE(message=\"DataFrame from curve series is empty\"). Ignoring for now -- will retry query on next call to fetch.\n"
     ]
    },
    {
     "name": "stderr",
     "output_type": "stream",
     "text": [
      "[ERROR 08-09 14:21:59] ax.core.experiment: Discovered Metric fetching Err while attaching data MetricFetchE(message=\"DataFrame from curve series is empty\"). Ignoring for now -- will retry query on next call to fetch.\n"
     ]
    },
    {
     "name": "stderr",
     "output_type": "stream",
     "text": [
      "[ERROR 08-09 14:21:59] ax.core.experiment: Discovered Metric fetching Err while attaching data MetricFetchE(message=\"DataFrame from curve series is empty\"). Ignoring for now -- will retry query on next call to fetch.\n"
     ]
    },
    {
     "name": "stderr",
     "output_type": "stream",
     "text": [
      "[WARNING 08-09 14:21:59] Scheduler: Failed to fetch val_acc for trial 0, found MetricFetchE(message=\"DataFrame from curve series is empty\").\n"
     ]
    },
    {
     "name": "stderr",
     "output_type": "stream",
     "text": [
      "[INFO 08-09 14:21:59] Scheduler: MetricFetchE INFO: Because val_acc is available_while_running and trial 0 is still RUNNING continuing the experiment and retrying on next poll...\n"
     ]
    },
    {
     "name": "stderr",
     "output_type": "stream",
     "text": [
      "[WARNING 08-09 14:21:59] Scheduler: Failed to fetch val_acc for trial 1, found MetricFetchE(message=\"DataFrame from curve series is empty\").\n"
     ]
    },
    {
     "name": "stderr",
     "output_type": "stream",
     "text": [
      "[INFO 08-09 14:21:59] Scheduler: MetricFetchE INFO: Because val_acc is available_while_running and trial 1 is still RUNNING continuing the experiment and retrying on next poll...\n"
     ]
    },
    {
     "name": "stderr",
     "output_type": "stream",
     "text": [
      "[WARNING 08-09 14:21:59] Scheduler: Failed to fetch val_acc for trial 2, found MetricFetchE(message=\"DataFrame from curve series is empty\").\n"
     ]
    },
    {
     "name": "stderr",
     "output_type": "stream",
     "text": [
      "[INFO 08-09 14:21:59] Scheduler: MetricFetchE INFO: Because val_acc is available_while_running and trial 2 is still RUNNING continuing the experiment and retrying on next poll...\n"
     ]
    },
    {
     "name": "stderr",
     "output_type": "stream",
     "text": [
      "[WARNING 08-09 14:21:59] Scheduler: Failed to fetch val_acc for trial 3, found MetricFetchE(message=\"DataFrame from curve series is empty\").\n"
     ]
    },
    {
     "name": "stderr",
     "output_type": "stream",
     "text": [
      "[INFO 08-09 14:21:59] Scheduler: MetricFetchE INFO: Because val_acc is available_while_running and trial 3 is still RUNNING continuing the experiment and retrying on next poll...\n"
     ]
    },
    {
     "name": "stderr",
     "output_type": "stream",
     "text": [
      "[WARNING 08-09 14:21:59] Scheduler: Failed to fetch val_acc for trial 4, found MetricFetchE(message=\"DataFrame from curve series is empty\").\n"
     ]
    },
    {
     "name": "stderr",
     "output_type": "stream",
     "text": [
      "[INFO 08-09 14:21:59] Scheduler: MetricFetchE INFO: Because val_acc is available_while_running and trial 4 is still RUNNING continuing the experiment and retrying on next poll...\n"
     ]
    },
    {
     "name": "stderr",
     "output_type": "stream",
     "text": [
      "[INFO 08-09 14:21:59] ax.early_stopping.strategies.base: PercentileEarlyStoppingStrategy received empty data. Not stopping any trials.\n"
     ]
    },
    {
     "name": "stderr",
     "output_type": "stream",
     "text": [
      "[INFO 08-09 14:21:59] Scheduler: Waiting for completed trials (for 10 sec, currently running trials: 5).\n"
     ]
    },
    {
     "name": "stderr",
     "output_type": "stream",
     "text": [
      "[INFO 08-09 14:22:09] Scheduler: Fetching data for trials: 0 - 4 because some metrics on experiment are available while trials are running.\n"
     ]
    },
    {
     "name": "stderr",
     "output_type": "stream",
     "text": [
      "[INFO 08-09 14:22:09] ax.metrics.curve: val_acc not yet present in curves from /var/folders/w_/g_40lr6j0s98g6921f3qxcmr0000gn/T/tmpnxpj5dby/3. Returning without this metric.\n"
     ]
    },
    {
     "name": "stderr",
     "output_type": "stream",
     "text": [
      "[INFO 08-09 14:22:09] ax.core.metric: MetricFetchE INFO: Initialized MetricFetchE(message=\"DataFrame from curve series is empty\")\n"
     ]
    },
    {
     "name": "stderr",
     "output_type": "stream",
     "text": [
      "[ERROR 08-09 14:22:09] ax.core.experiment: Discovered Metric fetching Err while attaching data MetricFetchE(message=\"DataFrame from curve series is empty\"). Ignoring for now -- will retry query on next call to fetch.\n"
     ]
    },
    {
     "name": "stderr",
     "output_type": "stream",
     "text": [
      "[WARNING 08-09 14:22:09] Scheduler: Failed to fetch val_acc for trial 3, found MetricFetchE(message=\"DataFrame from curve series is empty\").\n"
     ]
    },
    {
     "name": "stderr",
     "output_type": "stream",
     "text": [
      "[INFO 08-09 14:22:09] Scheduler: MetricFetchE INFO: Because val_acc is available_while_running and trial 3 is still RUNNING continuing the experiment and retrying on next poll...\n"
     ]
    },
    {
     "name": "stderr",
     "output_type": "stream",
     "text": [
      "[INFO 08-09 14:22:09] ax.early_stopping.strategies.base: The number of completed trials (0) is less than the minimum number of curves needed for early stopping (5). Not early stopping.\n"
     ]
    },
    {
     "name": "stderr",
     "output_type": "stream",
     "text": [
      "[INFO 08-09 14:22:09] Scheduler: Waiting for completed trials (for 10 sec, currently running trials: 5).\n"
     ]
    },
    {
     "name": "stderr",
     "output_type": "stream",
     "text": [
      "[INFO 08-09 14:22:19] Scheduler: Fetching data for trials: 0 - 4 because some metrics on experiment are available while trials are running.\n"
     ]
    },
    {
     "name": "stderr",
     "output_type": "stream",
     "text": [
      "[INFO 08-09 14:22:19] ax.early_stopping.strategies.base: The number of completed trials (0) is less than the minimum number of curves needed for early stopping (5). Not early stopping.\n"
     ]
    },
    {
     "name": "stderr",
     "output_type": "stream",
     "text": [
      "[INFO 08-09 14:22:19] Scheduler: Waiting for completed trials (for 10 sec, currently running trials: 5).\n"
     ]
    },
    {
     "name": "stderr",
     "output_type": "stream",
     "text": [
      "[INFO 08-09 14:22:29] Scheduler: Fetching data for trials: 0 - 4 because some metrics on experiment are available while trials are running.\n"
     ]
    },
    {
     "name": "stderr",
     "output_type": "stream",
     "text": [
      "[INFO 08-09 14:22:29] ax.early_stopping.strategies.base: The number of completed trials (0) is less than the minimum number of curves needed for early stopping (5). Not early stopping.\n"
     ]
    },
    {
     "name": "stderr",
     "output_type": "stream",
     "text": [
      "[INFO 08-09 14:22:29] Scheduler: Waiting for completed trials (for 10 sec, currently running trials: 5).\n"
     ]
    },
    {
     "name": "stderr",
     "output_type": "stream",
     "text": [
      "[INFO 08-09 14:22:39] Scheduler: Fetching data for trials: 0 - 4 because some metrics on experiment are available while trials are running.\n"
     ]
    },
    {
     "name": "stderr",
     "output_type": "stream",
     "text": [
      "[INFO 08-09 14:22:39] ax.early_stopping.strategies.base: The number of completed trials (0) is less than the minimum number of curves needed for early stopping (5). Not early stopping.\n"
     ]
    },
    {
     "name": "stderr",
     "output_type": "stream",
     "text": [
      "[INFO 08-09 14:22:39] Scheduler: Waiting for completed trials (for 10 sec, currently running trials: 5).\n"
     ]
    },
    {
     "name": "stderr",
     "output_type": "stream",
     "text": [
      "[INFO 08-09 14:22:49] Scheduler: Fetching data for trials: 0 - 4 because some metrics on experiment are available while trials are running.\n"
     ]
    },
    {
     "name": "stderr",
     "output_type": "stream",
     "text": [
      "[INFO 08-09 14:22:49] ax.early_stopping.strategies.base: The number of completed trials (0) is less than the minimum number of curves needed for early stopping (5). Not early stopping.\n"
     ]
    },
    {
     "name": "stderr",
     "output_type": "stream",
     "text": [
      "[INFO 08-09 14:22:49] Scheduler: Waiting for completed trials (for 10 sec, currently running trials: 5).\n"
     ]
    },
    {
     "name": "stderr",
     "output_type": "stream",
     "text": [
      "[INFO 08-09 14:22:59] Scheduler: Fetching data for trials: 0 - 4 because some metrics on experiment are available while trials are running.\n"
     ]
    },
    {
     "name": "stderr",
     "output_type": "stream",
     "text": [
      "[INFO 08-09 14:23:00] ax.early_stopping.strategies.base: The number of completed trials (0) is less than the minimum number of curves needed for early stopping (5). Not early stopping.\n"
     ]
    },
    {
     "name": "stderr",
     "output_type": "stream",
     "text": [
      "[INFO 08-09 14:23:00] Scheduler: Waiting for completed trials (for 10 sec, currently running trials: 5).\n"
     ]
    },
    {
     "name": "stderr",
     "output_type": "stream",
     "text": [
      "[INFO 08-09 14:23:10] Scheduler: Fetching data for trials: 0 - 4 because some metrics on experiment are available while trials are running.\n"
     ]
    },
    {
     "name": "stderr",
     "output_type": "stream",
     "text": [
      "[INFO 08-09 14:23:10] ax.early_stopping.strategies.base: The number of completed trials (0) is less than the minimum number of curves needed for early stopping (5). Not early stopping.\n"
     ]
    },
    {
     "name": "stderr",
     "output_type": "stream",
     "text": [
      "[INFO 08-09 14:23:10] Scheduler: Waiting for completed trials (for 10 sec, currently running trials: 5).\n"
     ]
    },
    {
     "name": "stderr",
     "output_type": "stream",
     "text": [
      "[INFO 08-09 14:23:20] Scheduler: Fetching data for trials: 0 - 4 because some metrics on experiment are available while trials are running.\n"
     ]
    },
    {
     "name": "stderr",
     "output_type": "stream",
     "text": [
      "[INFO 08-09 14:23:20] ax.early_stopping.strategies.base: The number of completed trials (0) is less than the minimum number of curves needed for early stopping (5). Not early stopping.\n"
     ]
    },
    {
     "name": "stderr",
     "output_type": "stream",
     "text": [
      "[INFO 08-09 14:23:20] Scheduler: Waiting for completed trials (for 10 sec, currently running trials: 5).\n"
     ]
    },
    {
     "name": "stderr",
     "output_type": "stream",
     "text": [
      "[INFO 08-09 14:23:30] Scheduler: Fetching data for trials: 0 - 4 because some metrics on experiment are available while trials are running.\n"
     ]
    },
    {
     "name": "stderr",
     "output_type": "stream",
     "text": [
      "[INFO 08-09 14:23:30] ax.early_stopping.strategies.base: The number of completed trials (0) is less than the minimum number of curves needed for early stopping (5). Not early stopping.\n"
     ]
    },
    {
     "name": "stderr",
     "output_type": "stream",
     "text": [
      "[INFO 08-09 14:23:30] Scheduler: Waiting for completed trials (for 10 sec, currently running trials: 5).\n"
     ]
    },
    {
     "name": "stderr",
     "output_type": "stream",
     "text": [
      "[INFO 08-09 14:23:40] Scheduler: Fetching data for trials: 0 - 4 because some metrics on experiment are available while trials are running.\n"
     ]
    },
    {
     "name": "stderr",
     "output_type": "stream",
     "text": [
      "[INFO 08-09 14:23:40] ax.early_stopping.strategies.base: The number of completed trials (0) is less than the minimum number of curves needed for early stopping (5). Not early stopping.\n"
     ]
    },
    {
     "name": "stderr",
     "output_type": "stream",
     "text": [
      "[INFO 08-09 14:23:40] Scheduler: Waiting for completed trials (for 10 sec, currently running trials: 5).\n"
     ]
    },
    {
     "name": "stderr",
     "output_type": "stream",
     "text": [
      "[INFO 08-09 14:23:50] Scheduler: Fetching data for trials: 0 - 4 because some metrics on experiment are available while trials are running.\n"
     ]
    },
    {
     "name": "stderr",
     "output_type": "stream",
     "text": [
      "[INFO 08-09 14:23:50] ax.early_stopping.strategies.base: The number of completed trials (0) is less than the minimum number of curves needed for early stopping (5). Not early stopping.\n"
     ]
    },
    {
     "name": "stderr",
     "output_type": "stream",
     "text": [
      "[INFO 08-09 14:23:50] Scheduler: Waiting for completed trials (for 10 sec, currently running trials: 5).\n"
     ]
    },
    {
     "name": "stderr",
     "output_type": "stream",
     "text": [
      "[INFO 08-09 14:24:00] Scheduler: Fetching data for trials: 0 - 4 because some metrics on experiment are available while trials are running.\n"
     ]
    },
    {
     "name": "stderr",
     "output_type": "stream",
     "text": [
      "[INFO 08-09 14:24:01] ax.early_stopping.strategies.base: The number of completed trials (0) is less than the minimum number of curves needed for early stopping (5). Not early stopping.\n"
     ]
    },
    {
     "name": "stderr",
     "output_type": "stream",
     "text": [
      "[INFO 08-09 14:24:01] Scheduler: Waiting for completed trials (for 10 sec, currently running trials: 5).\n"
     ]
    },
    {
     "name": "stderr",
     "output_type": "stream",
     "text": [
      "[INFO 08-09 14:24:11] Scheduler: Fetching data for trials: 0 - 4 because some metrics on experiment are available while trials are running.\n"
     ]
    },
    {
     "name": "stderr",
     "output_type": "stream",
     "text": [
      "[INFO 08-09 14:24:11] ax.early_stopping.strategies.base: The number of completed trials (0) is less than the minimum number of curves needed for early stopping (5). Not early stopping.\n"
     ]
    },
    {
     "name": "stderr",
     "output_type": "stream",
     "text": [
      "[INFO 08-09 14:24:11] Scheduler: Waiting for completed trials (for 10 sec, currently running trials: 5).\n"
     ]
    },
    {
     "name": "stderr",
     "output_type": "stream",
     "text": [
      "[INFO 08-09 14:24:21] Scheduler: Fetching data for trials: 0 - 4 because some metrics on experiment are available while trials are running.\n"
     ]
    },
    {
     "name": "stderr",
     "output_type": "stream",
     "text": [
      "[INFO 08-09 14:24:21] ax.early_stopping.strategies.base: The number of completed trials (0) is less than the minimum number of curves needed for early stopping (5). Not early stopping.\n"
     ]
    },
    {
     "name": "stderr",
     "output_type": "stream",
     "text": [
      "[INFO 08-09 14:24:21] Scheduler: Waiting for completed trials (for 10 sec, currently running trials: 5).\n"
     ]
    },
    {
     "name": "stderr",
     "output_type": "stream",
     "text": [
      "[INFO 08-09 14:24:31] Scheduler: Fetching data for trials: 0 - 4 because some metrics on experiment are available while trials are running.\n"
     ]
    },
    {
     "name": "stderr",
     "output_type": "stream",
     "text": [
      "[INFO 08-09 14:24:31] ax.early_stopping.strategies.base: The number of completed trials (0) is less than the minimum number of curves needed for early stopping (5). Not early stopping.\n"
     ]
    },
    {
     "name": "stderr",
     "output_type": "stream",
     "text": [
      "[INFO 08-09 14:24:31] Scheduler: Waiting for completed trials (for 10 sec, currently running trials: 5).\n"
     ]
    },
    {
     "name": "stderr",
     "output_type": "stream",
     "text": [
      "[INFO 08-09 14:24:41] Scheduler: Fetching data for trials: 0 - 4 because some metrics on experiment are available while trials are running.\n"
     ]
    },
    {
     "name": "stderr",
     "output_type": "stream",
     "text": [
      "[INFO 08-09 14:24:41] ax.early_stopping.strategies.base: The number of completed trials (0) is less than the minimum number of curves needed for early stopping (5). Not early stopping.\n"
     ]
    },
    {
     "name": "stderr",
     "output_type": "stream",
     "text": [
      "[INFO 08-09 14:24:41] Scheduler: Waiting for completed trials (for 10 sec, currently running trials: 5).\n"
     ]
    },
    {
     "name": "stderr",
     "output_type": "stream",
     "text": [
      "[INFO 08-09 14:24:51] Scheduler: Fetching data for trials: 0 - 4 because some metrics on experiment are available while trials are running.\n"
     ]
    },
    {
     "name": "stderr",
     "output_type": "stream",
     "text": [
      "[INFO 08-09 14:24:51] ax.early_stopping.strategies.base: The number of completed trials (0) is less than the minimum number of curves needed for early stopping (5). Not early stopping.\n"
     ]
    },
    {
     "name": "stderr",
     "output_type": "stream",
     "text": [
      "[INFO 08-09 14:24:51] Scheduler: Waiting for completed trials (for 10 sec, currently running trials: 5).\n"
     ]
    },
    {
     "name": "stderr",
     "output_type": "stream",
     "text": [
      "[INFO 08-09 14:25:01] Scheduler: Fetching data for trials: 0 - 4 because some metrics on experiment are available while trials are running.\n"
     ]
    },
    {
     "name": "stderr",
     "output_type": "stream",
     "text": [
      "[INFO 08-09 14:25:01] ax.early_stopping.strategies.base: The number of completed trials (0) is less than the minimum number of curves needed for early stopping (5). Not early stopping.\n"
     ]
    },
    {
     "name": "stderr",
     "output_type": "stream",
     "text": [
      "[INFO 08-09 14:25:01] Scheduler: Waiting for completed trials (for 10 sec, currently running trials: 5).\n"
     ]
    },
    {
     "name": "stderr",
     "output_type": "stream",
     "text": [
      "[INFO 08-09 14:25:12] Scheduler: Fetching data for trials: 0 - 4 because some metrics on experiment are available while trials are running.\n"
     ]
    },
    {
     "name": "stderr",
     "output_type": "stream",
     "text": [
      "[INFO 08-09 14:25:12] ax.early_stopping.strategies.base: The number of completed trials (0) is less than the minimum number of curves needed for early stopping (5). Not early stopping.\n"
     ]
    },
    {
     "name": "stderr",
     "output_type": "stream",
     "text": [
      "[INFO 08-09 14:25:12] Scheduler: Waiting for completed trials (for 10 sec, currently running trials: 5).\n"
     ]
    },
    {
     "name": "stderr",
     "output_type": "stream",
     "text": [
      "[INFO 08-09 14:25:22] Scheduler: Fetching data for trials: 0 - 4 because some metrics on experiment are available while trials are running.\n"
     ]
    },
    {
     "name": "stderr",
     "output_type": "stream",
     "text": [
      "[INFO 08-09 14:25:22] ax.early_stopping.strategies.base: The number of completed trials (0) is less than the minimum number of curves needed for early stopping (5). Not early stopping.\n"
     ]
    },
    {
     "name": "stderr",
     "output_type": "stream",
     "text": [
      "[INFO 08-09 14:25:22] Scheduler: Waiting for completed trials (for 10 sec, currently running trials: 5).\n"
     ]
    },
    {
     "name": "stderr",
     "output_type": "stream",
     "text": [
      "[INFO 08-09 14:25:32] Scheduler: Fetching data for trials: 0 - 4 because some metrics on experiment are available while trials are running.\n"
     ]
    },
    {
     "name": "stderr",
     "output_type": "stream",
     "text": [
      "[INFO 08-09 14:25:32] ax.early_stopping.strategies.base: The number of completed trials (0) is less than the minimum number of curves needed for early stopping (5). Not early stopping.\n"
     ]
    },
    {
     "name": "stderr",
     "output_type": "stream",
     "text": [
      "[INFO 08-09 14:25:32] Scheduler: Waiting for completed trials (for 10 sec, currently running trials: 5).\n"
     ]
    },
    {
     "name": "stderr",
     "output_type": "stream",
     "text": [
      "[INFO 08-09 14:25:42] Scheduler: Fetching data for trials: 0 - 4 because some metrics on experiment are available while trials are running.\n"
     ]
    },
    {
     "name": "stderr",
     "output_type": "stream",
     "text": [
      "[INFO 08-09 14:25:42] ax.early_stopping.strategies.base: The number of completed trials (0) is less than the minimum number of curves needed for early stopping (5). Not early stopping.\n"
     ]
    },
    {
     "name": "stderr",
     "output_type": "stream",
     "text": [
      "[INFO 08-09 14:25:42] Scheduler: Waiting for completed trials (for 10 sec, currently running trials: 5).\n"
     ]
    },
    {
     "name": "stderr",
     "output_type": "stream",
     "text": [
      "[INFO 08-09 14:25:52] Scheduler: Fetching data for trials: 0 - 4 because some metrics on experiment are available while trials are running.\n"
     ]
    },
    {
     "name": "stderr",
     "output_type": "stream",
     "text": [
      "[INFO 08-09 14:25:52] ax.early_stopping.strategies.base: The number of completed trials (0) is less than the minimum number of curves needed for early stopping (5). Not early stopping.\n"
     ]
    },
    {
     "name": "stderr",
     "output_type": "stream",
     "text": [
      "[INFO 08-09 14:25:52] Scheduler: Waiting for completed trials (for 10 sec, currently running trials: 5).\n"
     ]
    },
    {
     "name": "stderr",
     "output_type": "stream",
     "text": [
      "[INFO 08-09 14:26:03] Scheduler: Fetching data for trials: [3] because some metrics on experiment are available while trials are running.\n"
     ]
    },
    {
     "name": "stderr",
     "output_type": "stream",
     "text": [
      "[INFO 08-09 14:26:03] ax.early_stopping.strategies.base: The number of completed trials (0) is less than the minimum number of curves needed for early stopping (5). Not early stopping.\n"
     ]
    },
    {
     "name": "stderr",
     "output_type": "stream",
     "text": [
      "[INFO 08-09 14:26:03] Scheduler: Retrieved COMPLETED trials: [0, 1, 2, 4].\n"
     ]
    },
    {
     "name": "stderr",
     "output_type": "stream",
     "text": [
      "[INFO 08-09 14:26:03] Scheduler: Fetching data for trials: [0, 1, 2, 4].\n"
     ]
    },
    {
     "name": "stderr",
     "output_type": "stream",
     "text": [
      "/Users/mpolson64/opt/anaconda3/envs/ax-dev/lib/python3.9/site-packages/linear_operator/utils/cholesky.py:40: NumericalWarning: A not p.d., added jitter of 1.0e-08 to the diagonal\n",
      "  warnings.warn(\n",
      "[INFO 08-09 14:26:04] Scheduler: Running trials [5]...\n"
     ]
    },
    {
     "name": "stderr",
     "output_type": "stream",
     "text": [
      "[INFO 08-09 14:26:05] ax.modelbridge.torch: The observations are identical to the last set of observations used to fit the model. Skipping model fitting.\n"
     ]
    },
    {
     "name": "stderr",
     "output_type": "stream",
     "text": [
      "/Users/mpolson64/opt/anaconda3/envs/ax-dev/lib/python3.9/site-packages/linear_operator/utils/cholesky.py:40: NumericalWarning: A not p.d., added jitter of 1.0e-08 to the diagonal\n",
      "  warnings.warn(\n",
      "[INFO 08-09 14:26:06] Scheduler: Running trials [6]...\n"
     ]
    },
    {
     "name": "stderr",
     "output_type": "stream",
     "text": [
      "[INFO 08-09 14:26:06] ax.modelbridge.torch: The observations are identical to the last set of observations used to fit the model. Skipping model fitting.\n"
     ]
    },
    {
     "name": "stderr",
     "output_type": "stream",
     "text": [
      "/Users/mpolson64/opt/anaconda3/envs/ax-dev/lib/python3.9/site-packages/linear_operator/utils/cholesky.py:40: NumericalWarning: A not p.d., added jitter of 1.0e-08 to the diagonal\n",
      "  warnings.warn(\n",
      "[INFO 08-09 14:26:07] Scheduler: Running trials [7]...\n"
     ]
    },
    {
     "name": "stderr",
     "output_type": "stream",
     "text": [
      "[INFO 08-09 14:26:08] ax.modelbridge.torch: The observations are identical to the last set of observations used to fit the model. Skipping model fitting.\n"
     ]
    },
    {
     "name": "stderr",
     "output_type": "stream",
     "text": [
      "[INFO 08-09 14:26:08] Scheduler: Generated all trials that can be generated currently. Max parallelism currently reached.\n"
     ]
    },
    {
     "name": "stderr",
     "output_type": "stream",
     "text": [
      "[WARNING 08-09 14:26:08] Scheduler: Both `init_seconds_between_polls` and `early_stopping_strategy supplied. `init_seconds_between_polls=1` will be overrridden by `early_stopping_strategy.seconds_between_polls=10` and polling will take place at a constant rate.\n"
     ]
    },
    {
     "name": "stderr",
     "output_type": "stream",
     "text": [
      "[INFO 08-09 14:26:08] Scheduler: Fetching data for trials: [3, 5, 6, 7] because some metrics on experiment are available while trials are running.\n"
     ]
    },
    {
     "name": "stderr",
     "output_type": "stream",
     "text": [
      "[INFO 08-09 14:26:08] ax.metrics.curve: val_acc not yet present in curves from /var/folders/w_/g_40lr6j0s98g6921f3qxcmr0000gn/T/tmpnxpj5dby/5. Returning without this metric.\n"
     ]
    },
    {
     "name": "stderr",
     "output_type": "stream",
     "text": [
      "[INFO 08-09 14:26:08] ax.core.metric: MetricFetchE INFO: Initialized MetricFetchE(message=\"DataFrame from curve series is empty\")\n"
     ]
    },
    {
     "name": "stderr",
     "output_type": "stream",
     "text": [
      "[INFO 08-09 14:26:08] ax.metrics.curve: val_acc not yet present in curves from /var/folders/w_/g_40lr6j0s98g6921f3qxcmr0000gn/T/tmpnxpj5dby/6. Returning without this metric.\n"
     ]
    },
    {
     "name": "stderr",
     "output_type": "stream",
     "text": [
      "[INFO 08-09 14:26:08] ax.core.metric: MetricFetchE INFO: Initialized MetricFetchE(message=\"DataFrame from curve series is empty\")\n"
     ]
    },
    {
     "name": "stderr",
     "output_type": "stream",
     "text": [
      "[INFO 08-09 14:26:08] ax.metrics.curve: val_acc not yet present in curves from /var/folders/w_/g_40lr6j0s98g6921f3qxcmr0000gn/T/tmpnxpj5dby/7. Returning without this metric.\n"
     ]
    },
    {
     "name": "stderr",
     "output_type": "stream",
     "text": [
      "[INFO 08-09 14:26:08] ax.core.metric: MetricFetchE INFO: Initialized MetricFetchE(message=\"DataFrame from curve series is empty\")\n"
     ]
    },
    {
     "name": "stderr",
     "output_type": "stream",
     "text": [
      "[ERROR 08-09 14:26:08] ax.core.experiment: Discovered Metric fetching Err while attaching data MetricFetchE(message=\"DataFrame from curve series is empty\"). Ignoring for now -- will retry query on next call to fetch.\n"
     ]
    },
    {
     "name": "stderr",
     "output_type": "stream",
     "text": [
      "[ERROR 08-09 14:26:08] ax.core.experiment: Discovered Metric fetching Err while attaching data MetricFetchE(message=\"DataFrame from curve series is empty\"). Ignoring for now -- will retry query on next call to fetch.\n"
     ]
    },
    {
     "name": "stderr",
     "output_type": "stream",
     "text": [
      "[ERROR 08-09 14:26:08] ax.core.experiment: Discovered Metric fetching Err while attaching data MetricFetchE(message=\"DataFrame from curve series is empty\"). Ignoring for now -- will retry query on next call to fetch.\n"
     ]
    },
    {
     "name": "stderr",
     "output_type": "stream",
     "text": [
      "[WARNING 08-09 14:26:08] Scheduler: Failed to fetch val_acc for trial 5, found MetricFetchE(message=\"DataFrame from curve series is empty\").\n"
     ]
    },
    {
     "name": "stderr",
     "output_type": "stream",
     "text": [
      "[INFO 08-09 14:26:08] Scheduler: MetricFetchE INFO: Because val_acc is available_while_running and trial 5 is still RUNNING continuing the experiment and retrying on next poll...\n"
     ]
    },
    {
     "name": "stderr",
     "output_type": "stream",
     "text": [
      "[WARNING 08-09 14:26:08] Scheduler: Failed to fetch val_acc for trial 6, found MetricFetchE(message=\"DataFrame from curve series is empty\").\n"
     ]
    },
    {
     "name": "stderr",
     "output_type": "stream",
     "text": [
      "[INFO 08-09 14:26:08] Scheduler: MetricFetchE INFO: Because val_acc is available_while_running and trial 6 is still RUNNING continuing the experiment and retrying on next poll...\n"
     ]
    },
    {
     "name": "stderr",
     "output_type": "stream",
     "text": [
      "[WARNING 08-09 14:26:08] Scheduler: Failed to fetch val_acc for trial 7, found MetricFetchE(message=\"DataFrame from curve series is empty\").\n"
     ]
    },
    {
     "name": "stderr",
     "output_type": "stream",
     "text": [
      "[INFO 08-09 14:26:08] Scheduler: MetricFetchE INFO: Because val_acc is available_while_running and trial 7 is still RUNNING continuing the experiment and retrying on next poll...\n"
     ]
    },
    {
     "name": "stderr",
     "output_type": "stream",
     "text": [
      "[INFO 08-09 14:26:08] ax.early_stopping.strategies.base: The number of completed trials (4) is less than the minimum number of curves needed for early stopping (5). Not early stopping.\n"
     ]
    },
    {
     "name": "stderr",
     "output_type": "stream",
     "text": [
      "[INFO 08-09 14:26:08] Scheduler: Waiting for completed trials (for 10 sec, currently running trials: 4).\n"
     ]
    },
    {
     "name": "stderr",
     "output_type": "stream",
     "text": [
      "[INFO 08-09 14:26:18] Scheduler: Fetching data for trials: 5 - 7 because some metrics on experiment are available while trials are running.\n"
     ]
    },
    {
     "name": "stderr",
     "output_type": "stream",
     "text": [
      "[INFO 08-09 14:26:18] ax.metrics.curve: val_acc not yet present in curves from /var/folders/w_/g_40lr6j0s98g6921f3qxcmr0000gn/T/tmpnxpj5dby/5. Returning without this metric.\n"
     ]
    },
    {
     "name": "stderr",
     "output_type": "stream",
     "text": [
      "[INFO 08-09 14:26:18] ax.core.metric: MetricFetchE INFO: Initialized MetricFetchE(message=\"DataFrame from curve series is empty\")\n"
     ]
    },
    {
     "name": "stderr",
     "output_type": "stream",
     "text": [
      "[INFO 08-09 14:26:18] ax.metrics.curve: val_acc not yet present in curves from /var/folders/w_/g_40lr6j0s98g6921f3qxcmr0000gn/T/tmpnxpj5dby/6. Returning without this metric.\n"
     ]
    },
    {
     "name": "stderr",
     "output_type": "stream",
     "text": [
      "[INFO 08-09 14:26:18] ax.core.metric: MetricFetchE INFO: Initialized MetricFetchE(message=\"DataFrame from curve series is empty\")\n"
     ]
    },
    {
     "name": "stderr",
     "output_type": "stream",
     "text": [
      "[INFO 08-09 14:26:18] ax.metrics.curve: val_acc not yet present in curves from /var/folders/w_/g_40lr6j0s98g6921f3qxcmr0000gn/T/tmpnxpj5dby/7. Returning without this metric.\n"
     ]
    },
    {
     "name": "stderr",
     "output_type": "stream",
     "text": [
      "[INFO 08-09 14:26:18] ax.core.metric: MetricFetchE INFO: Initialized MetricFetchE(message=\"DataFrame from curve series is empty\")\n"
     ]
    },
    {
     "name": "stderr",
     "output_type": "stream",
     "text": [
      "[ERROR 08-09 14:26:18] ax.core.experiment: Discovered Metric fetching Err while attaching data MetricFetchE(message=\"DataFrame from curve series is empty\"). Ignoring for now -- will retry query on next call to fetch.\n"
     ]
    },
    {
     "name": "stderr",
     "output_type": "stream",
     "text": [
      "[ERROR 08-09 14:26:18] ax.core.experiment: Discovered Metric fetching Err while attaching data MetricFetchE(message=\"DataFrame from curve series is empty\"). Ignoring for now -- will retry query on next call to fetch.\n"
     ]
    },
    {
     "name": "stderr",
     "output_type": "stream",
     "text": [
      "[ERROR 08-09 14:26:18] ax.core.experiment: Discovered Metric fetching Err while attaching data MetricFetchE(message=\"DataFrame from curve series is empty\"). Ignoring for now -- will retry query on next call to fetch.\n"
     ]
    },
    {
     "name": "stderr",
     "output_type": "stream",
     "text": [
      "[WARNING 08-09 14:26:18] Scheduler: Failed to fetch val_acc for trial 5, found MetricFetchE(message=\"DataFrame from curve series is empty\").\n"
     ]
    },
    {
     "name": "stderr",
     "output_type": "stream",
     "text": [
      "[INFO 08-09 14:26:18] Scheduler: MetricFetchE INFO: Because val_acc is available_while_running and trial 5 is still RUNNING continuing the experiment and retrying on next poll...\n"
     ]
    },
    {
     "name": "stderr",
     "output_type": "stream",
     "text": [
      "[WARNING 08-09 14:26:18] Scheduler: Failed to fetch val_acc for trial 6, found MetricFetchE(message=\"DataFrame from curve series is empty\").\n"
     ]
    },
    {
     "name": "stderr",
     "output_type": "stream",
     "text": [
      "[INFO 08-09 14:26:18] Scheduler: MetricFetchE INFO: Because val_acc is available_while_running and trial 6 is still RUNNING continuing the experiment and retrying on next poll...\n"
     ]
    },
    {
     "name": "stderr",
     "output_type": "stream",
     "text": [
      "[WARNING 08-09 14:26:18] Scheduler: Failed to fetch val_acc for trial 7, found MetricFetchE(message=\"DataFrame from curve series is empty\").\n"
     ]
    },
    {
     "name": "stderr",
     "output_type": "stream",
     "text": [
      "[INFO 08-09 14:26:18] Scheduler: MetricFetchE INFO: Because val_acc is available_while_running and trial 7 is still RUNNING continuing the experiment and retrying on next poll...\n"
     ]
    },
    {
     "name": "stderr",
     "output_type": "stream",
     "text": [
      "[INFO 08-09 14:26:18] ax.early_stopping.strategies.base: The number of completed trials (4) is less than the minimum number of curves needed for early stopping (5). Not early stopping.\n"
     ]
    },
    {
     "name": "stderr",
     "output_type": "stream",
     "text": [
      "[INFO 08-09 14:26:18] Scheduler: Retrieved COMPLETED trials: [3].\n"
     ]
    },
    {
     "name": "stderr",
     "output_type": "stream",
     "text": [
      "[INFO 08-09 14:26:18] Scheduler: Fetching data for trials: [3].\n"
     ]
    },
    {
     "name": "stderr",
     "output_type": "stream",
     "text": [
      "[WARNING 08-09 14:26:18] Scheduler: Both `init_seconds_between_polls` and `early_stopping_strategy supplied. `init_seconds_between_polls=1` will be overrridden by `early_stopping_strategy.seconds_between_polls=10` and polling will take place at a constant rate.\n"
     ]
    },
    {
     "name": "stderr",
     "output_type": "stream",
     "text": [
      "[INFO 08-09 14:26:18] Scheduler: Fetching data for trials: 5 - 7 because some metrics on experiment are available while trials are running.\n"
     ]
    },
    {
     "name": "stderr",
     "output_type": "stream",
     "text": [
      "[INFO 08-09 14:26:18] ax.metrics.curve: val_acc not yet present in curves from /var/folders/w_/g_40lr6j0s98g6921f3qxcmr0000gn/T/tmpnxpj5dby/5. Returning without this metric.\n"
     ]
    },
    {
     "name": "stderr",
     "output_type": "stream",
     "text": [
      "[INFO 08-09 14:26:18] ax.core.metric: MetricFetchE INFO: Initialized MetricFetchE(message=\"DataFrame from curve series is empty\")\n"
     ]
    },
    {
     "name": "stderr",
     "output_type": "stream",
     "text": [
      "[INFO 08-09 14:26:18] ax.metrics.curve: val_acc not yet present in curves from /var/folders/w_/g_40lr6j0s98g6921f3qxcmr0000gn/T/tmpnxpj5dby/6. Returning without this metric.\n"
     ]
    },
    {
     "name": "stderr",
     "output_type": "stream",
     "text": [
      "[INFO 08-09 14:26:18] ax.core.metric: MetricFetchE INFO: Initialized MetricFetchE(message=\"DataFrame from curve series is empty\")\n"
     ]
    },
    {
     "name": "stderr",
     "output_type": "stream",
     "text": [
      "[INFO 08-09 14:26:18] ax.metrics.curve: val_acc not yet present in curves from /var/folders/w_/g_40lr6j0s98g6921f3qxcmr0000gn/T/tmpnxpj5dby/7. Returning without this metric.\n"
     ]
    },
    {
     "name": "stderr",
     "output_type": "stream",
     "text": [
      "[INFO 08-09 14:26:18] ax.core.metric: MetricFetchE INFO: Initialized MetricFetchE(message=\"DataFrame from curve series is empty\")\n"
     ]
    },
    {
     "name": "stderr",
     "output_type": "stream",
     "text": [
      "[ERROR 08-09 14:26:18] ax.core.experiment: Discovered Metric fetching Err while attaching data MetricFetchE(message=\"DataFrame from curve series is empty\"). Ignoring for now -- will retry query on next call to fetch.\n"
     ]
    },
    {
     "name": "stderr",
     "output_type": "stream",
     "text": [
      "[ERROR 08-09 14:26:18] ax.core.experiment: Discovered Metric fetching Err while attaching data MetricFetchE(message=\"DataFrame from curve series is empty\"). Ignoring for now -- will retry query on next call to fetch.\n"
     ]
    },
    {
     "name": "stderr",
     "output_type": "stream",
     "text": [
      "[ERROR 08-09 14:26:18] ax.core.experiment: Discovered Metric fetching Err while attaching data MetricFetchE(message=\"DataFrame from curve series is empty\"). Ignoring for now -- will retry query on next call to fetch.\n"
     ]
    },
    {
     "name": "stderr",
     "output_type": "stream",
     "text": [
      "[WARNING 08-09 14:26:18] Scheduler: Failed to fetch val_acc for trial 5, found MetricFetchE(message=\"DataFrame from curve series is empty\").\n"
     ]
    },
    {
     "name": "stderr",
     "output_type": "stream",
     "text": [
      "[INFO 08-09 14:26:18] Scheduler: MetricFetchE INFO: Because val_acc is available_while_running and trial 5 is still RUNNING continuing the experiment and retrying on next poll...\n"
     ]
    },
    {
     "name": "stderr",
     "output_type": "stream",
     "text": [
      "[WARNING 08-09 14:26:18] Scheduler: Failed to fetch val_acc for trial 6, found MetricFetchE(message=\"DataFrame from curve series is empty\").\n"
     ]
    },
    {
     "name": "stderr",
     "output_type": "stream",
     "text": [
      "[INFO 08-09 14:26:18] Scheduler: MetricFetchE INFO: Because val_acc is available_while_running and trial 6 is still RUNNING continuing the experiment and retrying on next poll...\n"
     ]
    },
    {
     "name": "stderr",
     "output_type": "stream",
     "text": [
      "[WARNING 08-09 14:26:18] Scheduler: Failed to fetch val_acc for trial 7, found MetricFetchE(message=\"DataFrame from curve series is empty\").\n"
     ]
    },
    {
     "name": "stderr",
     "output_type": "stream",
     "text": [
      "[INFO 08-09 14:26:18] Scheduler: MetricFetchE INFO: Because val_acc is available_while_running and trial 7 is still RUNNING continuing the experiment and retrying on next poll...\n"
     ]
    },
    {
     "name": "stderr",
     "output_type": "stream",
     "text": [
      "[INFO 08-09 14:26:18] ax.early_stopping.strategies.base: Last progression of any candidate for trial stopping is 0.\n"
     ]
    },
    {
     "name": "stderr",
     "output_type": "stream",
     "text": [
      "[INFO 08-09 14:26:18] ax.early_stopping.strategies.base: No trials have reached 0.3. Not stopping any trials.\n"
     ]
    },
    {
     "name": "stderr",
     "output_type": "stream",
     "text": [
      "[INFO 08-09 14:26:18] Scheduler: Waiting for completed trials (for 10 sec, currently running trials: 3).\n"
     ]
    },
    {
     "name": "stderr",
     "output_type": "stream",
     "text": [
      "[INFO 08-09 14:26:28] Scheduler: Fetching data for trials: 5 - 7 because some metrics on experiment are available while trials are running.\n"
     ]
    },
    {
     "name": "stderr",
     "output_type": "stream",
     "text": [
      "[INFO 08-09 14:26:28] ax.metrics.curve: val_acc not yet present in curves from /var/folders/w_/g_40lr6j0s98g6921f3qxcmr0000gn/T/tmpnxpj5dby/5. Returning without this metric.\n"
     ]
    },
    {
     "name": "stderr",
     "output_type": "stream",
     "text": [
      "[INFO 08-09 14:26:28] ax.core.metric: MetricFetchE INFO: Initialized MetricFetchE(message=\"DataFrame from curve series is empty\")\n"
     ]
    },
    {
     "name": "stderr",
     "output_type": "stream",
     "text": [
      "[INFO 08-09 14:26:28] ax.metrics.curve: val_acc not yet present in curves from /var/folders/w_/g_40lr6j0s98g6921f3qxcmr0000gn/T/tmpnxpj5dby/6. Returning without this metric.\n"
     ]
    },
    {
     "name": "stderr",
     "output_type": "stream",
     "text": [
      "[INFO 08-09 14:26:28] ax.core.metric: MetricFetchE INFO: Initialized MetricFetchE(message=\"DataFrame from curve series is empty\")\n"
     ]
    },
    {
     "name": "stderr",
     "output_type": "stream",
     "text": [
      "[INFO 08-09 14:26:28] ax.metrics.curve: val_acc not yet present in curves from /var/folders/w_/g_40lr6j0s98g6921f3qxcmr0000gn/T/tmpnxpj5dby/7. Returning without this metric.\n"
     ]
    },
    {
     "name": "stderr",
     "output_type": "stream",
     "text": [
      "[INFO 08-09 14:26:28] ax.core.metric: MetricFetchE INFO: Initialized MetricFetchE(message=\"DataFrame from curve series is empty\")\n"
     ]
    },
    {
     "name": "stderr",
     "output_type": "stream",
     "text": [
      "[ERROR 08-09 14:26:28] ax.core.experiment: Discovered Metric fetching Err while attaching data MetricFetchE(message=\"DataFrame from curve series is empty\"). Ignoring for now -- will retry query on next call to fetch.\n"
     ]
    },
    {
     "name": "stderr",
     "output_type": "stream",
     "text": [
      "[ERROR 08-09 14:26:28] ax.core.experiment: Discovered Metric fetching Err while attaching data MetricFetchE(message=\"DataFrame from curve series is empty\"). Ignoring for now -- will retry query on next call to fetch.\n"
     ]
    },
    {
     "name": "stderr",
     "output_type": "stream",
     "text": [
      "[ERROR 08-09 14:26:28] ax.core.experiment: Discovered Metric fetching Err while attaching data MetricFetchE(message=\"DataFrame from curve series is empty\"). Ignoring for now -- will retry query on next call to fetch.\n"
     ]
    },
    {
     "name": "stderr",
     "output_type": "stream",
     "text": [
      "[WARNING 08-09 14:26:28] Scheduler: Failed to fetch val_acc for trial 5, found MetricFetchE(message=\"DataFrame from curve series is empty\").\n"
     ]
    },
    {
     "name": "stderr",
     "output_type": "stream",
     "text": [
      "[INFO 08-09 14:26:28] Scheduler: MetricFetchE INFO: Because val_acc is available_while_running and trial 5 is still RUNNING continuing the experiment and retrying on next poll...\n"
     ]
    },
    {
     "name": "stderr",
     "output_type": "stream",
     "text": [
      "[WARNING 08-09 14:26:28] Scheduler: Failed to fetch val_acc for trial 6, found MetricFetchE(message=\"DataFrame from curve series is empty\").\n"
     ]
    },
    {
     "name": "stderr",
     "output_type": "stream",
     "text": [
      "[INFO 08-09 14:26:28] Scheduler: MetricFetchE INFO: Because val_acc is available_while_running and trial 6 is still RUNNING continuing the experiment and retrying on next poll...\n"
     ]
    },
    {
     "name": "stderr",
     "output_type": "stream",
     "text": [
      "[WARNING 08-09 14:26:28] Scheduler: Failed to fetch val_acc for trial 7, found MetricFetchE(message=\"DataFrame from curve series is empty\").\n"
     ]
    },
    {
     "name": "stderr",
     "output_type": "stream",
     "text": [
      "[INFO 08-09 14:26:28] Scheduler: MetricFetchE INFO: Because val_acc is available_while_running and trial 7 is still RUNNING continuing the experiment and retrying on next poll...\n"
     ]
    },
    {
     "name": "stderr",
     "output_type": "stream",
     "text": [
      "[INFO 08-09 14:26:28] ax.early_stopping.strategies.base: Last progression of any candidate for trial stopping is 0.\n"
     ]
    },
    {
     "name": "stderr",
     "output_type": "stream",
     "text": [
      "[INFO 08-09 14:26:28] ax.early_stopping.strategies.base: No trials have reached 0.3. Not stopping any trials.\n"
     ]
    },
    {
     "name": "stderr",
     "output_type": "stream",
     "text": [
      "[INFO 08-09 14:26:28] Scheduler: Waiting for completed trials (for 10 sec, currently running trials: 3).\n"
     ]
    },
    {
     "name": "stderr",
     "output_type": "stream",
     "text": [
      "[INFO 08-09 14:26:38] Scheduler: Fetching data for trials: 5 - 7 because some metrics on experiment are available while trials are running.\n"
     ]
    },
    {
     "name": "stderr",
     "output_type": "stream",
     "text": [
      "[INFO 08-09 14:26:38] ax.metrics.curve: val_acc not yet present in curves from /var/folders/w_/g_40lr6j0s98g6921f3qxcmr0000gn/T/tmpnxpj5dby/5. Returning without this metric.\n"
     ]
    },
    {
     "name": "stderr",
     "output_type": "stream",
     "text": [
      "[INFO 08-09 14:26:38] ax.core.metric: MetricFetchE INFO: Initialized MetricFetchE(message=\"DataFrame from curve series is empty\")\n"
     ]
    },
    {
     "name": "stderr",
     "output_type": "stream",
     "text": [
      "[INFO 08-09 14:26:38] ax.metrics.curve: val_acc not yet present in curves from /var/folders/w_/g_40lr6j0s98g6921f3qxcmr0000gn/T/tmpnxpj5dby/6. Returning without this metric.\n"
     ]
    },
    {
     "name": "stderr",
     "output_type": "stream",
     "text": [
      "[INFO 08-09 14:26:38] ax.core.metric: MetricFetchE INFO: Initialized MetricFetchE(message=\"DataFrame from curve series is empty\")\n"
     ]
    },
    {
     "name": "stderr",
     "output_type": "stream",
     "text": [
      "[INFO 08-09 14:26:38] ax.metrics.curve: val_acc not yet present in curves from /var/folders/w_/g_40lr6j0s98g6921f3qxcmr0000gn/T/tmpnxpj5dby/7. Returning without this metric.\n"
     ]
    },
    {
     "name": "stderr",
     "output_type": "stream",
     "text": [
      "[INFO 08-09 14:26:38] ax.core.metric: MetricFetchE INFO: Initialized MetricFetchE(message=\"DataFrame from curve series is empty\")\n"
     ]
    },
    {
     "name": "stderr",
     "output_type": "stream",
     "text": [
      "[ERROR 08-09 14:26:38] ax.core.experiment: Discovered Metric fetching Err while attaching data MetricFetchE(message=\"DataFrame from curve series is empty\"). Ignoring for now -- will retry query on next call to fetch.\n"
     ]
    },
    {
     "name": "stderr",
     "output_type": "stream",
     "text": [
      "[ERROR 08-09 14:26:38] ax.core.experiment: Discovered Metric fetching Err while attaching data MetricFetchE(message=\"DataFrame from curve series is empty\"). Ignoring for now -- will retry query on next call to fetch.\n"
     ]
    },
    {
     "name": "stderr",
     "output_type": "stream",
     "text": [
      "[ERROR 08-09 14:26:38] ax.core.experiment: Discovered Metric fetching Err while attaching data MetricFetchE(message=\"DataFrame from curve series is empty\"). Ignoring for now -- will retry query on next call to fetch.\n"
     ]
    },
    {
     "name": "stderr",
     "output_type": "stream",
     "text": [
      "[WARNING 08-09 14:26:38] Scheduler: Failed to fetch val_acc for trial 5, found MetricFetchE(message=\"DataFrame from curve series is empty\").\n"
     ]
    },
    {
     "name": "stderr",
     "output_type": "stream",
     "text": [
      "[INFO 08-09 14:26:38] Scheduler: MetricFetchE INFO: Because val_acc is available_while_running and trial 5 is still RUNNING continuing the experiment and retrying on next poll...\n"
     ]
    },
    {
     "name": "stderr",
     "output_type": "stream",
     "text": [
      "[WARNING 08-09 14:26:38] Scheduler: Failed to fetch val_acc for trial 6, found MetricFetchE(message=\"DataFrame from curve series is empty\").\n"
     ]
    },
    {
     "name": "stderr",
     "output_type": "stream",
     "text": [
      "[INFO 08-09 14:26:38] Scheduler: MetricFetchE INFO: Because val_acc is available_while_running and trial 6 is still RUNNING continuing the experiment and retrying on next poll...\n"
     ]
    },
    {
     "name": "stderr",
     "output_type": "stream",
     "text": [
      "[WARNING 08-09 14:26:38] Scheduler: Failed to fetch val_acc for trial 7, found MetricFetchE(message=\"DataFrame from curve series is empty\").\n"
     ]
    },
    {
     "name": "stderr",
     "output_type": "stream",
     "text": [
      "[INFO 08-09 14:26:38] Scheduler: MetricFetchE INFO: Because val_acc is available_while_running and trial 7 is still RUNNING continuing the experiment and retrying on next poll...\n"
     ]
    },
    {
     "name": "stderr",
     "output_type": "stream",
     "text": [
      "[INFO 08-09 14:26:38] ax.early_stopping.strategies.base: Last progression of any candidate for trial stopping is 0.\n"
     ]
    },
    {
     "name": "stderr",
     "output_type": "stream",
     "text": [
      "[INFO 08-09 14:26:38] ax.early_stopping.strategies.base: No trials have reached 0.3. Not stopping any trials.\n"
     ]
    },
    {
     "name": "stderr",
     "output_type": "stream",
     "text": [
      "[INFO 08-09 14:26:38] Scheduler: Waiting for completed trials (for 10 sec, currently running trials: 3).\n"
     ]
    },
    {
     "name": "stderr",
     "output_type": "stream",
     "text": [
      "[INFO 08-09 14:26:48] Scheduler: Fetching data for trials: 5 - 7 because some metrics on experiment are available while trials are running.\n"
     ]
    },
    {
     "name": "stderr",
     "output_type": "stream",
     "text": [
      "[INFO 08-09 14:26:48] ax.early_stopping.strategies.base: Last progression of any candidate for trial stopping is 0.09994666666666667.\n"
     ]
    },
    {
     "name": "stderr",
     "output_type": "stream",
     "text": [
      "[INFO 08-09 14:26:48] ax.early_stopping.strategies.base: No trials have reached 0.3. Not stopping any trials.\n"
     ]
    },
    {
     "name": "stderr",
     "output_type": "stream",
     "text": [
      "[INFO 08-09 14:26:48] Scheduler: Waiting for completed trials (for 10 sec, currently running trials: 3).\n"
     ]
    },
    {
     "name": "stderr",
     "output_type": "stream",
     "text": [
      "[INFO 08-09 14:26:58] Scheduler: Fetching data for trials: 5 - 7 because some metrics on experiment are available while trials are running.\n"
     ]
    },
    {
     "name": "stderr",
     "output_type": "stream",
     "text": [
      "[INFO 08-09 14:26:58] ax.early_stopping.strategies.base: Last progression of any candidate for trial stopping is 0.09994666666666667.\n"
     ]
    },
    {
     "name": "stderr",
     "output_type": "stream",
     "text": [
      "[INFO 08-09 14:26:58] ax.early_stopping.strategies.base: No trials have reached 0.3. Not stopping any trials.\n"
     ]
    },
    {
     "name": "stderr",
     "output_type": "stream",
     "text": [
      "[INFO 08-09 14:26:58] Scheduler: Waiting for completed trials (for 10 sec, currently running trials: 3).\n"
     ]
    },
    {
     "name": "stderr",
     "output_type": "stream",
     "text": [
      "[INFO 08-09 14:27:08] Scheduler: Fetching data for trials: 5 - 7 because some metrics on experiment are available while trials are running.\n"
     ]
    },
    {
     "name": "stderr",
     "output_type": "stream",
     "text": [
      "[INFO 08-09 14:27:08] ax.early_stopping.strategies.base: Last progression of any candidate for trial stopping is 0.19994666666666666.\n"
     ]
    },
    {
     "name": "stderr",
     "output_type": "stream",
     "text": [
      "[INFO 08-09 14:27:08] ax.early_stopping.strategies.base: No trials have reached 0.3. Not stopping any trials.\n"
     ]
    },
    {
     "name": "stderr",
     "output_type": "stream",
     "text": [
      "[INFO 08-09 14:27:08] Scheduler: Waiting for completed trials (for 10 sec, currently running trials: 3).\n"
     ]
    },
    {
     "name": "stderr",
     "output_type": "stream",
     "text": [
      "[INFO 08-09 14:27:18] Scheduler: Fetching data for trials: 5 - 7 because some metrics on experiment are available while trials are running.\n"
     ]
    },
    {
     "name": "stderr",
     "output_type": "stream",
     "text": [
      "[INFO 08-09 14:27:19] ax.early_stopping.strategies.base: Last progression of any candidate for trial stopping is 0.19994666666666666.\n"
     ]
    },
    {
     "name": "stderr",
     "output_type": "stream",
     "text": [
      "[INFO 08-09 14:27:19] ax.early_stopping.strategies.base: No trials have reached 0.3. Not stopping any trials.\n"
     ]
    },
    {
     "name": "stderr",
     "output_type": "stream",
     "text": [
      "[INFO 08-09 14:27:19] Scheduler: Waiting for completed trials (for 10 sec, currently running trials: 3).\n"
     ]
    },
    {
     "name": "stderr",
     "output_type": "stream",
     "text": [
      "[INFO 08-09 14:27:29] Scheduler: Fetching data for trials: 5 - 7 because some metrics on experiment are available while trials are running.\n"
     ]
    },
    {
     "name": "stderr",
     "output_type": "stream",
     "text": [
      "[INFO 08-09 14:27:29] ax.early_stopping.strategies.base: Last progression of any candidate for trial stopping is 0.19994666666666666.\n"
     ]
    },
    {
     "name": "stderr",
     "output_type": "stream",
     "text": [
      "[INFO 08-09 14:27:29] ax.early_stopping.strategies.base: No trials have reached 0.3. Not stopping any trials.\n"
     ]
    },
    {
     "name": "stderr",
     "output_type": "stream",
     "text": [
      "[INFO 08-09 14:27:29] Scheduler: Waiting for completed trials (for 10 sec, currently running trials: 3).\n"
     ]
    },
    {
     "name": "stderr",
     "output_type": "stream",
     "text": [
      "[INFO 08-09 14:27:39] Scheduler: Fetching data for trials: 5 - 7 because some metrics on experiment are available while trials are running.\n"
     ]
    },
    {
     "name": "stderr",
     "output_type": "stream",
     "text": [
      "[INFO 08-09 14:27:39] ax.early_stopping.strategies.base: Last progression of any candidate for trial stopping is 0.29994666666666664.\n"
     ]
    },
    {
     "name": "stderr",
     "output_type": "stream",
     "text": [
      "[INFO 08-09 14:27:39] ax.early_stopping.strategies.base: No trials have reached 0.3. Not stopping any trials.\n"
     ]
    },
    {
     "name": "stderr",
     "output_type": "stream",
     "text": [
      "[INFO 08-09 14:27:39] Scheduler: Waiting for completed trials (for 10 sec, currently running trials: 3).\n"
     ]
    },
    {
     "name": "stderr",
     "output_type": "stream",
     "text": [
      "[INFO 08-09 14:27:49] Scheduler: Fetching data for trials: 5 - 7 because some metrics on experiment are available while trials are running.\n"
     ]
    },
    {
     "name": "stderr",
     "output_type": "stream",
     "text": [
      "[INFO 08-09 14:27:49] ax.early_stopping.strategies.base: Last progression of any candidate for trial stopping is 0.29994666666666664.\n"
     ]
    },
    {
     "name": "stderr",
     "output_type": "stream",
     "text": [
      "[INFO 08-09 14:27:49] ax.early_stopping.strategies.base: No trials have reached 0.3. Not stopping any trials.\n"
     ]
    },
    {
     "name": "stderr",
     "output_type": "stream",
     "text": [
      "[INFO 08-09 14:27:49] Scheduler: Waiting for completed trials (for 10 sec, currently running trials: 3).\n"
     ]
    },
    {
     "name": "stderr",
     "output_type": "stream",
     "text": [
      "[INFO 08-09 14:27:59] Scheduler: Fetching data for trials: 5 - 7 because some metrics on experiment are available while trials are running.\n"
     ]
    },
    {
     "name": "stderr",
     "output_type": "stream",
     "text": [
      "[INFO 08-09 14:27:59] ax.early_stopping.strategies.base: Last progression of any candidate for trial stopping is 0.3999466666666667.\n"
     ]
    },
    {
     "name": "stderr",
     "output_type": "stream",
     "text": [
      "[INFO 08-09 14:27:59] ax.early_stopping.strategies.percentile: Considering trial 5 for early stopping.\n"
     ]
    },
    {
     "name": "stderr",
     "output_type": "stream",
     "text": [
      "[INFO 08-09 14:27:59] ax.early_stopping.strategies.base: Last progression of Trial 5 is 0.3999466666666667.\n"
     ]
    },
    {
     "name": "stderr",
     "output_type": "stream",
     "text": [
      "[INFO 08-09 14:27:59] ax.early_stopping.strategies.percentile: Early stopping objective at last progression is:\n",
      "0    0.924426\n",
      "1    0.919765\n",
      "2    0.790812\n",
      "3    0.927625\n",
      "4    0.922909\n",
      "5    0.936341\n",
      "6    0.895719\n",
      "7    0.950981\n",
      "Name: 0.3999466666666667, dtype: float64.\n"
     ]
    },
    {
     "name": "stderr",
     "output_type": "stream",
     "text": [
      "[INFO 08-09 14:27:59] ax.early_stopping.strategies.percentile: Early stopping decision for 5: False. Reason: Trial objective value 0.9363412857055664 is better than 70.0-th percentile (0.9273050129413605) across comparable trials.\n"
     ]
    },
    {
     "name": "stderr",
     "output_type": "stream",
     "text": [
      "[INFO 08-09 14:27:59] ax.early_stopping.strategies.percentile: Considering trial 6 for early stopping.\n"
     ]
    },
    {
     "name": "stderr",
     "output_type": "stream",
     "text": [
      "[INFO 08-09 14:27:59] ax.early_stopping.strategies.base: Last progression of Trial 6 is 0.3999466666666667.\n"
     ]
    },
    {
     "name": "stderr",
     "output_type": "stream",
     "text": [
      "[INFO 08-09 14:27:59] ax.early_stopping.strategies.percentile: Early stopping objective at last progression is:\n",
      "0    0.924426\n",
      "1    0.919765\n",
      "2    0.790812\n",
      "3    0.927625\n",
      "4    0.922909\n",
      "5    0.936341\n",
      "6    0.895719\n",
      "7    0.950981\n",
      "Name: 0.3999466666666667, dtype: float64.\n"
     ]
    },
    {
     "name": "stderr",
     "output_type": "stream",
     "text": [
      "[INFO 08-09 14:27:59] ax.early_stopping.strategies.percentile: Early stopping decision for 6: True. Reason: Trial objective value 0.8957194089889526 is worse than 70.0-th percentile (0.9273050129413605) across comparable trials.\n"
     ]
    },
    {
     "name": "stderr",
     "output_type": "stream",
     "text": [
      "[INFO 08-09 14:27:59] ax.early_stopping.strategies.percentile: Considering trial 7 for early stopping.\n"
     ]
    },
    {
     "name": "stderr",
     "output_type": "stream",
     "text": [
      "[INFO 08-09 14:27:59] ax.early_stopping.strategies.base: Last progression of Trial 7 is 0.3999466666666667.\n"
     ]
    },
    {
     "name": "stderr",
     "output_type": "stream",
     "text": [
      "[INFO 08-09 14:27:59] ax.early_stopping.strategies.percentile: Early stopping objective at last progression is:\n",
      "0    0.924426\n",
      "1    0.919765\n",
      "2    0.790812\n",
      "3    0.927625\n",
      "4    0.922909\n",
      "5    0.936341\n",
      "6    0.895719\n",
      "7    0.950981\n",
      "Name: 0.3999466666666667, dtype: float64.\n"
     ]
    },
    {
     "name": "stderr",
     "output_type": "stream",
     "text": [
      "[INFO 08-09 14:27:59] ax.early_stopping.strategies.percentile: Early stopping decision for 7: False. Reason: Trial objective value 0.9509806632995605 is better than 70.0-th percentile (0.9273050129413605) across comparable trials.\n"
     ]
    },
    {
     "name": "stderr",
     "output_type": "stream",
     "text": [
      "[INFO 08-09 14:28:00] Scheduler: Retrieved EARLY_STOPPED trials: [6].\n"
     ]
    },
    {
     "name": "stderr",
     "output_type": "stream",
     "text": [
      "/Users/mpolson64/opt/anaconda3/envs/ax-dev/lib/python3.9/site-packages/linear_operator/utils/cholesky.py:40: NumericalWarning: A not p.d., added jitter of 1.0e-08 to the diagonal\n",
      "  warnings.warn(\n",
      "[INFO 08-09 14:28:01] Scheduler: Running trials [8]...\n"
     ]
    },
    {
     "name": "stderr",
     "output_type": "stream",
     "text": [
      "[INFO 08-09 14:28:02] ax.modelbridge.torch: The observations are identical to the last set of observations used to fit the model. Skipping model fitting.\n"
     ]
    },
    {
     "name": "stderr",
     "output_type": "stream",
     "text": [
      "[INFO 08-09 14:28:02] Scheduler: Generated all trials that can be generated currently. Max parallelism currently reached.\n"
     ]
    },
    {
     "name": "stderr",
     "output_type": "stream",
     "text": [
      "[WARNING 08-09 14:28:02] Scheduler: Both `init_seconds_between_polls` and `early_stopping_strategy supplied. `init_seconds_between_polls=1` will be overrridden by `early_stopping_strategy.seconds_between_polls=10` and polling will take place at a constant rate.\n"
     ]
    },
    {
     "name": "stderr",
     "output_type": "stream",
     "text": [
      "[INFO 08-09 14:28:02] Scheduler: Fetching data for trials: [5, 7, 8] because some metrics on experiment are available while trials are running.\n"
     ]
    },
    {
     "name": "stderr",
     "output_type": "stream",
     "text": [
      "[INFO 08-09 14:28:02] ax.metrics.curve: val_acc not yet present in curves from /var/folders/w_/g_40lr6j0s98g6921f3qxcmr0000gn/T/tmpnxpj5dby/8. Returning without this metric.\n"
     ]
    },
    {
     "name": "stderr",
     "output_type": "stream",
     "text": [
      "[INFO 08-09 14:28:02] ax.core.metric: MetricFetchE INFO: Initialized MetricFetchE(message=\"DataFrame from curve series is empty\")\n"
     ]
    },
    {
     "name": "stderr",
     "output_type": "stream",
     "text": [
      "[ERROR 08-09 14:28:02] ax.core.experiment: Discovered Metric fetching Err while attaching data MetricFetchE(message=\"DataFrame from curve series is empty\"). Ignoring for now -- will retry query on next call to fetch.\n"
     ]
    },
    {
     "name": "stderr",
     "output_type": "stream",
     "text": [
      "[WARNING 08-09 14:28:02] Scheduler: Failed to fetch val_acc for trial 8, found MetricFetchE(message=\"DataFrame from curve series is empty\").\n"
     ]
    },
    {
     "name": "stderr",
     "output_type": "stream",
     "text": [
      "[INFO 08-09 14:28:02] Scheduler: MetricFetchE INFO: Because val_acc is available_while_running and trial 8 is still RUNNING continuing the experiment and retrying on next poll...\n"
     ]
    },
    {
     "name": "stderr",
     "output_type": "stream",
     "text": [
      "[INFO 08-09 14:28:02] ax.early_stopping.strategies.base: Last progression of any candidate for trial stopping is 0.3999466666666667.\n"
     ]
    },
    {
     "name": "stderr",
     "output_type": "stream",
     "text": [
      "[INFO 08-09 14:28:02] ax.early_stopping.strategies.percentile: Considering trial 8 for early stopping.\n"
     ]
    },
    {
     "name": "stderr",
     "output_type": "stream",
     "text": [
      "[INFO 08-09 14:28:02] ax.early_stopping.strategies.base: There is not yet any data associated with trial 8. Not early stopping this trial.\n"
     ]
    },
    {
     "name": "stderr",
     "output_type": "stream",
     "text": [
      "[INFO 08-09 14:28:02] ax.early_stopping.strategies.percentile: Considering trial 5 for early stopping.\n"
     ]
    },
    {
     "name": "stderr",
     "output_type": "stream",
     "text": [
      "[INFO 08-09 14:28:02] ax.early_stopping.strategies.base: Last progression of Trial 5 is 0.3999466666666667.\n"
     ]
    },
    {
     "name": "stderr",
     "output_type": "stream",
     "text": [
      "[INFO 08-09 14:28:02] ax.early_stopping.strategies.percentile: Early stopping objective at last progression is:\n",
      "0    0.924426\n",
      "1    0.919765\n",
      "2    0.790812\n",
      "3    0.927625\n",
      "4    0.922909\n",
      "5    0.936341\n",
      "6    0.895719\n",
      "7    0.950981\n",
      "Name: 0.3999466666666667, dtype: float64.\n"
     ]
    },
    {
     "name": "stderr",
     "output_type": "stream",
     "text": [
      "[INFO 08-09 14:28:02] ax.early_stopping.strategies.percentile: Early stopping decision for 5: False. Reason: Trial objective value 0.9363412857055664 is better than 70.0-th percentile (0.9273050129413605) across comparable trials.\n"
     ]
    },
    {
     "name": "stderr",
     "output_type": "stream",
     "text": [
      "[INFO 08-09 14:28:02] ax.early_stopping.strategies.percentile: Considering trial 7 for early stopping.\n"
     ]
    },
    {
     "name": "stderr",
     "output_type": "stream",
     "text": [
      "[INFO 08-09 14:28:02] ax.early_stopping.strategies.base: Last progression of Trial 7 is 0.3999466666666667.\n"
     ]
    },
    {
     "name": "stderr",
     "output_type": "stream",
     "text": [
      "[INFO 08-09 14:28:02] ax.early_stopping.strategies.percentile: Early stopping objective at last progression is:\n",
      "0    0.924426\n",
      "1    0.919765\n",
      "2    0.790812\n",
      "3    0.927625\n",
      "4    0.922909\n",
      "5    0.936341\n",
      "6    0.895719\n",
      "7    0.950981\n",
      "Name: 0.3999466666666667, dtype: float64.\n"
     ]
    },
    {
     "name": "stderr",
     "output_type": "stream",
     "text": [
      "[INFO 08-09 14:28:02] ax.early_stopping.strategies.percentile: Early stopping decision for 7: False. Reason: Trial objective value 0.9509806632995605 is better than 70.0-th percentile (0.9273050129413605) across comparable trials.\n"
     ]
    },
    {
     "name": "stderr",
     "output_type": "stream",
     "text": [
      "[INFO 08-09 14:28:02] Scheduler: Waiting for completed trials (for 10 sec, currently running trials: 3).\n"
     ]
    },
    {
     "name": "stderr",
     "output_type": "stream",
     "text": [
      "[INFO 08-09 14:28:12] Scheduler: Fetching data for trials: [5, 7, 8] because some metrics on experiment are available while trials are running.\n"
     ]
    },
    {
     "name": "stderr",
     "output_type": "stream",
     "text": [
      "[INFO 08-09 14:28:12] ax.metrics.curve: val_acc not yet present in curves from /var/folders/w_/g_40lr6j0s98g6921f3qxcmr0000gn/T/tmpnxpj5dby/8. Returning without this metric.\n"
     ]
    },
    {
     "name": "stderr",
     "output_type": "stream",
     "text": [
      "[INFO 08-09 14:28:12] ax.core.metric: MetricFetchE INFO: Initialized MetricFetchE(message=\"DataFrame from curve series is empty\")\n"
     ]
    },
    {
     "name": "stderr",
     "output_type": "stream",
     "text": [
      "[ERROR 08-09 14:28:12] ax.core.experiment: Discovered Metric fetching Err while attaching data MetricFetchE(message=\"DataFrame from curve series is empty\"). Ignoring for now -- will retry query on next call to fetch.\n"
     ]
    },
    {
     "name": "stderr",
     "output_type": "stream",
     "text": [
      "[WARNING 08-09 14:28:13] Scheduler: Failed to fetch val_acc for trial 8, found MetricFetchE(message=\"DataFrame from curve series is empty\").\n"
     ]
    },
    {
     "name": "stderr",
     "output_type": "stream",
     "text": [
      "[INFO 08-09 14:28:13] Scheduler: MetricFetchE INFO: Because val_acc is available_while_running and trial 8 is still RUNNING continuing the experiment and retrying on next poll...\n"
     ]
    },
    {
     "name": "stderr",
     "output_type": "stream",
     "text": [
      "[INFO 08-09 14:28:13] ax.early_stopping.strategies.base: Last progression of any candidate for trial stopping is 0.3999466666666667.\n"
     ]
    },
    {
     "name": "stderr",
     "output_type": "stream",
     "text": [
      "[INFO 08-09 14:28:13] ax.early_stopping.strategies.percentile: Considering trial 8 for early stopping.\n"
     ]
    },
    {
     "name": "stderr",
     "output_type": "stream",
     "text": [
      "[INFO 08-09 14:28:13] ax.early_stopping.strategies.base: There is not yet any data associated with trial 8. Not early stopping this trial.\n"
     ]
    },
    {
     "name": "stderr",
     "output_type": "stream",
     "text": [
      "[INFO 08-09 14:28:13] ax.early_stopping.strategies.percentile: Considering trial 5 for early stopping.\n"
     ]
    },
    {
     "name": "stderr",
     "output_type": "stream",
     "text": [
      "[INFO 08-09 14:28:13] ax.early_stopping.strategies.base: Last progression of Trial 5 is 0.3999466666666667.\n"
     ]
    },
    {
     "name": "stderr",
     "output_type": "stream",
     "text": [
      "[INFO 08-09 14:28:13] ax.early_stopping.strategies.percentile: Early stopping objective at last progression is:\n",
      "0    0.924426\n",
      "1    0.919765\n",
      "2    0.790812\n",
      "3    0.927625\n",
      "4    0.922909\n",
      "5    0.936341\n",
      "6    0.895719\n",
      "7    0.950981\n",
      "Name: 0.3999466666666667, dtype: float64.\n"
     ]
    },
    {
     "name": "stderr",
     "output_type": "stream",
     "text": [
      "[INFO 08-09 14:28:13] ax.early_stopping.strategies.percentile: Early stopping decision for 5: False. Reason: Trial objective value 0.9363412857055664 is better than 70.0-th percentile (0.9273050129413605) across comparable trials.\n"
     ]
    },
    {
     "name": "stderr",
     "output_type": "stream",
     "text": [
      "[INFO 08-09 14:28:13] ax.early_stopping.strategies.percentile: Considering trial 7 for early stopping.\n"
     ]
    },
    {
     "name": "stderr",
     "output_type": "stream",
     "text": [
      "[INFO 08-09 14:28:13] ax.early_stopping.strategies.base: Last progression of Trial 7 is 0.3999466666666667.\n"
     ]
    },
    {
     "name": "stderr",
     "output_type": "stream",
     "text": [
      "[INFO 08-09 14:28:13] ax.early_stopping.strategies.percentile: Early stopping objective at last progression is:\n",
      "0    0.924426\n",
      "1    0.919765\n",
      "2    0.790812\n",
      "3    0.927625\n",
      "4    0.922909\n",
      "5    0.936341\n",
      "6    0.895719\n",
      "7    0.950981\n",
      "Name: 0.3999466666666667, dtype: float64.\n"
     ]
    },
    {
     "name": "stderr",
     "output_type": "stream",
     "text": [
      "[INFO 08-09 14:28:13] ax.early_stopping.strategies.percentile: Early stopping decision for 7: False. Reason: Trial objective value 0.9509806632995605 is better than 70.0-th percentile (0.9273050129413605) across comparable trials.\n"
     ]
    },
    {
     "name": "stderr",
     "output_type": "stream",
     "text": [
      "[INFO 08-09 14:28:13] Scheduler: Waiting for completed trials (for 10 sec, currently running trials: 3).\n"
     ]
    },
    {
     "name": "stderr",
     "output_type": "stream",
     "text": [
      "[INFO 08-09 14:28:23] Scheduler: Fetching data for trials: [5, 7, 8] because some metrics on experiment are available while trials are running.\n"
     ]
    },
    {
     "name": "stderr",
     "output_type": "stream",
     "text": [
      "[INFO 08-09 14:28:23] ax.metrics.curve: val_acc not yet present in curves from /var/folders/w_/g_40lr6j0s98g6921f3qxcmr0000gn/T/tmpnxpj5dby/8. Returning without this metric.\n"
     ]
    },
    {
     "name": "stderr",
     "output_type": "stream",
     "text": [
      "[INFO 08-09 14:28:23] ax.core.metric: MetricFetchE INFO: Initialized MetricFetchE(message=\"DataFrame from curve series is empty\")\n"
     ]
    },
    {
     "name": "stderr",
     "output_type": "stream",
     "text": [
      "[ERROR 08-09 14:28:23] ax.core.experiment: Discovered Metric fetching Err while attaching data MetricFetchE(message=\"DataFrame from curve series is empty\"). Ignoring for now -- will retry query on next call to fetch.\n"
     ]
    },
    {
     "name": "stderr",
     "output_type": "stream",
     "text": [
      "[WARNING 08-09 14:28:23] Scheduler: Failed to fetch val_acc for trial 8, found MetricFetchE(message=\"DataFrame from curve series is empty\").\n"
     ]
    },
    {
     "name": "stderr",
     "output_type": "stream",
     "text": [
      "[INFO 08-09 14:28:23] Scheduler: MetricFetchE INFO: Because val_acc is available_while_running and trial 8 is still RUNNING continuing the experiment and retrying on next poll...\n"
     ]
    },
    {
     "name": "stderr",
     "output_type": "stream",
     "text": [
      "[INFO 08-09 14:28:23] ax.early_stopping.strategies.base: Last progression of any candidate for trial stopping is 0.49994666666666665.\n"
     ]
    },
    {
     "name": "stderr",
     "output_type": "stream",
     "text": [
      "[INFO 08-09 14:28:23] ax.early_stopping.strategies.percentile: Considering trial 8 for early stopping.\n"
     ]
    },
    {
     "name": "stderr",
     "output_type": "stream",
     "text": [
      "[INFO 08-09 14:28:23] ax.early_stopping.strategies.base: There is not yet any data associated with trial 8. Not early stopping this trial.\n"
     ]
    },
    {
     "name": "stderr",
     "output_type": "stream",
     "text": [
      "[INFO 08-09 14:28:23] ax.early_stopping.strategies.percentile: Considering trial 5 for early stopping.\n"
     ]
    },
    {
     "name": "stderr",
     "output_type": "stream",
     "text": [
      "[INFO 08-09 14:28:23] ax.early_stopping.strategies.base: Last progression of Trial 5 is 0.49994666666666665.\n"
     ]
    },
    {
     "name": "stderr",
     "output_type": "stream",
     "text": [
      "[INFO 08-09 14:28:23] ax.early_stopping.strategies.percentile: Early stopping objective at last progression is:\n",
      "0    0.927386\n",
      "1    0.930741\n",
      "2    0.808218\n",
      "3    0.934467\n",
      "4    0.931203\n",
      "5    0.935403\n",
      "7    0.950910\n",
      "Name: 0.49994666666666665, dtype: float64.\n"
     ]
    },
    {
     "name": "stderr",
     "output_type": "stream",
     "text": [
      "[INFO 08-09 14:28:23] ax.early_stopping.strategies.percentile: Early stopping decision for 5: False. Reason: Trial objective value 0.9354031085968018 is better than 70.0-th percentile (0.934654426574707) across comparable trials.\n"
     ]
    },
    {
     "name": "stderr",
     "output_type": "stream",
     "text": [
      "[INFO 08-09 14:28:23] ax.early_stopping.strategies.percentile: Considering trial 7 for early stopping.\n"
     ]
    },
    {
     "name": "stderr",
     "output_type": "stream",
     "text": [
      "[INFO 08-09 14:28:23] ax.early_stopping.strategies.base: Last progression of Trial 7 is 0.49994666666666665.\n"
     ]
    },
    {
     "name": "stderr",
     "output_type": "stream",
     "text": [
      "[INFO 08-09 14:28:23] ax.early_stopping.strategies.percentile: Early stopping objective at last progression is:\n",
      "0    0.927386\n",
      "1    0.930741\n",
      "2    0.808218\n",
      "3    0.934467\n",
      "4    0.931203\n",
      "5    0.935403\n",
      "7    0.950910\n",
      "Name: 0.49994666666666665, dtype: float64.\n"
     ]
    },
    {
     "name": "stderr",
     "output_type": "stream",
     "text": [
      "[INFO 08-09 14:28:23] ax.early_stopping.strategies.percentile: Early stopping decision for 7: False. Reason: Trial objective value 0.9509103298187256 is better than 70.0-th percentile (0.934654426574707) across comparable trials.\n"
     ]
    },
    {
     "name": "stderr",
     "output_type": "stream",
     "text": [
      "[INFO 08-09 14:28:23] Scheduler: Waiting for completed trials (for 10 sec, currently running trials: 3).\n"
     ]
    },
    {
     "name": "stderr",
     "output_type": "stream",
     "text": [
      "[INFO 08-09 14:28:33] Scheduler: Fetching data for trials: [5, 7, 8] because some metrics on experiment are available while trials are running.\n"
     ]
    },
    {
     "name": "stderr",
     "output_type": "stream",
     "text": [
      "[INFO 08-09 14:28:33] ax.early_stopping.strategies.base: Last progression of any candidate for trial stopping is 0.49994666666666665.\n"
     ]
    },
    {
     "name": "stderr",
     "output_type": "stream",
     "text": [
      "[INFO 08-09 14:28:33] ax.early_stopping.utils: Got exception `x and y arrays must have at least 2 entries` during interpolation. Using uninterpolated values instead.\n"
     ]
    },
    {
     "name": "stderr",
     "output_type": "stream",
     "text": [
      "[INFO 08-09 14:28:33] ax.early_stopping.strategies.percentile: Considering trial 8 for early stopping.\n"
     ]
    },
    {
     "name": "stderr",
     "output_type": "stream",
     "text": [
      "[INFO 08-09 14:28:33] ax.early_stopping.strategies.base: Last progression of Trial 8 is 0.09994666666666667.\n"
     ]
    },
    {
     "name": "stderr",
     "output_type": "stream",
     "text": [
      "[INFO 08-09 14:28:33] ax.early_stopping.strategies.base: Trial 8's most recent progression (0.09994666666666667) falls out of the min/max_progression range (0.3, None). Not early stopping this trial.\n"
     ]
    },
    {
     "name": "stderr",
     "output_type": "stream",
     "text": [
      "[INFO 08-09 14:28:33] ax.early_stopping.strategies.percentile: Considering trial 5 for early stopping.\n"
     ]
    },
    {
     "name": "stderr",
     "output_type": "stream",
     "text": [
      "[INFO 08-09 14:28:33] ax.early_stopping.strategies.base: Last progression of Trial 5 is 0.49994666666666665.\n"
     ]
    },
    {
     "name": "stderr",
     "output_type": "stream",
     "text": [
      "[INFO 08-09 14:28:33] ax.early_stopping.strategies.percentile: Early stopping objective at last progression is:\n",
      "0    0.927386\n",
      "1    0.930741\n",
      "2    0.808218\n",
      "3    0.934467\n",
      "4    0.931203\n",
      "5    0.935403\n",
      "7    0.950910\n",
      "Name: 0.49994666666666665, dtype: float64.\n"
     ]
    },
    {
     "name": "stderr",
     "output_type": "stream",
     "text": [
      "[INFO 08-09 14:28:33] ax.early_stopping.strategies.percentile: Early stopping decision for 5: False. Reason: Trial objective value 0.9354031085968018 is better than 70.0-th percentile (0.934654426574707) across comparable trials.\n"
     ]
    },
    {
     "name": "stderr",
     "output_type": "stream",
     "text": [
      "[INFO 08-09 14:28:33] ax.early_stopping.strategies.percentile: Considering trial 7 for early stopping.\n"
     ]
    },
    {
     "name": "stderr",
     "output_type": "stream",
     "text": [
      "[INFO 08-09 14:28:33] ax.early_stopping.strategies.base: Last progression of Trial 7 is 0.49994666666666665.\n"
     ]
    },
    {
     "name": "stderr",
     "output_type": "stream",
     "text": [
      "[INFO 08-09 14:28:33] ax.early_stopping.strategies.percentile: Early stopping objective at last progression is:\n",
      "0    0.927386\n",
      "1    0.930741\n",
      "2    0.808218\n",
      "3    0.934467\n",
      "4    0.931203\n",
      "5    0.935403\n",
      "7    0.950910\n",
      "Name: 0.49994666666666665, dtype: float64.\n"
     ]
    },
    {
     "name": "stderr",
     "output_type": "stream",
     "text": [
      "[INFO 08-09 14:28:33] ax.early_stopping.strategies.percentile: Early stopping decision for 7: False. Reason: Trial objective value 0.9509103298187256 is better than 70.0-th percentile (0.934654426574707) across comparable trials.\n"
     ]
    },
    {
     "name": "stderr",
     "output_type": "stream",
     "text": [
      "[INFO 08-09 14:28:33] Scheduler: Waiting for completed trials (for 10 sec, currently running trials: 3).\n"
     ]
    },
    {
     "name": "stderr",
     "output_type": "stream",
     "text": [
      "[INFO 08-09 14:28:43] Scheduler: Fetching data for trials: [5, 7, 8] because some metrics on experiment are available while trials are running.\n"
     ]
    },
    {
     "name": "stderr",
     "output_type": "stream",
     "text": [
      "[INFO 08-09 14:28:43] ax.early_stopping.strategies.base: Last progression of any candidate for trial stopping is 0.5999466666666666.\n"
     ]
    },
    {
     "name": "stderr",
     "output_type": "stream",
     "text": [
      "[INFO 08-09 14:28:43] ax.early_stopping.utils: Got exception `x and y arrays must have at least 2 entries` during interpolation. Using uninterpolated values instead.\n"
     ]
    },
    {
     "name": "stderr",
     "output_type": "stream",
     "text": [
      "[INFO 08-09 14:28:43] ax.early_stopping.strategies.percentile: Considering trial 8 for early stopping.\n"
     ]
    },
    {
     "name": "stderr",
     "output_type": "stream",
     "text": [
      "[INFO 08-09 14:28:43] ax.early_stopping.strategies.base: Last progression of Trial 8 is 0.09994666666666667.\n"
     ]
    },
    {
     "name": "stderr",
     "output_type": "stream",
     "text": [
      "[INFO 08-09 14:28:43] ax.early_stopping.strategies.base: Trial 8's most recent progression (0.09994666666666667) falls out of the min/max_progression range (0.3, None). Not early stopping this trial.\n"
     ]
    },
    {
     "name": "stderr",
     "output_type": "stream",
     "text": [
      "[INFO 08-09 14:28:43] ax.early_stopping.strategies.percentile: Considering trial 5 for early stopping.\n"
     ]
    },
    {
     "name": "stderr",
     "output_type": "stream",
     "text": [
      "[INFO 08-09 14:28:43] ax.early_stopping.strategies.base: Last progression of Trial 5 is 0.5999466666666666.\n"
     ]
    },
    {
     "name": "stderr",
     "output_type": "stream",
     "text": [
      "[INFO 08-09 14:28:43] ax.early_stopping.strategies.percentile: Early stopping objective at last progression is:\n",
      "0    0.928987\n",
      "1    0.928144\n",
      "2    0.808475\n",
      "3    0.934863\n",
      "4    0.932743\n",
      "5    0.934730\n",
      "7    0.950978\n",
      "Name: 0.5999466666666666, dtype: float64.\n"
     ]
    },
    {
     "name": "stderr",
     "output_type": "stream",
     "text": [
      "[INFO 08-09 14:28:43] ax.early_stopping.strategies.percentile: Early stopping decision for 5: True. Reason: Trial objective value 0.9347304701805115 is worse than 70.0-th percentile (0.9347569346427917) across comparable trials.\n"
     ]
    },
    {
     "name": "stderr",
     "output_type": "stream",
     "text": [
      "[INFO 08-09 14:28:43] ax.early_stopping.strategies.percentile: Considering trial 7 for early stopping.\n"
     ]
    },
    {
     "name": "stderr",
     "output_type": "stream",
     "text": [
      "[INFO 08-09 14:28:43] ax.early_stopping.strategies.base: Last progression of Trial 7 is 0.5999466666666666.\n"
     ]
    },
    {
     "name": "stderr",
     "output_type": "stream",
     "text": [
      "[INFO 08-09 14:28:43] ax.early_stopping.strategies.percentile: Early stopping objective at last progression is:\n",
      "0    0.928987\n",
      "1    0.928144\n",
      "2    0.808475\n",
      "3    0.934863\n",
      "4    0.932743\n",
      "5    0.934730\n",
      "7    0.950978\n",
      "Name: 0.5999466666666666, dtype: float64.\n"
     ]
    },
    {
     "name": "stderr",
     "output_type": "stream",
     "text": [
      "[INFO 08-09 14:28:43] ax.early_stopping.strategies.percentile: Early stopping decision for 7: False. Reason: Trial objective value 0.950977623462677 is better than 70.0-th percentile (0.9347569346427917) across comparable trials.\n"
     ]
    },
    {
     "name": "stderr",
     "output_type": "stream",
     "text": [
      "[INFO 08-09 14:28:44] Scheduler: Retrieved EARLY_STOPPED trials: [5].\n"
     ]
    },
    {
     "name": "stderr",
     "output_type": "stream",
     "text": [
      "/Users/mpolson64/opt/anaconda3/envs/ax-dev/lib/python3.9/site-packages/linear_operator/utils/cholesky.py:40: NumericalWarning: A not p.d., added jitter of 1.0e-08 to the diagonal\n",
      "  warnings.warn(\n",
      "[INFO 08-09 14:28:46] Scheduler: Running trials [9]...\n"
     ]
    },
    {
     "name": "stderr",
     "output_type": "stream",
     "text": [
      "[INFO 08-09 14:28:47] ax.modelbridge.torch: The observations are identical to the last set of observations used to fit the model. Skipping model fitting.\n"
     ]
    },
    {
     "name": "stderr",
     "output_type": "stream",
     "text": [
      "[INFO 08-09 14:28:47] Scheduler: Generated all trials that can be generated currently. Max parallelism currently reached.\n"
     ]
    },
    {
     "name": "stderr",
     "output_type": "stream",
     "text": [
      "[WARNING 08-09 14:28:47] Scheduler: Both `init_seconds_between_polls` and `early_stopping_strategy supplied. `init_seconds_between_polls=1` will be overrridden by `early_stopping_strategy.seconds_between_polls=10` and polling will take place at a constant rate.\n"
     ]
    },
    {
     "name": "stderr",
     "output_type": "stream",
     "text": [
      "[INFO 08-09 14:28:47] Scheduler: Fetching data for trials: 7 - 9 because some metrics on experiment are available while trials are running.\n"
     ]
    },
    {
     "name": "stderr",
     "output_type": "stream",
     "text": [
      "[INFO 08-09 14:28:47] ax.metrics.curve: val_acc not yet present in curves from /var/folders/w_/g_40lr6j0s98g6921f3qxcmr0000gn/T/tmpnxpj5dby/9. Returning without this metric.\n"
     ]
    },
    {
     "name": "stderr",
     "output_type": "stream",
     "text": [
      "[INFO 08-09 14:28:47] ax.core.metric: MetricFetchE INFO: Initialized MetricFetchE(message=\"DataFrame from curve series is empty\")\n"
     ]
    },
    {
     "name": "stderr",
     "output_type": "stream",
     "text": [
      "[ERROR 08-09 14:28:47] ax.core.experiment: Discovered Metric fetching Err while attaching data MetricFetchE(message=\"DataFrame from curve series is empty\"). Ignoring for now -- will retry query on next call to fetch.\n"
     ]
    },
    {
     "name": "stderr",
     "output_type": "stream",
     "text": [
      "[WARNING 08-09 14:28:47] Scheduler: Failed to fetch val_acc for trial 9, found MetricFetchE(message=\"DataFrame from curve series is empty\").\n"
     ]
    },
    {
     "name": "stderr",
     "output_type": "stream",
     "text": [
      "[INFO 08-09 14:28:47] Scheduler: MetricFetchE INFO: Because val_acc is available_while_running and trial 9 is still RUNNING continuing the experiment and retrying on next poll...\n"
     ]
    },
    {
     "name": "stderr",
     "output_type": "stream",
     "text": [
      "[INFO 08-09 14:28:47] ax.early_stopping.strategies.base: Last progression of any candidate for trial stopping is 0.5999466666666666.\n"
     ]
    },
    {
     "name": "stderr",
     "output_type": "stream",
     "text": [
      "[INFO 08-09 14:28:47] ax.early_stopping.utils: Got exception `x and y arrays must have at least 2 entries` during interpolation. Using uninterpolated values instead.\n"
     ]
    },
    {
     "name": "stderr",
     "output_type": "stream",
     "text": [
      "[INFO 08-09 14:28:47] ax.early_stopping.strategies.percentile: Considering trial 8 for early stopping.\n"
     ]
    },
    {
     "name": "stderr",
     "output_type": "stream",
     "text": [
      "[INFO 08-09 14:28:47] ax.early_stopping.strategies.base: Last progression of Trial 8 is 0.09994666666666667.\n"
     ]
    },
    {
     "name": "stderr",
     "output_type": "stream",
     "text": [
      "[INFO 08-09 14:28:47] ax.early_stopping.strategies.base: Trial 8's most recent progression (0.09994666666666667) falls out of the min/max_progression range (0.3, None). Not early stopping this trial.\n"
     ]
    },
    {
     "name": "stderr",
     "output_type": "stream",
     "text": [
      "[INFO 08-09 14:28:47] ax.early_stopping.strategies.percentile: Considering trial 9 for early stopping.\n"
     ]
    },
    {
     "name": "stderr",
     "output_type": "stream",
     "text": [
      "[INFO 08-09 14:28:47] ax.early_stopping.strategies.base: There is not yet any data associated with trial 9. Not early stopping this trial.\n"
     ]
    },
    {
     "name": "stderr",
     "output_type": "stream",
     "text": [
      "[INFO 08-09 14:28:47] ax.early_stopping.strategies.percentile: Considering trial 7 for early stopping.\n"
     ]
    },
    {
     "name": "stderr",
     "output_type": "stream",
     "text": [
      "[INFO 08-09 14:28:47] ax.early_stopping.strategies.base: Last progression of Trial 7 is 0.5999466666666666.\n"
     ]
    },
    {
     "name": "stderr",
     "output_type": "stream",
     "text": [
      "[INFO 08-09 14:28:47] ax.early_stopping.strategies.percentile: Early stopping objective at last progression is:\n",
      "0    0.928987\n",
      "1    0.928144\n",
      "2    0.808475\n",
      "3    0.934863\n",
      "4    0.932743\n",
      "5    0.934730\n",
      "7    0.950978\n",
      "Name: 0.5999466666666666, dtype: float64.\n"
     ]
    },
    {
     "name": "stderr",
     "output_type": "stream",
     "text": [
      "[INFO 08-09 14:28:47] ax.early_stopping.strategies.percentile: Early stopping decision for 7: False. Reason: Trial objective value 0.950977623462677 is better than 70.0-th percentile (0.9347569346427917) across comparable trials.\n"
     ]
    },
    {
     "name": "stderr",
     "output_type": "stream",
     "text": [
      "[INFO 08-09 14:28:47] Scheduler: Waiting for completed trials (for 10 sec, currently running trials: 3).\n"
     ]
    },
    {
     "name": "stderr",
     "output_type": "stream",
     "text": [
      "[INFO 08-09 14:28:57] Scheduler: Fetching data for trials: 7 - 9 because some metrics on experiment are available while trials are running.\n"
     ]
    },
    {
     "name": "stderr",
     "output_type": "stream",
     "text": [
      "[INFO 08-09 14:28:57] ax.metrics.curve: val_acc not yet present in curves from /var/folders/w_/g_40lr6j0s98g6921f3qxcmr0000gn/T/tmpnxpj5dby/9. Returning without this metric.\n"
     ]
    },
    {
     "name": "stderr",
     "output_type": "stream",
     "text": [
      "[INFO 08-09 14:28:57] ax.core.metric: MetricFetchE INFO: Initialized MetricFetchE(message=\"DataFrame from curve series is empty\")\n"
     ]
    },
    {
     "name": "stderr",
     "output_type": "stream",
     "text": [
      "[ERROR 08-09 14:28:57] ax.core.experiment: Discovered Metric fetching Err while attaching data MetricFetchE(message=\"DataFrame from curve series is empty\"). Ignoring for now -- will retry query on next call to fetch.\n"
     ]
    },
    {
     "name": "stderr",
     "output_type": "stream",
     "text": [
      "[WARNING 08-09 14:28:57] Scheduler: Failed to fetch val_acc for trial 9, found MetricFetchE(message=\"DataFrame from curve series is empty\").\n"
     ]
    },
    {
     "name": "stderr",
     "output_type": "stream",
     "text": [
      "[INFO 08-09 14:28:57] Scheduler: MetricFetchE INFO: Because val_acc is available_while_running and trial 9 is still RUNNING continuing the experiment and retrying on next poll...\n"
     ]
    },
    {
     "name": "stderr",
     "output_type": "stream",
     "text": [
      "[INFO 08-09 14:28:57] ax.early_stopping.strategies.base: Last progression of any candidate for trial stopping is 0.5999466666666666.\n"
     ]
    },
    {
     "name": "stderr",
     "output_type": "stream",
     "text": [
      "[INFO 08-09 14:28:57] ax.early_stopping.strategies.percentile: Considering trial 8 for early stopping.\n"
     ]
    },
    {
     "name": "stderr",
     "output_type": "stream",
     "text": [
      "[INFO 08-09 14:28:57] ax.early_stopping.strategies.base: Last progression of Trial 8 is 0.19994666666666666.\n"
     ]
    },
    {
     "name": "stderr",
     "output_type": "stream",
     "text": [
      "[INFO 08-09 14:28:57] ax.early_stopping.strategies.base: Trial 8's most recent progression (0.19994666666666666) falls out of the min/max_progression range (0.3, None). Not early stopping this trial.\n"
     ]
    },
    {
     "name": "stderr",
     "output_type": "stream",
     "text": [
      "[INFO 08-09 14:28:57] ax.early_stopping.strategies.percentile: Considering trial 9 for early stopping.\n"
     ]
    },
    {
     "name": "stderr",
     "output_type": "stream",
     "text": [
      "[INFO 08-09 14:28:57] ax.early_stopping.strategies.base: There is not yet any data associated with trial 9. Not early stopping this trial.\n"
     ]
    },
    {
     "name": "stderr",
     "output_type": "stream",
     "text": [
      "[INFO 08-09 14:28:57] ax.early_stopping.strategies.percentile: Considering trial 7 for early stopping.\n"
     ]
    },
    {
     "name": "stderr",
     "output_type": "stream",
     "text": [
      "[INFO 08-09 14:28:57] ax.early_stopping.strategies.base: Last progression of Trial 7 is 0.5999466666666666.\n"
     ]
    },
    {
     "name": "stderr",
     "output_type": "stream",
     "text": [
      "[INFO 08-09 14:28:57] ax.early_stopping.strategies.percentile: Early stopping objective at last progression is:\n",
      "0    0.928987\n",
      "1    0.928144\n",
      "2    0.808475\n",
      "3    0.934863\n",
      "4    0.932743\n",
      "5    0.934730\n",
      "7    0.950978\n",
      "Name: 0.5999466666666666, dtype: float64.\n"
     ]
    },
    {
     "name": "stderr",
     "output_type": "stream",
     "text": [
      "[INFO 08-09 14:28:57] ax.early_stopping.strategies.percentile: Early stopping decision for 7: False. Reason: Trial objective value 0.950977623462677 is better than 70.0-th percentile (0.9347569346427917) across comparable trials.\n"
     ]
    },
    {
     "name": "stderr",
     "output_type": "stream",
     "text": [
      "[INFO 08-09 14:28:57] Scheduler: Waiting for completed trials (for 10 sec, currently running trials: 3).\n"
     ]
    },
    {
     "name": "stderr",
     "output_type": "stream",
     "text": [
      "[INFO 08-09 14:29:07] Scheduler: Fetching data for trials: 7 - 9 because some metrics on experiment are available while trials are running.\n"
     ]
    },
    {
     "name": "stderr",
     "output_type": "stream",
     "text": [
      "[INFO 08-09 14:29:07] ax.metrics.curve: val_acc not yet present in curves from /var/folders/w_/g_40lr6j0s98g6921f3qxcmr0000gn/T/tmpnxpj5dby/9. Returning without this metric.\n"
     ]
    },
    {
     "name": "stderr",
     "output_type": "stream",
     "text": [
      "[INFO 08-09 14:29:07] ax.core.metric: MetricFetchE INFO: Initialized MetricFetchE(message=\"DataFrame from curve series is empty\")\n"
     ]
    },
    {
     "name": "stderr",
     "output_type": "stream",
     "text": [
      "[ERROR 08-09 14:29:07] ax.core.experiment: Discovered Metric fetching Err while attaching data MetricFetchE(message=\"DataFrame from curve series is empty\"). Ignoring for now -- will retry query on next call to fetch.\n"
     ]
    },
    {
     "name": "stderr",
     "output_type": "stream",
     "text": [
      "[WARNING 08-09 14:29:07] Scheduler: Failed to fetch val_acc for trial 9, found MetricFetchE(message=\"DataFrame from curve series is empty\").\n"
     ]
    },
    {
     "name": "stderr",
     "output_type": "stream",
     "text": [
      "[INFO 08-09 14:29:07] Scheduler: MetricFetchE INFO: Because val_acc is available_while_running and trial 9 is still RUNNING continuing the experiment and retrying on next poll...\n"
     ]
    },
    {
     "name": "stderr",
     "output_type": "stream",
     "text": [
      "[INFO 08-09 14:29:07] ax.early_stopping.strategies.base: Last progression of any candidate for trial stopping is 0.6999466666666667.\n"
     ]
    },
    {
     "name": "stderr",
     "output_type": "stream",
     "text": [
      "[INFO 08-09 14:29:07] ax.early_stopping.strategies.percentile: Considering trial 8 for early stopping.\n"
     ]
    },
    {
     "name": "stderr",
     "output_type": "stream",
     "text": [
      "[INFO 08-09 14:29:07] ax.early_stopping.strategies.base: Last progression of Trial 8 is 0.19994666666666666.\n"
     ]
    },
    {
     "name": "stderr",
     "output_type": "stream",
     "text": [
      "[INFO 08-09 14:29:07] ax.early_stopping.strategies.base: Trial 8's most recent progression (0.19994666666666666) falls out of the min/max_progression range (0.3, None). Not early stopping this trial.\n"
     ]
    },
    {
     "name": "stderr",
     "output_type": "stream",
     "text": [
      "[INFO 08-09 14:29:07] ax.early_stopping.strategies.percentile: Considering trial 9 for early stopping.\n"
     ]
    },
    {
     "name": "stderr",
     "output_type": "stream",
     "text": [
      "[INFO 08-09 14:29:07] ax.early_stopping.strategies.base: There is not yet any data associated with trial 9. Not early stopping this trial.\n"
     ]
    },
    {
     "name": "stderr",
     "output_type": "stream",
     "text": [
      "[INFO 08-09 14:29:07] ax.early_stopping.strategies.percentile: Considering trial 7 for early stopping.\n"
     ]
    },
    {
     "name": "stderr",
     "output_type": "stream",
     "text": [
      "[INFO 08-09 14:29:07] ax.early_stopping.strategies.base: Last progression of Trial 7 is 0.6999466666666667.\n"
     ]
    },
    {
     "name": "stderr",
     "output_type": "stream",
     "text": [
      "[INFO 08-09 14:29:07] ax.early_stopping.strategies.percentile: Early stopping objective at last progression is:\n",
      "0    0.931204\n",
      "1    0.933209\n",
      "2    0.811314\n",
      "3    0.937206\n",
      "4    0.920759\n",
      "7    0.951094\n",
      "Name: 0.6999466666666667, dtype: float64.\n"
     ]
    },
    {
     "name": "stderr",
     "output_type": "stream",
     "text": [
      "[INFO 08-09 14:29:07] ax.early_stopping.strategies.percentile: Early stopping decision for 7: False. Reason: Trial objective value 0.9510944485664368 is better than 70.0-th percentile (0.9352076649665833) across comparable trials.\n"
     ]
    },
    {
     "name": "stderr",
     "output_type": "stream",
     "text": [
      "[INFO 08-09 14:29:07] Scheduler: Waiting for completed trials (for 10 sec, currently running trials: 3).\n"
     ]
    },
    {
     "name": "stderr",
     "output_type": "stream",
     "text": [
      "[INFO 08-09 14:29:17] Scheduler: Fetching data for trials: 7 - 9 because some metrics on experiment are available while trials are running.\n"
     ]
    },
    {
     "name": "stderr",
     "output_type": "stream",
     "text": [
      "[INFO 08-09 14:29:17] ax.metrics.curve: val_acc not yet present in curves from /var/folders/w_/g_40lr6j0s98g6921f3qxcmr0000gn/T/tmpnxpj5dby/9. Returning without this metric.\n"
     ]
    },
    {
     "name": "stderr",
     "output_type": "stream",
     "text": [
      "[INFO 08-09 14:29:17] ax.core.metric: MetricFetchE INFO: Initialized MetricFetchE(message=\"DataFrame from curve series is empty\")\n"
     ]
    },
    {
     "name": "stderr",
     "output_type": "stream",
     "text": [
      "[ERROR 08-09 14:29:17] ax.core.experiment: Discovered Metric fetching Err while attaching data MetricFetchE(message=\"DataFrame from curve series is empty\"). Ignoring for now -- will retry query on next call to fetch.\n"
     ]
    },
    {
     "name": "stderr",
     "output_type": "stream",
     "text": [
      "[WARNING 08-09 14:29:17] Scheduler: Failed to fetch val_acc for trial 9, found MetricFetchE(message=\"DataFrame from curve series is empty\").\n"
     ]
    },
    {
     "name": "stderr",
     "output_type": "stream",
     "text": [
      "[INFO 08-09 14:29:17] Scheduler: MetricFetchE INFO: Because val_acc is available_while_running and trial 9 is still RUNNING continuing the experiment and retrying on next poll...\n"
     ]
    },
    {
     "name": "stderr",
     "output_type": "stream",
     "text": [
      "[INFO 08-09 14:29:17] ax.early_stopping.strategies.base: Last progression of any candidate for trial stopping is 0.6999466666666667.\n"
     ]
    },
    {
     "name": "stderr",
     "output_type": "stream",
     "text": [
      "[INFO 08-09 14:29:17] ax.early_stopping.strategies.percentile: Considering trial 8 for early stopping.\n"
     ]
    },
    {
     "name": "stderr",
     "output_type": "stream",
     "text": [
      "[INFO 08-09 14:29:17] ax.early_stopping.strategies.base: Last progression of Trial 8 is 0.19994666666666666.\n"
     ]
    },
    {
     "name": "stderr",
     "output_type": "stream",
     "text": [
      "[INFO 08-09 14:29:17] ax.early_stopping.strategies.base: Trial 8's most recent progression (0.19994666666666666) falls out of the min/max_progression range (0.3, None). Not early stopping this trial.\n"
     ]
    },
    {
     "name": "stderr",
     "output_type": "stream",
     "text": [
      "[INFO 08-09 14:29:17] ax.early_stopping.strategies.percentile: Considering trial 9 for early stopping.\n"
     ]
    },
    {
     "name": "stderr",
     "output_type": "stream",
     "text": [
      "[INFO 08-09 14:29:17] ax.early_stopping.strategies.base: There is not yet any data associated with trial 9. Not early stopping this trial.\n"
     ]
    },
    {
     "name": "stderr",
     "output_type": "stream",
     "text": [
      "[INFO 08-09 14:29:17] ax.early_stopping.strategies.percentile: Considering trial 7 for early stopping.\n"
     ]
    },
    {
     "name": "stderr",
     "output_type": "stream",
     "text": [
      "[INFO 08-09 14:29:17] ax.early_stopping.strategies.base: Last progression of Trial 7 is 0.6999466666666667.\n"
     ]
    },
    {
     "name": "stderr",
     "output_type": "stream",
     "text": [
      "[INFO 08-09 14:29:17] ax.early_stopping.strategies.percentile: Early stopping objective at last progression is:\n",
      "0    0.931204\n",
      "1    0.933209\n",
      "2    0.811314\n",
      "3    0.937206\n",
      "4    0.920759\n",
      "7    0.951094\n",
      "Name: 0.6999466666666667, dtype: float64.\n"
     ]
    },
    {
     "name": "stderr",
     "output_type": "stream",
     "text": [
      "[INFO 08-09 14:29:17] ax.early_stopping.strategies.percentile: Early stopping decision for 7: False. Reason: Trial objective value 0.9510944485664368 is better than 70.0-th percentile (0.9352076649665833) across comparable trials.\n"
     ]
    },
    {
     "name": "stderr",
     "output_type": "stream",
     "text": [
      "[INFO 08-09 14:29:17] Scheduler: Waiting for completed trials (for 10 sec, currently running trials: 3).\n"
     ]
    },
    {
     "name": "stderr",
     "output_type": "stream",
     "text": [
      "[INFO 08-09 14:29:27] Scheduler: Fetching data for trials: 7 - 9 because some metrics on experiment are available while trials are running.\n"
     ]
    },
    {
     "name": "stderr",
     "output_type": "stream",
     "text": [
      "[INFO 08-09 14:29:27] ax.early_stopping.strategies.base: Last progression of any candidate for trial stopping is 0.6999466666666667.\n"
     ]
    },
    {
     "name": "stderr",
     "output_type": "stream",
     "text": [
      "[INFO 08-09 14:29:27] ax.early_stopping.utils: Got exception `x and y arrays must have at least 2 entries` during interpolation. Using uninterpolated values instead.\n"
     ]
    },
    {
     "name": "stderr",
     "output_type": "stream",
     "text": [
      "[INFO 08-09 14:29:27] ax.early_stopping.strategies.percentile: Considering trial 8 for early stopping.\n"
     ]
    },
    {
     "name": "stderr",
     "output_type": "stream",
     "text": [
      "[INFO 08-09 14:29:27] ax.early_stopping.strategies.base: Last progression of Trial 8 is 0.29994666666666664.\n"
     ]
    },
    {
     "name": "stderr",
     "output_type": "stream",
     "text": [
      "[INFO 08-09 14:29:27] ax.early_stopping.strategies.base: Trial 8's most recent progression (0.29994666666666664) falls out of the min/max_progression range (0.3, None). Not early stopping this trial.\n"
     ]
    },
    {
     "name": "stderr",
     "output_type": "stream",
     "text": [
      "[INFO 08-09 14:29:27] ax.early_stopping.strategies.percentile: Considering trial 9 for early stopping.\n"
     ]
    },
    {
     "name": "stderr",
     "output_type": "stream",
     "text": [
      "[INFO 08-09 14:29:27] ax.early_stopping.strategies.base: Last progression of Trial 9 is 0.09994666666666667.\n"
     ]
    },
    {
     "name": "stderr",
     "output_type": "stream",
     "text": [
      "[INFO 08-09 14:29:27] ax.early_stopping.strategies.base: Trial 9's most recent progression (0.09994666666666667) falls out of the min/max_progression range (0.3, None). Not early stopping this trial.\n"
     ]
    },
    {
     "name": "stderr",
     "output_type": "stream",
     "text": [
      "[INFO 08-09 14:29:27] ax.early_stopping.strategies.percentile: Considering trial 7 for early stopping.\n"
     ]
    },
    {
     "name": "stderr",
     "output_type": "stream",
     "text": [
      "[INFO 08-09 14:29:27] ax.early_stopping.strategies.base: Last progression of Trial 7 is 0.6999466666666667.\n"
     ]
    },
    {
     "name": "stderr",
     "output_type": "stream",
     "text": [
      "[INFO 08-09 14:29:27] ax.early_stopping.strategies.percentile: Early stopping objective at last progression is:\n",
      "0    0.931204\n",
      "1    0.933209\n",
      "2    0.811314\n",
      "3    0.937206\n",
      "4    0.920759\n",
      "7    0.951094\n",
      "Name: 0.6999466666666667, dtype: float64.\n"
     ]
    },
    {
     "name": "stderr",
     "output_type": "stream",
     "text": [
      "[INFO 08-09 14:29:27] ax.early_stopping.strategies.percentile: Early stopping decision for 7: False. Reason: Trial objective value 0.9510944485664368 is better than 70.0-th percentile (0.9352076649665833) across comparable trials.\n"
     ]
    },
    {
     "name": "stderr",
     "output_type": "stream",
     "text": [
      "[INFO 08-09 14:29:27] Scheduler: Waiting for completed trials (for 10 sec, currently running trials: 3).\n"
     ]
    },
    {
     "name": "stderr",
     "output_type": "stream",
     "text": [
      "[INFO 08-09 14:29:37] Scheduler: Fetching data for trials: 7 - 9 because some metrics on experiment are available while trials are running.\n"
     ]
    },
    {
     "name": "stderr",
     "output_type": "stream",
     "text": [
      "[INFO 08-09 14:29:37] ax.early_stopping.strategies.base: Last progression of any candidate for trial stopping is 0.7999466666666667.\n"
     ]
    },
    {
     "name": "stderr",
     "output_type": "stream",
     "text": [
      "[INFO 08-09 14:29:38] ax.early_stopping.utils: Got exception `x and y arrays must have at least 2 entries` during interpolation. Using uninterpolated values instead.\n"
     ]
    },
    {
     "name": "stderr",
     "output_type": "stream",
     "text": [
      "[INFO 08-09 14:29:38] ax.early_stopping.strategies.percentile: Considering trial 8 for early stopping.\n"
     ]
    },
    {
     "name": "stderr",
     "output_type": "stream",
     "text": [
      "[INFO 08-09 14:29:38] ax.early_stopping.strategies.base: Last progression of Trial 8 is 0.29994666666666664.\n"
     ]
    },
    {
     "name": "stderr",
     "output_type": "stream",
     "text": [
      "[INFO 08-09 14:29:38] ax.early_stopping.strategies.base: Trial 8's most recent progression (0.29994666666666664) falls out of the min/max_progression range (0.3, None). Not early stopping this trial.\n"
     ]
    },
    {
     "name": "stderr",
     "output_type": "stream",
     "text": [
      "[INFO 08-09 14:29:38] ax.early_stopping.strategies.percentile: Considering trial 9 for early stopping.\n"
     ]
    },
    {
     "name": "stderr",
     "output_type": "stream",
     "text": [
      "[INFO 08-09 14:29:38] ax.early_stopping.strategies.base: Last progression of Trial 9 is 0.09994666666666667.\n"
     ]
    },
    {
     "name": "stderr",
     "output_type": "stream",
     "text": [
      "[INFO 08-09 14:29:38] ax.early_stopping.strategies.base: Trial 9's most recent progression (0.09994666666666667) falls out of the min/max_progression range (0.3, None). Not early stopping this trial.\n"
     ]
    },
    {
     "name": "stderr",
     "output_type": "stream",
     "text": [
      "[INFO 08-09 14:29:38] ax.early_stopping.strategies.percentile: Considering trial 7 for early stopping.\n"
     ]
    },
    {
     "name": "stderr",
     "output_type": "stream",
     "text": [
      "[INFO 08-09 14:29:38] ax.early_stopping.strategies.base: Last progression of Trial 7 is 0.7999466666666667.\n"
     ]
    },
    {
     "name": "stderr",
     "output_type": "stream",
     "text": [
      "[INFO 08-09 14:29:38] ax.early_stopping.strategies.percentile: Early stopping objective at last progression is:\n",
      "0    0.933642\n",
      "1    0.926650\n",
      "2    0.836528\n",
      "3    0.938943\n",
      "4    0.931791\n",
      "7    0.950890\n",
      "Name: 0.7999466666666667, dtype: float64.\n"
     ]
    },
    {
     "name": "stderr",
     "output_type": "stream",
     "text": [
      "[INFO 08-09 14:29:38] ax.early_stopping.strategies.percentile: Early stopping decision for 7: False. Reason: Trial objective value 0.9508902430534363 is better than 70.0-th percentile (0.9362925291061401) across comparable trials.\n"
     ]
    },
    {
     "name": "stderr",
     "output_type": "stream",
     "text": [
      "[INFO 08-09 14:29:38] Scheduler: Waiting for completed trials (for 10 sec, currently running trials: 3).\n"
     ]
    },
    {
     "name": "stderr",
     "output_type": "stream",
     "text": [
      "[INFO 08-09 14:29:48] Scheduler: Fetching data for trials: 7 - 9 because some metrics on experiment are available while trials are running.\n"
     ]
    },
    {
     "name": "stderr",
     "output_type": "stream",
     "text": [
      "[INFO 08-09 14:29:48] ax.early_stopping.strategies.base: Last progression of any candidate for trial stopping is 0.7999466666666667.\n"
     ]
    },
    {
     "name": "stderr",
     "output_type": "stream",
     "text": [
      "[INFO 08-09 14:29:48] ax.early_stopping.strategies.percentile: Considering trial 8 for early stopping.\n"
     ]
    },
    {
     "name": "stderr",
     "output_type": "stream",
     "text": [
      "[INFO 08-09 14:29:48] ax.early_stopping.strategies.base: Last progression of Trial 8 is 0.3999466666666667.\n"
     ]
    },
    {
     "name": "stderr",
     "output_type": "stream",
     "text": [
      "[INFO 08-09 14:29:48] ax.early_stopping.strategies.percentile: Early stopping objective at last progression is:\n",
      "0    0.924426\n",
      "1    0.919765\n",
      "2    0.790812\n",
      "3    0.927625\n",
      "4    0.922909\n",
      "5    0.936341\n",
      "6    0.895719\n",
      "7    0.950981\n",
      "8    0.949285\n",
      "Name: 0.3999466666666667, dtype: float64.\n"
     ]
    },
    {
     "name": "stderr",
     "output_type": "stream",
     "text": [
      "[INFO 08-09 14:29:48] ax.early_stopping.strategies.percentile: Early stopping decision for 8: False. Reason: Trial objective value 0.9492846727371216 is better than 70.0-th percentile (0.9328547239303588) across comparable trials.\n"
     ]
    },
    {
     "name": "stderr",
     "output_type": "stream",
     "text": [
      "[INFO 08-09 14:29:48] ax.early_stopping.strategies.percentile: Considering trial 9 for early stopping.\n"
     ]
    },
    {
     "name": "stderr",
     "output_type": "stream",
     "text": [
      "[INFO 08-09 14:29:48] ax.early_stopping.strategies.base: Last progression of Trial 9 is 0.19994666666666666.\n"
     ]
    },
    {
     "name": "stderr",
     "output_type": "stream",
     "text": [
      "[INFO 08-09 14:29:48] ax.early_stopping.strategies.base: Trial 9's most recent progression (0.19994666666666666) falls out of the min/max_progression range (0.3, None). Not early stopping this trial.\n"
     ]
    },
    {
     "name": "stderr",
     "output_type": "stream",
     "text": [
      "[INFO 08-09 14:29:48] ax.early_stopping.strategies.percentile: Considering trial 7 for early stopping.\n"
     ]
    },
    {
     "name": "stderr",
     "output_type": "stream",
     "text": [
      "[INFO 08-09 14:29:48] ax.early_stopping.strategies.base: Last progression of Trial 7 is 0.7999466666666667.\n"
     ]
    },
    {
     "name": "stderr",
     "output_type": "stream",
     "text": [
      "[INFO 08-09 14:29:48] ax.early_stopping.strategies.percentile: Early stopping objective at last progression is:\n",
      "0    0.933642\n",
      "1    0.926650\n",
      "2    0.836528\n",
      "3    0.938943\n",
      "4    0.931791\n",
      "7    0.950890\n",
      "Name: 0.7999466666666667, dtype: float64.\n"
     ]
    },
    {
     "name": "stderr",
     "output_type": "stream",
     "text": [
      "[INFO 08-09 14:29:48] ax.early_stopping.strategies.percentile: Early stopping decision for 7: False. Reason: Trial objective value 0.9508902430534363 is better than 70.0-th percentile (0.9362925291061401) across comparable trials.\n"
     ]
    },
    {
     "name": "stderr",
     "output_type": "stream",
     "text": [
      "[INFO 08-09 14:29:48] Scheduler: Waiting for completed trials (for 10 sec, currently running trials: 3).\n"
     ]
    },
    {
     "name": "stderr",
     "output_type": "stream",
     "text": [
      "[INFO 08-09 14:29:58] Scheduler: Fetching data for trials: 7 - 9 because some metrics on experiment are available while trials are running.\n"
     ]
    },
    {
     "name": "stderr",
     "output_type": "stream",
     "text": [
      "[INFO 08-09 14:29:58] ax.early_stopping.strategies.base: Last progression of any candidate for trial stopping is 0.8999466666666667.\n"
     ]
    },
    {
     "name": "stderr",
     "output_type": "stream",
     "text": [
      "[INFO 08-09 14:29:58] ax.early_stopping.strategies.percentile: Considering trial 8 for early stopping.\n"
     ]
    },
    {
     "name": "stderr",
     "output_type": "stream",
     "text": [
      "[INFO 08-09 14:29:58] ax.early_stopping.strategies.base: Last progression of Trial 8 is 0.3999466666666667.\n"
     ]
    },
    {
     "name": "stderr",
     "output_type": "stream",
     "text": [
      "[INFO 08-09 14:29:58] ax.early_stopping.strategies.percentile: Early stopping objective at last progression is:\n",
      "0    0.924426\n",
      "1    0.919765\n",
      "2    0.790812\n",
      "3    0.927625\n",
      "4    0.922909\n",
      "5    0.936341\n",
      "6    0.895719\n",
      "7    0.950981\n",
      "8    0.949285\n",
      "Name: 0.3999466666666667, dtype: float64.\n"
     ]
    },
    {
     "name": "stderr",
     "output_type": "stream",
     "text": [
      "[INFO 08-09 14:29:58] ax.early_stopping.strategies.percentile: Early stopping decision for 8: False. Reason: Trial objective value 0.9492846727371216 is better than 70.0-th percentile (0.9328547239303588) across comparable trials.\n"
     ]
    },
    {
     "name": "stderr",
     "output_type": "stream",
     "text": [
      "[INFO 08-09 14:29:58] ax.early_stopping.strategies.percentile: Considering trial 9 for early stopping.\n"
     ]
    },
    {
     "name": "stderr",
     "output_type": "stream",
     "text": [
      "[INFO 08-09 14:29:58] ax.early_stopping.strategies.base: Last progression of Trial 9 is 0.19994666666666666.\n"
     ]
    },
    {
     "name": "stderr",
     "output_type": "stream",
     "text": [
      "[INFO 08-09 14:29:58] ax.early_stopping.strategies.base: Trial 9's most recent progression (0.19994666666666666) falls out of the min/max_progression range (0.3, None). Not early stopping this trial.\n"
     ]
    },
    {
     "name": "stderr",
     "output_type": "stream",
     "text": [
      "[INFO 08-09 14:29:58] ax.early_stopping.strategies.percentile: Considering trial 7 for early stopping.\n"
     ]
    },
    {
     "name": "stderr",
     "output_type": "stream",
     "text": [
      "[INFO 08-09 14:29:58] ax.early_stopping.strategies.base: Last progression of Trial 7 is 0.8999466666666667.\n"
     ]
    },
    {
     "name": "stderr",
     "output_type": "stream",
     "text": [
      "[INFO 08-09 14:29:58] ax.early_stopping.strategies.percentile: Early stopping objective at last progression is:\n",
      "0    0.936034\n",
      "1    0.937899\n",
      "2    0.857311\n",
      "3    0.940041\n",
      "4    0.932324\n",
      "7    0.955542\n",
      "Name: 0.8999466666666667, dtype: float64.\n"
     ]
    },
    {
     "name": "stderr",
     "output_type": "stream",
     "text": [
      "[INFO 08-09 14:29:58] ax.early_stopping.strategies.percentile: Early stopping decision for 7: False. Reason: Trial objective value 0.9555423855781555 is better than 70.0-th percentile (0.9389699995517731) across comparable trials.\n"
     ]
    },
    {
     "name": "stderr",
     "output_type": "stream",
     "text": [
      "[INFO 08-09 14:29:58] Scheduler: Waiting for completed trials (for 10 sec, currently running trials: 3).\n"
     ]
    },
    {
     "name": "stderr",
     "output_type": "stream",
     "text": [
      "[INFO 08-09 14:30:08] Scheduler: Fetching data for trials: 7 - 9 because some metrics on experiment are available while trials are running.\n"
     ]
    },
    {
     "name": "stderr",
     "output_type": "stream",
     "text": [
      "[INFO 08-09 14:30:08] ax.early_stopping.strategies.base: Last progression of any candidate for trial stopping is 0.8999466666666667.\n"
     ]
    },
    {
     "name": "stderr",
     "output_type": "stream",
     "text": [
      "[INFO 08-09 14:30:08] ax.early_stopping.strategies.percentile: Considering trial 8 for early stopping.\n"
     ]
    },
    {
     "name": "stderr",
     "output_type": "stream",
     "text": [
      "[INFO 08-09 14:30:08] ax.early_stopping.strategies.base: Last progression of Trial 8 is 0.3999466666666667.\n"
     ]
    },
    {
     "name": "stderr",
     "output_type": "stream",
     "text": [
      "[INFO 08-09 14:30:08] ax.early_stopping.strategies.percentile: Early stopping objective at last progression is:\n",
      "0    0.924426\n",
      "1    0.919765\n",
      "2    0.790812\n",
      "3    0.927625\n",
      "4    0.922909\n",
      "5    0.936341\n",
      "6    0.895719\n",
      "7    0.950981\n",
      "8    0.949285\n",
      "Name: 0.3999466666666667, dtype: float64.\n"
     ]
    },
    {
     "name": "stderr",
     "output_type": "stream",
     "text": [
      "[INFO 08-09 14:30:08] ax.early_stopping.strategies.percentile: Early stopping decision for 8: False. Reason: Trial objective value 0.9492846727371216 is better than 70.0-th percentile (0.9328547239303588) across comparable trials.\n"
     ]
    },
    {
     "name": "stderr",
     "output_type": "stream",
     "text": [
      "[INFO 08-09 14:30:08] ax.early_stopping.strategies.percentile: Considering trial 9 for early stopping.\n"
     ]
    },
    {
     "name": "stderr",
     "output_type": "stream",
     "text": [
      "[INFO 08-09 14:30:08] ax.early_stopping.strategies.base: Last progression of Trial 9 is 0.19994666666666666.\n"
     ]
    },
    {
     "name": "stderr",
     "output_type": "stream",
     "text": [
      "[INFO 08-09 14:30:08] ax.early_stopping.strategies.base: Trial 9's most recent progression (0.19994666666666666) falls out of the min/max_progression range (0.3, None). Not early stopping this trial.\n"
     ]
    },
    {
     "name": "stderr",
     "output_type": "stream",
     "text": [
      "[INFO 08-09 14:30:08] ax.early_stopping.strategies.percentile: Considering trial 7 for early stopping.\n"
     ]
    },
    {
     "name": "stderr",
     "output_type": "stream",
     "text": [
      "[INFO 08-09 14:30:08] ax.early_stopping.strategies.base: Last progression of Trial 7 is 0.8999466666666667.\n"
     ]
    },
    {
     "name": "stderr",
     "output_type": "stream",
     "text": [
      "[INFO 08-09 14:30:08] ax.early_stopping.strategies.percentile: Early stopping objective at last progression is:\n",
      "0    0.936034\n",
      "1    0.937899\n",
      "2    0.857311\n",
      "3    0.940041\n",
      "4    0.932324\n",
      "7    0.955542\n",
      "Name: 0.8999466666666667, dtype: float64.\n"
     ]
    },
    {
     "name": "stderr",
     "output_type": "stream",
     "text": [
      "[INFO 08-09 14:30:08] ax.early_stopping.strategies.percentile: Early stopping decision for 7: False. Reason: Trial objective value 0.9555423855781555 is better than 70.0-th percentile (0.9389699995517731) across comparable trials.\n"
     ]
    },
    {
     "name": "stderr",
     "output_type": "stream",
     "text": [
      "[INFO 08-09 14:30:08] Scheduler: Waiting for completed trials (for 10 sec, currently running trials: 3).\n"
     ]
    },
    {
     "name": "stderr",
     "output_type": "stream",
     "text": [
      "[INFO 08-09 14:30:18] Scheduler: Fetching data for trials: 7 - 9 because some metrics on experiment are available while trials are running.\n"
     ]
    },
    {
     "name": "stderr",
     "output_type": "stream",
     "text": [
      "[INFO 08-09 14:30:18] ax.early_stopping.strategies.base: Last progression of any candidate for trial stopping is 0.8999466666666667.\n"
     ]
    },
    {
     "name": "stderr",
     "output_type": "stream",
     "text": [
      "[INFO 08-09 14:30:18] ax.early_stopping.strategies.percentile: Considering trial 8 for early stopping.\n"
     ]
    },
    {
     "name": "stderr",
     "output_type": "stream",
     "text": [
      "[INFO 08-09 14:30:18] ax.early_stopping.strategies.base: Last progression of Trial 8 is 0.49994666666666665.\n"
     ]
    },
    {
     "name": "stderr",
     "output_type": "stream",
     "text": [
      "[INFO 08-09 14:30:18] ax.early_stopping.strategies.percentile: Early stopping objective at last progression is:\n",
      "0    0.927386\n",
      "1    0.930741\n",
      "2    0.808218\n",
      "3    0.934467\n",
      "4    0.931203\n",
      "5    0.935403\n",
      "7    0.950910\n",
      "8    0.950979\n",
      "Name: 0.49994666666666665, dtype: float64.\n"
     ]
    },
    {
     "name": "stderr",
     "output_type": "stream",
     "text": [
      "[INFO 08-09 14:30:18] ax.early_stopping.strategies.percentile: Early stopping decision for 8: False. Reason: Trial objective value 0.9509792923927307 is better than 70.0-th percentile (0.9353095233440399) across comparable trials.\n"
     ]
    },
    {
     "name": "stderr",
     "output_type": "stream",
     "text": [
      "[INFO 08-09 14:30:18] ax.early_stopping.strategies.percentile: Considering trial 9 for early stopping.\n"
     ]
    },
    {
     "name": "stderr",
     "output_type": "stream",
     "text": [
      "[INFO 08-09 14:30:18] ax.early_stopping.strategies.base: Last progression of Trial 9 is 0.29994666666666664.\n"
     ]
    },
    {
     "name": "stderr",
     "output_type": "stream",
     "text": [
      "[INFO 08-09 14:30:18] ax.early_stopping.strategies.base: Trial 9's most recent progression (0.29994666666666664) falls out of the min/max_progression range (0.3, None). Not early stopping this trial.\n"
     ]
    },
    {
     "name": "stderr",
     "output_type": "stream",
     "text": [
      "[INFO 08-09 14:30:18] ax.early_stopping.strategies.percentile: Considering trial 7 for early stopping.\n"
     ]
    },
    {
     "name": "stderr",
     "output_type": "stream",
     "text": [
      "[INFO 08-09 14:30:18] ax.early_stopping.strategies.base: Last progression of Trial 7 is 0.8999466666666667.\n"
     ]
    },
    {
     "name": "stderr",
     "output_type": "stream",
     "text": [
      "[INFO 08-09 14:30:18] ax.early_stopping.strategies.percentile: Early stopping objective at last progression is:\n",
      "0    0.936034\n",
      "1    0.937899\n",
      "2    0.857311\n",
      "3    0.940041\n",
      "4    0.932324\n",
      "7    0.955542\n",
      "Name: 0.8999466666666667, dtype: float64.\n"
     ]
    },
    {
     "name": "stderr",
     "output_type": "stream",
     "text": [
      "[INFO 08-09 14:30:18] ax.early_stopping.strategies.percentile: Early stopping decision for 7: False. Reason: Trial objective value 0.9555423855781555 is better than 70.0-th percentile (0.9389699995517731) across comparable trials.\n"
     ]
    },
    {
     "name": "stderr",
     "output_type": "stream",
     "text": [
      "[INFO 08-09 14:30:18] Scheduler: Waiting for completed trials (for 10 sec, currently running trials: 3).\n"
     ]
    },
    {
     "name": "stderr",
     "output_type": "stream",
     "text": [
      "[INFO 08-09 14:30:28] Scheduler: Fetching data for trials: 8 - 9 because some metrics on experiment are available while trials are running.\n"
     ]
    },
    {
     "name": "stderr",
     "output_type": "stream",
     "text": [
      "[INFO 08-09 14:30:28] ax.early_stopping.strategies.base: Last progression of any candidate for trial stopping is 0.49994666666666665.\n"
     ]
    },
    {
     "name": "stderr",
     "output_type": "stream",
     "text": [
      "[INFO 08-09 14:30:28] ax.early_stopping.strategies.percentile: Considering trial 8 for early stopping.\n"
     ]
    },
    {
     "name": "stderr",
     "output_type": "stream",
     "text": [
      "[INFO 08-09 14:30:28] ax.early_stopping.strategies.base: Last progression of Trial 8 is 0.49994666666666665.\n"
     ]
    },
    {
     "name": "stderr",
     "output_type": "stream",
     "text": [
      "[INFO 08-09 14:30:28] ax.early_stopping.strategies.percentile: Early stopping objective at last progression is:\n",
      "0    0.927386\n",
      "1    0.930741\n",
      "2    0.808218\n",
      "3    0.934467\n",
      "4    0.931203\n",
      "5    0.935403\n",
      "7    0.950910\n",
      "8    0.950979\n",
      "Name: 0.49994666666666665, dtype: float64.\n"
     ]
    },
    {
     "name": "stderr",
     "output_type": "stream",
     "text": [
      "[INFO 08-09 14:30:28] ax.early_stopping.strategies.percentile: Early stopping decision for 8: False. Reason: Trial objective value 0.9509792923927307 is better than 70.0-th percentile (0.9353095233440399) across comparable trials.\n"
     ]
    },
    {
     "name": "stderr",
     "output_type": "stream",
     "text": [
      "[INFO 08-09 14:30:28] ax.early_stopping.strategies.percentile: Considering trial 9 for early stopping.\n"
     ]
    },
    {
     "name": "stderr",
     "output_type": "stream",
     "text": [
      "[INFO 08-09 14:30:28] ax.early_stopping.strategies.base: Last progression of Trial 9 is 0.29994666666666664.\n"
     ]
    },
    {
     "name": "stderr",
     "output_type": "stream",
     "text": [
      "[INFO 08-09 14:30:28] ax.early_stopping.strategies.base: Trial 9's most recent progression (0.29994666666666664) falls out of the min/max_progression range (0.3, None). Not early stopping this trial.\n"
     ]
    },
    {
     "name": "stderr",
     "output_type": "stream",
     "text": [
      "[INFO 08-09 14:30:28] Scheduler: Retrieved COMPLETED trials: [7].\n"
     ]
    },
    {
     "name": "stderr",
     "output_type": "stream",
     "text": [
      "[INFO 08-09 14:30:28] Scheduler: Fetching data for trials: [7].\n"
     ]
    },
    {
     "name": "stderr",
     "output_type": "stream",
     "text": [
      "/Users/mpolson64/opt/anaconda3/envs/ax-dev/lib/python3.9/site-packages/linear_operator/utils/cholesky.py:40: NumericalWarning: A not p.d., added jitter of 1.0e-08 to the diagonal\n",
      "  warnings.warn(\n",
      "[INFO 08-09 14:30:30] Scheduler: Running trials [10]...\n"
     ]
    },
    {
     "name": "stderr",
     "output_type": "stream",
     "text": [
      "[INFO 08-09 14:30:31] ax.modelbridge.torch: The observations are identical to the last set of observations used to fit the model. Skipping model fitting.\n"
     ]
    },
    {
     "name": "stderr",
     "output_type": "stream",
     "text": [
      "[INFO 08-09 14:30:31] Scheduler: Generated all trials that can be generated currently. Max parallelism currently reached.\n"
     ]
    },
    {
     "name": "stderr",
     "output_type": "stream",
     "text": [
      "[WARNING 08-09 14:30:31] Scheduler: Both `init_seconds_between_polls` and `early_stopping_strategy supplied. `init_seconds_between_polls=1` will be overrridden by `early_stopping_strategy.seconds_between_polls=10` and polling will take place at a constant rate.\n"
     ]
    },
    {
     "name": "stderr",
     "output_type": "stream",
     "text": [
      "[INFO 08-09 14:30:31] Scheduler: Fetching data for trials: 8 - 10 because some metrics on experiment are available while trials are running.\n"
     ]
    },
    {
     "name": "stderr",
     "output_type": "stream",
     "text": [
      "[INFO 08-09 14:30:31] ax.metrics.curve: val_acc not yet present in curves from /var/folders/w_/g_40lr6j0s98g6921f3qxcmr0000gn/T/tmpnxpj5dby/10. Returning without this metric.\n"
     ]
    },
    {
     "name": "stderr",
     "output_type": "stream",
     "text": [
      "[INFO 08-09 14:30:31] ax.core.metric: MetricFetchE INFO: Initialized MetricFetchE(message=\"DataFrame from curve series is empty\")\n"
     ]
    },
    {
     "name": "stderr",
     "output_type": "stream",
     "text": [
      "[ERROR 08-09 14:30:31] ax.core.experiment: Discovered Metric fetching Err while attaching data MetricFetchE(message=\"DataFrame from curve series is empty\"). Ignoring for now -- will retry query on next call to fetch.\n"
     ]
    },
    {
     "name": "stderr",
     "output_type": "stream",
     "text": [
      "[WARNING 08-09 14:30:31] Scheduler: Failed to fetch val_acc for trial 10, found MetricFetchE(message=\"DataFrame from curve series is empty\").\n"
     ]
    },
    {
     "name": "stderr",
     "output_type": "stream",
     "text": [
      "[INFO 08-09 14:30:31] Scheduler: MetricFetchE INFO: Because val_acc is available_while_running and trial 10 is still RUNNING continuing the experiment and retrying on next poll...\n"
     ]
    },
    {
     "name": "stderr",
     "output_type": "stream",
     "text": [
      "[INFO 08-09 14:30:31] ax.early_stopping.strategies.base: Last progression of any candidate for trial stopping is 0.49994666666666665.\n"
     ]
    },
    {
     "name": "stderr",
     "output_type": "stream",
     "text": [
      "[INFO 08-09 14:30:31] ax.early_stopping.strategies.percentile: Considering trial 8 for early stopping.\n"
     ]
    },
    {
     "name": "stderr",
     "output_type": "stream",
     "text": [
      "[INFO 08-09 14:30:31] ax.early_stopping.strategies.base: Last progression of Trial 8 is 0.49994666666666665.\n"
     ]
    },
    {
     "name": "stderr",
     "output_type": "stream",
     "text": [
      "[INFO 08-09 14:30:31] ax.early_stopping.strategies.percentile: Early stopping objective at last progression is:\n",
      "0    0.927386\n",
      "1    0.930741\n",
      "2    0.808218\n",
      "3    0.934467\n",
      "4    0.931203\n",
      "5    0.935403\n",
      "7    0.950910\n",
      "8    0.950979\n",
      "Name: 0.49994666666666665, dtype: float64.\n"
     ]
    },
    {
     "name": "stderr",
     "output_type": "stream",
     "text": [
      "[INFO 08-09 14:30:31] ax.early_stopping.strategies.percentile: Early stopping decision for 8: False. Reason: Trial objective value 0.9509792923927307 is better than 70.0-th percentile (0.9353095233440399) across comparable trials.\n"
     ]
    },
    {
     "name": "stderr",
     "output_type": "stream",
     "text": [
      "[INFO 08-09 14:30:31] ax.early_stopping.strategies.percentile: Considering trial 9 for early stopping.\n"
     ]
    },
    {
     "name": "stderr",
     "output_type": "stream",
     "text": [
      "[INFO 08-09 14:30:31] ax.early_stopping.strategies.base: Last progression of Trial 9 is 0.29994666666666664.\n"
     ]
    },
    {
     "name": "stderr",
     "output_type": "stream",
     "text": [
      "[INFO 08-09 14:30:31] ax.early_stopping.strategies.base: Trial 9's most recent progression (0.29994666666666664) falls out of the min/max_progression range (0.3, None). Not early stopping this trial.\n"
     ]
    },
    {
     "name": "stderr",
     "output_type": "stream",
     "text": [
      "[INFO 08-09 14:30:31] ax.early_stopping.strategies.percentile: Considering trial 10 for early stopping.\n"
     ]
    },
    {
     "name": "stderr",
     "output_type": "stream",
     "text": [
      "[INFO 08-09 14:30:31] ax.early_stopping.strategies.base: There is not yet any data associated with trial 10. Not early stopping this trial.\n"
     ]
    },
    {
     "name": "stderr",
     "output_type": "stream",
     "text": [
      "[INFO 08-09 14:30:31] Scheduler: Waiting for completed trials (for 10 sec, currently running trials: 3).\n"
     ]
    },
    {
     "name": "stderr",
     "output_type": "stream",
     "text": [
      "[INFO 08-09 14:30:41] Scheduler: Fetching data for trials: 8 - 10 because some metrics on experiment are available while trials are running.\n"
     ]
    },
    {
     "name": "stderr",
     "output_type": "stream",
     "text": [
      "[INFO 08-09 14:30:41] ax.metrics.curve: val_acc not yet present in curves from /var/folders/w_/g_40lr6j0s98g6921f3qxcmr0000gn/T/tmpnxpj5dby/10. Returning without this metric.\n"
     ]
    },
    {
     "name": "stderr",
     "output_type": "stream",
     "text": [
      "[INFO 08-09 14:30:41] ax.core.metric: MetricFetchE INFO: Initialized MetricFetchE(message=\"DataFrame from curve series is empty\")\n"
     ]
    },
    {
     "name": "stderr",
     "output_type": "stream",
     "text": [
      "[ERROR 08-09 14:30:41] ax.core.experiment: Discovered Metric fetching Err while attaching data MetricFetchE(message=\"DataFrame from curve series is empty\"). Ignoring for now -- will retry query on next call to fetch.\n"
     ]
    },
    {
     "name": "stderr",
     "output_type": "stream",
     "text": [
      "[WARNING 08-09 14:30:41] Scheduler: Failed to fetch val_acc for trial 10, found MetricFetchE(message=\"DataFrame from curve series is empty\").\n"
     ]
    },
    {
     "name": "stderr",
     "output_type": "stream",
     "text": [
      "[INFO 08-09 14:30:41] Scheduler: MetricFetchE INFO: Because val_acc is available_while_running and trial 10 is still RUNNING continuing the experiment and retrying on next poll...\n"
     ]
    },
    {
     "name": "stderr",
     "output_type": "stream",
     "text": [
      "[INFO 08-09 14:30:41] ax.early_stopping.strategies.base: Last progression of any candidate for trial stopping is 0.5999466666666666.\n"
     ]
    },
    {
     "name": "stderr",
     "output_type": "stream",
     "text": [
      "[INFO 08-09 14:30:41] ax.early_stopping.strategies.percentile: Considering trial 8 for early stopping.\n"
     ]
    },
    {
     "name": "stderr",
     "output_type": "stream",
     "text": [
      "[INFO 08-09 14:30:41] ax.early_stopping.strategies.base: Last progression of Trial 8 is 0.5999466666666666.\n"
     ]
    },
    {
     "name": "stderr",
     "output_type": "stream",
     "text": [
      "[INFO 08-09 14:30:41] ax.early_stopping.strategies.percentile: Early stopping objective at last progression is:\n",
      "0    0.928987\n",
      "1    0.928144\n",
      "2    0.808475\n",
      "3    0.934863\n",
      "4    0.932743\n",
      "5    0.934730\n",
      "7    0.950978\n",
      "8    0.952640\n",
      "Name: 0.5999466666666666, dtype: float64.\n"
     ]
    },
    {
     "name": "stderr",
     "output_type": "stream",
     "text": [
      "[INFO 08-09 14:30:41] ax.early_stopping.strategies.percentile: Early stopping decision for 8: False. Reason: Trial objective value 0.9526401162147522 is better than 70.0-th percentile (0.9348495602607727) across comparable trials.\n"
     ]
    },
    {
     "name": "stderr",
     "output_type": "stream",
     "text": [
      "[INFO 08-09 14:30:41] ax.early_stopping.strategies.percentile: Considering trial 9 for early stopping.\n"
     ]
    },
    {
     "name": "stderr",
     "output_type": "stream",
     "text": [
      "[INFO 08-09 14:30:41] ax.early_stopping.strategies.base: Last progression of Trial 9 is 0.3999466666666667.\n"
     ]
    },
    {
     "name": "stderr",
     "output_type": "stream",
     "text": [
      "[INFO 08-09 14:30:41] ax.early_stopping.strategies.percentile: Early stopping objective at last progression is:\n",
      "0    0.924426\n",
      "1    0.919765\n",
      "2    0.790812\n",
      "3    0.927625\n",
      "4    0.922909\n",
      "5    0.936341\n",
      "6    0.895719\n",
      "7    0.950981\n",
      "8    0.949285\n",
      "9    0.944481\n",
      "Name: 0.3999466666666667, dtype: float64.\n"
     ]
    },
    {
     "name": "stderr",
     "output_type": "stream",
     "text": [
      "[INFO 08-09 14:30:41] ax.early_stopping.strategies.percentile: Early stopping decision for 9: False. Reason: Trial objective value 0.9444811344146729 is better than 70.0-th percentile (0.9387832403182983) across comparable trials.\n"
     ]
    },
    {
     "name": "stderr",
     "output_type": "stream",
     "text": [
      "[INFO 08-09 14:30:41] ax.early_stopping.strategies.percentile: Considering trial 10 for early stopping.\n"
     ]
    },
    {
     "name": "stderr",
     "output_type": "stream",
     "text": [
      "[INFO 08-09 14:30:41] ax.early_stopping.strategies.base: There is not yet any data associated with trial 10. Not early stopping this trial.\n"
     ]
    },
    {
     "name": "stderr",
     "output_type": "stream",
     "text": [
      "[INFO 08-09 14:30:41] Scheduler: Waiting for completed trials (for 10 sec, currently running trials: 3).\n"
     ]
    },
    {
     "name": "stderr",
     "output_type": "stream",
     "text": [
      "[INFO 08-09 14:30:51] Scheduler: Fetching data for trials: 8 - 10 because some metrics on experiment are available while trials are running.\n"
     ]
    },
    {
     "name": "stderr",
     "output_type": "stream",
     "text": [
      "[INFO 08-09 14:30:51] ax.metrics.curve: val_acc not yet present in curves from /var/folders/w_/g_40lr6j0s98g6921f3qxcmr0000gn/T/tmpnxpj5dby/10. Returning without this metric.\n"
     ]
    },
    {
     "name": "stderr",
     "output_type": "stream",
     "text": [
      "[INFO 08-09 14:30:51] ax.core.metric: MetricFetchE INFO: Initialized MetricFetchE(message=\"DataFrame from curve series is empty\")\n"
     ]
    },
    {
     "name": "stderr",
     "output_type": "stream",
     "text": [
      "[ERROR 08-09 14:30:51] ax.core.experiment: Discovered Metric fetching Err while attaching data MetricFetchE(message=\"DataFrame from curve series is empty\"). Ignoring for now -- will retry query on next call to fetch.\n"
     ]
    },
    {
     "name": "stderr",
     "output_type": "stream",
     "text": [
      "[WARNING 08-09 14:30:51] Scheduler: Failed to fetch val_acc for trial 10, found MetricFetchE(message=\"DataFrame from curve series is empty\").\n"
     ]
    },
    {
     "name": "stderr",
     "output_type": "stream",
     "text": [
      "[INFO 08-09 14:30:51] Scheduler: MetricFetchE INFO: Because val_acc is available_while_running and trial 10 is still RUNNING continuing the experiment and retrying on next poll...\n"
     ]
    },
    {
     "name": "stderr",
     "output_type": "stream",
     "text": [
      "[INFO 08-09 14:30:51] ax.early_stopping.strategies.base: Last progression of any candidate for trial stopping is 0.5999466666666666.\n"
     ]
    },
    {
     "name": "stderr",
     "output_type": "stream",
     "text": [
      "[INFO 08-09 14:30:51] ax.early_stopping.strategies.percentile: Considering trial 8 for early stopping.\n"
     ]
    },
    {
     "name": "stderr",
     "output_type": "stream",
     "text": [
      "[INFO 08-09 14:30:51] ax.early_stopping.strategies.base: Last progression of Trial 8 is 0.5999466666666666.\n"
     ]
    },
    {
     "name": "stderr",
     "output_type": "stream",
     "text": [
      "[INFO 08-09 14:30:51] ax.early_stopping.strategies.percentile: Early stopping objective at last progression is:\n",
      "0    0.928987\n",
      "1    0.928144\n",
      "2    0.808475\n",
      "3    0.934863\n",
      "4    0.932743\n",
      "5    0.934730\n",
      "7    0.950978\n",
      "8    0.952640\n",
      "Name: 0.5999466666666666, dtype: float64.\n"
     ]
    },
    {
     "name": "stderr",
     "output_type": "stream",
     "text": [
      "[INFO 08-09 14:30:51] ax.early_stopping.strategies.percentile: Early stopping decision for 8: False. Reason: Trial objective value 0.9526401162147522 is better than 70.0-th percentile (0.9348495602607727) across comparable trials.\n"
     ]
    },
    {
     "name": "stderr",
     "output_type": "stream",
     "text": [
      "[INFO 08-09 14:30:51] ax.early_stopping.strategies.percentile: Considering trial 9 for early stopping.\n"
     ]
    },
    {
     "name": "stderr",
     "output_type": "stream",
     "text": [
      "[INFO 08-09 14:30:51] ax.early_stopping.strategies.base: Last progression of Trial 9 is 0.3999466666666667.\n"
     ]
    },
    {
     "name": "stderr",
     "output_type": "stream",
     "text": [
      "[INFO 08-09 14:30:51] ax.early_stopping.strategies.percentile: Early stopping objective at last progression is:\n",
      "0    0.924426\n",
      "1    0.919765\n",
      "2    0.790812\n",
      "3    0.927625\n",
      "4    0.922909\n",
      "5    0.936341\n",
      "6    0.895719\n",
      "7    0.950981\n",
      "8    0.949285\n",
      "9    0.944481\n",
      "Name: 0.3999466666666667, dtype: float64.\n"
     ]
    },
    {
     "name": "stderr",
     "output_type": "stream",
     "text": [
      "[INFO 08-09 14:30:51] ax.early_stopping.strategies.percentile: Early stopping decision for 9: False. Reason: Trial objective value 0.9444811344146729 is better than 70.0-th percentile (0.9387832403182983) across comparable trials.\n"
     ]
    },
    {
     "name": "stderr",
     "output_type": "stream",
     "text": [
      "[INFO 08-09 14:30:51] ax.early_stopping.strategies.percentile: Considering trial 10 for early stopping.\n"
     ]
    },
    {
     "name": "stderr",
     "output_type": "stream",
     "text": [
      "[INFO 08-09 14:30:51] ax.early_stopping.strategies.base: There is not yet any data associated with trial 10. Not early stopping this trial.\n"
     ]
    },
    {
     "name": "stderr",
     "output_type": "stream",
     "text": [
      "[INFO 08-09 14:30:51] Scheduler: Waiting for completed trials (for 10 sec, currently running trials: 3).\n"
     ]
    },
    {
     "name": "stderr",
     "output_type": "stream",
     "text": [
      "[INFO 08-09 14:31:01] Scheduler: Fetching data for trials: 8 - 10 because some metrics on experiment are available while trials are running.\n"
     ]
    },
    {
     "name": "stderr",
     "output_type": "stream",
     "text": [
      "[INFO 08-09 14:31:02] ax.early_stopping.strategies.base: Last progression of any candidate for trial stopping is 0.6999466666666667.\n"
     ]
    },
    {
     "name": "stderr",
     "output_type": "stream",
     "text": [
      "[INFO 08-09 14:31:02] ax.early_stopping.utils: Got exception `x and y arrays must have at least 2 entries` during interpolation. Using uninterpolated values instead.\n"
     ]
    },
    {
     "name": "stderr",
     "output_type": "stream",
     "text": [
      "[INFO 08-09 14:31:02] ax.early_stopping.strategies.percentile: Considering trial 8 for early stopping.\n"
     ]
    },
    {
     "name": "stderr",
     "output_type": "stream",
     "text": [
      "[INFO 08-09 14:31:02] ax.early_stopping.strategies.base: Last progression of Trial 8 is 0.6999466666666667.\n"
     ]
    },
    {
     "name": "stderr",
     "output_type": "stream",
     "text": [
      "[INFO 08-09 14:31:02] ax.early_stopping.strategies.percentile: Early stopping objective at last progression is:\n",
      "0    0.931204\n",
      "1    0.933209\n",
      "2    0.811314\n",
      "3    0.937206\n",
      "4    0.920759\n",
      "7    0.951094\n",
      "8    0.959523\n",
      "Name: 0.6999466666666667, dtype: float64.\n"
     ]
    },
    {
     "name": "stderr",
     "output_type": "stream",
     "text": [
      "[INFO 08-09 14:31:02] ax.early_stopping.strategies.percentile: Early stopping decision for 8: False. Reason: Trial objective value 0.9595228433609009 is better than 70.0-th percentile (0.9399839043617249) across comparable trials.\n"
     ]
    },
    {
     "name": "stderr",
     "output_type": "stream",
     "text": [
      "[INFO 08-09 14:31:02] ax.early_stopping.strategies.percentile: Considering trial 9 for early stopping.\n"
     ]
    },
    {
     "name": "stderr",
     "output_type": "stream",
     "text": [
      "[INFO 08-09 14:31:02] ax.early_stopping.strategies.base: Last progression of Trial 9 is 0.49994666666666665.\n"
     ]
    },
    {
     "name": "stderr",
     "output_type": "stream",
     "text": [
      "[INFO 08-09 14:31:02] ax.early_stopping.strategies.percentile: Early stopping objective at last progression is:\n",
      "0    0.927386\n",
      "1    0.930741\n",
      "2    0.808218\n",
      "3    0.934467\n",
      "4    0.931203\n",
      "5    0.935403\n",
      "7    0.950910\n",
      "8    0.950979\n",
      "9    0.947363\n",
      "Name: 0.49994666666666665, dtype: float64.\n"
     ]
    },
    {
     "name": "stderr",
     "output_type": "stream",
     "text": [
      "[INFO 08-09 14:31:02] ax.early_stopping.strategies.percentile: Early stopping decision for 9: False. Reason: Trial objective value 0.9473627805709839 is better than 70.0-th percentile (0.942578911781311) across comparable trials.\n"
     ]
    },
    {
     "name": "stderr",
     "output_type": "stream",
     "text": [
      "[INFO 08-09 14:31:02] ax.early_stopping.strategies.percentile: Considering trial 10 for early stopping.\n"
     ]
    },
    {
     "name": "stderr",
     "output_type": "stream",
     "text": [
      "[INFO 08-09 14:31:02] ax.early_stopping.strategies.base: Last progression of Trial 10 is 0.09994666666666667.\n"
     ]
    },
    {
     "name": "stderr",
     "output_type": "stream",
     "text": [
      "[INFO 08-09 14:31:02] ax.early_stopping.strategies.base: Trial 10's most recent progression (0.09994666666666667) falls out of the min/max_progression range (0.3, None). Not early stopping this trial.\n"
     ]
    },
    {
     "name": "stderr",
     "output_type": "stream",
     "text": [
      "[INFO 08-09 14:31:02] Scheduler: Waiting for completed trials (for 10 sec, currently running trials: 3).\n"
     ]
    },
    {
     "name": "stderr",
     "output_type": "stream",
     "text": [
      "[INFO 08-09 14:31:12] Scheduler: Fetching data for trials: 8 - 10 because some metrics on experiment are available while trials are running.\n"
     ]
    },
    {
     "name": "stderr",
     "output_type": "stream",
     "text": [
      "[INFO 08-09 14:31:12] ax.early_stopping.strategies.base: Last progression of any candidate for trial stopping is 0.6999466666666667.\n"
     ]
    },
    {
     "name": "stderr",
     "output_type": "stream",
     "text": [
      "[INFO 08-09 14:31:12] ax.early_stopping.utils: Got exception `x and y arrays must have at least 2 entries` during interpolation. Using uninterpolated values instead.\n"
     ]
    },
    {
     "name": "stderr",
     "output_type": "stream",
     "text": [
      "[INFO 08-09 14:31:12] ax.early_stopping.strategies.percentile: Considering trial 8 for early stopping.\n"
     ]
    },
    {
     "name": "stderr",
     "output_type": "stream",
     "text": [
      "[INFO 08-09 14:31:12] ax.early_stopping.strategies.base: Last progression of Trial 8 is 0.6999466666666667.\n"
     ]
    },
    {
     "name": "stderr",
     "output_type": "stream",
     "text": [
      "[INFO 08-09 14:31:12] ax.early_stopping.strategies.percentile: Early stopping objective at last progression is:\n",
      "0    0.931204\n",
      "1    0.933209\n",
      "2    0.811314\n",
      "3    0.937206\n",
      "4    0.920759\n",
      "7    0.951094\n",
      "8    0.959523\n",
      "Name: 0.6999466666666667, dtype: float64.\n"
     ]
    },
    {
     "name": "stderr",
     "output_type": "stream",
     "text": [
      "[INFO 08-09 14:31:12] ax.early_stopping.strategies.percentile: Early stopping decision for 8: False. Reason: Trial objective value 0.9595228433609009 is better than 70.0-th percentile (0.9399839043617249) across comparable trials.\n"
     ]
    },
    {
     "name": "stderr",
     "output_type": "stream",
     "text": [
      "[INFO 08-09 14:31:12] ax.early_stopping.strategies.percentile: Considering trial 9 for early stopping.\n"
     ]
    },
    {
     "name": "stderr",
     "output_type": "stream",
     "text": [
      "[INFO 08-09 14:31:12] ax.early_stopping.strategies.base: Last progression of Trial 9 is 0.49994666666666665.\n"
     ]
    },
    {
     "name": "stderr",
     "output_type": "stream",
     "text": [
      "[INFO 08-09 14:31:12] ax.early_stopping.strategies.percentile: Early stopping objective at last progression is:\n",
      "0    0.927386\n",
      "1    0.930741\n",
      "2    0.808218\n",
      "3    0.934467\n",
      "4    0.931203\n",
      "5    0.935403\n",
      "7    0.950910\n",
      "8    0.950979\n",
      "9    0.947363\n",
      "Name: 0.49994666666666665, dtype: float64.\n"
     ]
    },
    {
     "name": "stderr",
     "output_type": "stream",
     "text": [
      "[INFO 08-09 14:31:12] ax.early_stopping.strategies.percentile: Early stopping decision for 9: False. Reason: Trial objective value 0.9473627805709839 is better than 70.0-th percentile (0.942578911781311) across comparable trials.\n"
     ]
    },
    {
     "name": "stderr",
     "output_type": "stream",
     "text": [
      "[INFO 08-09 14:31:12] ax.early_stopping.strategies.percentile: Considering trial 10 for early stopping.\n"
     ]
    },
    {
     "name": "stderr",
     "output_type": "stream",
     "text": [
      "[INFO 08-09 14:31:12] ax.early_stopping.strategies.base: Last progression of Trial 10 is 0.09994666666666667.\n"
     ]
    },
    {
     "name": "stderr",
     "output_type": "stream",
     "text": [
      "[INFO 08-09 14:31:12] ax.early_stopping.strategies.base: Trial 10's most recent progression (0.09994666666666667) falls out of the min/max_progression range (0.3, None). Not early stopping this trial.\n"
     ]
    },
    {
     "name": "stderr",
     "output_type": "stream",
     "text": [
      "[INFO 08-09 14:31:12] Scheduler: Waiting for completed trials (for 10 sec, currently running trials: 3).\n"
     ]
    },
    {
     "name": "stderr",
     "output_type": "stream",
     "text": [
      "[INFO 08-09 14:31:22] Scheduler: Fetching data for trials: 8 - 10 because some metrics on experiment are available while trials are running.\n"
     ]
    },
    {
     "name": "stderr",
     "output_type": "stream",
     "text": [
      "[INFO 08-09 14:31:22] ax.early_stopping.strategies.base: Last progression of any candidate for trial stopping is 0.7999466666666667.\n"
     ]
    },
    {
     "name": "stderr",
     "output_type": "stream",
     "text": [
      "[INFO 08-09 14:31:22] ax.early_stopping.strategies.percentile: Considering trial 8 for early stopping.\n"
     ]
    },
    {
     "name": "stderr",
     "output_type": "stream",
     "text": [
      "[INFO 08-09 14:31:22] ax.early_stopping.strategies.base: Last progression of Trial 8 is 0.7999466666666667.\n"
     ]
    },
    {
     "name": "stderr",
     "output_type": "stream",
     "text": [
      "[INFO 08-09 14:31:22] ax.early_stopping.strategies.percentile: Early stopping objective at last progression is:\n",
      "0    0.933642\n",
      "1    0.926650\n",
      "2    0.836528\n",
      "3    0.938943\n",
      "4    0.931791\n",
      "7    0.950890\n",
      "8    0.955354\n",
      "Name: 0.7999466666666667, dtype: float64.\n"
     ]
    },
    {
     "name": "stderr",
     "output_type": "stream",
     "text": [
      "[INFO 08-09 14:31:22] ax.early_stopping.strategies.percentile: Early stopping decision for 8: False. Reason: Trial objective value 0.9553542733192444 is better than 70.0-th percentile (0.9413322806358337) across comparable trials.\n"
     ]
    },
    {
     "name": "stderr",
     "output_type": "stream",
     "text": [
      "[INFO 08-09 14:31:22] ax.early_stopping.strategies.percentile: Considering trial 9 for early stopping.\n"
     ]
    },
    {
     "name": "stderr",
     "output_type": "stream",
     "text": [
      "[INFO 08-09 14:31:22] ax.early_stopping.strategies.base: Last progression of Trial 9 is 0.5999466666666666.\n"
     ]
    },
    {
     "name": "stderr",
     "output_type": "stream",
     "text": [
      "[INFO 08-09 14:31:22] ax.early_stopping.strategies.percentile: Early stopping objective at last progression is:\n",
      "0    0.928987\n",
      "1    0.928144\n",
      "2    0.808475\n",
      "3    0.934863\n",
      "4    0.932743\n",
      "5    0.934730\n",
      "7    0.950978\n",
      "8    0.952640\n",
      "9    0.951238\n",
      "Name: 0.5999466666666666, dtype: float64.\n"
     ]
    },
    {
     "name": "stderr",
     "output_type": "stream",
     "text": [
      "[INFO 08-09 14:31:22] ax.early_stopping.strategies.percentile: Early stopping decision for 9: False. Reason: Trial objective value 0.9512380957603455 is better than 70.0-th percentile (0.9445316910743713) across comparable trials.\n"
     ]
    },
    {
     "name": "stderr",
     "output_type": "stream",
     "text": [
      "[INFO 08-09 14:31:22] ax.early_stopping.strategies.percentile: Considering trial 10 for early stopping.\n"
     ]
    },
    {
     "name": "stderr",
     "output_type": "stream",
     "text": [
      "[INFO 08-09 14:31:22] ax.early_stopping.strategies.base: Last progression of Trial 10 is 0.19994666666666666.\n"
     ]
    },
    {
     "name": "stderr",
     "output_type": "stream",
     "text": [
      "[INFO 08-09 14:31:22] ax.early_stopping.strategies.base: Trial 10's most recent progression (0.19994666666666666) falls out of the min/max_progression range (0.3, None). Not early stopping this trial.\n"
     ]
    },
    {
     "name": "stderr",
     "output_type": "stream",
     "text": [
      "[INFO 08-09 14:31:22] Scheduler: Waiting for completed trials (for 10 sec, currently running trials: 3).\n"
     ]
    },
    {
     "name": "stderr",
     "output_type": "stream",
     "text": [
      "[INFO 08-09 14:31:32] Scheduler: Fetching data for trials: 8 - 10 because some metrics on experiment are available while trials are running.\n"
     ]
    },
    {
     "name": "stderr",
     "output_type": "stream",
     "text": [
      "[INFO 08-09 14:31:32] ax.early_stopping.strategies.base: Last progression of any candidate for trial stopping is 0.7999466666666667.\n"
     ]
    },
    {
     "name": "stderr",
     "output_type": "stream",
     "text": [
      "[INFO 08-09 14:31:32] ax.early_stopping.strategies.percentile: Considering trial 8 for early stopping.\n"
     ]
    },
    {
     "name": "stderr",
     "output_type": "stream",
     "text": [
      "[INFO 08-09 14:31:32] ax.early_stopping.strategies.base: Last progression of Trial 8 is 0.7999466666666667.\n"
     ]
    },
    {
     "name": "stderr",
     "output_type": "stream",
     "text": [
      "[INFO 08-09 14:31:32] ax.early_stopping.strategies.percentile: Early stopping objective at last progression is:\n",
      "0    0.933642\n",
      "1    0.926650\n",
      "2    0.836528\n",
      "3    0.938943\n",
      "4    0.931791\n",
      "7    0.950890\n",
      "8    0.955354\n",
      "Name: 0.7999466666666667, dtype: float64.\n"
     ]
    },
    {
     "name": "stderr",
     "output_type": "stream",
     "text": [
      "[INFO 08-09 14:31:32] ax.early_stopping.strategies.percentile: Early stopping decision for 8: False. Reason: Trial objective value 0.9553542733192444 is better than 70.0-th percentile (0.9413322806358337) across comparable trials.\n"
     ]
    },
    {
     "name": "stderr",
     "output_type": "stream",
     "text": [
      "[INFO 08-09 14:31:32] ax.early_stopping.strategies.percentile: Considering trial 9 for early stopping.\n"
     ]
    },
    {
     "name": "stderr",
     "output_type": "stream",
     "text": [
      "[INFO 08-09 14:31:32] ax.early_stopping.strategies.base: Last progression of Trial 9 is 0.5999466666666666.\n"
     ]
    },
    {
     "name": "stderr",
     "output_type": "stream",
     "text": [
      "[INFO 08-09 14:31:32] ax.early_stopping.strategies.percentile: Early stopping objective at last progression is:\n",
      "0    0.928987\n",
      "1    0.928144\n",
      "2    0.808475\n",
      "3    0.934863\n",
      "4    0.932743\n",
      "5    0.934730\n",
      "7    0.950978\n",
      "8    0.952640\n",
      "9    0.951238\n",
      "Name: 0.5999466666666666, dtype: float64.\n"
     ]
    },
    {
     "name": "stderr",
     "output_type": "stream",
     "text": [
      "[INFO 08-09 14:31:32] ax.early_stopping.strategies.percentile: Early stopping decision for 9: False. Reason: Trial objective value 0.9512380957603455 is better than 70.0-th percentile (0.9445316910743713) across comparable trials.\n"
     ]
    },
    {
     "name": "stderr",
     "output_type": "stream",
     "text": [
      "[INFO 08-09 14:31:32] ax.early_stopping.strategies.percentile: Considering trial 10 for early stopping.\n"
     ]
    },
    {
     "name": "stderr",
     "output_type": "stream",
     "text": [
      "[INFO 08-09 14:31:32] ax.early_stopping.strategies.base: Last progression of Trial 10 is 0.19994666666666666.\n"
     ]
    },
    {
     "name": "stderr",
     "output_type": "stream",
     "text": [
      "[INFO 08-09 14:31:32] ax.early_stopping.strategies.base: Trial 10's most recent progression (0.19994666666666666) falls out of the min/max_progression range (0.3, None). Not early stopping this trial.\n"
     ]
    },
    {
     "name": "stderr",
     "output_type": "stream",
     "text": [
      "[INFO 08-09 14:31:32] Scheduler: Waiting for completed trials (for 10 sec, currently running trials: 3).\n"
     ]
    },
    {
     "name": "stderr",
     "output_type": "stream",
     "text": [
      "[INFO 08-09 14:31:42] Scheduler: Fetching data for trials: 8 - 10 because some metrics on experiment are available while trials are running.\n"
     ]
    },
    {
     "name": "stderr",
     "output_type": "stream",
     "text": [
      "[INFO 08-09 14:31:42] ax.early_stopping.strategies.base: Last progression of any candidate for trial stopping is 0.7999466666666667.\n"
     ]
    },
    {
     "name": "stderr",
     "output_type": "stream",
     "text": [
      "[INFO 08-09 14:31:42] ax.early_stopping.strategies.percentile: Considering trial 8 for early stopping.\n"
     ]
    },
    {
     "name": "stderr",
     "output_type": "stream",
     "text": [
      "[INFO 08-09 14:31:42] ax.early_stopping.strategies.base: Last progression of Trial 8 is 0.7999466666666667.\n"
     ]
    },
    {
     "name": "stderr",
     "output_type": "stream",
     "text": [
      "[INFO 08-09 14:31:42] ax.early_stopping.strategies.percentile: Early stopping objective at last progression is:\n",
      "0    0.933642\n",
      "1    0.926650\n",
      "2    0.836528\n",
      "3    0.938943\n",
      "4    0.931791\n",
      "7    0.950890\n",
      "8    0.955354\n",
      "Name: 0.7999466666666667, dtype: float64.\n"
     ]
    },
    {
     "name": "stderr",
     "output_type": "stream",
     "text": [
      "[INFO 08-09 14:31:42] ax.early_stopping.strategies.percentile: Early stopping decision for 8: False. Reason: Trial objective value 0.9553542733192444 is better than 70.0-th percentile (0.9413322806358337) across comparable trials.\n"
     ]
    },
    {
     "name": "stderr",
     "output_type": "stream",
     "text": [
      "[INFO 08-09 14:31:42] ax.early_stopping.strategies.percentile: Considering trial 9 for early stopping.\n"
     ]
    },
    {
     "name": "stderr",
     "output_type": "stream",
     "text": [
      "[INFO 08-09 14:31:42] ax.early_stopping.strategies.base: Last progression of Trial 9 is 0.5999466666666666.\n"
     ]
    },
    {
     "name": "stderr",
     "output_type": "stream",
     "text": [
      "[INFO 08-09 14:31:42] ax.early_stopping.strategies.percentile: Early stopping objective at last progression is:\n",
      "0    0.928987\n",
      "1    0.928144\n",
      "2    0.808475\n",
      "3    0.934863\n",
      "4    0.932743\n",
      "5    0.934730\n",
      "7    0.950978\n",
      "8    0.952640\n",
      "9    0.951238\n",
      "Name: 0.5999466666666666, dtype: float64.\n"
     ]
    },
    {
     "name": "stderr",
     "output_type": "stream",
     "text": [
      "[INFO 08-09 14:31:42] ax.early_stopping.strategies.percentile: Early stopping decision for 9: False. Reason: Trial objective value 0.9512380957603455 is better than 70.0-th percentile (0.9445316910743713) across comparable trials.\n"
     ]
    },
    {
     "name": "stderr",
     "output_type": "stream",
     "text": [
      "[INFO 08-09 14:31:42] ax.early_stopping.strategies.percentile: Considering trial 10 for early stopping.\n"
     ]
    },
    {
     "name": "stderr",
     "output_type": "stream",
     "text": [
      "[INFO 08-09 14:31:42] ax.early_stopping.strategies.base: Last progression of Trial 10 is 0.29994666666666664.\n"
     ]
    },
    {
     "name": "stderr",
     "output_type": "stream",
     "text": [
      "[INFO 08-09 14:31:42] ax.early_stopping.strategies.base: Trial 10's most recent progression (0.29994666666666664) falls out of the min/max_progression range (0.3, None). Not early stopping this trial.\n"
     ]
    },
    {
     "name": "stderr",
     "output_type": "stream",
     "text": [
      "[INFO 08-09 14:31:42] Scheduler: Waiting for completed trials (for 10 sec, currently running trials: 3).\n"
     ]
    },
    {
     "name": "stderr",
     "output_type": "stream",
     "text": [
      "[INFO 08-09 14:31:52] Scheduler: Fetching data for trials: 8 - 10 because some metrics on experiment are available while trials are running.\n"
     ]
    },
    {
     "name": "stderr",
     "output_type": "stream",
     "text": [
      "[INFO 08-09 14:31:52] ax.early_stopping.strategies.base: Last progression of any candidate for trial stopping is 0.8999466666666667.\n"
     ]
    },
    {
     "name": "stderr",
     "output_type": "stream",
     "text": [
      "[INFO 08-09 14:31:52] ax.early_stopping.strategies.percentile: Considering trial 8 for early stopping.\n"
     ]
    },
    {
     "name": "stderr",
     "output_type": "stream",
     "text": [
      "[INFO 08-09 14:31:52] ax.early_stopping.strategies.base: Last progression of Trial 8 is 0.8999466666666667.\n"
     ]
    },
    {
     "name": "stderr",
     "output_type": "stream",
     "text": [
      "[INFO 08-09 14:31:52] ax.early_stopping.strategies.percentile: Early stopping objective at last progression is:\n",
      "0    0.936034\n",
      "1    0.937899\n",
      "2    0.857311\n",
      "3    0.940041\n",
      "4    0.932324\n",
      "7    0.955542\n",
      "8    0.955211\n",
      "Name: 0.8999466666666667, dtype: float64.\n"
     ]
    },
    {
     "name": "stderr",
     "output_type": "stream",
     "text": [
      "[INFO 08-09 14:31:52] ax.early_stopping.strategies.percentile: Early stopping decision for 8: False. Reason: Trial objective value 0.9552108645439148 is better than 70.0-th percentile (0.9430747389793396) across comparable trials.\n"
     ]
    },
    {
     "name": "stderr",
     "output_type": "stream",
     "text": [
      "[INFO 08-09 14:31:52] ax.early_stopping.strategies.percentile: Considering trial 9 for early stopping.\n"
     ]
    },
    {
     "name": "stderr",
     "output_type": "stream",
     "text": [
      "[INFO 08-09 14:31:52] ax.early_stopping.strategies.base: Last progression of Trial 9 is 0.6999466666666667.\n"
     ]
    },
    {
     "name": "stderr",
     "output_type": "stream",
     "text": [
      "[INFO 08-09 14:31:52] ax.early_stopping.strategies.percentile: Early stopping objective at last progression is:\n",
      "0    0.931204\n",
      "1    0.933209\n",
      "2    0.811314\n",
      "3    0.937206\n",
      "4    0.920759\n",
      "7    0.951094\n",
      "8    0.959523\n",
      "9    0.953697\n",
      "Name: 0.6999466666666667, dtype: float64.\n"
     ]
    },
    {
     "name": "stderr",
     "output_type": "stream",
     "text": [
      "[INFO 08-09 14:31:52] ax.early_stopping.strategies.percentile: Early stopping decision for 9: False. Reason: Trial objective value 0.9536974430084229 is better than 70.0-th percentile (0.9497056305408478) across comparable trials.\n"
     ]
    },
    {
     "name": "stderr",
     "output_type": "stream",
     "text": [
      "[INFO 08-09 14:31:52] ax.early_stopping.strategies.percentile: Considering trial 10 for early stopping.\n"
     ]
    },
    {
     "name": "stderr",
     "output_type": "stream",
     "text": [
      "[INFO 08-09 14:31:52] ax.early_stopping.strategies.base: Last progression of Trial 10 is 0.29994666666666664.\n"
     ]
    },
    {
     "name": "stderr",
     "output_type": "stream",
     "text": [
      "[INFO 08-09 14:31:52] ax.early_stopping.strategies.base: Trial 10's most recent progression (0.29994666666666664) falls out of the min/max_progression range (0.3, None). Not early stopping this trial.\n"
     ]
    },
    {
     "name": "stderr",
     "output_type": "stream",
     "text": [
      "[INFO 08-09 14:31:52] Scheduler: Waiting for completed trials (for 10 sec, currently running trials: 3).\n"
     ]
    },
    {
     "name": "stderr",
     "output_type": "stream",
     "text": [
      "[INFO 08-09 14:32:02] Scheduler: Fetching data for trials: 8 - 10 because some metrics on experiment are available while trials are running.\n"
     ]
    },
    {
     "name": "stderr",
     "output_type": "stream",
     "text": [
      "[INFO 08-09 14:32:02] ax.early_stopping.strategies.base: Last progression of any candidate for trial stopping is 0.8999466666666667.\n"
     ]
    },
    {
     "name": "stderr",
     "output_type": "stream",
     "text": [
      "[INFO 08-09 14:32:03] ax.early_stopping.strategies.percentile: Considering trial 8 for early stopping.\n"
     ]
    },
    {
     "name": "stderr",
     "output_type": "stream",
     "text": [
      "[INFO 08-09 14:32:03] ax.early_stopping.strategies.base: Last progression of Trial 8 is 0.8999466666666667.\n"
     ]
    },
    {
     "name": "stderr",
     "output_type": "stream",
     "text": [
      "[INFO 08-09 14:32:03] ax.early_stopping.strategies.percentile: Early stopping objective at last progression is:\n",
      "0    0.936034\n",
      "1    0.937899\n",
      "2    0.857311\n",
      "3    0.940041\n",
      "4    0.932324\n",
      "7    0.955542\n",
      "8    0.955211\n",
      "Name: 0.8999466666666667, dtype: float64.\n"
     ]
    },
    {
     "name": "stderr",
     "output_type": "stream",
     "text": [
      "[INFO 08-09 14:32:03] ax.early_stopping.strategies.percentile: Early stopping decision for 8: False. Reason: Trial objective value 0.9552108645439148 is better than 70.0-th percentile (0.9430747389793396) across comparable trials.\n"
     ]
    },
    {
     "name": "stderr",
     "output_type": "stream",
     "text": [
      "[INFO 08-09 14:32:03] ax.early_stopping.strategies.percentile: Considering trial 9 for early stopping.\n"
     ]
    },
    {
     "name": "stderr",
     "output_type": "stream",
     "text": [
      "[INFO 08-09 14:32:03] ax.early_stopping.strategies.base: Last progression of Trial 9 is 0.6999466666666667.\n"
     ]
    },
    {
     "name": "stderr",
     "output_type": "stream",
     "text": [
      "[INFO 08-09 14:32:03] ax.early_stopping.strategies.percentile: Early stopping objective at last progression is:\n",
      "0    0.931204\n",
      "1    0.933209\n",
      "2    0.811314\n",
      "3    0.937206\n",
      "4    0.920759\n",
      "7    0.951094\n",
      "8    0.959523\n",
      "9    0.953697\n",
      "Name: 0.6999466666666667, dtype: float64.\n"
     ]
    },
    {
     "name": "stderr",
     "output_type": "stream",
     "text": [
      "[INFO 08-09 14:32:03] ax.early_stopping.strategies.percentile: Early stopping decision for 9: False. Reason: Trial objective value 0.9536974430084229 is better than 70.0-th percentile (0.9497056305408478) across comparable trials.\n"
     ]
    },
    {
     "name": "stderr",
     "output_type": "stream",
     "text": [
      "[INFO 08-09 14:32:03] ax.early_stopping.strategies.percentile: Considering trial 10 for early stopping.\n"
     ]
    },
    {
     "name": "stderr",
     "output_type": "stream",
     "text": [
      "[INFO 08-09 14:32:03] ax.early_stopping.strategies.base: Last progression of Trial 10 is 0.29994666666666664.\n"
     ]
    },
    {
     "name": "stderr",
     "output_type": "stream",
     "text": [
      "[INFO 08-09 14:32:03] ax.early_stopping.strategies.base: Trial 10's most recent progression (0.29994666666666664) falls out of the min/max_progression range (0.3, None). Not early stopping this trial.\n"
     ]
    },
    {
     "name": "stderr",
     "output_type": "stream",
     "text": [
      "[INFO 08-09 14:32:03] Scheduler: Waiting for completed trials (for 10 sec, currently running trials: 3).\n"
     ]
    },
    {
     "name": "stderr",
     "output_type": "stream",
     "text": [
      "[INFO 08-09 14:32:13] Scheduler: Fetching data for trials: 8 - 10 because some metrics on experiment are available while trials are running.\n"
     ]
    },
    {
     "name": "stderr",
     "output_type": "stream",
     "text": [
      "[INFO 08-09 14:32:13] ax.early_stopping.strategies.base: Last progression of any candidate for trial stopping is 0.9999466666666667.\n"
     ]
    },
    {
     "name": "stderr",
     "output_type": "stream",
     "text": [
      "[INFO 08-09 14:32:13] ax.early_stopping.strategies.percentile: Considering trial 8 for early stopping.\n"
     ]
    },
    {
     "name": "stderr",
     "output_type": "stream",
     "text": [
      "[INFO 08-09 14:32:13] ax.early_stopping.strategies.base: Last progression of Trial 8 is 0.9999466666666667.\n"
     ]
    },
    {
     "name": "stderr",
     "output_type": "stream",
     "text": [
      "[INFO 08-09 14:32:13] ax.early_stopping.strategies.percentile: Early stopping objective at last progression is:\n",
      "0    0.936783\n",
      "1    0.928827\n",
      "2    0.868771\n",
      "3    0.939049\n",
      "4    0.930138\n",
      "7    0.956917\n",
      "8    0.955711\n",
      "Name: 0.9999466666666667, dtype: float64.\n"
     ]
    },
    {
     "name": "stderr",
     "output_type": "stream",
     "text": [
      "[INFO 08-09 14:32:13] ax.early_stopping.strategies.percentile: Early stopping decision for 8: False. Reason: Trial objective value 0.9557112455368042 is better than 70.0-th percentile (0.9423814058303833) across comparable trials.\n"
     ]
    },
    {
     "name": "stderr",
     "output_type": "stream",
     "text": [
      "[INFO 08-09 14:32:13] ax.early_stopping.strategies.percentile: Considering trial 9 for early stopping.\n"
     ]
    },
    {
     "name": "stderr",
     "output_type": "stream",
     "text": [
      "[INFO 08-09 14:32:13] ax.early_stopping.strategies.base: Last progression of Trial 9 is 0.7999466666666667.\n"
     ]
    },
    {
     "name": "stderr",
     "output_type": "stream",
     "text": [
      "[INFO 08-09 14:32:13] ax.early_stopping.strategies.percentile: Early stopping objective at last progression is:\n",
      "0    0.933642\n",
      "1    0.926650\n",
      "2    0.836528\n",
      "3    0.938943\n",
      "4    0.931791\n",
      "7    0.950890\n",
      "8    0.955354\n",
      "9    0.956751\n",
      "Name: 0.7999466666666667, dtype: float64.\n"
     ]
    },
    {
     "name": "stderr",
     "output_type": "stream",
     "text": [
      "[INFO 08-09 14:32:13] ax.early_stopping.strategies.percentile: Early stopping decision for 9: False. Reason: Trial objective value 0.9567505717277527 is better than 70.0-th percentile (0.949695497751236) across comparable trials.\n"
     ]
    },
    {
     "name": "stderr",
     "output_type": "stream",
     "text": [
      "[INFO 08-09 14:32:13] ax.early_stopping.strategies.percentile: Considering trial 10 for early stopping.\n"
     ]
    },
    {
     "name": "stderr",
     "output_type": "stream",
     "text": [
      "[INFO 08-09 14:32:13] ax.early_stopping.strategies.base: Last progression of Trial 10 is 0.3999466666666667.\n"
     ]
    },
    {
     "name": "stderr",
     "output_type": "stream",
     "text": [
      "[INFO 08-09 14:32:13] ax.early_stopping.strategies.percentile: Early stopping objective at last progression is:\n",
      "0     0.924426\n",
      "1     0.919765\n",
      "2     0.790812\n",
      "3     0.927625\n",
      "4     0.922909\n",
      "5     0.936341\n",
      "6     0.895719\n",
      "7     0.950981\n",
      "8     0.949285\n",
      "9     0.944481\n",
      "10    0.927286\n",
      "Name: 0.3999466666666667, dtype: float64.\n"
     ]
    },
    {
     "name": "stderr",
     "output_type": "stream",
     "text": [
      "[INFO 08-09 14:32:13] ax.early_stopping.strategies.percentile: Early stopping decision for 10: True. Reason: Trial objective value 0.9272858500480652 is worse than 70.0-th percentile (0.9363412857055664) across comparable trials.\n"
     ]
    },
    {
     "name": "stderr",
     "output_type": "stream",
     "text": [
      "[INFO 08-09 14:32:13] Scheduler: Retrieved EARLY_STOPPED trials: [10].\n"
     ]
    },
    {
     "name": "stderr",
     "output_type": "stream",
     "text": [
      "/Users/mpolson64/opt/anaconda3/envs/ax-dev/lib/python3.9/site-packages/linear_operator/utils/cholesky.py:40: NumericalWarning: A not p.d., added jitter of 1.0e-08 to the diagonal\n",
      "  warnings.warn(\n",
      "[INFO 08-09 14:32:15] Scheduler: Running trials [11]...\n"
     ]
    },
    {
     "name": "stderr",
     "output_type": "stream",
     "text": [
      "[INFO 08-09 14:32:15] ax.modelbridge.torch: The observations are identical to the last set of observations used to fit the model. Skipping model fitting.\n"
     ]
    },
    {
     "name": "stderr",
     "output_type": "stream",
     "text": [
      "[INFO 08-09 14:32:15] Scheduler: Generated all trials that can be generated currently. Max parallelism currently reached.\n"
     ]
    },
    {
     "name": "stderr",
     "output_type": "stream",
     "text": [
      "[WARNING 08-09 14:32:15] Scheduler: Both `init_seconds_between_polls` and `early_stopping_strategy supplied. `init_seconds_between_polls=1` will be overrridden by `early_stopping_strategy.seconds_between_polls=10` and polling will take place at a constant rate.\n"
     ]
    },
    {
     "name": "stderr",
     "output_type": "stream",
     "text": [
      "[INFO 08-09 14:32:15] Scheduler: Fetching data for trials: [9, 11] because some metrics on experiment are available while trials are running.\n"
     ]
    },
    {
     "name": "stderr",
     "output_type": "stream",
     "text": [
      "[INFO 08-09 14:32:15] ax.metrics.curve: val_acc not yet present in curves from /var/folders/w_/g_40lr6j0s98g6921f3qxcmr0000gn/T/tmpnxpj5dby/11. Returning without this metric.\n"
     ]
    },
    {
     "name": "stderr",
     "output_type": "stream",
     "text": [
      "[INFO 08-09 14:32:15] ax.core.metric: MetricFetchE INFO: Initialized MetricFetchE(message=\"DataFrame from curve series is empty\")\n"
     ]
    },
    {
     "name": "stderr",
     "output_type": "stream",
     "text": [
      "[ERROR 08-09 14:32:15] ax.core.experiment: Discovered Metric fetching Err while attaching data MetricFetchE(message=\"DataFrame from curve series is empty\"). Ignoring for now -- will retry query on next call to fetch.\n"
     ]
    },
    {
     "name": "stderr",
     "output_type": "stream",
     "text": [
      "[WARNING 08-09 14:32:15] Scheduler: Failed to fetch val_acc for trial 11, found MetricFetchE(message=\"DataFrame from curve series is empty\").\n"
     ]
    },
    {
     "name": "stderr",
     "output_type": "stream",
     "text": [
      "[INFO 08-09 14:32:15] Scheduler: MetricFetchE INFO: Because val_acc is available_while_running and trial 11 is still RUNNING continuing the experiment and retrying on next poll...\n"
     ]
    },
    {
     "name": "stderr",
     "output_type": "stream",
     "text": [
      "[INFO 08-09 14:32:15] ax.early_stopping.strategies.base: Last progression of any candidate for trial stopping is 0.7999466666666667.\n"
     ]
    },
    {
     "name": "stderr",
     "output_type": "stream",
     "text": [
      "[INFO 08-09 14:32:15] ax.early_stopping.strategies.percentile: Considering trial 9 for early stopping.\n"
     ]
    },
    {
     "name": "stderr",
     "output_type": "stream",
     "text": [
      "[INFO 08-09 14:32:15] ax.early_stopping.strategies.base: Last progression of Trial 9 is 0.7999466666666667.\n"
     ]
    },
    {
     "name": "stderr",
     "output_type": "stream",
     "text": [
      "[INFO 08-09 14:32:15] ax.early_stopping.strategies.percentile: Early stopping objective at last progression is:\n",
      "0    0.933642\n",
      "1    0.926650\n",
      "2    0.836528\n",
      "3    0.938943\n",
      "4    0.931791\n",
      "7    0.950890\n",
      "8    0.955354\n",
      "9    0.956751\n",
      "Name: 0.7999466666666667, dtype: float64.\n"
     ]
    },
    {
     "name": "stderr",
     "output_type": "stream",
     "text": [
      "[INFO 08-09 14:32:15] ax.early_stopping.strategies.percentile: Early stopping decision for 9: False. Reason: Trial objective value 0.9567505717277527 is better than 70.0-th percentile (0.949695497751236) across comparable trials.\n"
     ]
    },
    {
     "name": "stderr",
     "output_type": "stream",
     "text": [
      "[INFO 08-09 14:32:15] ax.early_stopping.strategies.percentile: Considering trial 11 for early stopping.\n"
     ]
    },
    {
     "name": "stderr",
     "output_type": "stream",
     "text": [
      "[INFO 08-09 14:32:15] ax.early_stopping.strategies.base: There is not yet any data associated with trial 11. Not early stopping this trial.\n"
     ]
    },
    {
     "name": "stderr",
     "output_type": "stream",
     "text": [
      "[INFO 08-09 14:32:15] Scheduler: Retrieved COMPLETED trials: [8].\n"
     ]
    },
    {
     "name": "stderr",
     "output_type": "stream",
     "text": [
      "[INFO 08-09 14:32:15] Scheduler: Fetching data for trials: [8].\n"
     ]
    },
    {
     "name": "stderr",
     "output_type": "stream",
     "text": [
      "/Users/mpolson64/opt/anaconda3/envs/ax-dev/lib/python3.9/site-packages/linear_operator/utils/cholesky.py:40: NumericalWarning: A not p.d., added jitter of 1.0e-08 to the diagonal\n",
      "  warnings.warn(\n",
      "[INFO 08-09 14:32:17] Scheduler: Running trials [12]...\n"
     ]
    },
    {
     "name": "stderr",
     "output_type": "stream",
     "text": [
      "[INFO 08-09 14:32:18] ax.modelbridge.torch: The observations are identical to the last set of observations used to fit the model. Skipping model fitting.\n"
     ]
    },
    {
     "name": "stderr",
     "output_type": "stream",
     "text": [
      "[INFO 08-09 14:32:18] Scheduler: Generated all trials that can be generated currently. Max parallelism currently reached.\n"
     ]
    },
    {
     "name": "stderr",
     "output_type": "stream",
     "text": [
      "[WARNING 08-09 14:32:18] Scheduler: Both `init_seconds_between_polls` and `early_stopping_strategy supplied. `init_seconds_between_polls=1` will be overrridden by `early_stopping_strategy.seconds_between_polls=10` and polling will take place at a constant rate.\n"
     ]
    },
    {
     "name": "stderr",
     "output_type": "stream",
     "text": [
      "[INFO 08-09 14:32:18] Scheduler: Fetching data for trials: [9, 11, 12] because some metrics on experiment are available while trials are running.\n"
     ]
    },
    {
     "name": "stderr",
     "output_type": "stream",
     "text": [
      "[INFO 08-09 14:32:18] ax.metrics.curve: val_acc not yet present in curves from /var/folders/w_/g_40lr6j0s98g6921f3qxcmr0000gn/T/tmpnxpj5dby/11. Returning without this metric.\n"
     ]
    },
    {
     "name": "stderr",
     "output_type": "stream",
     "text": [
      "[INFO 08-09 14:32:18] ax.core.metric: MetricFetchE INFO: Initialized MetricFetchE(message=\"DataFrame from curve series is empty\")\n"
     ]
    },
    {
     "name": "stderr",
     "output_type": "stream",
     "text": [
      "[INFO 08-09 14:32:18] ax.metrics.curve: val_acc not yet present in curves from /var/folders/w_/g_40lr6j0s98g6921f3qxcmr0000gn/T/tmpnxpj5dby/12. Returning without this metric.\n"
     ]
    },
    {
     "name": "stderr",
     "output_type": "stream",
     "text": [
      "[INFO 08-09 14:32:18] ax.core.metric: MetricFetchE INFO: Initialized MetricFetchE(message=\"DataFrame from curve series is empty\")\n"
     ]
    },
    {
     "name": "stderr",
     "output_type": "stream",
     "text": [
      "[ERROR 08-09 14:32:18] ax.core.experiment: Discovered Metric fetching Err while attaching data MetricFetchE(message=\"DataFrame from curve series is empty\"). Ignoring for now -- will retry query on next call to fetch.\n"
     ]
    },
    {
     "name": "stderr",
     "output_type": "stream",
     "text": [
      "[ERROR 08-09 14:32:18] ax.core.experiment: Discovered Metric fetching Err while attaching data MetricFetchE(message=\"DataFrame from curve series is empty\"). Ignoring for now -- will retry query on next call to fetch.\n"
     ]
    },
    {
     "name": "stderr",
     "output_type": "stream",
     "text": [
      "[WARNING 08-09 14:32:18] Scheduler: Failed to fetch val_acc for trial 11, found MetricFetchE(message=\"DataFrame from curve series is empty\").\n"
     ]
    },
    {
     "name": "stderr",
     "output_type": "stream",
     "text": [
      "[INFO 08-09 14:32:18] Scheduler: MetricFetchE INFO: Because val_acc is available_while_running and trial 11 is still RUNNING continuing the experiment and retrying on next poll...\n"
     ]
    },
    {
     "name": "stderr",
     "output_type": "stream",
     "text": [
      "[WARNING 08-09 14:32:18] Scheduler: Failed to fetch val_acc for trial 12, found MetricFetchE(message=\"DataFrame from curve series is empty\").\n"
     ]
    },
    {
     "name": "stderr",
     "output_type": "stream",
     "text": [
      "[INFO 08-09 14:32:18] Scheduler: MetricFetchE INFO: Because val_acc is available_while_running and trial 12 is still RUNNING continuing the experiment and retrying on next poll...\n"
     ]
    },
    {
     "name": "stderr",
     "output_type": "stream",
     "text": [
      "[INFO 08-09 14:32:18] ax.early_stopping.strategies.base: Last progression of any candidate for trial stopping is 0.7999466666666667.\n"
     ]
    },
    {
     "name": "stderr",
     "output_type": "stream",
     "text": [
      "[INFO 08-09 14:32:18] ax.early_stopping.strategies.percentile: Considering trial 9 for early stopping.\n"
     ]
    },
    {
     "name": "stderr",
     "output_type": "stream",
     "text": [
      "[INFO 08-09 14:32:18] ax.early_stopping.strategies.base: Last progression of Trial 9 is 0.7999466666666667.\n"
     ]
    },
    {
     "name": "stderr",
     "output_type": "stream",
     "text": [
      "[INFO 08-09 14:32:18] ax.early_stopping.strategies.percentile: Early stopping objective at last progression is:\n",
      "0    0.933642\n",
      "1    0.926650\n",
      "2    0.836528\n",
      "3    0.938943\n",
      "4    0.931791\n",
      "7    0.950890\n",
      "8    0.955354\n",
      "9    0.956751\n",
      "Name: 0.7999466666666667, dtype: float64.\n"
     ]
    },
    {
     "name": "stderr",
     "output_type": "stream",
     "text": [
      "[INFO 08-09 14:32:18] ax.early_stopping.strategies.percentile: Early stopping decision for 9: False. Reason: Trial objective value 0.9567505717277527 is better than 70.0-th percentile (0.949695497751236) across comparable trials.\n"
     ]
    },
    {
     "name": "stderr",
     "output_type": "stream",
     "text": [
      "[INFO 08-09 14:32:18] ax.early_stopping.strategies.percentile: Considering trial 11 for early stopping.\n"
     ]
    },
    {
     "name": "stderr",
     "output_type": "stream",
     "text": [
      "[INFO 08-09 14:32:18] ax.early_stopping.strategies.base: There is not yet any data associated with trial 11. Not early stopping this trial.\n"
     ]
    },
    {
     "name": "stderr",
     "output_type": "stream",
     "text": [
      "[INFO 08-09 14:32:18] ax.early_stopping.strategies.percentile: Considering trial 12 for early stopping.\n"
     ]
    },
    {
     "name": "stderr",
     "output_type": "stream",
     "text": [
      "[INFO 08-09 14:32:18] ax.early_stopping.strategies.base: There is not yet any data associated with trial 12. Not early stopping this trial.\n"
     ]
    },
    {
     "name": "stderr",
     "output_type": "stream",
     "text": [
      "[INFO 08-09 14:32:18] Scheduler: Waiting for completed trials (for 10 sec, currently running trials: 3).\n"
     ]
    },
    {
     "name": "stderr",
     "output_type": "stream",
     "text": [
      "[INFO 08-09 14:32:28] Scheduler: Fetching data for trials: [9, 11, 12] because some metrics on experiment are available while trials are running.\n"
     ]
    },
    {
     "name": "stderr",
     "output_type": "stream",
     "text": [
      "[INFO 08-09 14:32:28] ax.metrics.curve: val_acc not yet present in curves from /var/folders/w_/g_40lr6j0s98g6921f3qxcmr0000gn/T/tmpnxpj5dby/11. Returning without this metric.\n"
     ]
    },
    {
     "name": "stderr",
     "output_type": "stream",
     "text": [
      "[INFO 08-09 14:32:28] ax.core.metric: MetricFetchE INFO: Initialized MetricFetchE(message=\"DataFrame from curve series is empty\")\n"
     ]
    },
    {
     "name": "stderr",
     "output_type": "stream",
     "text": [
      "[INFO 08-09 14:32:28] ax.metrics.curve: val_acc not yet present in curves from /var/folders/w_/g_40lr6j0s98g6921f3qxcmr0000gn/T/tmpnxpj5dby/12. Returning without this metric.\n"
     ]
    },
    {
     "name": "stderr",
     "output_type": "stream",
     "text": [
      "[INFO 08-09 14:32:28] ax.core.metric: MetricFetchE INFO: Initialized MetricFetchE(message=\"DataFrame from curve series is empty\")\n"
     ]
    },
    {
     "name": "stderr",
     "output_type": "stream",
     "text": [
      "[ERROR 08-09 14:32:28] ax.core.experiment: Discovered Metric fetching Err while attaching data MetricFetchE(message=\"DataFrame from curve series is empty\"). Ignoring for now -- will retry query on next call to fetch.\n"
     ]
    },
    {
     "name": "stderr",
     "output_type": "stream",
     "text": [
      "[ERROR 08-09 14:32:28] ax.core.experiment: Discovered Metric fetching Err while attaching data MetricFetchE(message=\"DataFrame from curve series is empty\"). Ignoring for now -- will retry query on next call to fetch.\n"
     ]
    },
    {
     "name": "stderr",
     "output_type": "stream",
     "text": [
      "[WARNING 08-09 14:32:28] Scheduler: Failed to fetch val_acc for trial 11, found MetricFetchE(message=\"DataFrame from curve series is empty\").\n"
     ]
    },
    {
     "name": "stderr",
     "output_type": "stream",
     "text": [
      "[INFO 08-09 14:32:28] Scheduler: MetricFetchE INFO: Because val_acc is available_while_running and trial 11 is still RUNNING continuing the experiment and retrying on next poll...\n"
     ]
    },
    {
     "name": "stderr",
     "output_type": "stream",
     "text": [
      "[WARNING 08-09 14:32:28] Scheduler: Failed to fetch val_acc for trial 12, found MetricFetchE(message=\"DataFrame from curve series is empty\").\n"
     ]
    },
    {
     "name": "stderr",
     "output_type": "stream",
     "text": [
      "[INFO 08-09 14:32:28] Scheduler: MetricFetchE INFO: Because val_acc is available_while_running and trial 12 is still RUNNING continuing the experiment and retrying on next poll...\n"
     ]
    },
    {
     "name": "stderr",
     "output_type": "stream",
     "text": [
      "[INFO 08-09 14:32:28] ax.early_stopping.strategies.base: Last progression of any candidate for trial stopping is 0.7999466666666667.\n"
     ]
    },
    {
     "name": "stderr",
     "output_type": "stream",
     "text": [
      "[INFO 08-09 14:32:28] ax.early_stopping.strategies.percentile: Considering trial 9 for early stopping.\n"
     ]
    },
    {
     "name": "stderr",
     "output_type": "stream",
     "text": [
      "[INFO 08-09 14:32:28] ax.early_stopping.strategies.base: Last progression of Trial 9 is 0.7999466666666667.\n"
     ]
    },
    {
     "name": "stderr",
     "output_type": "stream",
     "text": [
      "[INFO 08-09 14:32:28] ax.early_stopping.strategies.percentile: Early stopping objective at last progression is:\n",
      "0    0.933642\n",
      "1    0.926650\n",
      "2    0.836528\n",
      "3    0.938943\n",
      "4    0.931791\n",
      "7    0.950890\n",
      "8    0.955354\n",
      "9    0.956751\n",
      "Name: 0.7999466666666667, dtype: float64.\n"
     ]
    },
    {
     "name": "stderr",
     "output_type": "stream",
     "text": [
      "[INFO 08-09 14:32:28] ax.early_stopping.strategies.percentile: Early stopping decision for 9: False. Reason: Trial objective value 0.9567505717277527 is better than 70.0-th percentile (0.949695497751236) across comparable trials.\n"
     ]
    },
    {
     "name": "stderr",
     "output_type": "stream",
     "text": [
      "[INFO 08-09 14:32:28] ax.early_stopping.strategies.percentile: Considering trial 11 for early stopping.\n"
     ]
    },
    {
     "name": "stderr",
     "output_type": "stream",
     "text": [
      "[INFO 08-09 14:32:28] ax.early_stopping.strategies.base: There is not yet any data associated with trial 11. Not early stopping this trial.\n"
     ]
    },
    {
     "name": "stderr",
     "output_type": "stream",
     "text": [
      "[INFO 08-09 14:32:28] ax.early_stopping.strategies.percentile: Considering trial 12 for early stopping.\n"
     ]
    },
    {
     "name": "stderr",
     "output_type": "stream",
     "text": [
      "[INFO 08-09 14:32:28] ax.early_stopping.strategies.base: There is not yet any data associated with trial 12. Not early stopping this trial.\n"
     ]
    },
    {
     "name": "stderr",
     "output_type": "stream",
     "text": [
      "[INFO 08-09 14:32:28] Scheduler: Waiting for completed trials (for 10 sec, currently running trials: 3).\n"
     ]
    },
    {
     "name": "stderr",
     "output_type": "stream",
     "text": [
      "[INFO 08-09 14:32:38] Scheduler: Fetching data for trials: [9, 11, 12] because some metrics on experiment are available while trials are running.\n"
     ]
    },
    {
     "name": "stderr",
     "output_type": "stream",
     "text": [
      "[INFO 08-09 14:32:38] ax.metrics.curve: val_acc not yet present in curves from /var/folders/w_/g_40lr6j0s98g6921f3qxcmr0000gn/T/tmpnxpj5dby/11. Returning without this metric.\n"
     ]
    },
    {
     "name": "stderr",
     "output_type": "stream",
     "text": [
      "[INFO 08-09 14:32:38] ax.core.metric: MetricFetchE INFO: Initialized MetricFetchE(message=\"DataFrame from curve series is empty\")\n"
     ]
    },
    {
     "name": "stderr",
     "output_type": "stream",
     "text": [
      "[INFO 08-09 14:32:38] ax.metrics.curve: val_acc not yet present in curves from /var/folders/w_/g_40lr6j0s98g6921f3qxcmr0000gn/T/tmpnxpj5dby/12. Returning without this metric.\n"
     ]
    },
    {
     "name": "stderr",
     "output_type": "stream",
     "text": [
      "[INFO 08-09 14:32:38] ax.core.metric: MetricFetchE INFO: Initialized MetricFetchE(message=\"DataFrame from curve series is empty\")\n"
     ]
    },
    {
     "name": "stderr",
     "output_type": "stream",
     "text": [
      "[ERROR 08-09 14:32:38] ax.core.experiment: Discovered Metric fetching Err while attaching data MetricFetchE(message=\"DataFrame from curve series is empty\"). Ignoring for now -- will retry query on next call to fetch.\n"
     ]
    },
    {
     "name": "stderr",
     "output_type": "stream",
     "text": [
      "[ERROR 08-09 14:32:38] ax.core.experiment: Discovered Metric fetching Err while attaching data MetricFetchE(message=\"DataFrame from curve series is empty\"). Ignoring for now -- will retry query on next call to fetch.\n"
     ]
    },
    {
     "name": "stderr",
     "output_type": "stream",
     "text": [
      "[WARNING 08-09 14:32:38] Scheduler: Failed to fetch val_acc for trial 11, found MetricFetchE(message=\"DataFrame from curve series is empty\").\n"
     ]
    },
    {
     "name": "stderr",
     "output_type": "stream",
     "text": [
      "[INFO 08-09 14:32:38] Scheduler: MetricFetchE INFO: Because val_acc is available_while_running and trial 11 is still RUNNING continuing the experiment and retrying on next poll...\n"
     ]
    },
    {
     "name": "stderr",
     "output_type": "stream",
     "text": [
      "[WARNING 08-09 14:32:38] Scheduler: Failed to fetch val_acc for trial 12, found MetricFetchE(message=\"DataFrame from curve series is empty\").\n"
     ]
    },
    {
     "name": "stderr",
     "output_type": "stream",
     "text": [
      "[INFO 08-09 14:32:38] Scheduler: MetricFetchE INFO: Because val_acc is available_while_running and trial 12 is still RUNNING continuing the experiment and retrying on next poll...\n"
     ]
    },
    {
     "name": "stderr",
     "output_type": "stream",
     "text": [
      "[INFO 08-09 14:32:38] ax.early_stopping.strategies.base: Last progression of any candidate for trial stopping is 0.8999466666666667.\n"
     ]
    },
    {
     "name": "stderr",
     "output_type": "stream",
     "text": [
      "[INFO 08-09 14:32:38] ax.early_stopping.strategies.percentile: Considering trial 9 for early stopping.\n"
     ]
    },
    {
     "name": "stderr",
     "output_type": "stream",
     "text": [
      "[INFO 08-09 14:32:38] ax.early_stopping.strategies.base: Last progression of Trial 9 is 0.8999466666666667.\n"
     ]
    },
    {
     "name": "stderr",
     "output_type": "stream",
     "text": [
      "[INFO 08-09 14:32:38] ax.early_stopping.strategies.percentile: Early stopping objective at last progression is:\n",
      "0    0.936034\n",
      "1    0.937899\n",
      "2    0.857311\n",
      "3    0.940041\n",
      "4    0.932324\n",
      "7    0.955542\n",
      "8    0.955211\n",
      "9    0.956102\n",
      "Name: 0.8999466666666667, dtype: float64.\n"
     ]
    },
    {
     "name": "stderr",
     "output_type": "stream",
     "text": [
      "[INFO 08-09 14:32:38] ax.early_stopping.strategies.percentile: Early stopping decision for 9: False. Reason: Trial objective value 0.9561021327972412 is better than 70.0-th percentile (0.9536938488483429) across comparable trials.\n"
     ]
    },
    {
     "name": "stderr",
     "output_type": "stream",
     "text": [
      "[INFO 08-09 14:32:38] ax.early_stopping.strategies.percentile: Considering trial 11 for early stopping.\n"
     ]
    },
    {
     "name": "stderr",
     "output_type": "stream",
     "text": [
      "[INFO 08-09 14:32:38] ax.early_stopping.strategies.base: There is not yet any data associated with trial 11. Not early stopping this trial.\n"
     ]
    },
    {
     "name": "stderr",
     "output_type": "stream",
     "text": [
      "[INFO 08-09 14:32:38] ax.early_stopping.strategies.percentile: Considering trial 12 for early stopping.\n"
     ]
    },
    {
     "name": "stderr",
     "output_type": "stream",
     "text": [
      "[INFO 08-09 14:32:38] ax.early_stopping.strategies.base: There is not yet any data associated with trial 12. Not early stopping this trial.\n"
     ]
    },
    {
     "name": "stderr",
     "output_type": "stream",
     "text": [
      "[INFO 08-09 14:32:38] Scheduler: Waiting for completed trials (for 10 sec, currently running trials: 3).\n"
     ]
    },
    {
     "name": "stderr",
     "output_type": "stream",
     "text": [
      "[INFO 08-09 14:32:48] Scheduler: Fetching data for trials: [9, 11, 12] because some metrics on experiment are available while trials are running.\n"
     ]
    },
    {
     "name": "stderr",
     "output_type": "stream",
     "text": [
      "[INFO 08-09 14:32:49] ax.early_stopping.strategies.base: Last progression of any candidate for trial stopping is 0.8999466666666667.\n"
     ]
    },
    {
     "name": "stderr",
     "output_type": "stream",
     "text": [
      "[INFO 08-09 14:32:49] ax.early_stopping.utils: Got exception `x and y arrays must have at least 2 entries` during interpolation. Using uninterpolated values instead.\n"
     ]
    },
    {
     "name": "stderr",
     "output_type": "stream",
     "text": [
      "[INFO 08-09 14:32:49] ax.early_stopping.utils: Got exception `x and y arrays must have at least 2 entries` during interpolation. Using uninterpolated values instead.\n"
     ]
    },
    {
     "name": "stderr",
     "output_type": "stream",
     "text": [
      "[INFO 08-09 14:32:49] ax.early_stopping.strategies.percentile: Considering trial 9 for early stopping.\n"
     ]
    },
    {
     "name": "stderr",
     "output_type": "stream",
     "text": [
      "[INFO 08-09 14:32:49] ax.early_stopping.strategies.base: Last progression of Trial 9 is 0.8999466666666667.\n"
     ]
    },
    {
     "name": "stderr",
     "output_type": "stream",
     "text": [
      "[INFO 08-09 14:32:49] ax.early_stopping.strategies.percentile: Early stopping objective at last progression is:\n",
      "0    0.936034\n",
      "1    0.937899\n",
      "2    0.857311\n",
      "3    0.940041\n",
      "4    0.932324\n",
      "7    0.955542\n",
      "8    0.955211\n",
      "9    0.956102\n",
      "Name: 0.8999466666666667, dtype: float64.\n"
     ]
    },
    {
     "name": "stderr",
     "output_type": "stream",
     "text": [
      "[INFO 08-09 14:32:49] ax.early_stopping.strategies.percentile: Early stopping decision for 9: False. Reason: Trial objective value 0.9561021327972412 is better than 70.0-th percentile (0.9536938488483429) across comparable trials.\n"
     ]
    },
    {
     "name": "stderr",
     "output_type": "stream",
     "text": [
      "[INFO 08-09 14:32:49] ax.early_stopping.strategies.percentile: Considering trial 11 for early stopping.\n"
     ]
    },
    {
     "name": "stderr",
     "output_type": "stream",
     "text": [
      "[INFO 08-09 14:32:49] ax.early_stopping.strategies.base: Last progression of Trial 11 is 0.09994666666666667.\n"
     ]
    },
    {
     "name": "stderr",
     "output_type": "stream",
     "text": [
      "[INFO 08-09 14:32:49] ax.early_stopping.strategies.base: Trial 11's most recent progression (0.09994666666666667) falls out of the min/max_progression range (0.3, None). Not early stopping this trial.\n"
     ]
    },
    {
     "name": "stderr",
     "output_type": "stream",
     "text": [
      "[INFO 08-09 14:32:49] ax.early_stopping.strategies.percentile: Considering trial 12 for early stopping.\n"
     ]
    },
    {
     "name": "stderr",
     "output_type": "stream",
     "text": [
      "[INFO 08-09 14:32:49] ax.early_stopping.strategies.base: Last progression of Trial 12 is 0.09994666666666667.\n"
     ]
    },
    {
     "name": "stderr",
     "output_type": "stream",
     "text": [
      "[INFO 08-09 14:32:49] ax.early_stopping.strategies.base: Trial 12's most recent progression (0.09994666666666667) falls out of the min/max_progression range (0.3, None). Not early stopping this trial.\n"
     ]
    },
    {
     "name": "stderr",
     "output_type": "stream",
     "text": [
      "[INFO 08-09 14:32:49] Scheduler: Waiting for completed trials (for 10 sec, currently running trials: 3).\n"
     ]
    },
    {
     "name": "stderr",
     "output_type": "stream",
     "text": [
      "[INFO 08-09 14:32:59] Scheduler: Fetching data for trials: [9, 11, 12] because some metrics on experiment are available while trials are running.\n"
     ]
    },
    {
     "name": "stderr",
     "output_type": "stream",
     "text": [
      "[INFO 08-09 14:32:59] ax.early_stopping.strategies.base: Last progression of any candidate for trial stopping is 0.9999466666666667.\n"
     ]
    },
    {
     "name": "stderr",
     "output_type": "stream",
     "text": [
      "[INFO 08-09 14:32:59] ax.early_stopping.utils: Got exception `x and y arrays must have at least 2 entries` during interpolation. Using uninterpolated values instead.\n"
     ]
    },
    {
     "name": "stderr",
     "output_type": "stream",
     "text": [
      "[INFO 08-09 14:32:59] ax.early_stopping.utils: Got exception `x and y arrays must have at least 2 entries` during interpolation. Using uninterpolated values instead.\n"
     ]
    },
    {
     "name": "stderr",
     "output_type": "stream",
     "text": [
      "[INFO 08-09 14:32:59] ax.early_stopping.strategies.percentile: Considering trial 9 for early stopping.\n"
     ]
    },
    {
     "name": "stderr",
     "output_type": "stream",
     "text": [
      "[INFO 08-09 14:32:59] ax.early_stopping.strategies.base: Last progression of Trial 9 is 0.9999466666666667.\n"
     ]
    },
    {
     "name": "stderr",
     "output_type": "stream",
     "text": [
      "[INFO 08-09 14:32:59] ax.early_stopping.strategies.percentile: Early stopping objective at last progression is:\n",
      "0    0.936783\n",
      "1    0.928827\n",
      "2    0.868771\n",
      "3    0.939049\n",
      "4    0.930138\n",
      "7    0.956917\n",
      "8    0.955711\n",
      "9    0.955796\n",
      "Name: 0.9999466666666667, dtype: float64.\n"
     ]
    },
    {
     "name": "stderr",
     "output_type": "stream",
     "text": [
      "[INFO 08-09 14:32:59] ax.early_stopping.strategies.percentile: Early stopping decision for 9: False. Reason: Trial objective value 0.9557958841323853 is better than 70.0-th percentile (0.9540450155735016) across comparable trials.\n"
     ]
    },
    {
     "name": "stderr",
     "output_type": "stream",
     "text": [
      "[INFO 08-09 14:32:59] ax.early_stopping.strategies.percentile: Considering trial 11 for early stopping.\n"
     ]
    },
    {
     "name": "stderr",
     "output_type": "stream",
     "text": [
      "[INFO 08-09 14:32:59] ax.early_stopping.strategies.base: Last progression of Trial 11 is 0.09994666666666667.\n"
     ]
    },
    {
     "name": "stderr",
     "output_type": "stream",
     "text": [
      "[INFO 08-09 14:32:59] ax.early_stopping.strategies.base: Trial 11's most recent progression (0.09994666666666667) falls out of the min/max_progression range (0.3, None). Not early stopping this trial.\n"
     ]
    },
    {
     "name": "stderr",
     "output_type": "stream",
     "text": [
      "[INFO 08-09 14:32:59] ax.early_stopping.strategies.percentile: Considering trial 12 for early stopping.\n"
     ]
    },
    {
     "name": "stderr",
     "output_type": "stream",
     "text": [
      "[INFO 08-09 14:32:59] ax.early_stopping.strategies.base: Last progression of Trial 12 is 0.09994666666666667.\n"
     ]
    },
    {
     "name": "stderr",
     "output_type": "stream",
     "text": [
      "[INFO 08-09 14:32:59] ax.early_stopping.strategies.base: Trial 12's most recent progression (0.09994666666666667) falls out of the min/max_progression range (0.3, None). Not early stopping this trial.\n"
     ]
    },
    {
     "name": "stderr",
     "output_type": "stream",
     "text": [
      "[INFO 08-09 14:32:59] Scheduler: Waiting for completed trials (for 10 sec, currently running trials: 3).\n"
     ]
    },
    {
     "name": "stderr",
     "output_type": "stream",
     "text": [
      "[INFO 08-09 14:33:09] Scheduler: Fetching data for trials: 11 - 12 because some metrics on experiment are available while trials are running.\n"
     ]
    },
    {
     "name": "stderr",
     "output_type": "stream",
     "text": [
      "[INFO 08-09 14:33:09] ax.early_stopping.strategies.base: Last progression of any candidate for trial stopping is 0.09994666666666667.\n"
     ]
    },
    {
     "name": "stderr",
     "output_type": "stream",
     "text": [
      "[INFO 08-09 14:33:09] ax.early_stopping.strategies.base: No trials have reached 0.3. Not stopping any trials.\n"
     ]
    },
    {
     "name": "stderr",
     "output_type": "stream",
     "text": [
      "[INFO 08-09 14:33:09] Scheduler: Retrieved COMPLETED trials: [9].\n"
     ]
    },
    {
     "name": "stderr",
     "output_type": "stream",
     "text": [
      "[INFO 08-09 14:33:09] Scheduler: Fetching data for trials: [9].\n"
     ]
    },
    {
     "name": "stderr",
     "output_type": "stream",
     "text": [
      "/Users/mpolson64/opt/anaconda3/envs/ax-dev/lib/python3.9/site-packages/linear_operator/utils/cholesky.py:40: NumericalWarning: A not p.d., added jitter of 1.0e-08 to the diagonal\n",
      "  warnings.warn(\n",
      "[INFO 08-09 14:33:12] Scheduler: Running trials [13]...\n"
     ]
    },
    {
     "name": "stderr",
     "output_type": "stream",
     "text": [
      "[INFO 08-09 14:33:13] ax.modelbridge.torch: The observations are identical to the last set of observations used to fit the model. Skipping model fitting.\n"
     ]
    },
    {
     "name": "stderr",
     "output_type": "stream",
     "text": [
      "[INFO 08-09 14:33:13] Scheduler: Generated all trials that can be generated currently. Max parallelism currently reached.\n"
     ]
    },
    {
     "name": "stderr",
     "output_type": "stream",
     "text": [
      "[WARNING 08-09 14:33:13] Scheduler: Both `init_seconds_between_polls` and `early_stopping_strategy supplied. `init_seconds_between_polls=1` will be overrridden by `early_stopping_strategy.seconds_between_polls=10` and polling will take place at a constant rate.\n"
     ]
    },
    {
     "name": "stderr",
     "output_type": "stream",
     "text": [
      "[INFO 08-09 14:33:13] Scheduler: Fetching data for trials: 11 - 13 because some metrics on experiment are available while trials are running.\n"
     ]
    },
    {
     "name": "stderr",
     "output_type": "stream",
     "text": [
      "[INFO 08-09 14:33:13] ax.metrics.curve: val_acc not yet present in curves from /var/folders/w_/g_40lr6j0s98g6921f3qxcmr0000gn/T/tmpnxpj5dby/13. Returning without this metric.\n"
     ]
    },
    {
     "name": "stderr",
     "output_type": "stream",
     "text": [
      "[INFO 08-09 14:33:13] ax.core.metric: MetricFetchE INFO: Initialized MetricFetchE(message=\"DataFrame from curve series is empty\")\n"
     ]
    },
    {
     "name": "stderr",
     "output_type": "stream",
     "text": [
      "[ERROR 08-09 14:33:13] ax.core.experiment: Discovered Metric fetching Err while attaching data MetricFetchE(message=\"DataFrame from curve series is empty\"). Ignoring for now -- will retry query on next call to fetch.\n"
     ]
    },
    {
     "name": "stderr",
     "output_type": "stream",
     "text": [
      "[WARNING 08-09 14:33:13] Scheduler: Failed to fetch val_acc for trial 13, found MetricFetchE(message=\"DataFrame from curve series is empty\").\n"
     ]
    },
    {
     "name": "stderr",
     "output_type": "stream",
     "text": [
      "[INFO 08-09 14:33:13] Scheduler: MetricFetchE INFO: Because val_acc is available_while_running and trial 13 is still RUNNING continuing the experiment and retrying on next poll...\n"
     ]
    },
    {
     "name": "stderr",
     "output_type": "stream",
     "text": [
      "[INFO 08-09 14:33:13] ax.early_stopping.strategies.base: Last progression of any candidate for trial stopping is 0.19994666666666666.\n"
     ]
    },
    {
     "name": "stderr",
     "output_type": "stream",
     "text": [
      "[INFO 08-09 14:33:13] ax.early_stopping.strategies.base: No trials have reached 0.3. Not stopping any trials.\n"
     ]
    },
    {
     "name": "stderr",
     "output_type": "stream",
     "text": [
      "[INFO 08-09 14:33:13] Scheduler: Waiting for completed trials (for 10 sec, currently running trials: 3).\n"
     ]
    },
    {
     "name": "stderr",
     "output_type": "stream",
     "text": [
      "[INFO 08-09 14:33:23] Scheduler: Fetching data for trials: 11 - 13 because some metrics on experiment are available while trials are running.\n"
     ]
    },
    {
     "name": "stderr",
     "output_type": "stream",
     "text": [
      "[INFO 08-09 14:33:23] ax.metrics.curve: val_acc not yet present in curves from /var/folders/w_/g_40lr6j0s98g6921f3qxcmr0000gn/T/tmpnxpj5dby/13. Returning without this metric.\n"
     ]
    },
    {
     "name": "stderr",
     "output_type": "stream",
     "text": [
      "[INFO 08-09 14:33:23] ax.core.metric: MetricFetchE INFO: Initialized MetricFetchE(message=\"DataFrame from curve series is empty\")\n"
     ]
    },
    {
     "name": "stderr",
     "output_type": "stream",
     "text": [
      "[ERROR 08-09 14:33:23] ax.core.experiment: Discovered Metric fetching Err while attaching data MetricFetchE(message=\"DataFrame from curve series is empty\"). Ignoring for now -- will retry query on next call to fetch.\n"
     ]
    },
    {
     "name": "stderr",
     "output_type": "stream",
     "text": [
      "[WARNING 08-09 14:33:23] Scheduler: Failed to fetch val_acc for trial 13, found MetricFetchE(message=\"DataFrame from curve series is empty\").\n"
     ]
    },
    {
     "name": "stderr",
     "output_type": "stream",
     "text": [
      "[INFO 08-09 14:33:23] Scheduler: MetricFetchE INFO: Because val_acc is available_while_running and trial 13 is still RUNNING continuing the experiment and retrying on next poll...\n"
     ]
    },
    {
     "name": "stderr",
     "output_type": "stream",
     "text": [
      "[INFO 08-09 14:33:23] ax.early_stopping.strategies.base: Last progression of any candidate for trial stopping is 0.19994666666666666.\n"
     ]
    },
    {
     "name": "stderr",
     "output_type": "stream",
     "text": [
      "[INFO 08-09 14:33:23] ax.early_stopping.strategies.base: No trials have reached 0.3. Not stopping any trials.\n"
     ]
    },
    {
     "name": "stderr",
     "output_type": "stream",
     "text": [
      "[INFO 08-09 14:33:23] Scheduler: Waiting for completed trials (for 10 sec, currently running trials: 3).\n"
     ]
    },
    {
     "name": "stderr",
     "output_type": "stream",
     "text": [
      "[INFO 08-09 14:33:33] Scheduler: Fetching data for trials: 11 - 13 because some metrics on experiment are available while trials are running.\n"
     ]
    },
    {
     "name": "stderr",
     "output_type": "stream",
     "text": [
      "[INFO 08-09 14:33:33] ax.metrics.curve: val_acc not yet present in curves from /var/folders/w_/g_40lr6j0s98g6921f3qxcmr0000gn/T/tmpnxpj5dby/13. Returning without this metric.\n"
     ]
    },
    {
     "name": "stderr",
     "output_type": "stream",
     "text": [
      "[INFO 08-09 14:33:33] ax.core.metric: MetricFetchE INFO: Initialized MetricFetchE(message=\"DataFrame from curve series is empty\")\n"
     ]
    },
    {
     "name": "stderr",
     "output_type": "stream",
     "text": [
      "[ERROR 08-09 14:33:33] ax.core.experiment: Discovered Metric fetching Err while attaching data MetricFetchE(message=\"DataFrame from curve series is empty\"). Ignoring for now -- will retry query on next call to fetch.\n"
     ]
    },
    {
     "name": "stderr",
     "output_type": "stream",
     "text": [
      "[WARNING 08-09 14:33:33] Scheduler: Failed to fetch val_acc for trial 13, found MetricFetchE(message=\"DataFrame from curve series is empty\").\n"
     ]
    },
    {
     "name": "stderr",
     "output_type": "stream",
     "text": [
      "[INFO 08-09 14:33:33] Scheduler: MetricFetchE INFO: Because val_acc is available_while_running and trial 13 is still RUNNING continuing the experiment and retrying on next poll...\n"
     ]
    },
    {
     "name": "stderr",
     "output_type": "stream",
     "text": [
      "[INFO 08-09 14:33:33] ax.early_stopping.strategies.base: Last progression of any candidate for trial stopping is 0.19994666666666666.\n"
     ]
    },
    {
     "name": "stderr",
     "output_type": "stream",
     "text": [
      "[INFO 08-09 14:33:33] ax.early_stopping.strategies.base: No trials have reached 0.3. Not stopping any trials.\n"
     ]
    },
    {
     "name": "stderr",
     "output_type": "stream",
     "text": [
      "[INFO 08-09 14:33:33] Scheduler: Waiting for completed trials (for 10 sec, currently running trials: 3).\n"
     ]
    },
    {
     "name": "stderr",
     "output_type": "stream",
     "text": [
      "[INFO 08-09 14:33:43] Scheduler: Fetching data for trials: 11 - 13 because some metrics on experiment are available while trials are running.\n"
     ]
    },
    {
     "name": "stderr",
     "output_type": "stream",
     "text": [
      "[INFO 08-09 14:33:43] ax.early_stopping.strategies.base: Last progression of any candidate for trial stopping is 0.29994666666666664.\n"
     ]
    },
    {
     "name": "stderr",
     "output_type": "stream",
     "text": [
      "[INFO 08-09 14:33:43] ax.early_stopping.strategies.base: No trials have reached 0.3. Not stopping any trials.\n"
     ]
    },
    {
     "name": "stderr",
     "output_type": "stream",
     "text": [
      "[INFO 08-09 14:33:43] Scheduler: Waiting for completed trials (for 10 sec, currently running trials: 3).\n"
     ]
    },
    {
     "name": "stderr",
     "output_type": "stream",
     "text": [
      "[INFO 08-09 14:33:53] Scheduler: Fetching data for trials: 11 - 13 because some metrics on experiment are available while trials are running.\n"
     ]
    },
    {
     "name": "stderr",
     "output_type": "stream",
     "text": [
      "[INFO 08-09 14:33:53] ax.early_stopping.strategies.base: Last progression of any candidate for trial stopping is 0.29994666666666664.\n"
     ]
    },
    {
     "name": "stderr",
     "output_type": "stream",
     "text": [
      "[INFO 08-09 14:33:53] ax.early_stopping.strategies.base: No trials have reached 0.3. Not stopping any trials.\n"
     ]
    },
    {
     "name": "stderr",
     "output_type": "stream",
     "text": [
      "[INFO 08-09 14:33:53] Scheduler: Waiting for completed trials (for 10 sec, currently running trials: 3).\n"
     ]
    },
    {
     "name": "stderr",
     "output_type": "stream",
     "text": [
      "[INFO 08-09 14:34:03] Scheduler: Fetching data for trials: 11 - 13 because some metrics on experiment are available while trials are running.\n"
     ]
    },
    {
     "name": "stderr",
     "output_type": "stream",
     "text": [
      "[INFO 08-09 14:34:03] ax.early_stopping.strategies.base: Last progression of any candidate for trial stopping is 0.3999466666666667.\n"
     ]
    },
    {
     "name": "stderr",
     "output_type": "stream",
     "text": [
      "[INFO 08-09 14:34:03] ax.early_stopping.utils: Got exception `x and y arrays must have at least 2 entries` during interpolation. Using uninterpolated values instead.\n"
     ]
    },
    {
     "name": "stderr",
     "output_type": "stream",
     "text": [
      "[INFO 08-09 14:34:03] ax.early_stopping.strategies.percentile: Considering trial 11 for early stopping.\n"
     ]
    },
    {
     "name": "stderr",
     "output_type": "stream",
     "text": [
      "[INFO 08-09 14:34:03] ax.early_stopping.strategies.base: Last progression of Trial 11 is 0.3999466666666667.\n"
     ]
    },
    {
     "name": "stderr",
     "output_type": "stream",
     "text": [
      "[INFO 08-09 14:34:03] ax.early_stopping.strategies.percentile: Early stopping objective at last progression is:\n",
      "0     0.924426\n",
      "1     0.919765\n",
      "2     0.790812\n",
      "3     0.927625\n",
      "4     0.922909\n",
      "5     0.936341\n",
      "6     0.895719\n",
      "7     0.950981\n",
      "8     0.949285\n",
      "9     0.944481\n",
      "10    0.927286\n",
      "11    0.954013\n",
      "12    0.941962\n",
      "Name: 0.3999466666666667, dtype: float64.\n"
     ]
    },
    {
     "name": "stderr",
     "output_type": "stream",
     "text": [
      "[INFO 08-09 14:34:03] ax.early_stopping.strategies.percentile: Early stopping decision for 11: False. Reason: Trial objective value 0.9540128111839294 is better than 70.0-th percentile (0.9429698348045349) across comparable trials.\n"
     ]
    },
    {
     "name": "stderr",
     "output_type": "stream",
     "text": [
      "[INFO 08-09 14:34:03] ax.early_stopping.strategies.percentile: Considering trial 12 for early stopping.\n"
     ]
    },
    {
     "name": "stderr",
     "output_type": "stream",
     "text": [
      "[INFO 08-09 14:34:03] ax.early_stopping.strategies.base: Last progression of Trial 12 is 0.3999466666666667.\n"
     ]
    },
    {
     "name": "stderr",
     "output_type": "stream",
     "text": [
      "[INFO 08-09 14:34:03] ax.early_stopping.strategies.percentile: Early stopping objective at last progression is:\n",
      "0     0.924426\n",
      "1     0.919765\n",
      "2     0.790812\n",
      "3     0.927625\n",
      "4     0.922909\n",
      "5     0.936341\n",
      "6     0.895719\n",
      "7     0.950981\n",
      "8     0.949285\n",
      "9     0.944481\n",
      "10    0.927286\n",
      "11    0.954013\n",
      "12    0.941962\n",
      "Name: 0.3999466666666667, dtype: float64.\n"
     ]
    },
    {
     "name": "stderr",
     "output_type": "stream",
     "text": [
      "[INFO 08-09 14:34:03] ax.early_stopping.strategies.percentile: Early stopping decision for 12: True. Reason: Trial objective value 0.9419623017311096 is worse than 70.0-th percentile (0.9429698348045349) across comparable trials.\n"
     ]
    },
    {
     "name": "stderr",
     "output_type": "stream",
     "text": [
      "[INFO 08-09 14:34:03] ax.early_stopping.strategies.percentile: Considering trial 13 for early stopping.\n"
     ]
    },
    {
     "name": "stderr",
     "output_type": "stream",
     "text": [
      "[INFO 08-09 14:34:03] ax.early_stopping.strategies.base: Last progression of Trial 13 is 0.09994666666666667.\n"
     ]
    },
    {
     "name": "stderr",
     "output_type": "stream",
     "text": [
      "[INFO 08-09 14:34:03] ax.early_stopping.strategies.base: Trial 13's most recent progression (0.09994666666666667) falls out of the min/max_progression range (0.3, None). Not early stopping this trial.\n"
     ]
    },
    {
     "name": "stderr",
     "output_type": "stream",
     "text": [
      "[INFO 08-09 14:34:04] Scheduler: Retrieved EARLY_STOPPED trials: [12].\n"
     ]
    },
    {
     "name": "stderr",
     "output_type": "stream",
     "text": [
      "/Users/mpolson64/opt/anaconda3/envs/ax-dev/lib/python3.9/site-packages/linear_operator/utils/cholesky.py:40: NumericalWarning: A not p.d., added jitter of 1.0e-08 to the diagonal\n",
      "  warnings.warn(\n",
      "[INFO 08-09 14:34:06] Scheduler: Running trials [14]...\n"
     ]
    },
    {
     "name": "stderr",
     "output_type": "stream",
     "text": [
      "[WARNING 08-09 14:34:06] Scheduler: Both `init_seconds_between_polls` and `early_stopping_strategy supplied. `init_seconds_between_polls=1` will be overrridden by `early_stopping_strategy.seconds_between_polls=10` and polling will take place at a constant rate.\n"
     ]
    },
    {
     "name": "stderr",
     "output_type": "stream",
     "text": [
      "[INFO 08-09 14:34:06] Scheduler: Fetching data for trials: [11, 13, 14] because some metrics on experiment are available while trials are running.\n"
     ]
    },
    {
     "name": "stderr",
     "output_type": "stream",
     "text": [
      "[INFO 08-09 14:34:06] ax.metrics.curve: val_acc not yet present in curves from /var/folders/w_/g_40lr6j0s98g6921f3qxcmr0000gn/T/tmpnxpj5dby/14. Returning without this metric.\n"
     ]
    },
    {
     "name": "stderr",
     "output_type": "stream",
     "text": [
      "[INFO 08-09 14:34:06] ax.core.metric: MetricFetchE INFO: Initialized MetricFetchE(message=\"DataFrame from curve series is empty\")\n"
     ]
    },
    {
     "name": "stderr",
     "output_type": "stream",
     "text": [
      "[ERROR 08-09 14:34:06] ax.core.experiment: Discovered Metric fetching Err while attaching data MetricFetchE(message=\"DataFrame from curve series is empty\"). Ignoring for now -- will retry query on next call to fetch.\n"
     ]
    },
    {
     "name": "stderr",
     "output_type": "stream",
     "text": [
      "[WARNING 08-09 14:34:06] Scheduler: Failed to fetch val_acc for trial 14, found MetricFetchE(message=\"DataFrame from curve series is empty\").\n"
     ]
    },
    {
     "name": "stderr",
     "output_type": "stream",
     "text": [
      "[INFO 08-09 14:34:06] Scheduler: MetricFetchE INFO: Because val_acc is available_while_running and trial 14 is still RUNNING continuing the experiment and retrying on next poll...\n"
     ]
    },
    {
     "name": "stderr",
     "output_type": "stream",
     "text": [
      "[INFO 08-09 14:34:06] ax.early_stopping.strategies.base: Last progression of any candidate for trial stopping is 0.3999466666666667.\n"
     ]
    },
    {
     "name": "stderr",
     "output_type": "stream",
     "text": [
      "[INFO 08-09 14:34:06] ax.early_stopping.strategies.percentile: Considering trial 11 for early stopping.\n"
     ]
    },
    {
     "name": "stderr",
     "output_type": "stream",
     "text": [
      "[INFO 08-09 14:34:06] ax.early_stopping.strategies.base: Last progression of Trial 11 is 0.3999466666666667.\n"
     ]
    },
    {
     "name": "stderr",
     "output_type": "stream",
     "text": [
      "[INFO 08-09 14:34:06] ax.early_stopping.strategies.percentile: Early stopping objective at last progression is:\n",
      "0     0.924426\n",
      "1     0.919765\n",
      "2     0.790812\n",
      "3     0.927625\n",
      "4     0.922909\n",
      "5     0.936341\n",
      "6     0.895719\n",
      "7     0.950981\n",
      "8     0.949285\n",
      "9     0.944481\n",
      "10    0.927286\n",
      "11    0.954013\n",
      "12    0.941962\n",
      "Name: 0.3999466666666667, dtype: float64.\n"
     ]
    },
    {
     "name": "stderr",
     "output_type": "stream",
     "text": [
      "[INFO 08-09 14:34:06] ax.early_stopping.strategies.percentile: Early stopping decision for 11: False. Reason: Trial objective value 0.9540128111839294 is better than 70.0-th percentile (0.9429698348045349) across comparable trials.\n"
     ]
    },
    {
     "name": "stderr",
     "output_type": "stream",
     "text": [
      "[INFO 08-09 14:34:06] ax.early_stopping.strategies.percentile: Considering trial 13 for early stopping.\n"
     ]
    },
    {
     "name": "stderr",
     "output_type": "stream",
     "text": [
      "[INFO 08-09 14:34:06] ax.early_stopping.strategies.base: Last progression of Trial 13 is 0.19994666666666666.\n"
     ]
    },
    {
     "name": "stderr",
     "output_type": "stream",
     "text": [
      "[INFO 08-09 14:34:06] ax.early_stopping.strategies.base: Trial 13's most recent progression (0.19994666666666666) falls out of the min/max_progression range (0.3, None). Not early stopping this trial.\n"
     ]
    },
    {
     "name": "stderr",
     "output_type": "stream",
     "text": [
      "[INFO 08-09 14:34:06] ax.early_stopping.strategies.percentile: Considering trial 14 for early stopping.\n"
     ]
    },
    {
     "name": "stderr",
     "output_type": "stream",
     "text": [
      "[INFO 08-09 14:34:06] ax.early_stopping.strategies.base: There is not yet any data associated with trial 14. Not early stopping this trial.\n"
     ]
    },
    {
     "name": "stderr",
     "output_type": "stream",
     "text": [
      "[INFO 08-09 14:34:06] Scheduler: Waiting for completed trials (for 10 sec, currently running trials: 3).\n"
     ]
    },
    {
     "name": "stderr",
     "output_type": "stream",
     "text": [
      "[INFO 08-09 14:34:16] Scheduler: Fetching data for trials: [11, 13, 14] because some metrics on experiment are available while trials are running.\n"
     ]
    },
    {
     "name": "stderr",
     "output_type": "stream",
     "text": [
      "[INFO 08-09 14:34:16] ax.metrics.curve: val_acc not yet present in curves from /var/folders/w_/g_40lr6j0s98g6921f3qxcmr0000gn/T/tmpnxpj5dby/14. Returning without this metric.\n"
     ]
    },
    {
     "name": "stderr",
     "output_type": "stream",
     "text": [
      "[INFO 08-09 14:34:16] ax.core.metric: MetricFetchE INFO: Initialized MetricFetchE(message=\"DataFrame from curve series is empty\")\n"
     ]
    },
    {
     "name": "stderr",
     "output_type": "stream",
     "text": [
      "[ERROR 08-09 14:34:16] ax.core.experiment: Discovered Metric fetching Err while attaching data MetricFetchE(message=\"DataFrame from curve series is empty\"). Ignoring for now -- will retry query on next call to fetch.\n"
     ]
    },
    {
     "name": "stderr",
     "output_type": "stream",
     "text": [
      "[WARNING 08-09 14:34:16] Scheduler: Failed to fetch val_acc for trial 14, found MetricFetchE(message=\"DataFrame from curve series is empty\").\n"
     ]
    },
    {
     "name": "stderr",
     "output_type": "stream",
     "text": [
      "[INFO 08-09 14:34:16] Scheduler: MetricFetchE INFO: Because val_acc is available_while_running and trial 14 is still RUNNING continuing the experiment and retrying on next poll...\n"
     ]
    },
    {
     "name": "stderr",
     "output_type": "stream",
     "text": [
      "[INFO 08-09 14:34:16] ax.early_stopping.strategies.base: Last progression of any candidate for trial stopping is 0.3999466666666667.\n"
     ]
    },
    {
     "name": "stderr",
     "output_type": "stream",
     "text": [
      "[INFO 08-09 14:34:16] ax.early_stopping.strategies.percentile: Considering trial 11 for early stopping.\n"
     ]
    },
    {
     "name": "stderr",
     "output_type": "stream",
     "text": [
      "[INFO 08-09 14:34:16] ax.early_stopping.strategies.base: Last progression of Trial 11 is 0.3999466666666667.\n"
     ]
    },
    {
     "name": "stderr",
     "output_type": "stream",
     "text": [
      "[INFO 08-09 14:34:16] ax.early_stopping.strategies.percentile: Early stopping objective at last progression is:\n",
      "0     0.924426\n",
      "1     0.919765\n",
      "2     0.790812\n",
      "3     0.927625\n",
      "4     0.922909\n",
      "5     0.936341\n",
      "6     0.895719\n",
      "7     0.950981\n",
      "8     0.949285\n",
      "9     0.944481\n",
      "10    0.927286\n",
      "11    0.954013\n",
      "12    0.941962\n",
      "Name: 0.3999466666666667, dtype: float64.\n"
     ]
    },
    {
     "name": "stderr",
     "output_type": "stream",
     "text": [
      "[INFO 08-09 14:34:16] ax.early_stopping.strategies.percentile: Early stopping decision for 11: False. Reason: Trial objective value 0.9540128111839294 is better than 70.0-th percentile (0.9429698348045349) across comparable trials.\n"
     ]
    },
    {
     "name": "stderr",
     "output_type": "stream",
     "text": [
      "[INFO 08-09 14:34:16] ax.early_stopping.strategies.percentile: Considering trial 13 for early stopping.\n"
     ]
    },
    {
     "name": "stderr",
     "output_type": "stream",
     "text": [
      "[INFO 08-09 14:34:16] ax.early_stopping.strategies.base: Last progression of Trial 13 is 0.19994666666666666.\n"
     ]
    },
    {
     "name": "stderr",
     "output_type": "stream",
     "text": [
      "[INFO 08-09 14:34:16] ax.early_stopping.strategies.base: Trial 13's most recent progression (0.19994666666666666) falls out of the min/max_progression range (0.3, None). Not early stopping this trial.\n"
     ]
    },
    {
     "name": "stderr",
     "output_type": "stream",
     "text": [
      "[INFO 08-09 14:34:16] ax.early_stopping.strategies.percentile: Considering trial 14 for early stopping.\n"
     ]
    },
    {
     "name": "stderr",
     "output_type": "stream",
     "text": [
      "[INFO 08-09 14:34:16] ax.early_stopping.strategies.base: There is not yet any data associated with trial 14. Not early stopping this trial.\n"
     ]
    },
    {
     "name": "stderr",
     "output_type": "stream",
     "text": [
      "[INFO 08-09 14:34:16] Scheduler: Waiting for completed trials (for 10 sec, currently running trials: 3).\n"
     ]
    },
    {
     "name": "stderr",
     "output_type": "stream",
     "text": [
      "[INFO 08-09 14:34:26] Scheduler: Fetching data for trials: [11, 13, 14] because some metrics on experiment are available while trials are running.\n"
     ]
    },
    {
     "name": "stderr",
     "output_type": "stream",
     "text": [
      "[INFO 08-09 14:34:26] ax.metrics.curve: val_acc not yet present in curves from /var/folders/w_/g_40lr6j0s98g6921f3qxcmr0000gn/T/tmpnxpj5dby/14. Returning without this metric.\n"
     ]
    },
    {
     "name": "stderr",
     "output_type": "stream",
     "text": [
      "[INFO 08-09 14:34:26] ax.core.metric: MetricFetchE INFO: Initialized MetricFetchE(message=\"DataFrame from curve series is empty\")\n"
     ]
    },
    {
     "name": "stderr",
     "output_type": "stream",
     "text": [
      "[ERROR 08-09 14:34:26] ax.core.experiment: Discovered Metric fetching Err while attaching data MetricFetchE(message=\"DataFrame from curve series is empty\"). Ignoring for now -- will retry query on next call to fetch.\n"
     ]
    },
    {
     "name": "stderr",
     "output_type": "stream",
     "text": [
      "[WARNING 08-09 14:34:26] Scheduler: Failed to fetch val_acc for trial 14, found MetricFetchE(message=\"DataFrame from curve series is empty\").\n"
     ]
    },
    {
     "name": "stderr",
     "output_type": "stream",
     "text": [
      "[INFO 08-09 14:34:26] Scheduler: MetricFetchE INFO: Because val_acc is available_while_running and trial 14 is still RUNNING continuing the experiment and retrying on next poll...\n"
     ]
    },
    {
     "name": "stderr",
     "output_type": "stream",
     "text": [
      "[INFO 08-09 14:34:26] ax.early_stopping.strategies.base: Last progression of any candidate for trial stopping is 0.49994666666666665.\n"
     ]
    },
    {
     "name": "stderr",
     "output_type": "stream",
     "text": [
      "[INFO 08-09 14:34:26] ax.early_stopping.strategies.percentile: Considering trial 11 for early stopping.\n"
     ]
    },
    {
     "name": "stderr",
     "output_type": "stream",
     "text": [
      "[INFO 08-09 14:34:26] ax.early_stopping.strategies.base: Last progression of Trial 11 is 0.49994666666666665.\n"
     ]
    },
    {
     "name": "stderr",
     "output_type": "stream",
     "text": [
      "[INFO 08-09 14:34:26] ax.early_stopping.strategies.percentile: Early stopping objective at last progression is:\n",
      "0     0.927386\n",
      "1     0.930741\n",
      "2     0.808218\n",
      "3     0.934467\n",
      "4     0.931203\n",
      "5     0.935403\n",
      "7     0.950910\n",
      "8     0.950979\n",
      "9     0.947363\n",
      "11    0.957895\n",
      "Name: 0.49994666666666665, dtype: float64.\n"
     ]
    },
    {
     "name": "stderr",
     "output_type": "stream",
     "text": [
      "[INFO 08-09 14:34:26] ax.early_stopping.strategies.percentile: Early stopping decision for 11: False. Reason: Trial objective value 0.9578953385353088 is better than 70.0-th percentile (0.9484270453453064) across comparable trials.\n"
     ]
    },
    {
     "name": "stderr",
     "output_type": "stream",
     "text": [
      "[INFO 08-09 14:34:26] ax.early_stopping.strategies.percentile: Considering trial 13 for early stopping.\n"
     ]
    },
    {
     "name": "stderr",
     "output_type": "stream",
     "text": [
      "[INFO 08-09 14:34:26] ax.early_stopping.strategies.base: Last progression of Trial 13 is 0.29994666666666664.\n"
     ]
    },
    {
     "name": "stderr",
     "output_type": "stream",
     "text": [
      "[INFO 08-09 14:34:26] ax.early_stopping.strategies.base: Trial 13's most recent progression (0.29994666666666664) falls out of the min/max_progression range (0.3, None). Not early stopping this trial.\n"
     ]
    },
    {
     "name": "stderr",
     "output_type": "stream",
     "text": [
      "[INFO 08-09 14:34:26] ax.early_stopping.strategies.percentile: Considering trial 14 for early stopping.\n"
     ]
    },
    {
     "name": "stderr",
     "output_type": "stream",
     "text": [
      "[INFO 08-09 14:34:26] ax.early_stopping.strategies.base: There is not yet any data associated with trial 14. Not early stopping this trial.\n"
     ]
    },
    {
     "name": "stderr",
     "output_type": "stream",
     "text": [
      "[INFO 08-09 14:34:26] Scheduler: Waiting for completed trials (for 10 sec, currently running trials: 3).\n"
     ]
    },
    {
     "name": "stderr",
     "output_type": "stream",
     "text": [
      "[INFO 08-09 14:34:36] Scheduler: Fetching data for trials: [11, 13, 14] because some metrics on experiment are available while trials are running.\n"
     ]
    },
    {
     "name": "stderr",
     "output_type": "stream",
     "text": [
      "[INFO 08-09 14:34:37] ax.early_stopping.strategies.base: Last progression of any candidate for trial stopping is 0.49994666666666665.\n"
     ]
    },
    {
     "name": "stderr",
     "output_type": "stream",
     "text": [
      "[INFO 08-09 14:34:37] ax.early_stopping.utils: Got exception `x and y arrays must have at least 2 entries` during interpolation. Using uninterpolated values instead.\n"
     ]
    },
    {
     "name": "stderr",
     "output_type": "stream",
     "text": [
      "[INFO 08-09 14:34:37] ax.early_stopping.strategies.percentile: Considering trial 11 for early stopping.\n"
     ]
    },
    {
     "name": "stderr",
     "output_type": "stream",
     "text": [
      "[INFO 08-09 14:34:37] ax.early_stopping.strategies.base: Last progression of Trial 11 is 0.49994666666666665.\n"
     ]
    },
    {
     "name": "stderr",
     "output_type": "stream",
     "text": [
      "[INFO 08-09 14:34:37] ax.early_stopping.strategies.percentile: Early stopping objective at last progression is:\n",
      "0     0.927386\n",
      "1     0.930741\n",
      "2     0.808218\n",
      "3     0.934467\n",
      "4     0.931203\n",
      "5     0.935403\n",
      "7     0.950910\n",
      "8     0.950979\n",
      "9     0.947363\n",
      "11    0.957895\n",
      "Name: 0.49994666666666665, dtype: float64.\n"
     ]
    },
    {
     "name": "stderr",
     "output_type": "stream",
     "text": [
      "[INFO 08-09 14:34:37] ax.early_stopping.strategies.percentile: Early stopping decision for 11: False. Reason: Trial objective value 0.9578953385353088 is better than 70.0-th percentile (0.9484270453453064) across comparable trials.\n"
     ]
    },
    {
     "name": "stderr",
     "output_type": "stream",
     "text": [
      "[INFO 08-09 14:34:37] ax.early_stopping.strategies.percentile: Considering trial 13 for early stopping.\n"
     ]
    },
    {
     "name": "stderr",
     "output_type": "stream",
     "text": [
      "[INFO 08-09 14:34:37] ax.early_stopping.strategies.base: Last progression of Trial 13 is 0.29994666666666664.\n"
     ]
    },
    {
     "name": "stderr",
     "output_type": "stream",
     "text": [
      "[INFO 08-09 14:34:37] ax.early_stopping.strategies.base: Trial 13's most recent progression (0.29994666666666664) falls out of the min/max_progression range (0.3, None). Not early stopping this trial.\n"
     ]
    },
    {
     "name": "stderr",
     "output_type": "stream",
     "text": [
      "[INFO 08-09 14:34:37] ax.early_stopping.strategies.percentile: Considering trial 14 for early stopping.\n"
     ]
    },
    {
     "name": "stderr",
     "output_type": "stream",
     "text": [
      "[INFO 08-09 14:34:37] ax.early_stopping.strategies.base: Last progression of Trial 14 is 0.09994666666666667.\n"
     ]
    },
    {
     "name": "stderr",
     "output_type": "stream",
     "text": [
      "[INFO 08-09 14:34:37] ax.early_stopping.strategies.base: Trial 14's most recent progression (0.09994666666666667) falls out of the min/max_progression range (0.3, None). Not early stopping this trial.\n"
     ]
    },
    {
     "name": "stderr",
     "output_type": "stream",
     "text": [
      "[INFO 08-09 14:34:37] Scheduler: Waiting for completed trials (for 10 sec, currently running trials: 3).\n"
     ]
    },
    {
     "name": "stderr",
     "output_type": "stream",
     "text": [
      "[INFO 08-09 14:34:47] Scheduler: Fetching data for trials: [11, 13, 14] because some metrics on experiment are available while trials are running.\n"
     ]
    },
    {
     "name": "stderr",
     "output_type": "stream",
     "text": [
      "[INFO 08-09 14:34:47] ax.early_stopping.strategies.base: Last progression of any candidate for trial stopping is 0.5999466666666666.\n"
     ]
    },
    {
     "name": "stderr",
     "output_type": "stream",
     "text": [
      "[INFO 08-09 14:34:47] ax.early_stopping.utils: Got exception `x and y arrays must have at least 2 entries` during interpolation. Using uninterpolated values instead.\n"
     ]
    },
    {
     "name": "stderr",
     "output_type": "stream",
     "text": [
      "[INFO 08-09 14:34:47] ax.early_stopping.strategies.percentile: Considering trial 11 for early stopping.\n"
     ]
    },
    {
     "name": "stderr",
     "output_type": "stream",
     "text": [
      "[INFO 08-09 14:34:47] ax.early_stopping.strategies.base: Last progression of Trial 11 is 0.5999466666666666.\n"
     ]
    },
    {
     "name": "stderr",
     "output_type": "stream",
     "text": [
      "[INFO 08-09 14:34:47] ax.early_stopping.strategies.percentile: Early stopping objective at last progression is:\n",
      "0     0.928987\n",
      "1     0.928144\n",
      "2     0.808475\n",
      "3     0.934863\n",
      "4     0.932743\n",
      "5     0.934730\n",
      "7     0.950978\n",
      "8     0.952640\n",
      "9     0.951238\n",
      "11    0.955795\n",
      "Name: 0.5999466666666666, dtype: float64.\n"
     ]
    },
    {
     "name": "stderr",
     "output_type": "stream",
     "text": [
      "[INFO 08-09 14:34:47] ax.early_stopping.strategies.percentile: Early stopping decision for 11: False. Reason: Trial objective value 0.9557951092720032 is better than 70.0-th percentile (0.9510557651519775) across comparable trials.\n"
     ]
    },
    {
     "name": "stderr",
     "output_type": "stream",
     "text": [
      "[INFO 08-09 14:34:47] ax.early_stopping.strategies.percentile: Considering trial 13 for early stopping.\n"
     ]
    },
    {
     "name": "stderr",
     "output_type": "stream",
     "text": [
      "[INFO 08-09 14:34:47] ax.early_stopping.strategies.base: Last progression of Trial 13 is 0.29994666666666664.\n"
     ]
    },
    {
     "name": "stderr",
     "output_type": "stream",
     "text": [
      "[INFO 08-09 14:34:47] ax.early_stopping.strategies.base: Trial 13's most recent progression (0.29994666666666664) falls out of the min/max_progression range (0.3, None). Not early stopping this trial.\n"
     ]
    },
    {
     "name": "stderr",
     "output_type": "stream",
     "text": [
      "[INFO 08-09 14:34:47] ax.early_stopping.strategies.percentile: Considering trial 14 for early stopping.\n"
     ]
    },
    {
     "name": "stderr",
     "output_type": "stream",
     "text": [
      "[INFO 08-09 14:34:47] ax.early_stopping.strategies.base: Last progression of Trial 14 is 0.09994666666666667.\n"
     ]
    },
    {
     "name": "stderr",
     "output_type": "stream",
     "text": [
      "[INFO 08-09 14:34:47] ax.early_stopping.strategies.base: Trial 14's most recent progression (0.09994666666666667) falls out of the min/max_progression range (0.3, None). Not early stopping this trial.\n"
     ]
    },
    {
     "name": "stderr",
     "output_type": "stream",
     "text": [
      "[INFO 08-09 14:34:47] Scheduler: Waiting for completed trials (for 10 sec, currently running trials: 3).\n"
     ]
    },
    {
     "name": "stderr",
     "output_type": "stream",
     "text": [
      "[INFO 08-09 14:34:57] Scheduler: Fetching data for trials: [11, 13, 14] because some metrics on experiment are available while trials are running.\n"
     ]
    },
    {
     "name": "stderr",
     "output_type": "stream",
     "text": [
      "[INFO 08-09 14:34:57] ax.early_stopping.strategies.base: Last progression of any candidate for trial stopping is 0.5999466666666666.\n"
     ]
    },
    {
     "name": "stderr",
     "output_type": "stream",
     "text": [
      "[INFO 08-09 14:34:57] ax.early_stopping.strategies.percentile: Considering trial 11 for early stopping.\n"
     ]
    },
    {
     "name": "stderr",
     "output_type": "stream",
     "text": [
      "[INFO 08-09 14:34:57] ax.early_stopping.strategies.base: Last progression of Trial 11 is 0.5999466666666666.\n"
     ]
    },
    {
     "name": "stderr",
     "output_type": "stream",
     "text": [
      "[INFO 08-09 14:34:57] ax.early_stopping.strategies.percentile: Early stopping objective at last progression is:\n",
      "0     0.928987\n",
      "1     0.928144\n",
      "2     0.808475\n",
      "3     0.934863\n",
      "4     0.932743\n",
      "5     0.934730\n",
      "7     0.950978\n",
      "8     0.952640\n",
      "9     0.951238\n",
      "11    0.955795\n",
      "Name: 0.5999466666666666, dtype: float64.\n"
     ]
    },
    {
     "name": "stderr",
     "output_type": "stream",
     "text": [
      "[INFO 08-09 14:34:57] ax.early_stopping.strategies.percentile: Early stopping decision for 11: False. Reason: Trial objective value 0.9557951092720032 is better than 70.0-th percentile (0.9510557651519775) across comparable trials.\n"
     ]
    },
    {
     "name": "stderr",
     "output_type": "stream",
     "text": [
      "[INFO 08-09 14:34:57] ax.early_stopping.strategies.percentile: Considering trial 13 for early stopping.\n"
     ]
    },
    {
     "name": "stderr",
     "output_type": "stream",
     "text": [
      "[INFO 08-09 14:34:57] ax.early_stopping.strategies.base: Last progression of Trial 13 is 0.3999466666666667.\n"
     ]
    },
    {
     "name": "stderr",
     "output_type": "stream",
     "text": [
      "[INFO 08-09 14:34:57] ax.early_stopping.strategies.percentile: Early stopping objective at last progression is:\n",
      "0     0.924426\n",
      "1     0.919765\n",
      "2     0.790812\n",
      "3     0.927625\n",
      "4     0.922909\n",
      "5     0.936341\n",
      "6     0.895719\n",
      "7     0.950981\n",
      "8     0.949285\n",
      "9     0.944481\n",
      "10    0.927286\n",
      "11    0.954013\n",
      "12    0.941962\n",
      "13    0.938959\n",
      "Name: 0.3999466666666667, dtype: float64.\n"
     ]
    },
    {
     "name": "stderr",
     "output_type": "stream",
     "text": [
      "[INFO 08-09 14:34:57] ax.early_stopping.strategies.percentile: Early stopping decision for 13: True. Reason: Trial objective value 0.9389585256576538 is worse than 70.0-th percentile (0.942214184999466) across comparable trials.\n"
     ]
    },
    {
     "name": "stderr",
     "output_type": "stream",
     "text": [
      "[INFO 08-09 14:34:57] ax.early_stopping.strategies.percentile: Considering trial 14 for early stopping.\n"
     ]
    },
    {
     "name": "stderr",
     "output_type": "stream",
     "text": [
      "[INFO 08-09 14:34:57] ax.early_stopping.strategies.base: Last progression of Trial 14 is 0.19994666666666666.\n"
     ]
    },
    {
     "name": "stderr",
     "output_type": "stream",
     "text": [
      "[INFO 08-09 14:34:57] ax.early_stopping.strategies.base: Trial 14's most recent progression (0.19994666666666666) falls out of the min/max_progression range (0.3, None). Not early stopping this trial.\n"
     ]
    },
    {
     "name": "stderr",
     "output_type": "stream",
     "text": [
      "[INFO 08-09 14:34:57] Scheduler: Retrieved EARLY_STOPPED trials: [13].\n"
     ]
    },
    {
     "name": "stderr",
     "output_type": "stream",
     "text": [
      "[INFO 08-09 14:34:57] Scheduler: Done submitting trials, waiting for remaining 2 running trials...\n"
     ]
    },
    {
     "name": "stderr",
     "output_type": "stream",
     "text": [
      "[WARNING 08-09 14:34:57] Scheduler: Both `init_seconds_between_polls` and `early_stopping_strategy supplied. `init_seconds_between_polls=1` will be overrridden by `early_stopping_strategy.seconds_between_polls=10` and polling will take place at a constant rate.\n"
     ]
    },
    {
     "name": "stderr",
     "output_type": "stream",
     "text": [
      "[INFO 08-09 14:34:57] Scheduler: Fetching data for trials: [11, 14] because some metrics on experiment are available while trials are running.\n"
     ]
    },
    {
     "name": "stderr",
     "output_type": "stream",
     "text": [
      "[INFO 08-09 14:34:57] ax.early_stopping.strategies.base: Last progression of any candidate for trial stopping is 0.5999466666666666.\n"
     ]
    },
    {
     "name": "stderr",
     "output_type": "stream",
     "text": [
      "[INFO 08-09 14:34:58] ax.early_stopping.strategies.percentile: Considering trial 11 for early stopping.\n"
     ]
    },
    {
     "name": "stderr",
     "output_type": "stream",
     "text": [
      "[INFO 08-09 14:34:58] ax.early_stopping.strategies.base: Last progression of Trial 11 is 0.5999466666666666.\n"
     ]
    },
    {
     "name": "stderr",
     "output_type": "stream",
     "text": [
      "[INFO 08-09 14:34:58] ax.early_stopping.strategies.percentile: Early stopping objective at last progression is:\n",
      "0     0.928987\n",
      "1     0.928144\n",
      "2     0.808475\n",
      "3     0.934863\n",
      "4     0.932743\n",
      "5     0.934730\n",
      "7     0.950978\n",
      "8     0.952640\n",
      "9     0.951238\n",
      "11    0.955795\n",
      "Name: 0.5999466666666666, dtype: float64.\n"
     ]
    },
    {
     "name": "stderr",
     "output_type": "stream",
     "text": [
      "[INFO 08-09 14:34:58] ax.early_stopping.strategies.percentile: Early stopping decision for 11: False. Reason: Trial objective value 0.9557951092720032 is better than 70.0-th percentile (0.9510557651519775) across comparable trials.\n"
     ]
    },
    {
     "name": "stderr",
     "output_type": "stream",
     "text": [
      "[INFO 08-09 14:34:58] ax.early_stopping.strategies.percentile: Considering trial 14 for early stopping.\n"
     ]
    },
    {
     "name": "stderr",
     "output_type": "stream",
     "text": [
      "[INFO 08-09 14:34:58] ax.early_stopping.strategies.base: Last progression of Trial 14 is 0.19994666666666666.\n"
     ]
    },
    {
     "name": "stderr",
     "output_type": "stream",
     "text": [
      "[INFO 08-09 14:34:58] ax.early_stopping.strategies.base: Trial 14's most recent progression (0.19994666666666666) falls out of the min/max_progression range (0.3, None). Not early stopping this trial.\n"
     ]
    },
    {
     "name": "stderr",
     "output_type": "stream",
     "text": [
      "[INFO 08-09 14:34:58] Scheduler: Waiting for completed trials (for 10 sec, currently running trials: 2).\n"
     ]
    },
    {
     "name": "stderr",
     "output_type": "stream",
     "text": [
      "[INFO 08-09 14:35:08] Scheduler: Fetching data for trials: [11, 14] because some metrics on experiment are available while trials are running.\n"
     ]
    },
    {
     "name": "stderr",
     "output_type": "stream",
     "text": [
      "[INFO 08-09 14:35:08] ax.early_stopping.strategies.base: Last progression of any candidate for trial stopping is 0.6999466666666667.\n"
     ]
    },
    {
     "name": "stderr",
     "output_type": "stream",
     "text": [
      "[INFO 08-09 14:35:08] ax.early_stopping.strategies.percentile: Considering trial 11 for early stopping.\n"
     ]
    },
    {
     "name": "stderr",
     "output_type": "stream",
     "text": [
      "[INFO 08-09 14:35:08] ax.early_stopping.strategies.base: Last progression of Trial 11 is 0.6999466666666667.\n"
     ]
    },
    {
     "name": "stderr",
     "output_type": "stream",
     "text": [
      "[INFO 08-09 14:35:08] ax.early_stopping.strategies.percentile: Early stopping objective at last progression is:\n",
      "0     0.931204\n",
      "1     0.933209\n",
      "2     0.811314\n",
      "3     0.937206\n",
      "4     0.920759\n",
      "7     0.951094\n",
      "8     0.959523\n",
      "9     0.953697\n",
      "11    0.957869\n",
      "Name: 0.6999466666666667, dtype: float64.\n"
     ]
    },
    {
     "name": "stderr",
     "output_type": "stream",
     "text": [
      "[INFO 08-09 14:35:08] ax.early_stopping.strategies.percentile: Early stopping decision for 11: False. Reason: Trial objective value 0.9578689336776733 is better than 70.0-th percentile (0.9526562452316284) across comparable trials.\n"
     ]
    },
    {
     "name": "stderr",
     "output_type": "stream",
     "text": [
      "[INFO 08-09 14:35:08] ax.early_stopping.strategies.percentile: Considering trial 14 for early stopping.\n"
     ]
    },
    {
     "name": "stderr",
     "output_type": "stream",
     "text": [
      "[INFO 08-09 14:35:08] ax.early_stopping.strategies.base: Last progression of Trial 14 is 0.19994666666666666.\n"
     ]
    },
    {
     "name": "stderr",
     "output_type": "stream",
     "text": [
      "[INFO 08-09 14:35:08] ax.early_stopping.strategies.base: Trial 14's most recent progression (0.19994666666666666) falls out of the min/max_progression range (0.3, None). Not early stopping this trial.\n"
     ]
    },
    {
     "name": "stderr",
     "output_type": "stream",
     "text": [
      "[INFO 08-09 14:35:08] Scheduler: Waiting for completed trials (for 10 sec, currently running trials: 2).\n"
     ]
    },
    {
     "name": "stderr",
     "output_type": "stream",
     "text": [
      "[INFO 08-09 14:35:18] Scheduler: Fetching data for trials: [11, 14] because some metrics on experiment are available while trials are running.\n"
     ]
    },
    {
     "name": "stderr",
     "output_type": "stream",
     "text": [
      "[INFO 08-09 14:35:18] ax.early_stopping.strategies.base: Last progression of any candidate for trial stopping is 0.6999466666666667.\n"
     ]
    },
    {
     "name": "stderr",
     "output_type": "stream",
     "text": [
      "[INFO 08-09 14:35:18] ax.early_stopping.strategies.percentile: Considering trial 11 for early stopping.\n"
     ]
    },
    {
     "name": "stderr",
     "output_type": "stream",
     "text": [
      "[INFO 08-09 14:35:18] ax.early_stopping.strategies.base: Last progression of Trial 11 is 0.6999466666666667.\n"
     ]
    },
    {
     "name": "stderr",
     "output_type": "stream",
     "text": [
      "[INFO 08-09 14:35:18] ax.early_stopping.strategies.percentile: Early stopping objective at last progression is:\n",
      "0     0.931204\n",
      "1     0.933209\n",
      "2     0.811314\n",
      "3     0.937206\n",
      "4     0.920759\n",
      "7     0.951094\n",
      "8     0.959523\n",
      "9     0.953697\n",
      "11    0.957869\n",
      "Name: 0.6999466666666667, dtype: float64.\n"
     ]
    },
    {
     "name": "stderr",
     "output_type": "stream",
     "text": [
      "[INFO 08-09 14:35:18] ax.early_stopping.strategies.percentile: Early stopping decision for 11: False. Reason: Trial objective value 0.9578689336776733 is better than 70.0-th percentile (0.9526562452316284) across comparable trials.\n"
     ]
    },
    {
     "name": "stderr",
     "output_type": "stream",
     "text": [
      "[INFO 08-09 14:35:18] ax.early_stopping.strategies.percentile: Considering trial 14 for early stopping.\n"
     ]
    },
    {
     "name": "stderr",
     "output_type": "stream",
     "text": [
      "[INFO 08-09 14:35:18] ax.early_stopping.strategies.base: Last progression of Trial 14 is 0.29994666666666664.\n"
     ]
    },
    {
     "name": "stderr",
     "output_type": "stream",
     "text": [
      "[INFO 08-09 14:35:18] ax.early_stopping.strategies.base: Trial 14's most recent progression (0.29994666666666664) falls out of the min/max_progression range (0.3, None). Not early stopping this trial.\n"
     ]
    },
    {
     "name": "stderr",
     "output_type": "stream",
     "text": [
      "[INFO 08-09 14:35:18] Scheduler: Waiting for completed trials (for 10 sec, currently running trials: 2).\n"
     ]
    },
    {
     "name": "stderr",
     "output_type": "stream",
     "text": [
      "[INFO 08-09 14:35:28] Scheduler: Fetching data for trials: [11, 14] because some metrics on experiment are available while trials are running.\n"
     ]
    },
    {
     "name": "stderr",
     "output_type": "stream",
     "text": [
      "[INFO 08-09 14:35:28] ax.early_stopping.strategies.base: Last progression of any candidate for trial stopping is 0.7999466666666667.\n"
     ]
    },
    {
     "name": "stderr",
     "output_type": "stream",
     "text": [
      "[INFO 08-09 14:35:28] ax.early_stopping.strategies.percentile: Considering trial 11 for early stopping.\n"
     ]
    },
    {
     "name": "stderr",
     "output_type": "stream",
     "text": [
      "[INFO 08-09 14:35:28] ax.early_stopping.strategies.base: Last progression of Trial 11 is 0.7999466666666667.\n"
     ]
    },
    {
     "name": "stderr",
     "output_type": "stream",
     "text": [
      "[INFO 08-09 14:35:28] ax.early_stopping.strategies.percentile: Early stopping objective at last progression is:\n",
      "0     0.933642\n",
      "1     0.926650\n",
      "2     0.836528\n",
      "3     0.938943\n",
      "4     0.931791\n",
      "7     0.950890\n",
      "8     0.955354\n",
      "9     0.956751\n",
      "11    0.963258\n",
      "Name: 0.7999466666666667, dtype: float64.\n"
     ]
    },
    {
     "name": "stderr",
     "output_type": "stream",
     "text": [
      "[INFO 08-09 14:35:28] ax.early_stopping.strategies.percentile: Early stopping decision for 11: False. Reason: Trial objective value 0.9632580280303955 is better than 70.0-th percentile (0.9535686612129212) across comparable trials.\n"
     ]
    },
    {
     "name": "stderr",
     "output_type": "stream",
     "text": [
      "[INFO 08-09 14:35:28] ax.early_stopping.strategies.percentile: Considering trial 14 for early stopping.\n"
     ]
    },
    {
     "name": "stderr",
     "output_type": "stream",
     "text": [
      "[INFO 08-09 14:35:28] ax.early_stopping.strategies.base: Last progression of Trial 14 is 0.29994666666666664.\n"
     ]
    },
    {
     "name": "stderr",
     "output_type": "stream",
     "text": [
      "[INFO 08-09 14:35:28] ax.early_stopping.strategies.base: Trial 14's most recent progression (0.29994666666666664) falls out of the min/max_progression range (0.3, None). Not early stopping this trial.\n"
     ]
    },
    {
     "name": "stderr",
     "output_type": "stream",
     "text": [
      "[INFO 08-09 14:35:28] Scheduler: Waiting for completed trials (for 10 sec, currently running trials: 2).\n"
     ]
    },
    {
     "name": "stderr",
     "output_type": "stream",
     "text": [
      "[INFO 08-09 14:35:38] Scheduler: Fetching data for trials: [11, 14] because some metrics on experiment are available while trials are running.\n"
     ]
    },
    {
     "name": "stderr",
     "output_type": "stream",
     "text": [
      "[INFO 08-09 14:35:38] ax.early_stopping.strategies.base: Last progression of any candidate for trial stopping is 0.7999466666666667.\n"
     ]
    },
    {
     "name": "stderr",
     "output_type": "stream",
     "text": [
      "[INFO 08-09 14:35:38] ax.early_stopping.strategies.percentile: Considering trial 11 for early stopping.\n"
     ]
    },
    {
     "name": "stderr",
     "output_type": "stream",
     "text": [
      "[INFO 08-09 14:35:38] ax.early_stopping.strategies.base: Last progression of Trial 11 is 0.7999466666666667.\n"
     ]
    },
    {
     "name": "stderr",
     "output_type": "stream",
     "text": [
      "[INFO 08-09 14:35:38] ax.early_stopping.strategies.percentile: Early stopping objective at last progression is:\n",
      "0     0.933642\n",
      "1     0.926650\n",
      "2     0.836528\n",
      "3     0.938943\n",
      "4     0.931791\n",
      "7     0.950890\n",
      "8     0.955354\n",
      "9     0.956751\n",
      "11    0.963258\n",
      "Name: 0.7999466666666667, dtype: float64.\n"
     ]
    },
    {
     "name": "stderr",
     "output_type": "stream",
     "text": [
      "[INFO 08-09 14:35:38] ax.early_stopping.strategies.percentile: Early stopping decision for 11: False. Reason: Trial objective value 0.9632580280303955 is better than 70.0-th percentile (0.9535686612129212) across comparable trials.\n"
     ]
    },
    {
     "name": "stderr",
     "output_type": "stream",
     "text": [
      "[INFO 08-09 14:35:38] ax.early_stopping.strategies.percentile: Considering trial 14 for early stopping.\n"
     ]
    },
    {
     "name": "stderr",
     "output_type": "stream",
     "text": [
      "[INFO 08-09 14:35:38] ax.early_stopping.strategies.base: Last progression of Trial 14 is 0.3999466666666667.\n"
     ]
    },
    {
     "name": "stderr",
     "output_type": "stream",
     "text": [
      "[INFO 08-09 14:35:38] ax.early_stopping.strategies.percentile: Early stopping objective at last progression is:\n",
      "0     0.924426\n",
      "1     0.919765\n",
      "2     0.790812\n",
      "3     0.927625\n",
      "4     0.922909\n",
      "5     0.936341\n",
      "6     0.895719\n",
      "7     0.950981\n",
      "8     0.949285\n",
      "9     0.944481\n",
      "10    0.927286\n",
      "11    0.954013\n",
      "12    0.941962\n",
      "13    0.938959\n",
      "14    0.943892\n",
      "Name: 0.3999466666666667, dtype: float64.\n"
     ]
    },
    {
     "name": "stderr",
     "output_type": "stream",
     "text": [
      "[INFO 08-09 14:35:38] ax.early_stopping.strategies.percentile: Early stopping decision for 14: False. Reason: Trial objective value 0.9438923597335815 is better than 70.0-th percentile (0.9435063481330872) across comparable trials.\n"
     ]
    },
    {
     "name": "stderr",
     "output_type": "stream",
     "text": [
      "[INFO 08-09 14:35:38] Scheduler: Waiting for completed trials (for 10 sec, currently running trials: 2).\n"
     ]
    },
    {
     "name": "stderr",
     "output_type": "stream",
     "text": [
      "[INFO 08-09 14:35:48] Scheduler: Fetching data for trials: [11, 14] because some metrics on experiment are available while trials are running.\n"
     ]
    },
    {
     "name": "stderr",
     "output_type": "stream",
     "text": [
      "[INFO 08-09 14:35:48] ax.early_stopping.strategies.base: Last progression of any candidate for trial stopping is 0.8999466666666667.\n"
     ]
    },
    {
     "name": "stderr",
     "output_type": "stream",
     "text": [
      "[INFO 08-09 14:35:48] ax.early_stopping.strategies.percentile: Considering trial 11 for early stopping.\n"
     ]
    },
    {
     "name": "stderr",
     "output_type": "stream",
     "text": [
      "[INFO 08-09 14:35:48] ax.early_stopping.strategies.base: Last progression of Trial 11 is 0.8999466666666667.\n"
     ]
    },
    {
     "name": "stderr",
     "output_type": "stream",
     "text": [
      "[INFO 08-09 14:35:48] ax.early_stopping.strategies.percentile: Early stopping objective at last progression is:\n",
      "0     0.936034\n",
      "1     0.937899\n",
      "2     0.857311\n",
      "3     0.940041\n",
      "4     0.932324\n",
      "7     0.955542\n",
      "8     0.955211\n",
      "9     0.956102\n",
      "11    0.963199\n",
      "Name: 0.8999466666666667, dtype: float64.\n"
     ]
    },
    {
     "name": "stderr",
     "output_type": "stream",
     "text": [
      "[INFO 08-09 14:35:48] ax.early_stopping.strategies.percentile: Early stopping decision for 11: False. Reason: Trial objective value 0.9631991982460022 is better than 70.0-th percentile (0.9554097771644592) across comparable trials.\n"
     ]
    },
    {
     "name": "stderr",
     "output_type": "stream",
     "text": [
      "[INFO 08-09 14:35:48] ax.early_stopping.strategies.percentile: Considering trial 14 for early stopping.\n"
     ]
    },
    {
     "name": "stderr",
     "output_type": "stream",
     "text": [
      "[INFO 08-09 14:35:48] ax.early_stopping.strategies.base: Last progression of Trial 14 is 0.3999466666666667.\n"
     ]
    },
    {
     "name": "stderr",
     "output_type": "stream",
     "text": [
      "[INFO 08-09 14:35:48] ax.early_stopping.strategies.percentile: Early stopping objective at last progression is:\n",
      "0     0.924426\n",
      "1     0.919765\n",
      "2     0.790812\n",
      "3     0.927625\n",
      "4     0.922909\n",
      "5     0.936341\n",
      "6     0.895719\n",
      "7     0.950981\n",
      "8     0.949285\n",
      "9     0.944481\n",
      "10    0.927286\n",
      "11    0.954013\n",
      "12    0.941962\n",
      "13    0.938959\n",
      "14    0.943892\n",
      "Name: 0.3999466666666667, dtype: float64.\n"
     ]
    },
    {
     "name": "stderr",
     "output_type": "stream",
     "text": [
      "[INFO 08-09 14:35:48] ax.early_stopping.strategies.percentile: Early stopping decision for 14: False. Reason: Trial objective value 0.9438923597335815 is better than 70.0-th percentile (0.9435063481330872) across comparable trials.\n"
     ]
    },
    {
     "name": "stderr",
     "output_type": "stream",
     "text": [
      "[INFO 08-09 14:35:48] Scheduler: Waiting for completed trials (for 10 sec, currently running trials: 2).\n"
     ]
    },
    {
     "name": "stderr",
     "output_type": "stream",
     "text": [
      "[INFO 08-09 14:35:58] Scheduler: Fetching data for trials: [11, 14] because some metrics on experiment are available while trials are running.\n"
     ]
    },
    {
     "name": "stderr",
     "output_type": "stream",
     "text": [
      "[INFO 08-09 14:35:58] ax.early_stopping.strategies.base: Last progression of any candidate for trial stopping is 0.9999466666666667.\n"
     ]
    },
    {
     "name": "stderr",
     "output_type": "stream",
     "text": [
      "[INFO 08-09 14:35:58] ax.early_stopping.strategies.percentile: Considering trial 11 for early stopping.\n"
     ]
    },
    {
     "name": "stderr",
     "output_type": "stream",
     "text": [
      "[INFO 08-09 14:35:58] ax.early_stopping.strategies.base: Last progression of Trial 11 is 0.9999466666666667.\n"
     ]
    },
    {
     "name": "stderr",
     "output_type": "stream",
     "text": [
      "[INFO 08-09 14:35:58] ax.early_stopping.strategies.percentile: Early stopping objective at last progression is:\n",
      "0     0.936783\n",
      "1     0.928827\n",
      "2     0.868771\n",
      "3     0.939049\n",
      "4     0.930138\n",
      "7     0.956917\n",
      "8     0.955711\n",
      "9     0.955796\n",
      "11    0.960685\n",
      "Name: 0.9999466666666667, dtype: float64.\n"
     ]
    },
    {
     "name": "stderr",
     "output_type": "stream",
     "text": [
      "[INFO 08-09 14:35:58] ax.early_stopping.strategies.percentile: Early stopping decision for 11: False. Reason: Trial objective value 0.960684597492218 is better than 70.0-th percentile (0.9557620286941528) across comparable trials.\n"
     ]
    },
    {
     "name": "stderr",
     "output_type": "stream",
     "text": [
      "[INFO 08-09 14:35:58] ax.early_stopping.strategies.percentile: Considering trial 14 for early stopping.\n"
     ]
    },
    {
     "name": "stderr",
     "output_type": "stream",
     "text": [
      "[INFO 08-09 14:35:58] ax.early_stopping.strategies.base: Last progression of Trial 14 is 0.49994666666666665.\n"
     ]
    },
    {
     "name": "stderr",
     "output_type": "stream",
     "text": [
      "[INFO 08-09 14:35:58] ax.early_stopping.strategies.percentile: Early stopping objective at last progression is:\n",
      "0     0.927386\n",
      "1     0.930741\n",
      "2     0.808218\n",
      "3     0.934467\n",
      "4     0.931203\n",
      "5     0.935403\n",
      "7     0.950910\n",
      "8     0.950979\n",
      "9     0.947363\n",
      "11    0.957895\n",
      "14    0.946964\n",
      "Name: 0.49994666666666665, dtype: float64.\n"
     ]
    },
    {
     "name": "stderr",
     "output_type": "stream",
     "text": [
      "[INFO 08-09 14:35:58] ax.early_stopping.strategies.percentile: Early stopping decision for 14: True. Reason: Trial objective value 0.9469638466835022 is worse than 70.0-th percentile (0.9473627805709839) across comparable trials.\n"
     ]
    },
    {
     "name": "stderr",
     "output_type": "stream",
     "text": [
      "[INFO 08-09 14:35:59] Scheduler: Retrieved EARLY_STOPPED trials: [14].\n"
     ]
    },
    {
     "name": "stderr",
     "output_type": "stream",
     "text": [
      "[WARNING 08-09 14:35:59] Scheduler: Both `init_seconds_between_polls` and `early_stopping_strategy supplied. `init_seconds_between_polls=1` will be overrridden by `early_stopping_strategy.seconds_between_polls=10` and polling will take place at a constant rate.\n"
     ]
    },
    {
     "name": "stderr",
     "output_type": "stream",
     "text": [
      "[INFO 08-09 14:35:59] Scheduler: Fetching data for trials: [11] because some metrics on experiment are available while trials are running.\n"
     ]
    },
    {
     "name": "stderr",
     "output_type": "stream",
     "text": [
      "[INFO 08-09 14:35:59] ax.early_stopping.strategies.base: Last progression of any candidate for trial stopping is 0.9999466666666667.\n"
     ]
    },
    {
     "name": "stderr",
     "output_type": "stream",
     "text": [
      "[INFO 08-09 14:35:59] ax.early_stopping.strategies.percentile: Considering trial 11 for early stopping.\n"
     ]
    },
    {
     "name": "stderr",
     "output_type": "stream",
     "text": [
      "[INFO 08-09 14:35:59] ax.early_stopping.strategies.base: Last progression of Trial 11 is 0.9999466666666667.\n"
     ]
    },
    {
     "name": "stderr",
     "output_type": "stream",
     "text": [
      "[INFO 08-09 14:35:59] ax.early_stopping.strategies.percentile: Early stopping objective at last progression is:\n",
      "0     0.936783\n",
      "1     0.928827\n",
      "2     0.868771\n",
      "3     0.939049\n",
      "4     0.930138\n",
      "7     0.956917\n",
      "8     0.955711\n",
      "9     0.955796\n",
      "11    0.960685\n",
      "Name: 0.9999466666666667, dtype: float64.\n"
     ]
    },
    {
     "name": "stderr",
     "output_type": "stream",
     "text": [
      "[INFO 08-09 14:35:59] ax.early_stopping.strategies.percentile: Early stopping decision for 11: False. Reason: Trial objective value 0.960684597492218 is better than 70.0-th percentile (0.9557620286941528) across comparable trials.\n"
     ]
    },
    {
     "name": "stderr",
     "output_type": "stream",
     "text": [
      "[INFO 08-09 14:35:59] Scheduler: Waiting for completed trials (for 10 sec, currently running trials: 1).\n"
     ]
    },
    {
     "name": "stderr",
     "output_type": "stream",
     "text": [
      "[INFO 08-09 14:36:09] ax.early_stopping.strategies.base: Last progression of any candidate for trial stopping is 0.\n"
     ]
    },
    {
     "name": "stderr",
     "output_type": "stream",
     "text": [
      "[INFO 08-09 14:36:09] ax.early_stopping.strategies.base: No trials have reached 0.3. Not stopping any trials.\n"
     ]
    },
    {
     "name": "stderr",
     "output_type": "stream",
     "text": [
      "[INFO 08-09 14:36:09] Scheduler: Retrieved COMPLETED trials: [11].\n"
     ]
    },
    {
     "name": "stderr",
     "output_type": "stream",
     "text": [
      "[INFO 08-09 14:36:09] Scheduler: Fetching data for trials: [11].\n"
     ]
    },
    {
     "name": "stderr",
     "output_type": "stream",
     "text": [
      "[WARNING 08-09 14:36:09] Scheduler: Both `init_seconds_between_polls` and `early_stopping_strategy supplied. `init_seconds_between_polls=1` will be overrridden by `early_stopping_strategy.seconds_between_polls=10` and polling will take place at a constant rate.\n"
     ]
    },
    {
     "name": "stdout",
     "output_type": "stream",
     "text": [
      "CPU times: user 1min 42s, sys: 16.5 s, total: 1min 58s\n",
      "Wall time: 14min 45s\n"
     ]
    },
    {
     "data": {
      "text/plain": [
       "OptimizationResult()"
      ]
     },
     "execution_count": 14,
     "metadata": {},
     "output_type": "execute_result"
    }
   ],
   "source": [
    "%%time\n",
    "scheduler.run_all_trials()"
   ]
  },
  {
   "cell_type": "markdown",
   "id": "8c5afbe8",
   "metadata": {},
   "source": [
    "## Results\n",
    "\n",
    "First, we examine the data stored on the experiment. This shows that each trial is associated with an entire learning curve, represented by the column \"steps\"."
   ]
  },
  {
   "cell_type": "code",
   "execution_count": 15,
   "id": "764365f0",
   "metadata": {
    "execution": {
     "iopub.execute_input": "2023-08-09T18:36:09.461920Z",
     "iopub.status.busy": "2023-08-09T18:36:09.461651Z",
     "iopub.status.idle": "2023-08-09T18:36:09.488457Z",
     "shell.execute_reply": "2023-08-09T18:36:09.487840Z"
    }
   },
   "outputs": [
    {
     "data": {
      "text/html": [
       "<div>\n",
       "<style scoped>\n",
       "    .dataframe tbody tr th:only-of-type {\n",
       "        vertical-align: middle;\n",
       "    }\n",
       "\n",
       "    .dataframe tbody tr th {\n",
       "        vertical-align: top;\n",
       "    }\n",
       "\n",
       "    .dataframe thead th {\n",
       "        text-align: right;\n",
       "    }\n",
       "</style>\n",
       "<table border=\"1\" class=\"dataframe\">\n",
       "  <thead>\n",
       "    <tr style=\"text-align: right;\">\n",
       "      <th></th>\n",
       "      <th>arm_name</th>\n",
       "      <th>metric_name</th>\n",
       "      <th>mean</th>\n",
       "      <th>sem</th>\n",
       "      <th>trial_index</th>\n",
       "      <th>steps</th>\n",
       "    </tr>\n",
       "  </thead>\n",
       "  <tbody>\n",
       "    <tr>\n",
       "      <th>0</th>\n",
       "      <td>0_0</td>\n",
       "      <td>val_acc</td>\n",
       "      <td>0.894470</td>\n",
       "      <td>NaN</td>\n",
       "      <td>0</td>\n",
       "      <td>1874.0</td>\n",
       "    </tr>\n",
       "    <tr>\n",
       "      <th>1</th>\n",
       "      <td>0_0</td>\n",
       "      <td>val_acc</td>\n",
       "      <td>0.906970</td>\n",
       "      <td>NaN</td>\n",
       "      <td>0</td>\n",
       "      <td>3749.0</td>\n",
       "    </tr>\n",
       "    <tr>\n",
       "      <th>2</th>\n",
       "      <td>0_0</td>\n",
       "      <td>val_acc</td>\n",
       "      <td>0.918026</td>\n",
       "      <td>NaN</td>\n",
       "      <td>0</td>\n",
       "      <td>5624.0</td>\n",
       "    </tr>\n",
       "    <tr>\n",
       "      <th>3</th>\n",
       "      <td>0_0</td>\n",
       "      <td>val_acc</td>\n",
       "      <td>0.924426</td>\n",
       "      <td>NaN</td>\n",
       "      <td>0</td>\n",
       "      <td>7499.0</td>\n",
       "    </tr>\n",
       "    <tr>\n",
       "      <th>4</th>\n",
       "      <td>0_0</td>\n",
       "      <td>val_acc</td>\n",
       "      <td>0.927386</td>\n",
       "      <td>NaN</td>\n",
       "      <td>0</td>\n",
       "      <td>9374.0</td>\n",
       "    </tr>\n",
       "    <tr>\n",
       "      <th>5</th>\n",
       "      <td>0_0</td>\n",
       "      <td>val_acc</td>\n",
       "      <td>0.928987</td>\n",
       "      <td>NaN</td>\n",
       "      <td>0</td>\n",
       "      <td>11249.0</td>\n",
       "    </tr>\n",
       "    <tr>\n",
       "      <th>6</th>\n",
       "      <td>0_0</td>\n",
       "      <td>val_acc</td>\n",
       "      <td>0.931204</td>\n",
       "      <td>NaN</td>\n",
       "      <td>0</td>\n",
       "      <td>13124.0</td>\n",
       "    </tr>\n",
       "    <tr>\n",
       "      <th>7</th>\n",
       "      <td>0_0</td>\n",
       "      <td>val_acc</td>\n",
       "      <td>0.933642</td>\n",
       "      <td>NaN</td>\n",
       "      <td>0</td>\n",
       "      <td>14999.0</td>\n",
       "    </tr>\n",
       "    <tr>\n",
       "      <th>8</th>\n",
       "      <td>0_0</td>\n",
       "      <td>val_acc</td>\n",
       "      <td>0.936034</td>\n",
       "      <td>NaN</td>\n",
       "      <td>0</td>\n",
       "      <td>16874.0</td>\n",
       "    </tr>\n",
       "    <tr>\n",
       "      <th>9</th>\n",
       "      <td>0_0</td>\n",
       "      <td>val_acc</td>\n",
       "      <td>0.936783</td>\n",
       "      <td>NaN</td>\n",
       "      <td>0</td>\n",
       "      <td>18749.0</td>\n",
       "    </tr>\n",
       "  </tbody>\n",
       "</table>\n",
       "</div>"
      ],
      "text/plain": [
       "  arm_name metric_name      mean  sem  trial_index    steps\n",
       "0      0_0     val_acc  0.894470  NaN            0   1874.0\n",
       "1      0_0     val_acc  0.906970  NaN            0   3749.0\n",
       "2      0_0     val_acc  0.918026  NaN            0   5624.0\n",
       "3      0_0     val_acc  0.924426  NaN            0   7499.0\n",
       "4      0_0     val_acc  0.927386  NaN            0   9374.0\n",
       "5      0_0     val_acc  0.928987  NaN            0  11249.0\n",
       "6      0_0     val_acc  0.931204  NaN            0  13124.0\n",
       "7      0_0     val_acc  0.933642  NaN            0  14999.0\n",
       "8      0_0     val_acc  0.936034  NaN            0  16874.0\n",
       "9      0_0     val_acc  0.936783  NaN            0  18749.0"
      ]
     },
     "execution_count": 15,
     "metadata": {},
     "output_type": "execute_result"
    }
   ],
   "source": [
    "experiment.lookup_data().map_df.head(n=10)"
   ]
  },
  {
   "cell_type": "markdown",
   "id": "0033ed2e",
   "metadata": {},
   "source": [
    "Below is a summary of the experiment, showing that a portion of trials have been early stopped."
   ]
  },
  {
   "cell_type": "code",
   "execution_count": 16,
   "id": "00f2b35f",
   "metadata": {
    "execution": {
     "iopub.execute_input": "2023-08-09T18:36:09.491695Z",
     "iopub.status.busy": "2023-08-09T18:36:09.491441Z",
     "iopub.status.idle": "2023-08-09T18:36:09.529913Z",
     "shell.execute_reply": "2023-08-09T18:36:09.529219Z"
    }
   },
   "outputs": [
    {
     "data": {
      "text/html": [
       "<div>\n",
       "<style scoped>\n",
       "    .dataframe tbody tr th:only-of-type {\n",
       "        vertical-align: middle;\n",
       "    }\n",
       "\n",
       "    .dataframe tbody tr th {\n",
       "        vertical-align: top;\n",
       "    }\n",
       "\n",
       "    .dataframe thead th {\n",
       "        text-align: right;\n",
       "    }\n",
       "</style>\n",
       "<table border=\"1\" class=\"dataframe\">\n",
       "  <thead>\n",
       "    <tr style=\"text-align: right;\">\n",
       "      <th></th>\n",
       "      <th>trial_index</th>\n",
       "      <th>arm_name</th>\n",
       "      <th>trial_status</th>\n",
       "      <th>generation_method</th>\n",
       "      <th>val_acc</th>\n",
       "      <th>hidden_size_1</th>\n",
       "      <th>hidden_size_2</th>\n",
       "      <th>learning_rate</th>\n",
       "      <th>dropout</th>\n",
       "    </tr>\n",
       "  </thead>\n",
       "  <tbody>\n",
       "    <tr>\n",
       "      <th>0</th>\n",
       "      <td>0</td>\n",
       "      <td>0_0</td>\n",
       "      <td>COMPLETED</td>\n",
       "      <td>Sobol</td>\n",
       "      <td>0.936783</td>\n",
       "      <td>18</td>\n",
       "      <td>80</td>\n",
       "      <td>0.000153</td>\n",
       "      <td>0.144491</td>\n",
       "    </tr>\n",
       "    <tr>\n",
       "      <th>1</th>\n",
       "      <td>1</td>\n",
       "      <td>1_0</td>\n",
       "      <td>COMPLETED</td>\n",
       "      <td>Sobol</td>\n",
       "      <td>0.928827</td>\n",
       "      <td>18</td>\n",
       "      <td>113</td>\n",
       "      <td>0.003650</td>\n",
       "      <td>0.013404</td>\n",
       "    </tr>\n",
       "    <tr>\n",
       "      <th>2</th>\n",
       "      <td>2</td>\n",
       "      <td>2_0</td>\n",
       "      <td>COMPLETED</td>\n",
       "      <td>Sobol</td>\n",
       "      <td>0.868771</td>\n",
       "      <td>16</td>\n",
       "      <td>26</td>\n",
       "      <td>0.000752</td>\n",
       "      <td>0.482806</td>\n",
       "    </tr>\n",
       "    <tr>\n",
       "      <th>3</th>\n",
       "      <td>3</td>\n",
       "      <td>3_0</td>\n",
       "      <td>COMPLETED</td>\n",
       "      <td>Sobol</td>\n",
       "      <td>0.939049</td>\n",
       "      <td>72</td>\n",
       "      <td>42</td>\n",
       "      <td>0.002240</td>\n",
       "      <td>0.489119</td>\n",
       "    </tr>\n",
       "    <tr>\n",
       "      <th>4</th>\n",
       "      <td>4</td>\n",
       "      <td>4_0</td>\n",
       "      <td>COMPLETED</td>\n",
       "      <td>Sobol</td>\n",
       "      <td>0.930138</td>\n",
       "      <td>20</td>\n",
       "      <td>104</td>\n",
       "      <td>0.002754</td>\n",
       "      <td>0.140743</td>\n",
       "    </tr>\n",
       "    <tr>\n",
       "      <th>5</th>\n",
       "      <td>5</td>\n",
       "      <td>5_0</td>\n",
       "      <td>EARLY_STOPPED</td>\n",
       "      <td>GPEI</td>\n",
       "      <td>0.934730</td>\n",
       "      <td>116</td>\n",
       "      <td>51</td>\n",
       "      <td>0.002827</td>\n",
       "      <td>0.478447</td>\n",
       "    </tr>\n",
       "    <tr>\n",
       "      <th>6</th>\n",
       "      <td>6</td>\n",
       "      <td>6_0</td>\n",
       "      <td>EARLY_STOPPED</td>\n",
       "      <td>GPEI</td>\n",
       "      <td>0.895719</td>\n",
       "      <td>68</td>\n",
       "      <td>28</td>\n",
       "      <td>0.005950</td>\n",
       "      <td>0.500000</td>\n",
       "    </tr>\n",
       "    <tr>\n",
       "      <th>7</th>\n",
       "      <td>7</td>\n",
       "      <td>7_0</td>\n",
       "      <td>COMPLETED</td>\n",
       "      <td>GPEI</td>\n",
       "      <td>0.956917</td>\n",
       "      <td>66</td>\n",
       "      <td>60</td>\n",
       "      <td>0.000809</td>\n",
       "      <td>0.450826</td>\n",
       "    </tr>\n",
       "    <tr>\n",
       "      <th>8</th>\n",
       "      <td>8</td>\n",
       "      <td>8_0</td>\n",
       "      <td>COMPLETED</td>\n",
       "      <td>GPEI</td>\n",
       "      <td>0.955711</td>\n",
       "      <td>64</td>\n",
       "      <td>66</td>\n",
       "      <td>0.001833</td>\n",
       "      <td>0.346623</td>\n",
       "    </tr>\n",
       "    <tr>\n",
       "      <th>9</th>\n",
       "      <td>9</td>\n",
       "      <td>9_0</td>\n",
       "      <td>COMPLETED</td>\n",
       "      <td>GPEI</td>\n",
       "      <td>0.955796</td>\n",
       "      <td>81</td>\n",
       "      <td>54</td>\n",
       "      <td>0.000658</td>\n",
       "      <td>0.500000</td>\n",
       "    </tr>\n",
       "    <tr>\n",
       "      <th>10</th>\n",
       "      <td>10</td>\n",
       "      <td>10_0</td>\n",
       "      <td>EARLY_STOPPED</td>\n",
       "      <td>GPEI</td>\n",
       "      <td>0.927286</td>\n",
       "      <td>49</td>\n",
       "      <td>67</td>\n",
       "      <td>0.000977</td>\n",
       "      <td>0.446420</td>\n",
       "    </tr>\n",
       "    <tr>\n",
       "      <th>11</th>\n",
       "      <td>11</td>\n",
       "      <td>11_0</td>\n",
       "      <td>COMPLETED</td>\n",
       "      <td>GPEI</td>\n",
       "      <td>0.960685</td>\n",
       "      <td>79</td>\n",
       "      <td>61</td>\n",
       "      <td>0.000960</td>\n",
       "      <td>0.372080</td>\n",
       "    </tr>\n",
       "    <tr>\n",
       "      <th>12</th>\n",
       "      <td>12</td>\n",
       "      <td>12_0</td>\n",
       "      <td>EARLY_STOPPED</td>\n",
       "      <td>GPEI</td>\n",
       "      <td>0.941962</td>\n",
       "      <td>79</td>\n",
       "      <td>71</td>\n",
       "      <td>0.001673</td>\n",
       "      <td>0.467667</td>\n",
       "    </tr>\n",
       "    <tr>\n",
       "      <th>13</th>\n",
       "      <td>13</td>\n",
       "      <td>13_0</td>\n",
       "      <td>EARLY_STOPPED</td>\n",
       "      <td>GPEI</td>\n",
       "      <td>0.938959</td>\n",
       "      <td>80</td>\n",
       "      <td>47</td>\n",
       "      <td>0.000221</td>\n",
       "      <td>0.474823</td>\n",
       "    </tr>\n",
       "    <tr>\n",
       "      <th>14</th>\n",
       "      <td>14</td>\n",
       "      <td>14_0</td>\n",
       "      <td>EARLY_STOPPED</td>\n",
       "      <td>GPEI</td>\n",
       "      <td>0.946964</td>\n",
       "      <td>77</td>\n",
       "      <td>48</td>\n",
       "      <td>0.001024</td>\n",
       "      <td>0.438488</td>\n",
       "    </tr>\n",
       "  </tbody>\n",
       "</table>\n",
       "</div>"
      ],
      "text/plain": [
       "    trial_index arm_name   trial_status generation_method   val_acc  \\\n",
       "0             0      0_0      COMPLETED             Sobol  0.936783   \n",
       "1             1      1_0      COMPLETED             Sobol  0.928827   \n",
       "2             2      2_0      COMPLETED             Sobol  0.868771   \n",
       "3             3      3_0      COMPLETED             Sobol  0.939049   \n",
       "4             4      4_0      COMPLETED             Sobol  0.930138   \n",
       "5             5      5_0  EARLY_STOPPED              GPEI  0.934730   \n",
       "6             6      6_0  EARLY_STOPPED              GPEI  0.895719   \n",
       "7             7      7_0      COMPLETED              GPEI  0.956917   \n",
       "8             8      8_0      COMPLETED              GPEI  0.955711   \n",
       "9             9      9_0      COMPLETED              GPEI  0.955796   \n",
       "10           10     10_0  EARLY_STOPPED              GPEI  0.927286   \n",
       "11           11     11_0      COMPLETED              GPEI  0.960685   \n",
       "12           12     12_0  EARLY_STOPPED              GPEI  0.941962   \n",
       "13           13     13_0  EARLY_STOPPED              GPEI  0.938959   \n",
       "14           14     14_0  EARLY_STOPPED              GPEI  0.946964   \n",
       "\n",
       "    hidden_size_1  hidden_size_2  learning_rate   dropout  \n",
       "0              18             80       0.000153  0.144491  \n",
       "1              18            113       0.003650  0.013404  \n",
       "2              16             26       0.000752  0.482806  \n",
       "3              72             42       0.002240  0.489119  \n",
       "4              20            104       0.002754  0.140743  \n",
       "5             116             51       0.002827  0.478447  \n",
       "6              68             28       0.005950  0.500000  \n",
       "7              66             60       0.000809  0.450826  \n",
       "8              64             66       0.001833  0.346623  \n",
       "9              81             54       0.000658  0.500000  \n",
       "10             49             67       0.000977  0.446420  \n",
       "11             79             61       0.000960  0.372080  \n",
       "12             79             71       0.001673  0.467667  \n",
       "13             80             47       0.000221  0.474823  \n",
       "14             77             48       0.001024  0.438488  "
      ]
     },
     "execution_count": 16,
     "metadata": {},
     "output_type": "execute_result"
    }
   ],
   "source": [
    "exp_to_df(experiment)"
   ]
  },
  {
   "cell_type": "markdown",
   "id": "f8909cf2",
   "metadata": {},
   "source": [
    "We can give a very rough estimate of the amount of computational savings due to early stopping, by looking at the total number of steps used when early stopping is used versus the number of steps used if we ran all trials to completion. Note to do a true comparison, one should run full HPO loops with and without early stopping (as early stopping will influence the model and future points selected by the generation strategy). "
   ]
  },
  {
   "cell_type": "code",
   "execution_count": 17,
   "id": "5abb3ce8",
   "metadata": {
    "execution": {
     "iopub.execute_input": "2023-08-09T18:36:09.532988Z",
     "iopub.status.busy": "2023-08-09T18:36:09.532753Z",
     "iopub.status.idle": "2023-08-09T18:36:09.547418Z",
     "shell.execute_reply": "2023-08-09T18:36:09.546775Z"
    }
   },
   "outputs": [
    {
     "name": "stdout",
     "output_type": "stream",
     "text": [
      "A rough estimate of the computational savings is 22.00213333333333%.\n"
     ]
    }
   ],
   "source": [
    "map_df = experiment.lookup_data().map_df\n",
    "trial_to_max_steps = map_df.groupby(\"trial_index\")[\"steps\"].max()\n",
    "completed_trial_steps = trial_to_max_steps.iloc[0]\n",
    "savings = 1.0 - trial_to_max_steps.sum() / (\n",
    "    completed_trial_steps * len(trial_to_max_steps)\n",
    ")\n",
    "# TODO format nicer\n",
    "print(f\"A rough estimate of the computational savings is {100 * savings}%.\")"
   ]
  },
  {
   "cell_type": "markdown",
   "id": "37df6964",
   "metadata": {},
   "source": [
    "## Visualizations\n",
    "\n",
    "Finally, we show a visualization of learning curves versus actual elapsed wall time. This helps to illustrate that stopped trials make room for additional trials to be run."
   ]
  },
  {
   "cell_type": "code",
   "execution_count": 18,
   "id": "c88cb8d0",
   "metadata": {
    "execution": {
     "iopub.execute_input": "2023-08-09T18:36:09.550510Z",
     "iopub.status.busy": "2023-08-09T18:36:09.550217Z",
     "iopub.status.idle": "2023-08-09T18:36:09.558580Z",
     "shell.execute_reply": "2023-08-09T18:36:09.557907Z"
    }
   },
   "outputs": [],
   "source": [
    "# helper function for getting trial start times\n",
    "def time_started(row):\n",
    "    trial_index = row[\"trial_index\"]\n",
    "    return experiment.trials[trial_index].time_run_started\n",
    "\n",
    "\n",
    "# helper function for getting trial completion times\n",
    "def time_completed(row):\n",
    "    trial_index = row[\"trial_index\"]\n",
    "    return experiment.trials[trial_index].time_completed\n",
    "\n",
    "\n",
    "# helper function for getting relevant data from experiment\n",
    "# with early stopping into useful dfs\n",
    "def early_stopping_exp_to_df(experiment):\n",
    "    trials_df = exp_to_df(experiment)\n",
    "    curve_df = experiment.lookup_data().map_df\n",
    "    training_row_df = (\n",
    "        curve_df.groupby(\"trial_index\").max().reset_index()[[\"trial_index\", \"steps\"]]\n",
    "    )\n",
    "    trials_df = trials_df.merge(training_row_df, on=\"trial_index\")\n",
    "    trials_df[\"time_started\"] = trials_df.apply(func=time_started, axis=1)\n",
    "    trials_df[\"time_completed\"] = trials_df.apply(func=time_completed, axis=1)\n",
    "    start_time = trials_df[\"time_started\"].min()\n",
    "    trials_df[\"time_started_rel\"] = (\n",
    "        trials_df[\"time_started\"] - start_time\n",
    "    ).dt.total_seconds()\n",
    "    trials_df[\"time_completed_rel\"] = (\n",
    "        trials_df[\"time_completed\"] - start_time\n",
    "    ).dt.total_seconds()\n",
    "    return trials_df, curve_df\n",
    "\n",
    "\n",
    "def plot_curves_by_wall_time(trials_df, curve_df):\n",
    "    trials = set(curve_df[\"trial_index\"])\n",
    "    fig, ax = plt.subplots(1, 1, figsize=(10, 6))\n",
    "    ax.set(xlabel=\"seconds since start\", ylabel=\"validation accuracy\")\n",
    "    for trial_index in trials:\n",
    "        this_trial_df = curve_df[curve_df[\"trial_index\"] == trial_index]\n",
    "        start_time_rel = trials_df[\"time_started_rel\"].iloc[trial_index]\n",
    "        completed_time_rel = trials_df[\"time_completed_rel\"].iloc[trial_index]\n",
    "        total_steps = trials_df.loc[trial_index, \"steps\"]\n",
    "        smoothed_curve = this_trial_df[\"mean\"].rolling(window=3).mean()\n",
    "        x = (\n",
    "            start_time_rel\n",
    "            + (completed_time_rel - start_time_rel)\n",
    "            / total_steps\n",
    "            * this_trial_df[\"steps\"]\n",
    "        )\n",
    "        ax.plot(\n",
    "            x,\n",
    "            smoothed_curve,\n",
    "            label=f\"trial #{trial_index}\" if trial_index % 2 == 1 else None,\n",
    "        )\n",
    "    ax.legend()"
   ]
  },
  {
   "cell_type": "code",
   "execution_count": 19,
   "id": "d7f52fed",
   "metadata": {
    "execution": {
     "iopub.execute_input": "2023-08-09T18:36:09.561515Z",
     "iopub.status.busy": "2023-08-09T18:36:09.561282Z",
     "iopub.status.idle": "2023-08-09T18:36:09.980239Z",
     "shell.execute_reply": "2023-08-09T18:36:09.979752Z"
    }
   },
   "outputs": [
    {
     "data": {
      "image/png": "[encoded data removed]",
      "text/plain": [
       "<Figure size 1000x600 with 1 Axes>"
      ]
     },
     "metadata": {},
     "output_type": "display_data"
    }
   ],
   "source": [
    "# wrap in try/except in case of flaky I/O issues\n",
    "try:\n",
    "    trials_df, curve_df = early_stopping_exp_to_df(experiment)\n",
    "    plot_curves_by_wall_time(trials_df, curve_df)\n",
    "except Exception as e:\n",
    "    print(f\"Encountered exception while plotting results: {e}\")"
   ]
  },
  {
   "cell_type": "code",
   "execution_count": null,
   "id": "193e2fc7",
   "metadata": {},
   "outputs": [],
   "source": []
  }
 ],
 "metadata": {
  "kernelspec": {
   "display_name": "Python 3 (ipykernel)",
   "language": "python",
   "name": "python3"
  },
  "language_info": {
   "codemirror_mode": {
    "name": "ipython",
    "version": 3
   },
   "file_extension": ".py",
   "mimetype": "text/x-python",
   "name": "python",
   "nbconvert_exporter": "python",
   "pygments_lexer": "ipython3",
   "version": "3.9.17"
  }
 },
 "nbformat": 4,
 "nbformat_minor": 5
}
