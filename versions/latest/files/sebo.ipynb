{
 "cells": [
  {
   "attachments": {},
   "cell_type": "markdown",
   "metadata": {
    "collapsed": true,
    "customInput": null,
    "originalKey": "d3a0136e-94fa-477c-a839-20e5b7f1cdd2",
    "showInput": false
   },
   "source": [
    "# Sparsity Exploration Bayesian Optimization (SEBO) Ax API \n",
    "\n",
    "This tutorial introduces the Sparsity Exploration Bayesian Optimization (SEBO) method and demonstrates how to utilize it using the Ax API. SEBO is designed to enhance Bayesian Optimization (BO) by taking the interpretability and simplicity of configurations into consideration. In essence, SEBO incorporates sparsity, modeled as the $L_0$ norm, as an additional objective in BO. By employing multi-objective optimization techniques such as Expected Hyper-Volume Improvement, SEBO enables the joint optimization of objectives while simultaneously incorporating feature-level sparsity. This allows users to efficiently explore different trade-offs between objectives and sparsity.\n",
    "\n",
    "\n",
    "For a more detailed understanding of the SEBO algorithm, please refer to the following publication:\n",
    "\n",
    "[1] [S. Liu, Q. Feng, D. Eriksson, B. Letham and E. Bakshy. Sparse Bayesian Optimization. International Conference on Artificial Intelligence and Statistics, 2023.](https://proceedings.mlr.press/v206/liu23b/liu23b.pdf)\n",
    "\n",
    "By following this tutorial, you will learn how to leverage the SEBO method through the Ax API, empowering you to effectively balance objectives and sparsity in your optimization tasks. Let's get started!"
   ]
  },
  {
   "cell_type": "code",
   "execution_count": 1,
   "metadata": {
    "collapsed": false,
    "customOutput": null,
    "execution": {
     "iopub.execute_input": "2023-08-09T15:30:38.737667Z",
     "iopub.status.busy": "2023-08-09T15:30:38.737211Z",
     "iopub.status.idle": "2023-08-09T15:31:08.236030Z",
     "shell.execute_reply": "2023-08-09T15:31:08.235258Z"
    },
    "executionStartTime": 1689117385062,
    "executionStopTime": 1689117389874,
    "originalKey": "cea96143-019a-41c1-a388-545f48992db9",
    "requestMsgId": "c2c22a5d-aee0-4a1e-98d9-b360aa1851ff",
    "showInput": true
   },
   "outputs": [],
   "source": [
    "import os\n",
    "\n",
    "from ax import Data, Experiment, ParameterType, RangeParameter, SearchSpace\n",
    "from ax.modelbridge.registry import Models\n",
    "from ax.runners.synthetic import SyntheticRunner\n",
    "\n",
    "import warnings\n",
    "warnings.filterwarnings('ignore')"
   ]
  },
  {
   "cell_type": "code",
   "execution_count": 2,
   "metadata": {
    "collapsed": false,
    "customInput": null,
    "customOutput": null,
    "execution": {
     "iopub.execute_input": "2023-08-09T15:31:08.240226Z",
     "iopub.status.busy": "2023-08-09T15:31:08.239828Z",
     "iopub.status.idle": "2023-08-09T15:31:08.243336Z",
     "shell.execute_reply": "2023-08-09T15:31:08.242837Z"
    },
    "executionStartTime": 1689117389896,
    "executionStopTime": 1689117389898,
    "originalKey": "89cb2c13-8484-4bf9-82e0-3bed87ceb838",
    "requestMsgId": "abc49ffd-df0a-4f2a-b460-73a89d73b361",
    "showInput": true
   },
   "outputs": [],
   "source": [
    "SMOKE_TEST = os.environ.get(\"SMOKE_TEST\")"
   ]
  },
  {
   "cell_type": "code",
   "execution_count": 3,
   "metadata": {
    "collapsed": false,
    "customInput": null,
    "customOutput": null,
    "execution": {
     "iopub.execute_input": "2023-08-09T15:31:08.246204Z",
     "iopub.status.busy": "2023-08-09T15:31:08.245940Z",
     "iopub.status.idle": "2023-08-09T15:31:08.275596Z",
     "shell.execute_reply": "2023-08-09T15:31:08.274919Z"
    },
    "executionStartTime": 1689117389905,
    "executionStopTime": 1689117389913,
    "originalKey": "1f13d0a1-accf-4faf-b40e-fbc21aeb94d9",
    "requestMsgId": "b360f1fd-9b8e-43c1-ab93-48df1580a9fb",
    "showInput": true
   },
   "outputs": [],
   "source": [
    "import torch\n",
    "\n",
    "\n",
    "torch.manual_seed(12345)  # To always get the same Sobol points\n",
    "tkwargs = {\n",
    "    \"dtype\": torch.double,\n",
    "    \"device\": torch.device(\"cuda\" if torch.cuda.is_available() else \"cpu\"),\n",
    "}"
   ]
  },
  {
   "attachments": {},
   "cell_type": "markdown",
   "metadata": {
    "customInput": null,
    "originalKey": "7f07af01-ad58-4cfb-beca-f624310d278d",
    "showInput": false
   },
   "source": [
    "# Demo of using Developer API"
   ]
  },
  {
   "attachments": {},
   "cell_type": "markdown",
   "metadata": {
    "customInput": null,
    "originalKey": "c8a27a2f-1120-4894-9302-48bfde402268",
    "showInput": false
   },
   "source": [
    "## Problem Setup \n",
    "\n",
    "In this simple experiment we use the Branin function embedded in a 10-dimensional space. Additional resources:\n",
    "- To set up a custom metric for your problem, refer to the dedicated section of the Developer API tutorial: https://ax.dev/tutorials/gpei_hartmann_developer.html#8.-Defining-custom-metrics.\n",
    "- To avoid needing to setup up custom metrics by Ax Service API: https://ax.dev/tutorials/gpei_hartmann_service.html."
   ]
  },
  {
   "cell_type": "code",
   "execution_count": 4,
   "metadata": {
    "collapsed": false,
    "customInput": null,
    "execution": {
     "iopub.execute_input": "2023-08-09T15:31:08.279016Z",
     "iopub.status.busy": "2023-08-09T15:31:08.278767Z",
     "iopub.status.idle": "2023-08-09T15:31:08.283465Z",
     "shell.execute_reply": "2023-08-09T15:31:08.282916Z"
    },
    "executionStartTime": 1689117390036,
    "executionStopTime": 1689117390038,
    "originalKey": "e91fc838-9f47-44f1-99ac-4477df208566",
    "requestMsgId": "1591e6b0-fa9b-4b9f-be72-683dccbe923a",
    "showInput": true
   },
   "outputs": [],
   "source": [
    "import math \n",
    "import numpy as np\n",
    "\n",
    "\n",
    "aug_dim = 8 \n",
    "\n",
    "# evaluation function \n",
    "def branin_augment(x_vec, augment_dim):\n",
    "    assert len(x_vec) == augment_dim\n",
    "    x1, x2 = (\n",
    "        15 * x_vec[0] - 5,\n",
    "        15 * x_vec[1],\n",
    "    )  # Only dimensions 0 and augment_dim-1 affect the value of the function\n",
    "    t1 = x2 - 5.1 / (4 * math.pi**2) * x1**2 + 5 / math.pi * x1 - 6\n",
    "    t2 = 10 * (1 - 1 / (8 * math.pi)) * np.cos(x1)\n",
    "    return t1**2 + t2 + 10"
   ]
  },
  {
   "cell_type": "code",
   "execution_count": 5,
   "metadata": {
    "collapsed": false,
    "customInput": null,
    "customOutput": null,
    "execution": {
     "iopub.execute_input": "2023-08-09T15:31:08.286331Z",
     "iopub.status.busy": "2023-08-09T15:31:08.286087Z",
     "iopub.status.idle": "2023-08-09T15:31:08.291080Z",
     "shell.execute_reply": "2023-08-09T15:31:08.290424Z"
    },
    "executionStartTime": 1689117390518,
    "executionStopTime": 1689117390540,
    "originalKey": "850830c6-509f-4087-bce8-da0be4fd48ef",
    "requestMsgId": "56726053-205d-4d7e-b1b5-1a76324188ee",
    "showInput": true
   },
   "outputs": [],
   "source": [
    "from ax.core.objective import Objective\n",
    "from ax.core.optimization_config import OptimizationConfig\n",
    "from ax.metrics.noisy_function import NoisyFunctionMetric\n",
    "from ax.utils.common.typeutils import checked_cast\n",
    "\n",
    "\n",
    "class AugBraninMetric(NoisyFunctionMetric):\n",
    "    def f(self, x: np.ndarray) -> float:\n",
    "        return checked_cast(float, branin_augment(x_vec=x, augment_dim=aug_dim))\n",
    "\n",
    "\n",
    "# Create search space in Ax \n",
    "search_space = SearchSpace(\n",
    "    parameters=[\n",
    "        RangeParameter(\n",
    "            name=f\"x{i}\",\n",
    "            parameter_type=ParameterType.FLOAT, \n",
    "            lower=0.0, upper=1.0\n",
    "        )\n",
    "        for i in range(aug_dim)\n",
    "    ]\n",
    ")"
   ]
  },
  {
   "cell_type": "code",
   "execution_count": 6,
   "metadata": {
    "collapsed": false,
    "customInput": null,
    "execution": {
     "iopub.execute_input": "2023-08-09T15:31:08.294267Z",
     "iopub.status.busy": "2023-08-09T15:31:08.294015Z",
     "iopub.status.idle": "2023-08-09T15:31:08.298480Z",
     "shell.execute_reply": "2023-08-09T15:31:08.297971Z"
    },
    "executionStartTime": 1689117391899,
    "executionStopTime": 1689117391915,
    "originalKey": "d039b709-67c6-475a-96ce-290f869e0f88",
    "requestMsgId": "3e23ed64-7d10-430b-b790-91a0c7cf72fe",
    "showInput": true
   },
   "outputs": [],
   "source": [
    "# Create optimization goals \n",
    "optimization_config = OptimizationConfig(\n",
    "    objective=Objective(\n",
    "        metric=AugBraninMetric(\n",
    "            name=\"objective\",\n",
    "            param_names=[f\"x{i}\" for i in range(aug_dim)],\n",
    "            noise_sd=None,  # Set noise_sd=None if you want to learn the noise, otherwise it defaults to 1e-6\n",
    "        ),\n",
    "        minimize=True,\n",
    "    )\n",
    ")\n",
    "\n",
    "# Experiment\n",
    "experiment = Experiment(\n",
    "    name=\"sebo_experiment\",\n",
    "    search_space=search_space,\n",
    "    optimization_config=optimization_config,\n",
    "    runner=SyntheticRunner(),\n",
    ")\n",
    "\n",
    "# target sparse point to regularize towards to. Here we set target sparse value being zero for all the parameters. \n",
    "target_point = torch.tensor([0 for _ in range(aug_dim)], **tkwargs)"
   ]
  },
  {
   "attachments": {},
   "cell_type": "markdown",
   "metadata": {
    "customInput": null,
    "originalKey": "e57edb00-eafc-4d07-bdb9-e8cf073b4caa",
    "showInput": false
   },
   "source": [
    "## Run optimization loop"
   ]
  },
  {
   "cell_type": "code",
   "execution_count": 7,
   "metadata": {
    "collapsed": false,
    "customInput": null,
    "customOutput": null,
    "execution": {
     "iopub.execute_input": "2023-08-09T15:31:08.301490Z",
     "iopub.status.busy": "2023-08-09T15:31:08.301262Z",
     "iopub.status.idle": "2023-08-09T15:31:08.304731Z",
     "shell.execute_reply": "2023-08-09T15:31:08.304078Z"
    },
    "executionStartTime": 1689117393959,
    "executionStopTime": 1689117393962,
    "originalKey": "d0f279d5-da98-44da-9a4e-c30553e4d95a",
    "requestMsgId": "20d42853-0502-4a5c-8749-7fc1dcbc9879",
    "showInput": true
   },
   "outputs": [],
   "source": [
    "import torch \n",
    "from ax.models.torch.botorch_modular.surrogate import Surrogate\n",
    "from botorch.models import SingleTaskGP, FixedNoiseGP, SaasFullyBayesianSingleTaskGP\n",
    "from ax.models.torch.botorch_modular.sebo import SEBOAcquisition\n",
    "from botorch.acquisition.multi_objective import qNoisyExpectedHypervolumeImprovement"
   ]
  },
  {
   "cell_type": "code",
   "execution_count": 8,
   "metadata": {
    "collapsed": false,
    "customInput": null,
    "customOutput": null,
    "execution": {
     "iopub.execute_input": "2023-08-09T15:31:08.307832Z",
     "iopub.status.busy": "2023-08-09T15:31:08.307571Z",
     "iopub.status.idle": "2023-08-09T15:31:08.311529Z",
     "shell.execute_reply": "2023-08-09T15:31:08.310998Z"
    },
    "executionStartTime": 1689117395051,
    "executionStopTime": 1689117395069,
    "originalKey": "c4848148-bff5-44a7-9ad5-41e78ccb413c",
    "requestMsgId": "8aa87d22-bf89-471f-be9f-7c31f7b8bd62",
    "showInput": true
   },
   "outputs": [
    {
     "name": "stdout",
     "output_type": "stream",
     "text": [
      "Doing 50 evaluations\n"
     ]
    }
   ],
   "source": [
    "N_INIT = 10\n",
    "BATCH_SIZE = 1\n",
    "\n",
    "if SMOKE_TEST:\n",
    "    N_BATCHES = 1\n",
    "    SURROGATE_CLASS = SingleTaskGP\n",
    "else:\n",
    "    N_BATCHES = 40\n",
    "    SURROGATE_CLASS = SaasFullyBayesianSingleTaskGP\n",
    "\n",
    "print(f\"Doing {N_INIT + N_BATCHES * BATCH_SIZE} evaluations\")"
   ]
  },
  {
   "cell_type": "code",
   "execution_count": 9,
   "metadata": {
    "collapsed": false,
    "customInput": null,
    "customOutput": null,
    "execution": {
     "iopub.execute_input": "2023-08-09T15:31:08.314454Z",
     "iopub.status.busy": "2023-08-09T15:31:08.314226Z",
     "iopub.status.idle": "2023-08-09T15:31:08.328980Z",
     "shell.execute_reply": "2023-08-09T15:31:08.328280Z"
    },
    "executionStartTime": 1689117396326,
    "executionStopTime": 1689117396376,
    "originalKey": "b260d85f-2797-44e3-840a-86587534b589",
    "requestMsgId": "2cc516e3-b16e-40ca-805f-dcd792c92fa6",
    "showInput": true
   },
   "outputs": [],
   "source": [
    "# Initial Sobol points\n",
    "sobol = Models.SOBOL(search_space=experiment.search_space)\n",
    "for _ in range(N_INIT):\n",
    "    experiment.new_trial(sobol.gen(1)).run()"
   ]
  },
  {
   "cell_type": "code",
   "execution_count": 10,
   "metadata": {
    "collapsed": false,
    "customInput": null,
    "customOutput": null,
    "execution": {
     "iopub.execute_input": "2023-08-09T15:31:08.332566Z",
     "iopub.status.busy": "2023-08-09T15:31:08.332307Z",
     "iopub.status.idle": "2023-08-09T16:31:13.101844Z",
     "shell.execute_reply": "2023-08-09T16:31:13.101019Z"
    },
    "executionStartTime": 1689117396900,
    "executionStopTime": 1689124188959,
    "originalKey": "7c198035-add2-4717-be27-4fb67c4d1782",
    "requestMsgId": "d844fa20-0adf-4ba3-ace5-7253ba678db2",
    "showInput": true
   },
   "outputs": [
    {
     "name": "stdout",
     "output_type": "stream",
     "text": [
      "Iteration: 0, Best so far: 2.494\n"
     ]
    },
    {
     "name": "stdout",
     "output_type": "stream",
     "text": [
      "Iteration: 1, Best so far: 2.494\n"
     ]
    },
    {
     "name": "stdout",
     "output_type": "stream",
     "text": [
      "Iteration: 2, Best so far: 2.494\n"
     ]
    },
    {
     "name": "stdout",
     "output_type": "stream",
     "text": [
      "Iteration: 3, Best so far: 2.494\n"
     ]
    },
    {
     "name": "stdout",
     "output_type": "stream",
     "text": [
      "Iteration: 4, Best so far: 2.494\n"
     ]
    },
    {
     "name": "stdout",
     "output_type": "stream",
     "text": [
      "Iteration: 5, Best so far: 2.494\n"
     ]
    },
    {
     "name": "stdout",
     "output_type": "stream",
     "text": [
      "Iteration: 6, Best so far: 2.494\n"
     ]
    },
    {
     "name": "stdout",
     "output_type": "stream",
     "text": [
      "Iteration: 7, Best so far: 2.494\n"
     ]
    },
    {
     "name": "stdout",
     "output_type": "stream",
     "text": [
      "Iteration: 8, Best so far: 2.494\n"
     ]
    },
    {
     "name": "stdout",
     "output_type": "stream",
     "text": [
      "Iteration: 9, Best so far: 2.494\n"
     ]
    },
    {
     "name": "stdout",
     "output_type": "stream",
     "text": [
      "Iteration: 10, Best so far: 2.002\n"
     ]
    },
    {
     "name": "stdout",
     "output_type": "stream",
     "text": [
      "Iteration: 11, Best so far: 2.002\n"
     ]
    },
    {
     "name": "stdout",
     "output_type": "stream",
     "text": [
      "Iteration: 12, Best so far: 2.002\n"
     ]
    },
    {
     "name": "stdout",
     "output_type": "stream",
     "text": [
      "Iteration: 13, Best so far: 2.002\n"
     ]
    },
    {
     "name": "stdout",
     "output_type": "stream",
     "text": [
      "Iteration: 14, Best so far: 2.002\n"
     ]
    },
    {
     "name": "stdout",
     "output_type": "stream",
     "text": [
      "Iteration: 15, Best so far: 2.002\n"
     ]
    },
    {
     "name": "stdout",
     "output_type": "stream",
     "text": [
      "Iteration: 16, Best so far: 2.002\n"
     ]
    },
    {
     "name": "stdout",
     "output_type": "stream",
     "text": [
      "Iteration: 17, Best so far: 0.561\n"
     ]
    },
    {
     "name": "stdout",
     "output_type": "stream",
     "text": [
      "Iteration: 18, Best so far: 0.561\n"
     ]
    },
    {
     "name": "stdout",
     "output_type": "stream",
     "text": [
      "Iteration: 19, Best so far: 0.527\n"
     ]
    },
    {
     "name": "stdout",
     "output_type": "stream",
     "text": [
      "Iteration: 20, Best so far: 0.527\n"
     ]
    },
    {
     "name": "stdout",
     "output_type": "stream",
     "text": [
      "Iteration: 21, Best so far: 0.527\n"
     ]
    },
    {
     "name": "stdout",
     "output_type": "stream",
     "text": [
      "Iteration: 22, Best so far: 0.527\n"
     ]
    },
    {
     "name": "stdout",
     "output_type": "stream",
     "text": [
      "Iteration: 23, Best so far: 0.463\n"
     ]
    },
    {
     "name": "stdout",
     "output_type": "stream",
     "text": [
      "Iteration: 24, Best so far: 0.463\n"
     ]
    },
    {
     "name": "stdout",
     "output_type": "stream",
     "text": [
      "Iteration: 25, Best so far: 0.463\n"
     ]
    },
    {
     "name": "stdout",
     "output_type": "stream",
     "text": [
      "Iteration: 26, Best so far: 0.462\n"
     ]
    },
    {
     "name": "stdout",
     "output_type": "stream",
     "text": [
      "Iteration: 27, Best so far: 0.417\n"
     ]
    },
    {
     "name": "stdout",
     "output_type": "stream",
     "text": [
      "Iteration: 28, Best so far: 0.417\n"
     ]
    },
    {
     "name": "stdout",
     "output_type": "stream",
     "text": [
      "Iteration: 29, Best so far: 0.417\n"
     ]
    },
    {
     "name": "stdout",
     "output_type": "stream",
     "text": [
      "Iteration: 30, Best so far: 0.410\n"
     ]
    },
    {
     "name": "stdout",
     "output_type": "stream",
     "text": [
      "Iteration: 31, Best so far: 0.410\n"
     ]
    },
    {
     "name": "stdout",
     "output_type": "stream",
     "text": [
      "Iteration: 32, Best so far: 0.404\n"
     ]
    },
    {
     "name": "stdout",
     "output_type": "stream",
     "text": [
      "Iteration: 33, Best so far: 0.404\n"
     ]
    },
    {
     "name": "stdout",
     "output_type": "stream",
     "text": [
      "Iteration: 34, Best so far: 0.404\n"
     ]
    },
    {
     "name": "stdout",
     "output_type": "stream",
     "text": [
      "Iteration: 35, Best so far: 0.404\n"
     ]
    },
    {
     "name": "stdout",
     "output_type": "stream",
     "text": [
      "Iteration: 36, Best so far: 0.404\n"
     ]
    },
    {
     "name": "stdout",
     "output_type": "stream",
     "text": [
      "Iteration: 37, Best so far: 0.404\n"
     ]
    },
    {
     "name": "stdout",
     "output_type": "stream",
     "text": [
      "Iteration: 38, Best so far: 0.404\n"
     ]
    },
    {
     "name": "stdout",
     "output_type": "stream",
     "text": [
      "Iteration: 39, Best so far: 0.404\n"
     ]
    }
   ],
   "source": [
    "data = experiment.fetch_data()\n",
    "\n",
    "for i in range(N_BATCHES):\n",
    "\n",
    "    model = Models.BOTORCH_MODULAR(\n",
    "        experiment=experiment, \n",
    "        data=data,\n",
    "        surrogate=Surrogate(botorch_model_class=SURROGATE_CLASS),  # can use SAASGP (i.e. SaasFullyBayesianSingleTaskGP) for high-dim cases\n",
    "        search_space=experiment.search_space,\n",
    "        botorch_acqf_class=qNoisyExpectedHypervolumeImprovement,\n",
    "        acquisition_class=SEBOAcquisition,\n",
    "        acquisition_options={\n",
    "            \"penalty\": \"L0_norm\", # it can be L0_norm or L1_norm. \n",
    "            \"target_point\": target_point, \n",
    "            \"sparsity_threshold\": aug_dim,\n",
    "        },\n",
    "        torch_device=tkwargs['device'],\n",
    "    )\n",
    "\n",
    "    generator_run = model.gen(BATCH_SIZE)\n",
    "    trial = experiment.new_batch_trial(generator_run=generator_run)\n",
    "    trial.run()\n",
    "\n",
    "    new_data = trial.fetch_data(metrics=list(experiment.metrics.values()))\n",
    "    data = Data.from_multiple_data([data, new_data])\n",
    "    print(f\"Iteration: {i}, Best so far: {data.df['mean'].min():.3f}\")"
   ]
  },
  {
   "attachments": {},
   "cell_type": "markdown",
   "metadata": {
    "customInput": null,
    "originalKey": "7998635d-6750-4825-b93d-c7b61f74c3c5",
    "showInput": false
   },
   "source": [
    "## Plot sparisty vs objective \n",
    "\n",
    "Visualize the objective and sparsity trade-offs using SEBO. Each point represent designs along the Pareto frontier found by SEBO. The x-axis corresponds to the number of active parameters used, i.e.\n",
    "non-sparse parameters, and the y-axis corresponds the best identified objective values. Based on this, decision-makers balance both simplicity/interpretability of generated policies and optimization performance when deciding which configuration to use."
   ]
  },
  {
   "cell_type": "code",
   "execution_count": 11,
   "metadata": {
    "collapsed": false,
    "customInput": null,
    "customOutput": null,
    "execution": {
     "iopub.execute_input": "2023-08-09T16:31:13.105935Z",
     "iopub.status.busy": "2023-08-09T16:31:13.105641Z",
     "iopub.status.idle": "2023-08-09T16:31:13.114113Z",
     "shell.execute_reply": "2023-08-09T16:31:13.113448Z"
    },
    "executionStartTime": 1689124189044,
    "executionStopTime": 1689124189182,
    "originalKey": "416ccd12-51a1-4bfe-9e10-436cd88ec6be",
    "requestMsgId": "5143ae57-1d0d-4f9d-bc9d-9d151f3e9af0",
    "showInput": true
   },
   "outputs": [],
   "source": [
    "def nnz_exact(x, sparse_point):\n",
    "    return len(x) - (np.array(x) == np.array(sparse_point)).sum()\n",
    "\n",
    "    \n",
    "df = data.df\n",
    "df['L0_norm'] = df['arm_name'].apply(lambda d: nnz_exact(list(experiment.arms_by_name[d].parameters.values()), [0 for _ in range(aug_dim)]) )"
   ]
  },
  {
   "cell_type": "code",
   "execution_count": 12,
   "metadata": {
    "collapsed": false,
    "customInput": null,
    "customOutput": null,
    "execution": {
     "iopub.execute_input": "2023-08-09T16:31:13.117234Z",
     "iopub.status.busy": "2023-08-09T16:31:13.116945Z",
     "iopub.status.idle": "2023-08-09T16:31:13.127978Z",
     "shell.execute_reply": "2023-08-09T16:31:13.127228Z"
    },
    "executionStartTime": 1689124189219,
    "executionStopTime": 1689124189321,
    "originalKey": "97b96822-7d7f-4a5d-8458-01ff890d2fde",
    "requestMsgId": "34abdf8d-6f0c-48a1-8700-8e2c3075a085",
    "showInput": true
   },
   "outputs": [
    {
     "data": {
      "text/plain": [
       "{1: 5.045761865456025,\n",
       " 2: 0.45243200879783885,\n",
       " 3: 0.45243200879783885,\n",
       " 4: 0.4036963231977104,\n",
       " 5: 0.4036963231977104,\n",
       " 6: 0.4036963231977104,\n",
       " 7: 0.4036963231977104,\n",
       " 8: 0.4036963231977104}"
      ]
     },
     "execution_count": 12,
     "metadata": {},
     "output_type": "execute_result"
    }
   ],
   "source": [
    "result_by_sparsity = {l: df[df.L0_norm <= l]['mean'].min() for l in range(1, aug_dim+1)}\n",
    "result_by_sparsity"
   ]
  },
  {
   "cell_type": "code",
   "execution_count": 13,
   "metadata": {
    "collapsed": false,
    "customInput": null,
    "customOutput": null,
    "execution": {
     "iopub.execute_input": "2023-08-09T16:31:13.131039Z",
     "iopub.status.busy": "2023-08-09T16:31:13.130784Z",
     "iopub.status.idle": "2023-08-09T16:31:14.796683Z",
     "shell.execute_reply": "2023-08-09T16:31:14.796011Z"
    },
    "executionStartTime": 1689134836494,
    "executionStopTime": 1689134837813,
    "originalKey": "7193e2b0-e192-439a-b0d0-08a2029f64ca",
    "requestMsgId": "f095d820-55e0-4201-8e3a-77f17b2155f1",
    "showInput": true
   },
   "outputs": [
    {
     "data": {
      "image/png": "[encoded data removed]",
      "text/plain": [
       "<Figure size 800x600 with 1 Axes>"
      ]
     },
     "metadata": {},
     "output_type": "display_data"
    }
   ],
   "source": [
    "import matplotlib\n",
    "import matplotlib.pyplot as plt\n",
    "import numpy as np\n",
    "\n",
    "%matplotlib inline\n",
    "matplotlib.rcParams.update({\"font.size\": 16})\n",
    "\n",
    "fig, ax = plt.subplots(figsize=(8, 6))\n",
    "ax.plot(list(result_by_sparsity.keys()), list(result_by_sparsity.values()), '.b-', label=\"sebo\", markersize=10)\n",
    "ax.grid(True)\n",
    "ax.set_title(f\"Branin, D={aug_dim}\", fontsize=20)\n",
    "ax.set_xlabel(\"Number of active parameters\", fontsize=20)\n",
    "ax.set_ylabel(\"Best value found\", fontsize=20)\n",
    "# ax.legend(fontsize=18)\n",
    "plt.show()"
   ]
  },
  {
   "attachments": {},
   "cell_type": "markdown",
   "metadata": {
    "customInput": null,
    "originalKey": "1ba68dc9-d60b-4b39-8e58-ea9bdc06b44c",
    "showInput": false
   },
   "source": [
    "# Demo of Using GenerationStrategy and Service API \n",
    "\n",
    "Please check [Service API tutorial](https://ax.dev/tutorials/gpei_hartmann_service.html) for more detailed information. "
   ]
  },
  {
   "cell_type": "code",
   "execution_count": 14,
   "metadata": {
    "collapsed": false,
    "customInput": null,
    "execution": {
     "iopub.execute_input": "2023-08-09T16:31:14.799717Z",
     "iopub.status.busy": "2023-08-09T16:31:14.799419Z",
     "iopub.status.idle": "2023-08-09T16:31:16.485648Z",
     "shell.execute_reply": "2023-08-09T16:31:16.484775Z"
    },
    "executionStartTime": 1689124191398,
    "executionStopTime": 1689124192949,
    "originalKey": "c9eac7a0-d8c2-49c9-a53a-4e05b6694ced",
    "requestMsgId": "0dc37045-8f54-4091-913f-69b11b072e19",
    "showInput": true
   },
   "outputs": [],
   "source": [
    "from ax.service.ax_client import AxClient, ObjectiveProperties\n",
    "\n",
    "from ax.modelbridge.generation_strategy import GenerationStrategy, GenerationStep"
   ]
  },
  {
   "cell_type": "code",
   "execution_count": 15,
   "metadata": {
    "collapsed": false,
    "customInput": null,
    "execution": {
     "iopub.execute_input": "2023-08-09T16:31:16.489532Z",
     "iopub.status.busy": "2023-08-09T16:31:16.489160Z",
     "iopub.status.idle": "2023-08-09T16:31:16.493446Z",
     "shell.execute_reply": "2023-08-09T16:31:16.492652Z"
    },
    "executionStartTime": 1689124192961,
    "executionStopTime": 1689124192970,
    "originalKey": "92678568-4757-4a9e-9424-837352f04bbc",
    "requestMsgId": "e1e19d91-06a5-4f8c-a8be-ca7bd1856c58",
    "showInput": true
   },
   "outputs": [
    {
     "name": "stdout",
     "output_type": "stream",
     "text": [
      "Doing 50 evaluations\n"
     ]
    }
   ],
   "source": [
    "N_INIT = 10\n",
    "BATCH_SIZE = 1\n",
    "\n",
    "if SMOKE_TEST:\n",
    "    NUM_TRIALS = 1\n",
    "    SURROGATE_CLASS = FixedNoiseGP\n",
    "else:\n",
    "    NUM_TRIALS = 40\n",
    "    SURROGATE_CLASS = SaasFullyBayesianSingleTaskGP\n",
    "\n",
    "print(f\"Doing {N_INIT + NUM_TRIALS * BATCH_SIZE} evaluations\")"
   ]
  },
  {
   "attachments": {},
   "cell_type": "markdown",
   "metadata": {
    "customInput": null,
    "originalKey": "45e5586c-55eb-4908-aa73-bca4ee883b56",
    "showInput": false
   },
   "source": [
    "## Create `GenerationStrategy`"
   ]
  },
  {
   "cell_type": "code",
   "execution_count": 16,
   "metadata": {
    "collapsed": false,
    "customInput": null,
    "execution": {
     "iopub.execute_input": "2023-08-09T16:31:16.496639Z",
     "iopub.status.busy": "2023-08-09T16:31:16.496400Z",
     "iopub.status.idle": "2023-08-09T16:31:16.500938Z",
     "shell.execute_reply": "2023-08-09T16:31:16.500335Z"
    },
    "executionStartTime": 1689124192972,
    "executionStopTime": 1689124192975,
    "originalKey": "7c0bfe37-8f1f-4999-8833-42ffb2569c04",
    "requestMsgId": "bbd9058a-709e-4262-abe1-720d37e8786f",
    "showInput": true
   },
   "outputs": [],
   "source": [
    "gs = GenerationStrategy(\n",
    "    name=\"SEBO_L0\",\n",
    "    steps=[\n",
    "        GenerationStep(  # Initialization step\n",
    "            model=Models.SOBOL,     \n",
    "            num_trials=N_INIT,\n",
    "        ),\n",
    "        GenerationStep(  # BayesOpt step\n",
    "            model=Models.BOTORCH_MODULAR,\n",
    "            # No limit on how many generator runs will be produced\n",
    "            num_trials=-1,\n",
    "            model_kwargs={  # Kwargs to pass to `BoTorchModel.__init__`\n",
    "                \"surrogate\": Surrogate(botorch_model_class=SURROGATE_CLASS),\n",
    "                \"acquisition_class\": SEBOAcquisition,\n",
    "                \"botorch_acqf_class\": qNoisyExpectedHypervolumeImprovement,\n",
    "                \"acquisition_options\": {\n",
    "                    \"penalty\": \"L0_norm\", # it can be L0_norm or L1_norm.\n",
    "                    \"target_point\": target_point, \n",
    "                    \"sparsity_threshold\": aug_dim,\n",
    "                },\n",
    "            },\n",
    "        )\n",
    "    ]\n",
    ")"
   ]
  },
  {
   "attachments": {},
   "cell_type": "markdown",
   "metadata": {
    "customInput": null,
    "originalKey": "e4911bc6-32cb-42a5-908f-57f3f04e58e5",
    "showInput": false
   },
   "source": [
    "## Initialize client and set up experiment"
   ]
  },
  {
   "cell_type": "code",
   "execution_count": 17,
   "metadata": {
    "collapsed": false,
    "customInput": null,
    "execution": {
     "iopub.execute_input": "2023-08-09T16:31:16.503999Z",
     "iopub.status.busy": "2023-08-09T16:31:16.503754Z",
     "iopub.status.idle": "2023-08-09T16:31:16.509447Z",
     "shell.execute_reply": "2023-08-09T16:31:16.508778Z"
    },
    "executionStartTime": 1689124192979,
    "executionStopTime": 1689124192984,
    "originalKey": "47938102-0613-4b37-acb2-9f1f5f3fe6b1",
    "requestMsgId": "38b4b17c-6aae-43b8-aa58-2df045f522fe",
    "showInput": true
   },
   "outputs": [
    {
     "name": "stderr",
     "output_type": "stream",
     "text": [
      "[INFO 08-09 12:31:16] ax.service.ax_client: Starting optimization with verbose logging. To disable logging, set the `verbose_logging` argument to `False`. Note that float values in the logs are rounded to 6 decimal points.\n"
     ]
    },
    {
     "name": "stderr",
     "output_type": "stream",
     "text": [
      "[INFO 08-09 12:31:16] ax.service.utils.instantiation: Created search space: SearchSpace(parameters=[RangeParameter(name='x0', parameter_type=FLOAT, range=[0.0, 1.0]), RangeParameter(name='x1', parameter_type=FLOAT, range=[0.0, 1.0]), RangeParameter(name='x2', parameter_type=FLOAT, range=[0.0, 1.0]), RangeParameter(name='x3', parameter_type=FLOAT, range=[0.0, 1.0]), RangeParameter(name='x4', parameter_type=FLOAT, range=[0.0, 1.0]), RangeParameter(name='x5', parameter_type=FLOAT, range=[0.0, 1.0]), RangeParameter(name='x6', parameter_type=FLOAT, range=[0.0, 1.0]), RangeParameter(name='x7', parameter_type=FLOAT, range=[0.0, 1.0])], parameter_constraints=[]).\n"
     ]
    }
   ],
   "source": [
    "ax_client = AxClient(generation_strategy=gs)\n",
    "\n",
    "experiment_parameters = [\n",
    "    {\n",
    "        \"name\": f\"x{i}\",\n",
    "        \"type\": \"range\",\n",
    "        \"bounds\": [0, 1],\n",
    "        \"value_type\": \"float\",\n",
    "        \"log_scale\": False,\n",
    "    }\n",
    "    for i in range(aug_dim)\n",
    "]\n",
    "\n",
    "objective_metrics = {\n",
    "    \"objective\": ObjectiveProperties(minimize=False, threshold=-10),\n",
    "}\n",
    "\n",
    "ax_client.create_experiment(\n",
    "    name=\"branin_augment_sebo_experiment\",\n",
    "    parameters=experiment_parameters,\n",
    "    objectives=objective_metrics,\n",
    ")"
   ]
  },
  {
   "attachments": {},
   "cell_type": "markdown",
   "metadata": {
    "customInput": null,
    "originalKey": "6a7942e4-9727-43d9-8d8d-c327d38c2373",
    "showInput": false
   },
   "source": [
    "## Define evaluation function "
   ]
  },
  {
   "cell_type": "code",
   "execution_count": 18,
   "metadata": {
    "collapsed": false,
    "customInput": null,
    "execution": {
     "iopub.execute_input": "2023-08-09T16:31:16.512368Z",
     "iopub.status.busy": "2023-08-09T16:31:16.512141Z",
     "iopub.status.idle": "2023-08-09T16:31:16.515932Z",
     "shell.execute_reply": "2023-08-09T16:31:16.515338Z"
    },
    "executionStartTime": 1689124192990,
    "executionStopTime": 1689124192992,
    "originalKey": "4e2994ff-36ac-4d48-a789-3d0398e1e856",
    "requestMsgId": "8f74a775-a8ce-462d-993c-5c9291c748b9",
    "showInput": true
   },
   "outputs": [],
   "source": [
    "def evaluation(parameters):\n",
    "    # put parameters into 1-D array\n",
    "    x = [parameters.get(param[\"name\"]) for param in experiment_parameters]\n",
    "    res = branin_augment(x_vec=x, augment_dim=aug_dim)\n",
    "    eval_res = {\n",
    "        # flip the sign to maximize\n",
    "        \"objective\": (res * -1, 0.0),\n",
    "    }\n",
    "    return eval_res"
   ]
  },
  {
   "attachments": {},
   "cell_type": "markdown",
   "metadata": {
    "customInput": null,
    "originalKey": "4597531b-7ac8-4dd0-94c4-836672e0f4c4",
    "showInput": false
   },
   "source": [
    "## Run optimization loop"
   ]
  },
  {
   "cell_type": "code",
   "execution_count": 19,
   "metadata": {
    "collapsed": false,
    "customInput": null,
    "execution": {
     "iopub.execute_input": "2023-08-09T16:31:16.518579Z",
     "iopub.status.busy": "2023-08-09T16:31:16.518360Z",
     "iopub.status.idle": "2023-08-09T18:20:42.251051Z",
     "shell.execute_reply": "2023-08-09T18:20:42.249929Z"
    },
    "executionStartTime": 1689124193044,
    "executionStopTime": 1689130398208,
    "originalKey": "bc7accb2-48a2-4c88-a932-7c79ec81075a",
    "requestMsgId": "f054e5b1-12eb-459b-a508-6944baf82dfb",
    "showInput": true
   },
   "outputs": [
    {
     "name": "stderr",
     "output_type": "stream",
     "text": [
      "[INFO 08-09 12:31:16] ax.service.ax_client: Generated new trial 0 with parameters {'x0': 0.871223, 'x1': 0.848025, 'x2': 0.652251, 'x3': 0.674378, 'x4': 0.4954, 'x5': 0.035914, 'x6': 0.100856, 'x7': 0.223664}.\n"
     ]
    },
    {
     "name": "stderr",
     "output_type": "stream",
     "text": [
      "[INFO 08-09 12:31:16] ax.service.ax_client: Completed trial 0 with data: {'objective': (-132.321314, 0.0)}.\n"
     ]
    },
    {
     "name": "stderr",
     "output_type": "stream",
     "text": [
      "[INFO 08-09 12:31:16] ax.service.ax_client: Generated new trial 1 with parameters {'x0': 0.338204, 'x1': 0.625086, 'x2': 0.39677, 'x3': 0.455943, 'x4': 0.604512, 'x5': 0.317842, 'x6': 0.191577, 'x7': 0.390833}.\n"
     ]
    },
    {
     "name": "stderr",
     "output_type": "stream",
     "text": [
      "[INFO 08-09 12:31:16] ax.service.ax_client: Completed trial 1 with data: {'objective': (-31.769679, 0.0)}.\n"
     ]
    },
    {
     "name": "stderr",
     "output_type": "stream",
     "text": [
      "[INFO 08-09 12:31:16] ax.service.ax_client: Generated new trial 2 with parameters {'x0': 0.289195, 'x1': 0.11086, 'x2': 0.645876, 'x3': 0.608316, 'x4': 0.522548, 'x5': 0.599423, 'x6': 0.943593, 'x7': 0.496297}.\n"
     ]
    },
    {
     "name": "stderr",
     "output_type": "stream",
     "text": [
      "[INFO 08-09 12:31:16] ax.service.ax_client: Completed trial 2 with data: {'objective': (-47.248173, 0.0)}.\n"
     ]
    },
    {
     "name": "stderr",
     "output_type": "stream",
     "text": [
      "[INFO 08-09 12:31:16] ax.service.ax_client: Generated new trial 3 with parameters {'x0': 0.02391, 'x1': 0.661342, 'x2': 0.31211, 'x3': 0.651648, 'x4': 0.3762, 'x5': 0.471417, 'x6': 0.926508, 'x7': 0.089945}.\n"
     ]
    },
    {
     "name": "stderr",
     "output_type": "stream",
     "text": [
      "[INFO 08-09 12:31:16] ax.service.ax_client: Completed trial 3 with data: {'objective': (-48.377477, 0.0)}.\n"
     ]
    },
    {
     "name": "stderr",
     "output_type": "stream",
     "text": [
      "[INFO 08-09 12:31:16] ax.service.ax_client: Generated new trial 4 with parameters {'x0': 0.639263, 'x1': 0.556079, 'x2': 0.916303, 'x3': 0.628285, 'x4': 0.538767, 'x5': 0.593852, 'x6': 0.805155, 'x7': 0.588034}.\n"
     ]
    },
    {
     "name": "stderr",
     "output_type": "stream",
     "text": [
      "[INFO 08-09 12:31:16] ax.service.ax_client: Completed trial 4 with data: {'objective': (-56.763459, 0.0)}.\n"
     ]
    },
    {
     "name": "stderr",
     "output_type": "stream",
     "text": [
      "[INFO 08-09 12:31:16] ax.service.ax_client: Generated new trial 5 with parameters {'x0': 0.347492, 'x1': 0.585742, 'x2': 0.841669, 'x3': 0.995954, 'x4': 0.314398, 'x5': 0.068917, 'x6': 0.710194, 'x7': 0.84323}.\n"
     ]
    },
    {
     "name": "stderr",
     "output_type": "stream",
     "text": [
      "[INFO 08-09 12:31:16] ax.service.ax_client: Completed trial 5 with data: {'objective': (-29.110277, 0.0)}.\n"
     ]
    },
    {
     "name": "stderr",
     "output_type": "stream",
     "text": [
      "[INFO 08-09 12:31:16] ax.service.ax_client: Generated new trial 6 with parameters {'x0': 0.649412, 'x1': 0.885537, 'x2': 0.067717, 'x3': 0.797183, 'x4': 0.847474, 'x5': 0.770179, 'x6': 0.49345, 'x7': 0.497519}.\n"
     ]
    },
    {
     "name": "stderr",
     "output_type": "stream",
     "text": [
      "[INFO 08-09 12:31:16] ax.service.ax_client: Completed trial 6 with data: {'objective': (-152.481394, 0.0)}.\n"
     ]
    },
    {
     "name": "stderr",
     "output_type": "stream",
     "text": [
      "[INFO 08-09 12:31:16] ax.service.ax_client: Generated new trial 7 with parameters {'x0': 0.624543, 'x1': 0.316111, 'x2': 0.592338, 'x3': 0.54195, 'x4': 0.606188, 'x5': 0.474876, 'x6': 0.930353, 'x7': 0.293305}.\n"
     ]
    },
    {
     "name": "stderr",
     "output_type": "stream",
     "text": [
      "[INFO 08-09 12:31:16] ax.service.ax_client: Completed trial 7 with data: {'objective': (-17.184994, 0.0)}.\n"
     ]
    },
    {
     "name": "stderr",
     "output_type": "stream",
     "text": [
      "[INFO 08-09 12:31:16] ax.service.ax_client: Generated new trial 8 with parameters {'x0': 0.846687, 'x1': 0.760041, 'x2': 0.72915, 'x3': 0.851848, 'x4': 0.341968, 'x5': 0.055256, 'x6': 0.651692, 'x7': 0.935315}.\n"
     ]
    },
    {
     "name": "stderr",
     "output_type": "stream",
     "text": [
      "[INFO 08-09 12:31:16] ax.service.ax_client: Completed trial 8 with data: {'objective': (-111.391329, 0.0)}.\n"
     ]
    },
    {
     "name": "stderr",
     "output_type": "stream",
     "text": [
      "[INFO 08-09 12:31:16] ax.service.ax_client: Generated new trial 9 with parameters {'x0': 0.858197, 'x1': 0.593802, 'x2': 0.042848, 'x3': 0.987378, 'x4': 0.717458, 'x5': 0.956205, 'x6': 0.216683, 'x7': 0.158248}.\n"
     ]
    },
    {
     "name": "stderr",
     "output_type": "stream",
     "text": [
      "[INFO 08-09 12:31:16] ax.service.ax_client: Completed trial 9 with data: {'objective': (-65.021866, 0.0)}.\n"
     ]
    },
    {
     "name": "stderr",
     "output_type": "stream",
     "text": [
      "[INFO 08-09 12:31:57] ax.service.ax_client: Generated new trial 10 with parameters {'x0': 0.0, 'x1': 0.379065, 'x2': 0.0, 'x3': 0.0, 'x4': 0.0, 'x5': 0.0, 'x6': 0.0, 'x7': 0.0}.\n"
     ]
    },
    {
     "name": "stderr",
     "output_type": "stream",
     "text": [
      "[INFO 08-09 12:31:57] ax.service.ax_client: Completed trial 10 with data: {'objective': (-145.005484, 0.0)}.\n"
     ]
    },
    {
     "name": "stderr",
     "output_type": "stream",
     "text": [
      "[INFO 08-09 12:43:37] ax.service.ax_client: Generated new trial 11 with parameters {'x0': 0.0, 'x1': 0.0, 'x2': 0.0, 'x3': 1.0, 'x4': 0.799856, 'x5': 0.0, 'x6': 0.0, 'x7': 0.0}.\n"
     ]
    },
    {
     "name": "stderr",
     "output_type": "stream",
     "text": [
      "[INFO 08-09 12:43:37] ax.service.ax_client: Completed trial 11 with data: {'objective': (-308.129096, 0.0)}.\n"
     ]
    },
    {
     "name": "stderr",
     "output_type": "stream",
     "text": [
      "[INFO 08-09 13:04:18] ax.service.ax_client: Generated new trial 12 with parameters {'x0': 0.0, 'x1': 0.498222, 'x2': 0.816374, 'x3': 0.0, 'x4': 0.0, 'x5': 0.0, 'x6': 1.0, 'x7': 0.0}.\n"
     ]
    },
    {
     "name": "stderr",
     "output_type": "stream",
     "text": [
      "[INFO 08-09 13:04:18] ax.service.ax_client: Completed trial 12 with data: {'objective': (-107.086142, 0.0)}.\n"
     ]
    },
    {
     "name": "stderr",
     "output_type": "stream",
     "text": [
      "[INFO 08-09 13:05:06] ax.service.ax_client: Generated new trial 13 with parameters {'x0': 1.0, 'x1': 0.0, 'x2': 0.0, 'x3': 0.0, 'x4': 0.0, 'x5': 1.0, 'x6': 1.0, 'x7': 0.0}.\n"
     ]
    },
    {
     "name": "stderr",
     "output_type": "stream",
     "text": [
      "[INFO 08-09 13:05:06] ax.service.ax_client: Completed trial 13 with data: {'objective': (-10.960889, 0.0)}.\n"
     ]
    },
    {
     "name": "stderr",
     "output_type": "stream",
     "text": [
      "[INFO 08-09 13:05:53] ax.service.ax_client: Generated new trial 14 with parameters {'x0': 1.0, 'x1': 0.0, 'x2': 0.0, 'x3': 0.0, 'x4': 0.0, 'x5': 1.0, 'x6': 0.0, 'x7': 0.0}.\n"
     ]
    },
    {
     "name": "stderr",
     "output_type": "stream",
     "text": [
      "[INFO 08-09 13:05:53] ax.service.ax_client: Completed trial 14 with data: {'objective': (-10.960889, 0.0)}.\n"
     ]
    },
    {
     "name": "stderr",
     "output_type": "stream",
     "text": [
      "[INFO 08-09 13:06:58] ax.service.ax_client: Generated new trial 15 with parameters {'x0': 0.0, 'x1': 0.0, 'x2': 0.0, 'x3': 0.0, 'x4': 0.0, 'x5': 1.0, 'x6': 0.0, 'x7': 0.0}.\n"
     ]
    },
    {
     "name": "stderr",
     "output_type": "stream",
     "text": [
      "[INFO 08-09 13:06:58] ax.service.ax_client: Completed trial 15 with data: {'objective': (-308.129096, 0.0)}.\n"
     ]
    },
    {
     "name": "stderr",
     "output_type": "stream",
     "text": [
      "[INFO 08-09 13:07:44] ax.service.ax_client: Generated new trial 16 with parameters {'x0': 0.0, 'x1': 1.0, 'x2': 0.0, 'x3': 0.0, 'x4': 0.0, 'x5': 0.0, 'x6': 0.0, 'x7': 0.0}.\n"
     ]
    },
    {
     "name": "stderr",
     "output_type": "stream",
     "text": [
      "[INFO 08-09 13:07:44] ax.service.ax_client: Completed trial 16 with data: {'objective': (-17.5083, 0.0)}.\n"
     ]
    },
    {
     "name": "stderr",
     "output_type": "stream",
     "text": [
      "[INFO 08-09 13:08:36] ax.service.ax_client: Generated new trial 17 with parameters {'x0': 0.765336, 'x1': 0.0, 'x2': 0.0, 'x3': 0.0, 'x4': 0.0, 'x5': 0.0, 'x6': 0.0, 'x7': 1.0}.\n"
     ]
    },
    {
     "name": "stderr",
     "output_type": "stream",
     "text": [
      "[INFO 08-09 13:08:36] ax.service.ax_client: Completed trial 17 with data: {'objective': (-20.651579, 0.0)}.\n"
     ]
    },
    {
     "name": "stderr",
     "output_type": "stream",
     "text": [
      "[INFO 08-09 13:09:23] ax.service.ax_client: Generated new trial 18 with parameters {'x0': 0.510133, 'x1': 0.0, 'x2': 0.0, 'x3': 0.0, 'x4': 0.0, 'x5': 0.0, 'x6': 0.0, 'x7': 0.0}.\n"
     ]
    },
    {
     "name": "stderr",
     "output_type": "stream",
     "text": [
      "[INFO 08-09 13:09:23] ax.service.ax_client: Completed trial 18 with data: {'objective': (-8.750066, 0.0)}.\n"
     ]
    },
    {
     "name": "stderr",
     "output_type": "stream",
     "text": [
      "[INFO 08-09 13:10:02] ax.service.ax_client: Generated new trial 19 with parameters {'x0': 0.474714, 'x1': 0.193916, 'x2': 1.0, 'x3': 0.0, 'x4': 0.0, 'x5': 0.0, 'x6': 0.0, 'x7': 0.0}.\n"
     ]
    },
    {
     "name": "stderr",
     "output_type": "stream",
     "text": [
      "[INFO 08-09 13:10:02] ax.service.ax_client: Completed trial 19 with data: {'objective': (-5.070101, 0.0)}.\n"
     ]
    },
    {
     "name": "stderr",
     "output_type": "stream",
     "text": [
      "[INFO 08-09 13:10:46] ax.service.ax_client: Generated new trial 20 with parameters {'x0': 0.588925, 'x1': 0.0, 'x2': 1.0, 'x3': 1.0, 'x4': 0.0, 'x5': 1.0, 'x6': 0.0, 'x7': 0.0}.\n"
     ]
    },
    {
     "name": "stderr",
     "output_type": "stream",
     "text": [
      "[INFO 08-09 13:10:46] ax.service.ax_client: Completed trial 20 with data: {'objective': (-5.837708, 0.0)}.\n"
     ]
    },
    {
     "name": "stderr",
     "output_type": "stream",
     "text": [
      "[INFO 08-09 13:11:31] ax.service.ax_client: Generated new trial 21 with parameters {'x0': 1.0, 'x1': 0.242199, 'x2': 1.0, 'x3': 0.0, 'x4': 0.0, 'x5': 0.0, 'x6': 0.0, 'x7': 0.0}.\n"
     ]
    },
    {
     "name": "stderr",
     "output_type": "stream",
     "text": [
      "[INFO 08-09 13:11:31] ax.service.ax_client: Completed trial 21 with data: {'objective': (-2.340077, 0.0)}.\n"
     ]
    },
    {
     "name": "stderr",
     "output_type": "stream",
     "text": [
      "[INFO 08-09 13:12:19] ax.service.ax_client: Generated new trial 22 with parameters {'x0': 1.0, 'x1': 0.0, 'x2': 1.0, 'x3': 1.0, 'x4': 1.0, 'x5': 0.0, 'x6': 0.0, 'x7': 0.0}.\n"
     ]
    },
    {
     "name": "stderr",
     "output_type": "stream",
     "text": [
      "[INFO 08-09 13:12:19] ax.service.ax_client: Completed trial 22 with data: {'objective': (-10.960889, 0.0)}.\n"
     ]
    },
    {
     "name": "stderr",
     "output_type": "stream",
     "text": [
      "[INFO 08-09 13:13:24] ax.service.ax_client: Generated new trial 23 with parameters {'x0': 0.125287, 'x1': 0.940128, 'x2': 0.0, 'x3': 0.0, 'x4': 0.0, 'x5': 0.0, 'x6': 0.0, 'x7': 0.0}.\n"
     ]
    },
    {
     "name": "stderr",
     "output_type": "stream",
     "text": [
      "[INFO 08-09 13:13:24] ax.service.ax_client: Completed trial 23 with data: {'objective': (-3.923473, 0.0)}.\n"
     ]
    },
    {
     "name": "stderr",
     "output_type": "stream",
     "text": [
      "[INFO 08-09 13:14:48] ax.service.ax_client: Generated new trial 24 with parameters {'x0': 0.097762, 'x1': 0.974482, 'x2': 0.0, 'x3': 1.0, 'x4': 1.0, 'x5': 0.0, 'x6': 0.0, 'x7': 1.0}.\n"
     ]
    },
    {
     "name": "stderr",
     "output_type": "stream",
     "text": [
      "[INFO 08-09 13:14:48] ax.service.ax_client: Completed trial 24 with data: {'objective': (-3.031585, 0.0)}.\n"
     ]
    },
    {
     "name": "stderr",
     "output_type": "stream",
     "text": [
      "[INFO 08-09 13:15:54] ax.service.ax_client: Generated new trial 25 with parameters {'x0': 1.0, 'x1': 0.19585, 'x2': 0.0, 'x3': 0.0, 'x4': 0.0, 'x5': 0.0, 'x6': 0.0, 'x7': 0.0}.\n"
     ]
    },
    {
     "name": "stderr",
     "output_type": "stream",
     "text": [
      "[INFO 08-09 13:15:54] ax.service.ax_client: Completed trial 25 with data: {'objective': (-1.947392, 0.0)}.\n"
     ]
    },
    {
     "name": "stderr",
     "output_type": "stream",
     "text": [
      "[INFO 08-09 13:16:58] ax.service.ax_client: Generated new trial 26 with parameters {'x0': 0.119118, 'x1': 0.872523, 'x2': 0.0, 'x3': 1.0, 'x4': 0.0, 'x5': 1.0, 'x6': 0.0, 'x7': 1.0}.\n"
     ]
    },
    {
     "name": "stderr",
     "output_type": "stream",
     "text": [
      "[INFO 08-09 13:16:58] ax.service.ax_client: Completed trial 26 with data: {'objective': (-0.832139, 0.0)}.\n"
     ]
    },
    {
     "name": "stderr",
     "output_type": "stream",
     "text": [
      "[INFO 08-09 13:18:18] ax.service.ax_client: Generated new trial 27 with parameters {'x0': 0.115069, 'x1': 0.873282, 'x2': 0.0, 'x3': 1.0, 'x4': 0.0, 'x5': 0.0, 'x6': 0.0, 'x7': 0.0}.\n"
     ]
    },
    {
     "name": "stderr",
     "output_type": "stream",
     "text": [
      "[INFO 08-09 13:18:18] ax.service.ax_client: Completed trial 27 with data: {'objective': (-0.735753, 0.0)}.\n"
     ]
    },
    {
     "name": "stderr",
     "output_type": "stream",
     "text": [
      "[INFO 08-09 13:19:54] ax.service.ax_client: Generated new trial 28 with parameters {'x0': 0.53314, 'x1': 0.132238, 'x2': 0.0, 'x3': 1.0, 'x4': 0.0, 'x5': 1.0, 'x6': 0.0, 'x7': 1.0}.\n"
     ]
    },
    {
     "name": "stderr",
     "output_type": "stream",
     "text": [
      "[INFO 08-09 13:19:54] ax.service.ax_client: Completed trial 28 with data: {'objective': (-0.663462, 0.0)}.\n"
     ]
    },
    {
     "name": "stderr",
     "output_type": "stream",
     "text": [
      "[INFO 08-09 13:21:53] ax.service.ax_client: Generated new trial 29 with parameters {'x0': 0.548722, 'x1': 0.126882, 'x2': 0.0, 'x3': 1.0, 'x4': 0.0, 'x5': 0.0, 'x6': 0.0, 'x7': 0.0}.\n"
     ]
    },
    {
     "name": "stderr",
     "output_type": "stream",
     "text": [
      "[INFO 08-09 13:21:53] ax.service.ax_client: Completed trial 29 with data: {'objective': (-0.528023, 0.0)}.\n"
     ]
    },
    {
     "name": "stderr",
     "output_type": "stream",
     "text": [
      "[INFO 08-09 13:24:24] ax.service.ax_client: Generated new trial 30 with parameters {'x0': 0.569469, 'x1': 0.0, 'x2': 0.0, 'x3': 0.0, 'x4': 0.0, 'x5': 0.0, 'x6': 0.0, 'x7': 0.0}.\n"
     ]
    },
    {
     "name": "stderr",
     "output_type": "stream",
     "text": [
      "[INFO 08-09 13:24:24] ax.service.ax_client: Completed trial 30 with data: {'objective': (-5.091501, 0.0)}.\n"
     ]
    },
    {
     "name": "stderr",
     "output_type": "stream",
     "text": [
      "[INFO 08-09 13:26:37] ax.service.ax_client: Generated new trial 31 with parameters {'x0': 0.154856, 'x1': 0.73983, 'x2': 0.0, 'x3': 0.0, 'x4': 0.0, 'x5': 0.0, 'x6': 0.0, 'x7': 0.0}.\n"
     ]
    },
    {
     "name": "stderr",
     "output_type": "stream",
     "text": [
      "[INFO 08-09 13:26:37] ax.service.ax_client: Completed trial 31 with data: {'objective': (-1.422935, 0.0)}.\n"
     ]
    },
    {
     "name": "stderr",
     "output_type": "stream",
     "text": [
      "[INFO 08-09 13:27:43] ax.service.ax_client: Generated new trial 32 with parameters {'x0': 0.129307, 'x1': 0.820138, 'x2': 0.0, 'x3': 0.0, 'x4': 1.0, 'x5': 0.0, 'x6': 0.0, 'x7': 1.0}.\n"
     ]
    },
    {
     "name": "stderr",
     "output_type": "stream",
     "text": [
      "[INFO 08-09 13:27:43] ax.service.ax_client: Completed trial 32 with data: {'objective': (-0.478516, 0.0)}.\n"
     ]
    },
    {
     "name": "stderr",
     "output_type": "stream",
     "text": [
      "[INFO 08-09 13:29:04] ax.service.ax_client: Generated new trial 33 with parameters {'x0': 0.55083, 'x1': 0.120816, 'x2': 0.0, 'x3': 0.0, 'x4': 1.0, 'x5': 1.0, 'x6': 0.0, 'x7': 0.0}.\n"
     ]
    },
    {
     "name": "stderr",
     "output_type": "stream",
     "text": [
      "[INFO 08-09 13:29:04] ax.service.ax_client: Completed trial 33 with data: {'objective': (-0.605121, 0.0)}.\n"
     ]
    },
    {
     "name": "stderr",
     "output_type": "stream",
     "text": [
      "[INFO 08-09 13:30:50] ax.service.ax_client: Generated new trial 34 with parameters {'x0': 0.936204, 'x1': 0.176108, 'x2': 0.0, 'x3': 0.0, 'x4': 0.0, 'x5': 0.0, 'x6': 1.0, 'x7': 0.0}.\n"
     ]
    },
    {
     "name": "stderr",
     "output_type": "stream",
     "text": [
      "[INFO 08-09 13:30:50] ax.service.ax_client: Completed trial 34 with data: {'objective': (-1.309679, 0.0)}.\n"
     ]
    },
    {
     "name": "stderr",
     "output_type": "stream",
     "text": [
      "[INFO 08-09 13:32:20] ax.service.ax_client: Generated new trial 35 with parameters {'x0': 0.961872, 'x1': 0.180297, 'x2': 0.0, 'x3': 0.0, 'x4': 0.0, 'x5': 0.0, 'x6': 0.0, 'x7': 1.0}.\n"
     ]
    },
    {
     "name": "stderr",
     "output_type": "stream",
     "text": [
      "[INFO 08-09 13:32:20] ax.service.ax_client: Completed trial 35 with data: {'objective': (-0.449318, 0.0)}.\n"
     ]
    },
    {
     "name": "stderr",
     "output_type": "stream",
     "text": [
      "[INFO 08-09 13:34:02] ax.service.ax_client: Generated new trial 36 with parameters {'x0': 0.962981, 'x1': 0.178599, 'x2': 0.0, 'x3': 0.0, 'x4': 0.0, 'x5': 0.0, 'x6': 0.0, 'x7': 0.0}.\n"
     ]
    },
    {
     "name": "stderr",
     "output_type": "stream",
     "text": [
      "[INFO 08-09 13:34:02] ax.service.ax_client: Completed trial 36 with data: {'objective': (-0.434812, 0.0)}.\n"
     ]
    },
    {
     "name": "stderr",
     "output_type": "stream",
     "text": [
      "[INFO 08-09 13:36:12] ax.service.ax_client: Generated new trial 37 with parameters {'x0': 0.142195, 'x1': 0.800716, 'x2': 0.0, 'x3': 1.0, 'x4': 1.0, 'x5': 0.0, 'x6': 0.0, 'x7': 0.0}.\n"
     ]
    },
    {
     "name": "stderr",
     "output_type": "stream",
     "text": [
      "[INFO 08-09 13:36:12] ax.service.ax_client: Completed trial 37 with data: {'objective': (-0.906209, 0.0)}.\n"
     ]
    },
    {
     "name": "stderr",
     "output_type": "stream",
     "text": [
      "[INFO 08-09 13:43:44] ax.service.ax_client: Generated new trial 38 with parameters {'x0': 0.966267, 'x1': 0.188122, 'x2': 0.0, 'x3': 0.0, 'x4': 1.0, 'x5': 1.0, 'x6': 0.0, 'x7': 1.0}.\n"
     ]
    },
    {
     "name": "stderr",
     "output_type": "stream",
     "text": [
      "[INFO 08-09 13:43:44] ax.service.ax_client: Completed trial 38 with data: {'objective': (-0.503724, 0.0)}.\n"
     ]
    },
    {
     "name": "stderr",
     "output_type": "stream",
     "text": [
      "[INFO 08-09 13:46:28] ax.service.ax_client: Generated new trial 39 with parameters {'x0': 0.963874, 'x1': 0.178371, 'x2': 1.0, 'x3': 1.0, 'x4': 0.0, 'x5': 1.0, 'x6': 0.0, 'x7': 0.0}.\n"
     ]
    },
    {
     "name": "stderr",
     "output_type": "stream",
     "text": [
      "[INFO 08-09 13:46:28] ax.service.ax_client: Completed trial 39 with data: {'objective': (-0.432908, 0.0)}.\n"
     ]
    },
    {
     "name": "stderr",
     "output_type": "stream",
     "text": [
      "[INFO 08-09 13:50:04] ax.service.ax_client: Generated new trial 40 with parameters {'x0': 0.550106, 'x1': 0.124626, 'x2': 1.0, 'x3': 0.0, 'x4': 0.0, 'x5': 0.0, 'x6': 1.0, 'x7': 1.0}.\n"
     ]
    },
    {
     "name": "stderr",
     "output_type": "stream",
     "text": [
      "[INFO 08-09 13:50:04] ax.service.ax_client: Completed trial 40 with data: {'objective': (-0.559214, 0.0)}.\n"
     ]
    },
    {
     "name": "stderr",
     "output_type": "stream",
     "text": [
      "[INFO 08-09 13:54:09] ax.service.ax_client: Generated new trial 41 with parameters {'x0': 0.121274, 'x1': 0.824245, 'x2': 1.0, 'x3': 0.0, 'x4': 0.0, 'x5': 1.0, 'x6': 0.0, 'x7': 0.0}.\n"
     ]
    },
    {
     "name": "stderr",
     "output_type": "stream",
     "text": [
      "[INFO 08-09 13:54:09] ax.service.ax_client: Completed trial 41 with data: {'objective': (-0.405339, 0.0)}.\n"
     ]
    },
    {
     "name": "stderr",
     "output_type": "stream",
     "text": [
      "[INFO 08-09 13:58:36] ax.service.ax_client: Generated new trial 42 with parameters {'x0': 0.116839, 'x1': 0.833512, 'x2': 0.0, 'x3': 0.0, 'x4': 0.0, 'x5': 0.0, 'x6': 0.0, 'x7': 0.0}.\n"
     ]
    },
    {
     "name": "stderr",
     "output_type": "stream",
     "text": [
      "[INFO 08-09 13:58:36] ax.service.ax_client: Completed trial 42 with data: {'objective': (-0.452388, 0.0)}.\n"
     ]
    },
    {
     "name": "stderr",
     "output_type": "stream",
     "text": [
      "[INFO 08-09 14:01:16] ax.service.ax_client: Generated new trial 43 with parameters {'x0': 0.214079, 'x1': 0.559479, 'x2': 0.0, 'x3': 0.0, 'x4': 0.0, 'x5': 0.0, 'x6': 0.0, 'x7': 0.0}.\n"
     ]
    },
    {
     "name": "stderr",
     "output_type": "stream",
     "text": [
      "[INFO 08-09 14:01:16] ax.service.ax_client: Completed trial 43 with data: {'objective': (-8.676796, 0.0)}.\n"
     ]
    },
    {
     "name": "stderr",
     "output_type": "stream",
     "text": [
      "[INFO 08-09 14:04:34] ax.service.ax_client: Generated new trial 44 with parameters {'x0': 0.542224, 'x1': 0.13825, 'x2': 0.0, 'x3': 0.0, 'x4': 0.0, 'x5': 0.0, 'x6': 1.0, 'x7': 0.0}.\n"
     ]
    },
    {
     "name": "stderr",
     "output_type": "stream",
     "text": [
      "[INFO 08-09 14:04:34] ax.service.ax_client: Completed trial 44 with data: {'objective': (-0.441342, 0.0)}.\n"
     ]
    },
    {
     "name": "stderr",
     "output_type": "stream",
     "text": [
      "[INFO 08-09 14:07:30] ax.service.ax_client: Generated new trial 45 with parameters {'x0': 0.120374, 'x1': 0.835326, 'x2': 0.0, 'x3': 0.0, 'x4': 1.0, 'x5': 0.0, 'x6': 1.0, 'x7': 0.0}.\n"
     ]
    },
    {
     "name": "stderr",
     "output_type": "stream",
     "text": [
      "[INFO 08-09 14:07:30] ax.service.ax_client: Completed trial 45 with data: {'objective': (-0.427559, 0.0)}.\n"
     ]
    },
    {
     "name": "stderr",
     "output_type": "stream",
     "text": [
      "[INFO 08-09 14:11:49] ax.service.ax_client: Generated new trial 46 with parameters {'x0': 0.922003, 'x1': 0.0, 'x2': 0.0, 'x3': 0.0, 'x4': 0.0, 'x5': 0.0, 'x6': 0.0, 'x7': 0.0}.\n"
     ]
    },
    {
     "name": "stderr",
     "output_type": "stream",
     "text": [
      "[INFO 08-09 14:11:49] ax.service.ax_client: Completed trial 46 with data: {'objective': (-6.123055, 0.0)}.\n"
     ]
    },
    {
     "name": "stderr",
     "output_type": "stream",
     "text": [
      "[INFO 08-09 14:14:37] ax.service.ax_client: Generated new trial 47 with parameters {'x0': 0.962508, 'x1': 0.155535, 'x2': 0.0, 'x3': 0.0, 'x4': 1.0, 'x5': 0.0, 'x6': 1.0, 'x7': 0.0}.\n"
     ]
    },
    {
     "name": "stderr",
     "output_type": "stream",
     "text": [
      "[INFO 08-09 14:14:37] ax.service.ax_client: Completed trial 47 with data: {'objective': (-0.422039, 0.0)}.\n"
     ]
    },
    {
     "name": "stderr",
     "output_type": "stream",
     "text": [
      "[INFO 08-09 14:17:36] ax.service.ax_client: Generated new trial 48 with parameters {'x0': 0.956709, 'x1': 0.143147, 'x2': 1.0, 'x3': 1.0, 'x4': 0.0, 'x5': 0.0, 'x6': 0.0, 'x7': 0.0}.\n"
     ]
    },
    {
     "name": "stderr",
     "output_type": "stream",
     "text": [
      "[INFO 08-09 14:17:36] ax.service.ax_client: Completed trial 48 with data: {'objective': (-0.495007, 0.0)}.\n"
     ]
    },
    {
     "name": "stderr",
     "output_type": "stream",
     "text": [
      "[INFO 08-09 14:20:42] ax.service.ax_client: Generated new trial 49 with parameters {'x0': 0.949342, 'x1': 0.141182, 'x2': 0.0, 'x3': 0.0, 'x4': 0.0, 'x5': 0.0, 'x6': 0.0, 'x7': 0.0}.\n"
     ]
    },
    {
     "name": "stderr",
     "output_type": "stream",
     "text": [
      "[INFO 08-09 14:20:42] ax.service.ax_client: Completed trial 49 with data: {'objective': (-0.60352, 0.0)}.\n"
     ]
    }
   ],
   "source": [
    "for _ in range(NUM_TRIALS+N_INIT):    \n",
    "    parameters, trial_index = ax_client.get_next_trial()\n",
    "    res = evaluation(parameters)\n",
    "    ax_client.complete_trial(trial_index=trial_index, raw_data=res)"
   ]
  }
 ],
 "metadata": {
  "fileHeader": "",
  "kernelspec": {
   "display_name": "python3",
   "language": "python",
   "name": "python3"
  },
  "language_info": {
   "codemirror_mode": {
    "name": "ipython",
    "version": 3
   },
   "file_extension": ".py",
   "mimetype": "text/x-python",
   "name": "python",
   "nbconvert_exporter": "python",
   "pygments_lexer": "ipython3",
   "version": "3.9.17"
  }
 },
 "nbformat": 4,
 "nbformat_minor": 2
}
